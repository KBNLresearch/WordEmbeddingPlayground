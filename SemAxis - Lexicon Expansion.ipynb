{
 "cells": [
  {
   "cell_type": "markdown",
   "metadata": {},
   "source": [
    "## SemAxis\n",
    "\n",
    "Code for Lexicon Expansion, using the [SemAxis algorithm](https://arxiv.org/abs/1806.05521)"
   ]
  },
  {
   "cell_type": "code",
   "execution_count": 55,
   "metadata": {},
   "outputs": [],
   "source": [
    "from gensim.models.fasttext import FastText\n",
    "from gensim.models.word2vec import Word2Vec\n",
    "from scipy.spatial.distance import cosine\n",
    "from tqdm import tqdm_notebook\n",
    "import logging\n",
    "import numpy as np\n",
    "logging.basicConfig(format='%(asctime)s : %(levelname)s : %(message)s', level=logging.INFO)"
   ]
  },
  {
   "cell_type": "code",
   "execution_count": 56,
   "metadata": {},
   "outputs": [
    {
     "name": "stderr",
     "output_type": "stream",
     "text": [
      "2019-07-19 15:51:02,720 : INFO : loading Word2Vec object from ./models/kranten_pd_1875-6_model.word2vec\n",
      "2019-07-19 15:51:02,721 : WARNING : this function is deprecated, use smart_open.open instead\n",
      "2019-07-19 15:51:03,401 : INFO : loading wv recursively from ./models/kranten_pd_1875-6_model.word2vec.wv.* with mmap=None\n",
      "2019-07-19 15:51:03,402 : INFO : loading vectors from ./models/kranten_pd_1875-6_model.word2vec.wv.vectors.npy with mmap=None\n",
      "2019-07-19 15:51:03,427 : INFO : setting ignored attribute vectors_norm to None\n",
      "2019-07-19 15:51:03,428 : INFO : loading vocabulary recursively from ./models/kranten_pd_1875-6_model.word2vec.vocabulary.* with mmap=None\n",
      "2019-07-19 15:51:03,428 : INFO : loading trainables recursively from ./models/kranten_pd_1875-6_model.word2vec.trainables.* with mmap=None\n",
      "2019-07-19 15:51:03,429 : INFO : loading syn1neg from ./models/kranten_pd_1875-6_model.word2vec.trainables.syn1neg.npy with mmap=None\n",
      "2019-07-19 15:51:03,458 : INFO : setting ignored attribute cum_table to None\n",
      "2019-07-19 15:51:03,459 : INFO : loaded ./models/kranten_pd_1875-6_model.word2vec\n"
     ]
    },
    {
     "name": "stdout",
     "output_type": "stream",
     "text": [
      "Word2Vec(vocab=258224, size=100, alpha=0.025)\n"
     ]
    }
   ],
   "source": [
    "model_type = \"Word2Vec\" # FastText\n",
    "path = \"./models/kranten_pd_1875-6_model.{}\".format(model_type.lower())\n",
    "exec(\"model = {}.load(path)\".format(model_type))\n",
    "print(model)"
   ]
  },
  {
   "cell_type": "code",
   "execution_count": 57,
   "metadata": {},
   "outputs": [],
   "source": [
    "# create two poles of seed words\n",
    "pole1 = ['vrouw','moeder','zus']\n",
    "pole2 = ['man','vader','broer']"
   ]
  },
  {
   "cell_type": "code",
   "execution_count": 58,
   "metadata": {},
   "outputs": [
    {
     "name": "stdout",
     "output_type": "stream",
     "text": [
      "(100,) (100,)\n"
     ]
    }
   ],
   "source": [
    "v1 = np.mean([model.wv[w] for w in pole1],axis=0)\n",
    "v2 = np.mean([model.wv[w] for w in pole2],axis=0)\n",
    "print(v1.shape,v2.shape)"
   ]
  },
  {
   "cell_type": "code",
   "execution_count": 59,
   "metadata": {},
   "outputs": [
    {
     "name": "stdout",
     "output_type": "stream",
     "text": [
      "(100,)\n"
     ]
    }
   ],
   "source": [
    "# defining a semantic axis\n",
    "v = (v1 - v2)\n",
    "print(v.shape)"
   ]
  },
  {
   "cell_type": "code",
   "execution_count": 60,
   "metadata": {},
   "outputs": [],
   "source": [
    "def sort_vocab_by_axis(axis,model=model):\n",
    "    def project_word(w):\n",
    "        return 1 - cosine(model.wv[w],axis)\n",
    "    \n",
    "    semaxis_score = {}\n",
    "    \n",
    "    for w in tqdm_notebook(model.wv.vocab):\n",
    "        semaxis_score[w] = project_word(w)\n",
    "        \n",
    "    return semaxis_score"
   ]
  },
  {
   "cell_type": "code",
   "execution_count": 61,
   "metadata": {},
   "outputs": [
    {
     "data": {
      "application/vnd.jupyter.widget-view+json": {
       "model_id": "f14bd1e7c14241bd89379af08cd360b5",
       "version_major": 2,
       "version_minor": 0
      },
      "text/plain": [
       "HBox(children=(IntProgress(value=0, max=258224), HTML(value='')))"
      ]
     },
     "metadata": {},
     "output_type": "display_data"
    },
    {
     "name": "stdout",
     "output_type": "stream",
     "text": [
      "\n"
     ]
    }
   ],
   "source": [
    "semaxis_scores = sort_vocab_by_axis(v,model)"
   ]
  },
  {
   "cell_type": "code",
   "execution_count": 62,
   "metadata": {},
   "outputs": [],
   "source": [
    "def sort_scores(scores,topn=10,ascending=True):\n",
    "    return sorted(scores.items(),key = lambda x: x[1],reverse=not ascending)[:topn]"
   ]
  },
  {
   "cell_type": "code",
   "execution_count": 64,
   "metadata": {},
   "outputs": [
    {
     "data": {
      "text/plain": [
       "[('bemanteling', 0.5075244903564453),\n",
       " ('doorbrengende', 0.4933483898639679),\n",
       " ('KOUWEN', 0.4880736768245697),\n",
       " ('vergaderkamer', 0.48656100034713745),\n",
       " ('meesteressen', 0.4767831265926361),\n",
       " ('gezelschapsdame', 0.4707792401313782),\n",
       " ('COLLECTE', 0.45863980054855347),\n",
       " ('koperslagerij', 0.4516730010509491),\n",
       " ('gedaanteverwisseling', 0.45041441917419434),\n",
       " ('stiefmoeder', 0.44748789072036743),\n",
       " ('aankleving', 0.43607035279273987),\n",
       " ('Lijnoliekokerij', 0.43444928526878357),\n",
       " ('meesteres', 0.434261679649353),\n",
       " ('verschrikkelijkheid', 0.43407416343688965),\n",
       " ('Juniveiling', 0.43368491530418396),\n",
       " ('echtverbintenis', 0.43330690264701843),\n",
       " ('bevalling', 0.43189534544944763),\n",
       " ('Kindaren', 0.42979010939598083),\n",
       " ('wouw', 0.42974257469177246),\n",
       " ('bewaarplaats', 0.42924046516418457),\n",
       " ('tamilie', 0.42809420824050903),\n",
       " ('modiste', 0.4277687966823578),\n",
       " ('dienstbode', 0.4256649613380432),\n",
       " ('iurichting', 0.4256543517112732),\n",
       " ('kleurloosheid', 0.4213293492794037),\n",
       " ('kansrekening', 0.4187893271446228),\n",
       " ('priesteres', 0.4178311228752136),\n",
       " ('jufvrouw', 0.4172418713569641),\n",
       " ('verkoeling', 0.41520604491233826),\n",
       " ('weesjes', 0.4150516092777252),\n",
       " ('Kranestraat', 0.414200097322464),\n",
       " ('bestiering', 0.4134048819541931),\n",
       " ('Kindere', 0.4133234918117523),\n",
       " ('voorgangsters', 0.4132424294948578),\n",
       " ('bekoorlijkheden', 0.4120641350746155),\n",
       " ('Tabitha', 0.4120321273803711),\n",
       " ('Directrice', 0.4112297296524048),\n",
       " ('zintuigen', 0.4070420265197754),\n",
       " ('wassching', 0.4061483144760132),\n",
       " ('herhalingsschool', 0.4057837426662445),\n",
       " ('PASTORIE', 0.405229389667511),\n",
       " ('moeder', 0.4051353335380554),\n",
       " ('herberg', 0.40451115369796753),\n",
       " ('Vrouw', 0.40427273511886597),\n",
       " ('vriendin', 0.40368497371673584),\n",
       " ('zitkamer', 0.4034329056739807),\n",
       " ('vrouw', 0.4022269546985626),\n",
       " ('Buitensingels', 0.4019702076911926),\n",
       " ('klecderen', 0.40186166763305664),\n",
       " ('geneesmethode', 0.40176379680633545),\n",
       " ('gasontwikkeling', 0.4017443358898163),\n",
       " ('broodbakkerij', 0.4016597270965576),\n",
       " ('patinte', 0.4011813700199127),\n",
       " ('blikslagerij', 0.40069568157196045),\n",
       " ('Aflaire', 0.4002355635166168),\n",
       " ('bezoekster', 0.39935511350631714),\n",
       " ('vriendinnetjes', 0.3993098735809326),\n",
       " ('tante', 0.3992627263069153),\n",
       " ('RIJKUNST', 0.398176908493042),\n",
       " ('schoei', 0.3980903923511505),\n",
       " ('jagtwet', 0.3976420760154724),\n",
       " ('samenwoning', 0.39702853560447693),\n",
       " ('omarming', 0.39594677090644836),\n",
       " ('Leerschool', 0.3956491947174072),\n",
       " ('welingerigte', 0.3946637511253357),\n",
       " ('bewusteloosheid', 0.3941612243652344),\n",
       " ('benefietvoorstelling', 0.39375442266464233),\n",
       " ('Vergaderkamer', 0.3928966522216797),\n",
       " ('buurvrouw', 0.3921854794025421),\n",
       " ('msalliance', 0.39103445410728455),\n",
       " ('veenkolonie', 0.391010046005249),\n",
       " ('dienstmeid', 0.3908558189868927),\n",
       " ('vertoouing', 0.3903551697731018),\n",
       " ('voornaamheid', 0.3902473747730255),\n",
       " ('orthopaedische', 0.3900020122528076),\n",
       " ('wonin', 0.3895775377750397),\n",
       " ('werkvrouw', 0.389384925365448),\n",
       " ('tapperij', 0.38797053694725037),\n",
       " ('Naaischool', 0.387371689081192),\n",
       " ('vertolking', 0.38719749450683594),\n",
       " ('lirma', 0.38703399896621704),\n",
       " ('schoonmaakster', 0.38681408762931824),\n",
       " ('vaait', 0.3868074417114258),\n",
       " ('KLEURLOOSHEID', 0.3866439759731293),\n",
       " ('ONDERWIJZERSWONING', 0.38659319281578064),\n",
       " ('mijmering', 0.3863582909107208),\n",
       " ('teekeuing', 0.38605472445487976),\n",
       " ('huisvrouw', 0.38531360030174255),\n",
       " ('ambtsbroeders', 0.385060578584671),\n",
       " ('kinderei', 0.3848074674606323),\n",
       " ('leerlooierij', 0.3842250108718872),\n",
       " ('Naald', 0.38413360714912415),\n",
       " ('gezelschapsjuffrouw', 0.38391292095184326),\n",
       " ('werkovereenkomst', 0.3835499882698059),\n",
       " ('voorzaal', 0.3833863139152527),\n",
       " ('plasticiteit', 0.3827550411224365),\n",
       " ('Werking', 0.3827160894870758),\n",
       " ('logee', 0.3823944628238678),\n",
       " ('godsdienstleer', 0.3817720413208008),\n",
       " ('Heiligmaking', 0.3806726038455963)]"
      ]
     },
     "execution_count": 64,
     "metadata": {},
     "output_type": "execute_result"
    }
   ],
   "source": [
    "sort_scores(semaxis_scores,100,False)"
   ]
  }
 ],
 "metadata": {
  "kernelspec": {
   "display_name": "Python 3",
   "language": "python",
   "name": "python3"
  },
  "language_info": {
   "codemirror_mode": {
    "name": "ipython",
    "version": 3
   },
   "file_extension": ".py",
   "mimetype": "text/x-python",
   "name": "python",
   "nbconvert_exporter": "python",
   "pygments_lexer": "ipython3",
   "version": "3.7.3"
  }
 },
 "nbformat": 4,
 "nbformat_minor": 2
}
