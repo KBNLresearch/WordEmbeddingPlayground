{
 "cells": [
  {
   "cell_type": "markdown",
   "metadata": {},
   "source": [
    "# Word2Vec in Python "
   ]
  },
  {
   "cell_type": "code",
   "execution_count": 1,
   "metadata": {},
   "outputs": [],
   "source": [
    "%load_ext autoreload"
   ]
  },
  {
   "cell_type": "code",
   "execution_count": 2,
   "metadata": {},
   "outputs": [],
   "source": [
    "%autoreload 2\n",
    "from gensim.models.word2vec import Word2Vec \n",
    "import logging\n",
    "from utils import *\n",
    "logging.basicConfig(format='%(asctime)s : %(levelname)s : %(message)s', level=logging.INFO)"
   ]
  },
  {
   "cell_type": "markdown",
   "metadata": {},
   "source": [
    "## Data Parameters"
   ]
  },
  {
   "cell_type": "code",
   "execution_count": 8,
   "metadata": {},
   "outputs": [],
   "source": [
    "START_YEAR = 1805\n",
    "END_YEAR = 1809\n",
    "ROOT = \"../../data/ResearchDrive/\"\n",
    "OUTPUT = f\"../../models/{START_YEAR}-{END_YEAR}.w2v.model\""
   ]
  },
  {
   "cell_type": "markdown",
   "metadata": {},
   "source": [
    "## Model Hyperparameters"
   ]
  },
  {
   "cell_type": "code",
   "execution_count": 9,
   "metadata": {},
   "outputs": [],
   "source": [
    "SIZE = 100\n",
    "WINDOW = 5\n",
    "MIN_COUNT = 10"
   ]
  },
  {
   "cell_type": "markdown",
   "metadata": {},
   "source": [
    "## Training and saving a model"
   ]
  },
  {
   "cell_type": "code",
   "execution_count": null,
   "metadata": {},
   "outputs": [
    {
     "name": "stderr",
     "output_type": "stream",
     "text": [
      "2019-11-07 17:16:08,735 : INFO : collecting all words and their counts\n",
      "2019-11-07 17:16:09,405 : INFO : PROGRESS: at sentence #0, processed 0 words, keeping 0 word types\n",
      "2019-11-07 17:16:10,412 : INFO : PROGRESS: at sentence #10000, processed 187706 words, keeping 41153 word types\n",
      "2019-11-07 17:16:11,561 : INFO : PROGRESS: at sentence #20000, processed 400253 words, keeping 71531 word types\n",
      "2019-11-07 17:16:12,626 : INFO : PROGRESS: at sentence #30000, processed 617115 words, keeping 99932 word types\n",
      "2019-11-07 17:16:13,757 : INFO : PROGRESS: at sentence #40000, processed 818297 words, keeping 129718 word types\n",
      "2019-11-07 17:16:14,975 : INFO : PROGRESS: at sentence #50000, processed 1023624 words, keeping 152928 word types\n",
      "2019-11-07 17:16:16,164 : INFO : PROGRESS: at sentence #60000, processed 1231788 words, keeping 178708 word types\n",
      "2019-11-07 17:16:17,446 : INFO : PROGRESS: at sentence #70000, processed 1437708 words, keeping 201671 word types\n",
      "2019-11-07 17:16:18,628 : INFO : PROGRESS: at sentence #80000, processed 1632575 words, keeping 227992 word types\n",
      "2019-11-07 17:16:19,745 : INFO : PROGRESS: at sentence #90000, processed 1832967 words, keeping 247341 word types\n",
      "2019-11-07 17:16:20,836 : INFO : PROGRESS: at sentence #100000, processed 2027762 words, keeping 271886 word types\n",
      "2019-11-07 17:16:21,886 : INFO : PROGRESS: at sentence #110000, processed 2220609 words, keeping 290817 word types\n",
      "2019-11-07 17:16:22,953 : INFO : PROGRESS: at sentence #120000, processed 2415671 words, keeping 314029 word types\n",
      "2019-11-07 17:16:24,053 : INFO : PROGRESS: at sentence #130000, processed 2612743 words, keeping 332693 word types\n",
      "2019-11-07 17:16:25,238 : INFO : PROGRESS: at sentence #140000, processed 2817954 words, keeping 351419 word types\n",
      "2019-11-07 17:16:26,345 : INFO : PROGRESS: at sentence #150000, processed 3011124 words, keeping 374683 word types\n",
      "2019-11-07 17:16:27,480 : INFO : PROGRESS: at sentence #160000, processed 3223806 words, keeping 392985 word types\n",
      "2019-11-07 17:16:28,552 : INFO : PROGRESS: at sentence #170000, processed 3420435 words, keeping 411498 word types\n",
      "2019-11-07 17:16:29,563 : INFO : PROGRESS: at sentence #180000, processed 3594993 words, keeping 426137 word types\n",
      "2019-11-07 17:16:30,629 : INFO : PROGRESS: at sentence #190000, processed 3791885 words, keeping 445705 word types\n",
      "2019-11-07 17:16:31,655 : INFO : PROGRESS: at sentence #200000, processed 3976568 words, keeping 458215 word types\n",
      "2019-11-07 17:16:32,585 : INFO : PROGRESS: at sentence #210000, processed 4145356 words, keeping 473329 word types\n",
      "2019-11-07 17:16:33,668 : INFO : PROGRESS: at sentence #220000, processed 4354815 words, keeping 491502 word types\n",
      "2019-11-07 17:16:34,667 : INFO : PROGRESS: at sentence #230000, processed 4530246 words, keeping 507706 word types\n",
      "2019-11-07 17:16:35,729 : INFO : PROGRESS: at sentence #240000, processed 4729458 words, keeping 527471 word types\n",
      "2019-11-07 17:16:36,669 : INFO : PROGRESS: at sentence #250000, processed 4893547 words, keeping 541160 word types\n",
      "2019-11-07 17:16:37,607 : INFO : PROGRESS: at sentence #260000, processed 5058634 words, keeping 558690 word types\n",
      "2019-11-07 17:16:38,551 : INFO : PROGRESS: at sentence #270000, processed 5235120 words, keeping 571467 word types\n",
      "2019-11-07 17:16:39,494 : INFO : PROGRESS: at sentence #280000, processed 5408501 words, keeping 585121 word types\n",
      "2019-11-07 17:16:40,409 : INFO : PROGRESS: at sentence #290000, processed 5571287 words, keeping 596665 word types\n",
      "2019-11-07 17:16:41,434 : INFO : PROGRESS: at sentence #300000, processed 5758167 words, keeping 609926 word types\n",
      "2019-11-07 17:16:42,406 : INFO : PROGRESS: at sentence #310000, processed 5927793 words, keeping 624547 word types\n",
      "2019-11-07 17:16:43,465 : INFO : PROGRESS: at sentence #320000, processed 6130197 words, keeping 637847 word types\n",
      "2019-11-07 17:16:44,402 : INFO : PROGRESS: at sentence #330000, processed 6288513 words, keeping 652412 word types\n",
      "2019-11-07 17:16:45,524 : INFO : PROGRESS: at sentence #340000, processed 6486360 words, keeping 666232 word types\n",
      "2019-11-07 17:16:46,518 : INFO : PROGRESS: at sentence #350000, processed 6656181 words, keeping 680805 word types\n",
      "2019-11-07 17:16:47,725 : INFO : PROGRESS: at sentence #360000, processed 6874123 words, keeping 695174 word types\n",
      "2019-11-07 17:16:48,665 : INFO : PROGRESS: at sentence #370000, processed 7020810 words, keeping 708432 word types\n",
      "2019-11-07 17:16:49,754 : INFO : PROGRESS: at sentence #380000, processed 7225510 words, keeping 721840 word types\n",
      "2019-11-07 17:16:50,682 : INFO : PROGRESS: at sentence #390000, processed 7368744 words, keeping 733235 word types\n",
      "2019-11-07 17:16:51,879 : INFO : PROGRESS: at sentence #400000, processed 7564076 words, keeping 745627 word types\n",
      "2019-11-07 17:16:52,752 : INFO : PROGRESS: at sentence #410000, processed 7703101 words, keeping 757233 word types\n",
      "2019-11-07 17:16:53,846 : INFO : PROGRESS: at sentence #420000, processed 7900626 words, keeping 769869 word types\n",
      "2019-11-07 17:16:54,724 : INFO : PROGRESS: at sentence #430000, processed 8053817 words, keeping 783953 word types\n",
      "2019-11-07 17:16:55,806 : INFO : PROGRESS: at sentence #440000, processed 8264197 words, keeping 798156 word types\n",
      "2019-11-07 17:16:56,732 : INFO : PROGRESS: at sentence #450000, processed 8429921 words, keeping 812979 word types\n",
      "2019-11-07 17:16:57,769 : INFO : PROGRESS: at sentence #460000, processed 8627635 words, keeping 828183 word types\n",
      "2019-11-07 17:16:58,702 : INFO : PROGRESS: at sentence #470000, processed 8799580 words, keeping 841867 word types\n",
      "2019-11-07 17:16:59,640 : INFO : PROGRESS: at sentence #480000, processed 8976502 words, keeping 854835 word types\n",
      "2019-11-07 17:17:00,618 : INFO : PROGRESS: at sentence #490000, processed 9159495 words, keeping 868478 word types\n",
      "2019-11-07 17:17:01,782 : INFO : PROGRESS: at sentence #500000, processed 9365449 words, keeping 886754 word types\n",
      "2019-11-07 17:17:02,818 : INFO : PROGRESS: at sentence #510000, processed 9551295 words, keeping 902441 word types\n",
      "2019-11-07 17:17:03,791 : INFO : PROGRESS: at sentence #520000, processed 9724717 words, keeping 919006 word types\n",
      "2019-11-07 17:17:04,731 : INFO : PROGRESS: at sentence #530000, processed 9888517 words, keeping 934342 word types\n",
      "2019-11-07 17:17:05,790 : INFO : PROGRESS: at sentence #540000, processed 10082476 words, keeping 951661 word types\n",
      "2019-11-07 17:17:06,801 : INFO : PROGRESS: at sentence #550000, processed 10255127 words, keeping 967709 word types\n",
      "2019-11-07 17:17:07,863 : INFO : PROGRESS: at sentence #560000, processed 10453469 words, keeping 986605 word types\n",
      "2019-11-07 17:17:08,908 : INFO : PROGRESS: at sentence #570000, processed 10638296 words, keeping 1003179 word types\n",
      "2019-11-07 17:17:09,894 : INFO : PROGRESS: at sentence #580000, processed 10813904 words, keeping 1019171 word types\n",
      "2019-11-07 17:17:10,908 : INFO : PROGRESS: at sentence #590000, processed 10996353 words, keeping 1033707 word types\n",
      "2019-11-07 17:17:11,917 : INFO : PROGRESS: at sentence #600000, processed 11169309 words, keeping 1047821 word types\n",
      "2019-11-07 17:17:13,043 : INFO : PROGRESS: at sentence #610000, processed 11368789 words, keeping 1062165 word types\n",
      "2019-11-07 17:17:14,140 : INFO : PROGRESS: at sentence #620000, processed 11554346 words, keeping 1079199 word types\n",
      "2019-11-07 17:17:15,220 : INFO : PROGRESS: at sentence #630000, processed 11750149 words, keeping 1093368 word types\n",
      "2019-11-07 17:17:16,257 : INFO : PROGRESS: at sentence #640000, processed 11920385 words, keeping 1109269 word types\n",
      "2019-11-07 17:17:17,381 : INFO : PROGRESS: at sentence #650000, processed 12122872 words, keeping 1125345 word types\n",
      "2019-11-07 17:17:18,448 : INFO : PROGRESS: at sentence #660000, processed 12311929 words, keeping 1140076 word types\n",
      "2019-11-07 17:17:19,478 : INFO : PROGRESS: at sentence #670000, processed 12506684 words, keeping 1156184 word types\n",
      "2019-11-07 17:17:20,514 : INFO : PROGRESS: at sentence #680000, processed 12695055 words, keeping 1170929 word types\n",
      "2019-11-07 17:17:21,553 : INFO : PROGRESS: at sentence #690000, processed 12876226 words, keeping 1185548 word types\n",
      "2019-11-07 17:17:22,820 : INFO : PROGRESS: at sentence #700000, processed 13070137 words, keeping 1199304 word types\n"
     ]
    },
    {
     "name": "stderr",
     "output_type": "stream",
     "text": [
      "2019-11-07 17:17:24,534 : INFO : PROGRESS: at sentence #710000, processed 13244641 words, keeping 1213341 word types\n",
      "2019-11-07 17:17:26,291 : INFO : PROGRESS: at sentence #720000, processed 13439102 words, keeping 1227841 word types\n",
      "2019-11-07 17:17:28,040 : INFO : PROGRESS: at sentence #730000, processed 13619900 words, keeping 1242306 word types\n",
      "2019-11-07 17:17:29,387 : INFO : PROGRESS: at sentence #740000, processed 13824742 words, keeping 1256772 word types\n",
      "2019-11-07 17:17:30,446 : INFO : PROGRESS: at sentence #750000, processed 13994324 words, keeping 1271786 word types\n",
      "2019-11-07 17:17:31,639 : INFO : PROGRESS: at sentence #760000, processed 14201197 words, keeping 1287657 word types\n",
      "2019-11-07 17:17:32,737 : INFO : PROGRESS: at sentence #770000, processed 14376974 words, keeping 1305691 word types\n",
      "2019-11-07 17:17:33,981 : INFO : PROGRESS: at sentence #780000, processed 14582838 words, keeping 1322388 word types\n",
      "2019-11-07 17:17:34,987 : INFO : PROGRESS: at sentence #790000, processed 14736630 words, keeping 1337329 word types\n",
      "2019-11-07 17:17:36,002 : INFO : PROGRESS: at sentence #800000, processed 14907039 words, keeping 1350843 word types\n",
      "2019-11-07 17:17:37,077 : INFO : PROGRESS: at sentence #810000, processed 15085247 words, keeping 1367378 word types\n",
      "2019-11-07 17:17:38,075 : INFO : PROGRESS: at sentence #820000, processed 15258998 words, keeping 1379628 word types\n",
      "2019-11-07 17:17:39,182 : INFO : PROGRESS: at sentence #830000, processed 15453223 words, keeping 1392688 word types\n",
      "2019-11-07 17:17:40,247 : INFO : PROGRESS: at sentence #840000, processed 15616892 words, keeping 1407566 word types\n",
      "2019-11-07 17:17:41,344 : INFO : PROGRESS: at sentence #850000, processed 15813103 words, keeping 1422667 word types\n",
      "2019-11-07 17:17:42,389 : INFO : PROGRESS: at sentence #860000, processed 15993634 words, keeping 1436851 word types\n",
      "2019-11-07 17:17:43,349 : INFO : PROGRESS: at sentence #870000, processed 16154400 words, keeping 1449196 word types\n",
      "2019-11-07 17:17:44,473 : INFO : PROGRESS: at sentence #880000, processed 16346384 words, keeping 1462709 word types\n",
      "2019-11-07 17:17:45,406 : INFO : PROGRESS: at sentence #890000, processed 16492987 words, keeping 1475543 word types\n",
      "2019-11-07 17:17:46,437 : INFO : PROGRESS: at sentence #900000, processed 16666648 words, keeping 1488289 word types\n",
      "2019-11-07 17:17:47,523 : INFO : PROGRESS: at sentence #910000, processed 16852021 words, keeping 1502692 word types\n",
      "2019-11-07 17:17:48,510 : INFO : PROGRESS: at sentence #920000, processed 17015332 words, keeping 1514386 word types\n",
      "2019-11-07 17:17:49,572 : INFO : PROGRESS: at sentence #930000, processed 17212314 words, keeping 1527660 word types\n",
      "2019-11-07 17:17:50,670 : INFO : PROGRESS: at sentence #940000, processed 17386316 words, keeping 1542748 word types\n",
      "2019-11-07 17:17:51,749 : INFO : PROGRESS: at sentence #950000, processed 17571937 words, keeping 1557243 word types\n",
      "2019-11-07 17:17:52,828 : INFO : PROGRESS: at sentence #960000, processed 17757656 words, keeping 1573062 word types\n",
      "2019-11-07 17:17:53,728 : INFO : PROGRESS: at sentence #970000, processed 17906607 words, keeping 1583010 word types\n",
      "2019-11-07 17:17:54,843 : INFO : PROGRESS: at sentence #980000, processed 18103862 words, keeping 1599347 word types\n",
      "2019-11-07 17:17:55,817 : INFO : PROGRESS: at sentence #990000, processed 18275694 words, keeping 1610518 word types\n",
      "2019-11-07 17:17:56,895 : INFO : PROGRESS: at sentence #1000000, processed 18475715 words, keeping 1627466 word types\n",
      "2019-11-07 17:17:57,900 : INFO : PROGRESS: at sentence #1010000, processed 18653080 words, keeping 1641493 word types\n",
      "2019-11-07 17:17:58,981 : INFO : PROGRESS: at sentence #1020000, processed 18863507 words, keeping 1656347 word types\n",
      "2019-11-07 17:18:00,021 : INFO : PROGRESS: at sentence #1030000, processed 19037902 words, keeping 1670286 word types\n",
      "2019-11-07 17:18:01,112 : INFO : PROGRESS: at sentence #1040000, processed 19238999 words, keeping 1685002 word types\n",
      "2019-11-07 17:18:02,154 : INFO : PROGRESS: at sentence #1050000, processed 19418990 words, keeping 1701515 word types\n",
      "2019-11-07 17:18:03,255 : INFO : PROGRESS: at sentence #1060000, processed 19632096 words, keeping 1716455 word types\n",
      "2019-11-07 17:18:04,222 : INFO : PROGRESS: at sentence #1070000, processed 19803616 words, keeping 1731766 word types\n",
      "2019-11-07 17:18:05,250 : INFO : PROGRESS: at sentence #1080000, processed 19987676 words, keeping 1748876 word types\n",
      "2019-11-07 17:18:06,238 : INFO : PROGRESS: at sentence #1090000, processed 20160035 words, keeping 1764983 word types\n",
      "2019-11-07 17:18:07,210 : INFO : PROGRESS: at sentence #1100000, processed 20338468 words, keeping 1783058 word types\n",
      "2019-11-07 17:18:08,193 : INFO : PROGRESS: at sentence #1110000, processed 20503775 words, keeping 1798785 word types\n",
      "2019-11-07 17:18:09,206 : INFO : PROGRESS: at sentence #1120000, processed 20691052 words, keeping 1818017 word types\n",
      "2019-11-07 17:18:10,186 : INFO : PROGRESS: at sentence #1130000, processed 20871428 words, keeping 1830629 word types\n",
      "2019-11-07 17:18:11,125 : INFO : PROGRESS: at sentence #1140000, processed 21044101 words, keeping 1845744 word types\n",
      "2019-11-07 17:18:12,186 : INFO : PROGRESS: at sentence #1150000, processed 21236951 words, keeping 1863086 word types\n",
      "2019-11-07 17:18:13,019 : INFO : PROGRESS: at sentence #1160000, processed 21378969 words, keeping 1874700 word types\n"
     ]
    }
   ],
   "source": [
    "sentences = SentIterator(ROOT,date_range=(START_YEAR,END_YEAR))\n",
    "model = Word2Vec(size=SIZE, window=WINDOW, min_count=MIN_COUNT)\n",
    "model.build_vocab(sentences=sentences)\n",
    "total_examples = model.corpus_count\n",
    "model.train(sentences=sentences, total_examples=total_examples, epochs=5)"
   ]
  },
  {
   "cell_type": "markdown",
   "metadata": {},
   "source": [
    "## Save model"
   ]
  },
  {
   "cell_type": "code",
   "execution_count": 5,
   "metadata": {},
   "outputs": [
    {
     "name": "stderr",
     "output_type": "stream",
     "text": [
      "2019-11-07 17:14:39,290 : INFO : saving Word2Vec object under ../../models/1805-1809.w2v.model, separately None\n",
      "2019-11-07 17:14:39,291 : INFO : not storing attribute vectors_norm\n",
      "2019-11-07 17:14:39,292 : INFO : not storing attribute cum_table\n",
      "2019-11-07 17:14:39,292 : WARNING : this function is deprecated, use smart_open.open instead\n",
      "2019-11-07 17:14:39,844 : INFO : saved ../../models/1805-1809.w2v.model\n"
     ]
    }
   ],
   "source": [
    "model.save(OUTPUT)"
   ]
  },
  {
   "cell_type": "markdown",
   "metadata": {},
   "source": [
    "## Load model"
   ]
  },
  {
   "cell_type": "code",
   "execution_count": 6,
   "metadata": {},
   "outputs": [
    {
     "name": "stderr",
     "output_type": "stream",
     "text": [
      "2019-11-07 17:14:42,039 : INFO : loading Word2Vec object from ../../models/1805-1809.w2v.model\n",
      "2019-11-07 17:14:42,040 : WARNING : this function is deprecated, use smart_open.open instead\n",
      "2019-11-07 17:14:42,467 : INFO : loading wv recursively from ../../models/1805-1809.w2v.model.wv.* with mmap=None\n",
      "2019-11-07 17:14:42,467 : INFO : setting ignored attribute vectors_norm to None\n",
      "2019-11-07 17:14:42,468 : INFO : loading vocabulary recursively from ../../models/1805-1809.w2v.model.vocabulary.* with mmap=None\n",
      "2019-11-07 17:14:42,468 : INFO : loading trainables recursively from ../../models/1805-1809.w2v.model.trainables.* with mmap=None\n",
      "2019-11-07 17:14:42,469 : INFO : setting ignored attribute cum_table to None\n",
      "2019-11-07 17:14:42,470 : INFO : loaded ../../models/1805-1809.w2v.model\n"
     ]
    },
    {
     "name": "stdout",
     "output_type": "stream",
     "text": [
      "Word2Vec(vocab=66631, size=100, alpha=0.025)\n"
     ]
    }
   ],
   "source": [
    "model = Word2Vec.load(OUTPUT)\n",
    "print(model)"
   ]
  },
  {
   "cell_type": "markdown",
   "metadata": {},
   "source": [
    "## Query model"
   ]
  },
  {
   "cell_type": "code",
   "execution_count": 7,
   "metadata": {},
   "outputs": [
    {
     "name": "stderr",
     "output_type": "stream",
     "text": [
      "/usr/local/lib/python3.7/site-packages/ipykernel_launcher.py:2: DeprecationWarning: Call to deprecated `most_similar` (Method will be removed in 4.0.0, use self.wv.most_similar() instead).\n",
      "  \n",
      "2019-11-07 17:14:45,454 : INFO : precomputing L2-norms of word weight vectors\n"
     ]
    },
    {
     "data": {
      "text/plain": [
       "[('moeder', 0.7732312679290771),\n",
       " ('Vrouw', 0.7363426685333252),\n",
       " ('Moeder', 0.7242480516433716),\n",
       " ('Vronw', 0.7235069274902344),\n",
       " ('Dame', 0.7200417518615723),\n",
       " ('Schuur', 0.6727055907249451),\n",
       " ('dochter', 0.6695880889892578),\n",
       " ('bevallen', 0.6690483093261719),\n",
       " ('Bom', 0.6606713533401489),\n",
       " ('hagelbui', 0.6589257717132568)]"
      ]
     },
     "execution_count": 7,
     "metadata": {},
     "output_type": "execute_result"
    }
   ],
   "source": [
    "query = 'vrouw'\n",
    "model.most_similar(query)"
   ]
  }
 ],
 "metadata": {
  "kernelspec": {
   "display_name": "Python 3",
   "language": "python",
   "name": "python3"
  },
  "language_info": {
   "codemirror_mode": {
    "name": "ipython",
    "version": 3
   },
   "file_extension": ".py",
   "mimetype": "text/x-python",
   "name": "python",
   "nbconvert_exporter": "python",
   "pygments_lexer": "ipython3",
   "version": "3.7.4"
  }
 },
 "nbformat": 4,
 "nbformat_minor": 2
}
