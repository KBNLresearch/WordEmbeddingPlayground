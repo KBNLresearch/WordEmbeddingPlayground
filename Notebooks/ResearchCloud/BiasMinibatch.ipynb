{
 "cells": [
  {
   "cell_type": "code",
   "execution_count": 11,
   "metadata": {},
   "outputs": [],
   "source": [
    "import pandas as pd\n",
    "import numpy as np"
   ]
  },
  {
   "cell_type": "code",
   "execution_count": 12,
   "metadata": {},
   "outputs": [
    {
     "name": "stderr",
     "output_type": "stream",
     "text": [
      "/usr/local/Cellar/python/3.7.4_1/Frameworks/Python.framework/Versions/3.7/lib/python3.7/importlib/_bootstrap.py:219: RuntimeWarning: numpy.ufunc size changed, may indicate binary incompatibility. Expected 216, got 192\n",
      "  return f(*args, **kwds)\n",
      "/usr/local/Cellar/python/3.7.4_1/Frameworks/Python.framework/Versions/3.7/lib/python3.7/importlib/_bootstrap.py:219: RuntimeWarning: numpy.ufunc size changed, may indicate binary incompatibility. Expected 216, got 192\n",
      "  return f(*args, **kwds)\n"
     ]
    }
   ],
   "source": [
    "%load_ext autoreload"
   ]
  },
  {
   "cell_type": "code",
   "execution_count": 14,
   "metadata": {},
   "outputs": [
    {
     "data": {
      "text/plain": [
       "<matplotlib.axes._subplots.AxesSubplot at 0x14e4306d0>"
      ]
     },
     "execution_count": 14,
     "metadata": {},
     "output_type": "execute_result"
    },
    {
     "data": {
      "image/png": "[encoded data removed]",
      "text/plain": [
       "<Figure size 432x288 with 1 Axes>"
      ]
     },
     "metadata": {
      "needs_background": "light"
     },
     "output_type": "display_data"
    }
   ],
   "source": [
    "from gensim.models.word2vec import Word2Vec \n",
    "#import logging\n",
    "import copy\n",
    "from scipy.spatial.distance import cosine\n",
    "from glob import glob\n",
    "from utils_parallel import *\n",
    "#logging.basicConfig(format='%(asctime)s : %(levelname)s : %(message)s', level=logging.INFO)"
   ]
  },
  {
   "cell_type": "code",
   "execution_count": null,
   "metadata": {},
   "outputs": [],
   "source": [
    "START_YEAR = 1850\n",
    "END_YEAR = 1852\n",
    "ROOT = \"../researchdrive/RSC-KB-pilot\"\n",
    "OUTPUT = \"../models/{}-{}.w2v.model\".format(START_YEAR,END_YEAR)"
   ]
  },
  {
   "cell_type": "code",
   "execution_count": null,
   "metadata": {},
   "outputs": [],
   "source": [
    "sentences = SentIterator(ROOT,date_range=(START_YEAR,END_YEAR),tokenized=False,n_jobs=-1)"
   ]
  },
  {
   "cell_type": "code",
   "execution_count": null,
   "metadata": {},
   "outputs": [],
   "source": [
    "filtered_sents = sentences.filter_lines('(?:vrouw*|moeder*)')"
   ]
  },
  {
   "cell_type": "code",
   "execution_count": null,
   "metadata": {},
   "outputs": [],
   "source": [
    "sent_df = pd.DataFrame([s.split('<SEP>') for s in filtered_sents],columns=['doc_id','text'])\n",
    "sent_df.head()"
   ]
  },
  {
   "cell_type": "code",
   "execution_count": null,
   "metadata": {},
   "outputs": [],
   "source": [
    "csvs = glob('../researchdrive/RSC-KB-pilot/Identifiers/Identifiers_18*.csv')"
   ]
  },
  {
   "cell_type": "code",
   "execution_count": null,
   "metadata": {},
   "outputs": [],
   "source": [
    "df = pd.concat([pd.read_csv(f,sep=';',index_col=0) for f in csvs],axis=0)\n",
    "df.head()"
   ]
  },
  {
   "cell_type": "code",
   "execution_count": null,
   "metadata": {},
   "outputs": [],
   "source": [
    "def get_doc_id(identifier):\n",
    "    try:\n",
    "        _,_,i,_,j,_ = identifier.split(\":\") \n",
    "        return '_'.join([i,j])\n",
    "    except:\n",
    "        return 'NaN'\n",
    "    \n",
    "df['doc_id'] = df.identifier.apply(get_doc_id)\n",
    "print(np.sum(df.doc_id=='NaN'))"
   ]
  },
  {
   "cell_type": "code",
   "execution_count": null,
   "metadata": {},
   "outputs": [],
   "source": [
    "df_merged = sent_df.merge(df,how='left',right_on='doc_id',left_on='doc_id')\n",
    "print(df_merged.shape)\n",
    "#df_merged.head()"
   ]
  },
  {
   "cell_type": "code",
   "execution_count": null,
   "metadata": {},
   "outputs": [],
   "source": [
    "daily_articles = df_merged.groupby('date')['text'].apply('\\n'.join)\n",
    "daily_articles = pd.DataFrame(daily_articles,columns=['text'])\n",
    "daily_articles['doc_id'] = ''\n",
    "daily_articles.head()"
   ]
  },
  {
   "cell_type": "code",
   "execution_count": null,
   "metadata": {},
   "outputs": [],
   "source": [
    "model = Word2Vec.load('../models/{0}-{1}.w2v.model'.format(START_YEAR,END_YEAR))\n",
    "p1 = [w for w,v in model.wv.most_similar('vrouw',topn=20)] + ['vrouw']\n",
    "p2 = [w for w,v in model.wv.most_similar('man',topn=20)] + ['man']\n",
    "target = [w for w,v in model.wv.most_similar('kind',topn=20)] + ['kind']\n",
    "print(p1)\n",
    "print(p2)\n",
    "print(target)"
   ]
  },
  {
   "cell_type": "code",
   "execution_count": null,
   "metadata": {},
   "outputs": [],
   "source": [
    "cosine_sim = lambda v1,v2: 1 - cosine(v1,v2) \n",
    "euclid_dist = lambda v1,v2: - np.linalg.norm(v1-v2,ord=2)\n",
    "average_vector = lambda words,model : np.mean([model.wv.__getitem__(w) for w in words if model.wv.__contains__(w)],axis=0)\n",
    "\n",
    "def compute_bias(p1,p2,target,model,metric=cosine_sim):\n",
    "    av_v1 = average_vector(p1,model); av_v2 = average_vector(p2,model)\n",
    "    return np.mean([metric(av_v1,model.wv.__getitem__(w)) - \\\n",
    "                      metric(av_v2,model.wv.__getitem__(w)) for w in target \n",
    "                           if w in model.wv])\n"
   ]
  },
  {
   "cell_type": "code",
   "execution_count": null,
   "metadata": {},
   "outputs": [],
   "source": [
    "update_sents = [preprocess_sent(t.text,t.doc_id) for i,t in daily_articles.iterrows()]"
   ]
  },
  {
   "cell_type": "code",
   "execution_count": null,
   "metadata": {},
   "outputs": [],
   "source": [
    "EPOCH = 4"
   ]
  },
  {
   "cell_type": "code",
   "execution_count": null,
   "metadata": {},
   "outputs": [],
   "source": [
    "def compare_bias(i,sent,p1,p2,target):\n",
    "    model = Word2Vec.load('../models/{0}-{1}.w2v.model'.format(START_YEAR,END_YEAR))\n",
    "    model.train([sent],total_examples=len([sent]),epochs=EPOCH)\n",
    "    orig_model = Word2Vec.load('../models/{0}-{1}.w2v.model'.format(START_YEAR,END_YEAR))\n",
    "    return (i,sent,compute_bias(p1,p2,target,model) - compute_bias(p1,p2,target,orig_model))"
   ]
  },
  {
   "cell_type": "code",
   "execution_count": null,
   "metadata": {},
   "outputs": [],
   "source": [
    "scores = Parallel(n_jobs=-1)(delayed(compare_bias)(i,sent,p1,p2,target) for i,sent in tqdm(enumerate(update_sents)))"
   ]
  },
  {
   "cell_type": "code",
   "execution_count": null,
   "metadata": {},
   "outputs": [],
   "source": [
    "import pickle\n",
    "with open('../researchdrive/processed/biasbatch.pckl','wb') as out_pickle:\n",
    "    pickle.dump(scores,out_pickle)"
   ]
  }
 ],
 "metadata": {
  "kernelspec": {
   "display_name": "Python 3",
   "language": "python",
   "name": "python3"
  },
  "language_info": {
   "codemirror_mode": {
    "name": "ipython",
    "version": 3
   },
   "file_extension": ".py",
   "mimetype": "text/x-python",
   "name": "python",
   "nbconvert_exporter": "python",
   "pygments_lexer": "ipython3",
   "version": "3.7.4"
  }
 },
 "nbformat": 4,
 "nbformat_minor": 2
}
