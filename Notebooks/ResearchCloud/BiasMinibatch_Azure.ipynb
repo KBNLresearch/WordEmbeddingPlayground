{
 "cells": [
  {
   "cell_type": "markdown",
   "metadata": {},
   "source": [
    "## Bias by Minibatch \n",
    "\n",
    "Notebook for analyzing the bias per minibatch of documents"
   ]
  },
  {
   "cell_type": "code",
   "execution_count": 2,
   "metadata": {},
   "outputs": [],
   "source": [
    "%load_ext autoreload"
   ]
  },
  {
   "cell_type": "code",
   "execution_count": null,
   "metadata": {},
   "outputs": [],
   "source": [
    "%autoreload 2\n",
    "from gensim.models.word2vec import Word2Vec \n",
    "import pandas as pd\n",
    "import numpy as np\n",
    "from scipy.spatial.distance import cosine\n",
    "from glob import glob\n",
    "import pickle\n",
    "from utils_parallel import *\n",
    "#import logging\n",
    "#logging.basicConfig(format='%(asctime)s : %(levelname)s : %(message)s', level=logging.INFO)"
   ]
  },
  {
   "cell_type": "markdown",
   "metadata": {},
   "source": [
    "## Set Parameter"
   ]
  },
  {
   "cell_type": "code",
   "execution_count": 26,
   "metadata": {},
   "outputs": [],
   "source": [
    "START_YEAR = 1860\n",
    "END_YEAR = 1870\n",
    "ROOT = \"/home/kaspar/ResearchDrive\"\n",
    "MODEL_PATH = \"/home/kaspar/models/{}-{}.w2v.model\".format(START_YEAR,END_YEAR)\n",
    "OUTPUT = \"/home/kaspar/processed\""
   ]
  },
  {
   "cell_type": "markdown",
   "metadata": {},
   "source": [
    "## Collect sentences\n",
    "\n",
    "Collect the sentences that will be merged into minibatches."
   ]
  },
  {
   "cell_type": "code",
   "execution_count": 12,
   "metadata": {},
   "outputs": [],
   "source": [
    "sentences = SentIterator(ROOT,date_range=(START_YEAR,END_YEAR),processed_path='/home/kaspar/processed',tokenized=False,n_jobs=-1)"
   ]
  },
  {
   "cell_type": "code",
   "execution_count": 13,
   "metadata": {},
   "outputs": [],
   "source": [
    "filtered_sents_path = sentences.filter_lines('(?:vrouw*|moeder*)')"
   ]
  },
  {
   "cell_type": "code",
   "execution_count": 18,
   "metadata": {},
   "outputs": [
    {
     "data": {
      "text/html": [
       "<div>\n",
       "<style scoped>\n",
       "    .dataframe tbody tr th:only-of-type {\n",
       "        vertical-align: middle;\n",
       "    }\n",
       "\n",
       "    .dataframe tbody tr th {\n",
       "        vertical-align: top;\n",
       "    }\n",
       "\n",
       "    .dataframe thead th {\n",
       "        text-align: right;\n",
       "    }\n",
       "</style>\n",
       "<table border=\"1\" class=\"dataframe\">\n",
       "  <thead>\n",
       "    <tr style=\"text-align: right;\">\n",
       "      <th></th>\n",
       "      <th>doc_id</th>\n",
       "      <th>text</th>\n",
       "    </tr>\n",
       "  </thead>\n",
       "  <tbody>\n",
       "    <tr>\n",
       "      <td>0</td>\n",
       "      <td>000077915_a0004</td>\n",
       "      <td>politieke beschouwingen . het groote nieuws v...</td>\n",
       "    </tr>\n",
       "    <tr>\n",
       "      <td>1</td>\n",
       "      <td>000077915_a0005</td>\n",
       "      <td>nieuwstijdingen . engeland . bladen uit new-y...</td>\n",
       "    </tr>\n",
       "    <tr>\n",
       "      <td>2</td>\n",
       "      <td>000077915_a0007</td>\n",
       "      <td>gemengde berigten . een vande redacteurs van ...</td>\n",
       "    </tr>\n",
       "    <tr>\n",
       "      <td>3</td>\n",
       "      <td>000360026_a00013</td>\n",
       "      <td>publicati n . nationale militie . burgemeeste...</td>\n",
       "    </tr>\n",
       "    <tr>\n",
       "      <td>4</td>\n",
       "      <td>000360026_a00016</td>\n",
       "      <td>van alles wat . te annen viel onlangs een sch...</td>\n",
       "    </tr>\n",
       "  </tbody>\n",
       "</table>\n",
       "</div>"
      ],
      "text/plain": [
       "             doc_id                                               text\n",
       "0   000077915_a0004   politieke beschouwingen . het groote nieuws v...\n",
       "1   000077915_a0005   nieuwstijdingen . engeland . bladen uit new-y...\n",
       "2   000077915_a0007   gemengde berigten . een vande redacteurs van ...\n",
       "3  000360026_a00013   publicati n . nationale militie . burgemeeste...\n",
       "4  000360026_a00016   van alles wat . te annen viel onlangs een sch..."
      ]
     },
     "execution_count": 18,
     "metadata": {},
     "output_type": "execute_result"
    }
   ],
   "source": [
    "filtered_sents_lines = open(filtered_sents_path,'r').read().split('\\n\\n')\n",
    "sent_df = pd.DataFrame([s.split('<SEP>') for s in filtered_sents_lines],columns=['doc_id','text'])\n",
    "sent_df.head()"
   ]
  },
  {
   "cell_type": "markdown",
   "metadata": {},
   "source": [
    "## Collect Identifiers\n",
    "\n",
    "Here we read the Identifier csv files with metadata on each article."
   ]
  },
  {
   "cell_type": "code",
   "execution_count": 19,
   "metadata": {},
   "outputs": [],
   "source": [
    "csvs = glob('/home/kaspar/Identifiers/Identifiers_18*.csv')"
   ]
  },
  {
   "cell_type": "code",
   "execution_count": 20,
   "metadata": {},
   "outputs": [
    {
     "name": "stderr",
     "output_type": "stream",
     "text": [
      "/home/kaspar/anaconda3/lib/python3.7/site-packages/IPython/core/interactiveshell.py:3249: DtypeWarning: Columns (5) have mixed types. Specify dtype option on import or set low_memory=False.\n",
      "  if (await self.run_code(code, result,  async_=asy)):\n",
      "/home/kaspar/anaconda3/lib/python3.7/site-packages/ipykernel_launcher.py:1: FutureWarning: Sorting because non-concatenation axis is not aligned. A future version\n",
      "of pandas will change to not sort by default.\n",
      "\n",
      "To accept the future behavior, pass 'sort=False'.\n",
      "\n",
      "To retain the current behavior and silence the warning, pass 'sort=True'.\n",
      "\n",
      "  \"\"\"Entry point for launching an IPython kernel.\n"
     ]
    },
    {
     "data": {
      "text/html": [
       "<div>\n",
       "<style scoped>\n",
       "    .dataframe tbody tr th:only-of-type {\n",
       "        vertical-align: middle;\n",
       "    }\n",
       "\n",
       "    .dataframe tbody tr th {\n",
       "        vertical-align: top;\n",
       "    }\n",
       "\n",
       "    .dataframe thead th {\n",
       "        text-align: right;\n",
       "    }\n",
       "</style>\n",
       "<table border=\"1\" class=\"dataframe\">\n",
       "  <thead>\n",
       "    <tr style=\"text-align: right;\">\n",
       "      <th></th>\n",
       "      <th>date</th>\n",
       "      <th>identifier</th>\n",
       "      <th>key</th>\n",
       "      <th>papertitle</th>\n",
       "      <th>ppn</th>\n",
       "      <th>spatial</th>\n",
       "    </tr>\n",
       "  </thead>\n",
       "  <tbody>\n",
       "    <tr>\n",
       "      <td>0</td>\n",
       "      <td>1806/05/03 00:00:00</td>\n",
       "      <td>http://resolver.kb.nl/resolve?urn=ddd:01068026...</td>\n",
       "      <td>010680261_a0003</td>\n",
       "      <td>Oprechte Haerlemsche courant</td>\n",
       "      <td>841198969</td>\n",
       "      <td>Landelijk</td>\n",
       "    </tr>\n",
       "    <tr>\n",
       "      <td>1</td>\n",
       "      <td>1806/04/08 00:00:00</td>\n",
       "      <td>http://resolver.kb.nl/resolve?urn=ddd:01068040...</td>\n",
       "      <td>010680403_a0002</td>\n",
       "      <td>Oprechte Haerlemsche courant</td>\n",
       "      <td>841198969</td>\n",
       "      <td>Landelijk</td>\n",
       "    </tr>\n",
       "    <tr>\n",
       "      <td>2</td>\n",
       "      <td>1806/04/08 00:00:00</td>\n",
       "      <td>http://resolver.kb.nl/resolve?urn=ddd:01068040...</td>\n",
       "      <td>010680403_a0003</td>\n",
       "      <td>Oprechte Haerlemsche courant</td>\n",
       "      <td>841198969</td>\n",
       "      <td>Landelijk</td>\n",
       "    </tr>\n",
       "    <tr>\n",
       "      <td>3</td>\n",
       "      <td>1806/04/22 00:00:00</td>\n",
       "      <td>http://resolver.kb.nl/resolve?urn=ddd:01068040...</td>\n",
       "      <td>010680404_a0001</td>\n",
       "      <td>Oprechte Haerlemsche courant</td>\n",
       "      <td>841198969</td>\n",
       "      <td>Landelijk</td>\n",
       "    </tr>\n",
       "    <tr>\n",
       "      <td>4</td>\n",
       "      <td>1806/04/22 00:00:00</td>\n",
       "      <td>http://resolver.kb.nl/resolve?urn=ddd:01068040...</td>\n",
       "      <td>010680404_a0002</td>\n",
       "      <td>Oprechte Haerlemsche courant</td>\n",
       "      <td>841198969</td>\n",
       "      <td>Landelijk</td>\n",
       "    </tr>\n",
       "  </tbody>\n",
       "</table>\n",
       "</div>"
      ],
      "text/plain": [
       "                  date                                         identifier  \\\n",
       "0  1806/05/03 00:00:00  http://resolver.kb.nl/resolve?urn=ddd:01068026...   \n",
       "1  1806/04/08 00:00:00  http://resolver.kb.nl/resolve?urn=ddd:01068040...   \n",
       "2  1806/04/08 00:00:00  http://resolver.kb.nl/resolve?urn=ddd:01068040...   \n",
       "3  1806/04/22 00:00:00  http://resolver.kb.nl/resolve?urn=ddd:01068040...   \n",
       "4  1806/04/22 00:00:00  http://resolver.kb.nl/resolve?urn=ddd:01068040...   \n",
       "\n",
       "               key                    papertitle        ppn    spatial  \n",
       "0  010680261_a0003  Oprechte Haerlemsche courant  841198969  Landelijk  \n",
       "1  010680403_a0002  Oprechte Haerlemsche courant  841198969  Landelijk  \n",
       "2  010680403_a0003  Oprechte Haerlemsche courant  841198969  Landelijk  \n",
       "3  010680404_a0001  Oprechte Haerlemsche courant  841198969  Landelijk  \n",
       "4  010680404_a0002  Oprechte Haerlemsche courant  841198969  Landelijk  "
      ]
     },
     "execution_count": 20,
     "metadata": {},
     "output_type": "execute_result"
    }
   ],
   "source": [
    "df = pd.concat([pd.read_csv(f,sep=';',index_col=0) for f in csvs],axis=0)\n",
    "df.head()"
   ]
  },
  {
   "cell_type": "code",
   "execution_count": 22,
   "metadata": {},
   "outputs": [
    {
     "name": "stdout",
     "output_type": "stream",
     "text": [
      "6498\n"
     ]
    }
   ],
   "source": [
    "def get_doc_id(identifier):\n",
    "    \"\"\"reconstruct id from row in Identifier files\n",
    "    these ids match one reported in the xml.\n",
    "    \"\"\"\n",
    "    try:\n",
    "        _,_,i,_,j,_ = identifier.split(\":\") \n",
    "        return '_'.join([i,j])\n",
    "    except:\n",
    "        return 'NaN'\n",
    "    \n",
    "df['doc_id'] = df.identifier.apply(get_doc_id)\n",
    "print(np.sum(df.doc_id=='NaN'))"
   ]
  },
  {
   "cell_type": "markdown",
   "metadata": {},
   "source": [
    "## Merge sentences with metadata"
   ]
  },
  {
   "cell_type": "code",
   "execution_count": 23,
   "metadata": {},
   "outputs": [
    {
     "name": "stdout",
     "output_type": "stream",
     "text": [
      "(92889, 8)\n"
     ]
    },
    {
     "data": {
      "text/html": [
       "<div>\n",
       "<style scoped>\n",
       "    .dataframe tbody tr th:only-of-type {\n",
       "        vertical-align: middle;\n",
       "    }\n",
       "\n",
       "    .dataframe tbody tr th {\n",
       "        vertical-align: top;\n",
       "    }\n",
       "\n",
       "    .dataframe thead th {\n",
       "        text-align: right;\n",
       "    }\n",
       "</style>\n",
       "<table border=\"1\" class=\"dataframe\">\n",
       "  <thead>\n",
       "    <tr style=\"text-align: right;\">\n",
       "      <th></th>\n",
       "      <th>doc_id</th>\n",
       "      <th>text</th>\n",
       "      <th>date</th>\n",
       "      <th>identifier</th>\n",
       "      <th>key</th>\n",
       "      <th>papertitle</th>\n",
       "      <th>ppn</th>\n",
       "      <th>spatial</th>\n",
       "    </tr>\n",
       "  </thead>\n",
       "  <tbody>\n",
       "    <tr>\n",
       "      <td>0</td>\n",
       "      <td>000077915_a0004</td>\n",
       "      <td>politieke beschouwingen . het groote nieuws v...</td>\n",
       "      <td>1870/01/13 00:00:00</td>\n",
       "      <td>http://resolver.kb.nl/resolve?urn=MMVEEN01:000...</td>\n",
       "      <td>NaN</td>\n",
       "      <td>Veendammer courant</td>\n",
       "      <td>400335409</td>\n",
       "      <td>Regionaal/lokaal</td>\n",
       "    </tr>\n",
       "    <tr>\n",
       "      <td>1</td>\n",
       "      <td>000077915_a0005</td>\n",
       "      <td>nieuwstijdingen . engeland . bladen uit new-y...</td>\n",
       "      <td>1870/01/13 00:00:00</td>\n",
       "      <td>http://resolver.kb.nl/resolve?urn=MMVEEN01:000...</td>\n",
       "      <td>NaN</td>\n",
       "      <td>Veendammer courant</td>\n",
       "      <td>400335409</td>\n",
       "      <td>Regionaal/lokaal</td>\n",
       "    </tr>\n",
       "    <tr>\n",
       "      <td>2</td>\n",
       "      <td>000077915_a0007</td>\n",
       "      <td>gemengde berigten . een vande redacteurs van ...</td>\n",
       "      <td>1870/01/13 00:00:00</td>\n",
       "      <td>http://resolver.kb.nl/resolve?urn=MMVEEN01:000...</td>\n",
       "      <td>NaN</td>\n",
       "      <td>Veendammer courant</td>\n",
       "      <td>400335409</td>\n",
       "      <td>Regionaal/lokaal</td>\n",
       "    </tr>\n",
       "    <tr>\n",
       "      <td>3</td>\n",
       "      <td>000360026_a00013</td>\n",
       "      <td>publicati n . nationale militie . burgemeeste...</td>\n",
       "      <td>1870/01/03 00:00:00</td>\n",
       "      <td>http://resolver.kb.nl/resolve?urn=MMGASL01:000...</td>\n",
       "      <td>NaN</td>\n",
       "      <td>Opregte Steenwijker courant</td>\n",
       "      <td>420642331</td>\n",
       "      <td>Regionaal/lokaal</td>\n",
       "    </tr>\n",
       "    <tr>\n",
       "      <td>4</td>\n",
       "      <td>000360026_a00016</td>\n",
       "      <td>van alles wat . te annen viel onlangs een sch...</td>\n",
       "      <td>1870/01/03 00:00:00</td>\n",
       "      <td>http://resolver.kb.nl/resolve?urn=MMGASL01:000...</td>\n",
       "      <td>NaN</td>\n",
       "      <td>Opregte Steenwijker courant</td>\n",
       "      <td>420642331</td>\n",
       "      <td>Regionaal/lokaal</td>\n",
       "    </tr>\n",
       "  </tbody>\n",
       "</table>\n",
       "</div>"
      ],
      "text/plain": [
       "             doc_id                                               text  \\\n",
       "0   000077915_a0004   politieke beschouwingen . het groote nieuws v...   \n",
       "1   000077915_a0005   nieuwstijdingen . engeland . bladen uit new-y...   \n",
       "2   000077915_a0007   gemengde berigten . een vande redacteurs van ...   \n",
       "3  000360026_a00013   publicati n . nationale militie . burgemeeste...   \n",
       "4  000360026_a00016   van alles wat . te annen viel onlangs een sch...   \n",
       "\n",
       "                  date                                         identifier  \\\n",
       "0  1870/01/13 00:00:00  http://resolver.kb.nl/resolve?urn=MMVEEN01:000...   \n",
       "1  1870/01/13 00:00:00  http://resolver.kb.nl/resolve?urn=MMVEEN01:000...   \n",
       "2  1870/01/13 00:00:00  http://resolver.kb.nl/resolve?urn=MMVEEN01:000...   \n",
       "3  1870/01/03 00:00:00  http://resolver.kb.nl/resolve?urn=MMGASL01:000...   \n",
       "4  1870/01/03 00:00:00  http://resolver.kb.nl/resolve?urn=MMGASL01:000...   \n",
       "\n",
       "   key                   papertitle        ppn           spatial  \n",
       "0  NaN           Veendammer courant  400335409  Regionaal/lokaal  \n",
       "1  NaN           Veendammer courant  400335409  Regionaal/lokaal  \n",
       "2  NaN           Veendammer courant  400335409  Regionaal/lokaal  \n",
       "3  NaN  Opregte Steenwijker courant  420642331  Regionaal/lokaal  \n",
       "4  NaN  Opregte Steenwijker courant  420642331  Regionaal/lokaal  "
      ]
     },
     "execution_count": 23,
     "metadata": {},
     "output_type": "execute_result"
    }
   ],
   "source": [
    "df_merged = sent_df.merge(df,how='left',right_on='doc_id',left_on='doc_id')\n",
    "print(df_merged.shape)\n",
    "df_merged.head()"
   ]
  },
  {
   "cell_type": "markdown",
   "metadata": {},
   "source": [
    "Here we group the article by day."
   ]
  },
  {
   "cell_type": "code",
   "execution_count": 31,
   "metadata": {},
   "outputs": [
    {
     "data": {
      "text/html": [
       "<div>\n",
       "<style scoped>\n",
       "    .dataframe tbody tr th:only-of-type {\n",
       "        vertical-align: middle;\n",
       "    }\n",
       "\n",
       "    .dataframe tbody tr th {\n",
       "        vertical-align: top;\n",
       "    }\n",
       "\n",
       "    .dataframe thead th {\n",
       "        text-align: right;\n",
       "    }\n",
       "</style>\n",
       "<table border=\"1\" class=\"dataframe\">\n",
       "  <thead>\n",
       "    <tr style=\"text-align: right;\">\n",
       "      <th></th>\n",
       "      <th>text</th>\n",
       "      <th>doc_id</th>\n",
       "    </tr>\n",
       "    <tr>\n",
       "      <th>date</th>\n",
       "      <th></th>\n",
       "      <th></th>\n",
       "    </tr>\n",
       "  </thead>\n",
       "  <tbody>\n",
       "    <tr>\n",
       "      <td>1860/01/01 00:00:00</td>\n",
       "      <td>binnenland . rotterdam , &lt;num&gt; december . doo...</td>\n",
       "      <td></td>\n",
       "    </tr>\n",
       "    <tr>\n",
       "      <td>1860/01/02 00:00:00</td>\n",
       "      <td>binnenland . amsterdam , zaturdag &lt;num&gt; decem...</td>\n",
       "      <td></td>\n",
       "    </tr>\n",
       "    <tr>\n",
       "      <td>1860/01/03 00:00:00</td>\n",
       "      <td>binnenland . amsterdam , maandag &lt;num&gt; jannar...</td>\n",
       "      <td></td>\n",
       "    </tr>\n",
       "    <tr>\n",
       "      <td>1860/01/04 00:00:00</td>\n",
       "      <td>overdreven inmenging der vertegenwoordiging i...</td>\n",
       "      <td></td>\n",
       "    </tr>\n",
       "    <tr>\n",
       "      <td>1860/01/05 00:00:00</td>\n",
       "      <td>de zending van den heer mr . l . metman naar ...</td>\n",
       "      <td></td>\n",
       "    </tr>\n",
       "  </tbody>\n",
       "</table>\n",
       "</div>"
      ],
      "text/plain": [
       "                                                                  text doc_id\n",
       "date                                                                         \n",
       "1860/01/01 00:00:00   binnenland . rotterdam , <num> december . doo...       \n",
       "1860/01/02 00:00:00   binnenland . amsterdam , zaturdag <num> decem...       \n",
       "1860/01/03 00:00:00   binnenland . amsterdam , maandag <num> jannar...       \n",
       "1860/01/04 00:00:00   overdreven inmenging der vertegenwoordiging i...       \n",
       "1860/01/05 00:00:00   de zending van den heer mr . l . metman naar ...       "
      ]
     },
     "execution_count": 31,
     "metadata": {},
     "output_type": "execute_result"
    }
   ],
   "source": [
    "daily_articles = df_merged.groupby('date')['text'].apply('\\n'.join)\n",
    "daily_articles = pd.DataFrame(daily_articles,columns=['text'])\n",
    "daily_articles['doc_id'] = ''\n",
    "daily_articles.head()"
   ]
  },
  {
   "cell_type": "markdown",
   "metadata": {},
   "source": [
    "## Analyze Bias by mini-batch"
   ]
  },
  {
   "cell_type": "code",
   "execution_count": 32,
   "metadata": {},
   "outputs": [],
   "source": [
    "# load model\n",
    "model = Word2Vec.load(MODEL_PATH)"
   ]
  },
  {
   "cell_type": "code",
   "execution_count": 33,
   "metadata": {},
   "outputs": [],
   "source": [
    "# for similation we now use the nearest neighbours as the lexicon for male and female words\n",
    "p1 = [w for w,v in model.wv.most_similar('vrouw',topn=20)] + ['vrouw']\n",
    "p2 = [w for w,v in model.wv.most_similar('man',topn=20)] + ['man']\n",
    "# target is the word child\n",
    "target = [w for w,v in model.wv.most_similar('kind',topn=20)] + ['kind']"
   ]
  },
  {
   "cell_type": "code",
   "execution_count": 34,
   "metadata": {},
   "outputs": [],
   "source": [
    "cosine_sim = lambda v1,v2: 1 - cosine(v1,v2) \n",
    "euclid_dist = lambda v1,v2: - np.linalg.norm(v1-v2,ord=2)\n",
    "average_vector = lambda words,model : np.mean([model.wv.__getitem__(w) for w in words if model.wv.__contains__(w)],axis=0)\n",
    "\n",
    "def compute_bias(p1,p2,target,model,metric=cosine_sim):\n",
    "    \"\"\"computes bias given two poles and and a target word list\n",
    "    bias is the average distance of each target word to the poles\n",
    "    Arguments:\n",
    "        p1 (list): list of pole words\n",
    "        p2 (list): lost of pole words\n",
    "        target (list): list of target words\n",
    "        metric (funtion): distance function, either cosine or euclidean\n",
    "    Returns:\n",
    "        bias (float): the bias score of the target to each of the poles\n",
    "    \"\"\"\n",
    "    av_v1 = average_vector(p1,model); av_v2 = average_vector(p2,model)\n",
    "    return np.mean([metric(av_v1,model.wv.__getitem__(w)) - \\\n",
    "                      metric(av_v2,model.wv.__getitem__(w)) for w in target \n",
    "                           if w in model.wv])\n"
   ]
  },
  {
   "cell_type": "markdown",
   "metadata": {},
   "source": [
    "### Update model and compute bias\n",
    "Update model with new sentences and compute the bias scores over time."
   ]
  },
  {
   "cell_type": "code",
   "execution_count": null,
   "metadata": {},
   "outputs": [],
   "source": [
    "update_sents = [preprocess_sent(t.text,t.doc_id) for i,t in daily_articles.iterrows()]"
   ]
  },
  {
   "cell_type": "code",
   "execution_count": null,
   "metadata": {},
   "outputs": [],
   "source": [
    "# Hyperparameters for training\n",
    "EPOCH = 4\n",
    "# Important: add learning rate!!"
   ]
  },
  {
   "cell_type": "code",
   "execution_count": null,
   "metadata": {},
   "outputs": [],
   "source": [
    "def compare_bias(i,sent,p1,p2,target):\n",
    "    \"\"\"function that compares the bias scores before and after updating the model weights.\n",
    "    Arguments:\n",
    "        i (int): row index # to do: improve here\n",
    "        sent (list): list of strings that contains the document on which to retrain the model\n",
    "        p1 (list): list of pole words\n",
    "        p2 (list): lost of pole words\n",
    "        target (list): list of target words\n",
    "    Returns:\n",
    "        a tuple with i, sent and difference in bias caused by updating the model\n",
    "        \n",
    "    \"\"\"\n",
    "    model = Word2Vec.load('../models/{0}-{1}.w2v.model'.format(START_YEAR,END_YEAR))\n",
    "    model.train([sent],total_examples=len([sent]),epochs=EPOCH)\n",
    "    orig_model = Word2Vec.load('../models/{0}-{1}.w2v.model'.format(START_YEAR,END_YEAR))\n",
    "    return (i,sent,compute_bias(p1,p2,target,model) - compute_bias(p1,p2,target,orig_model))"
   ]
  },
  {
   "cell_type": "code",
   "execution_count": null,
   "metadata": {},
   "outputs": [],
   "source": [
    "# compute the bias scores of all sentences\n",
    "scores = Parallel(n_jobs=-1)(delayed(compare_bias)(i,sent,p1,p2,target) for i,sent in tqdm(enumerate(update_sents)))"
   ]
  },
  {
   "cell_type": "markdown",
   "metadata": {},
   "source": [
    "## Save output"
   ]
  },
  {
   "cell_type": "code",
   "execution_count": null,
   "metadata": {},
   "outputs": [],
   "source": [
    "\n",
    "with open('{}/biasbatch.pckl'.format(OUTPUT),'wb') as out_pickle:\n",
    "    pickle.dump(scores,out_pickle)"
   ]
  }
 ],
 "metadata": {
  "kernelspec": {
   "display_name": "Python 3",
   "language": "python",
   "name": "python3"
  },
  "language_info": {
   "codemirror_mode": {
    "name": "ipython",
    "version": 3
   },
   "file_extension": ".py",
   "mimetype": "text/x-python",
   "name": "python",
   "nbconvert_exporter": "python",
   "pygments_lexer": "ipython3",
   "version": "3.7.4"
  }
 },
 "nbformat": 4,
 "nbformat_minor": 2
}
