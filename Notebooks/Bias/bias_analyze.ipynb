{
 "cells": [
  {
   "cell_type": "code",
   "execution_count": 9,
   "metadata": {},
   "outputs": [
    {
     "name": "stdout",
     "output_type": "stream",
     "text": [
      "The autoreload extension is already loaded. To reload it, use:\n",
      "  %reload_ext autoreload\n"
     ]
    }
   ],
   "source": [
    "%load_ext autoreload"
   ]
  },
  {
   "cell_type": "code",
   "execution_count": 10,
   "metadata": {},
   "outputs": [],
   "source": [
    "%autoreload 2"
   ]
  },
  {
   "cell_type": "code",
   "execution_count": 55,
   "metadata": {},
   "outputs": [],
   "source": [
    "%matplotlib inline\n",
    "import pandas as pd\n",
    "import numpy as np\n",
    "from tqdm import tqdm,tqdm_notebook\n",
    "import pickle\n",
    "import sys"
   ]
  },
  {
   "cell_type": "code",
   "execution_count": 48,
   "metadata": {},
   "outputs": [],
   "source": [
    "START_YEAR = 1850\n",
    "END_YEAR = 1860\n",
    "SCORES_PATH = '../../../Processed/{}-{}_biass_cores.pckl'.format(START_YEAR,END_YEAR)"
   ]
  },
  {
   "cell_type": "code",
   "execution_count": 49,
   "metadata": {},
   "outputs": [],
   "source": [
    "with open(SCORES_PATH,'rb') as in_pickle:\n",
    "    scores = pickle.load(in_pickle)"
   ]
  },
  {
   "cell_type": "code",
   "execution_count": 53,
   "metadata": {},
   "outputs": [
    {
     "data": {
      "text/html": [
       "<div>\n",
       "<style scoped>\n",
       "    .dataframe tbody tr th:only-of-type {\n",
       "        vertical-align: middle;\n",
       "    }\n",
       "\n",
       "    .dataframe tbody tr th {\n",
       "        vertical-align: top;\n",
       "    }\n",
       "\n",
       "    .dataframe thead th {\n",
       "        text-align: right;\n",
       "    }\n",
       "</style>\n",
       "<table border=\"1\" class=\"dataframe\">\n",
       "  <thead>\n",
       "    <tr style=\"text-align: right;\">\n",
       "      <th></th>\n",
       "      <th>date</th>\n",
       "      <th>ppn</th>\n",
       "      <th>doc_id</th>\n",
       "      <th>score</th>\n",
       "    </tr>\n",
       "  </thead>\n",
       "  <tbody>\n",
       "    <tr>\n",
       "      <td>0</td>\n",
       "      <td>1850/01/01 00:00:00</td>\n",
       "      <td>832337900</td>\n",
       "      <td>010069283_a0001&lt;SEP&gt;010069283_a0002&lt;SEP&gt;010069...</td>\n",
       "      <td>-0.000025</td>\n",
       "    </tr>\n",
       "    <tr>\n",
       "      <td>1</td>\n",
       "      <td>1850/01/01 00:00:00</td>\n",
       "      <td>832495182</td>\n",
       "      <td>010080132_a0003&lt;SEP&gt;010080132_a0005&lt;SEP&gt;010080...</td>\n",
       "      <td>-0.000021</td>\n",
       "    </tr>\n",
       "    <tr>\n",
       "      <td>2</td>\n",
       "      <td>1850/01/01 00:00:00</td>\n",
       "      <td>832688045</td>\n",
       "      <td>010249931_a0001&lt;SEP&gt;010249931_a0002</td>\n",
       "      <td>-0.000032</td>\n",
       "    </tr>\n",
       "    <tr>\n",
       "      <td>3</td>\n",
       "      <td>1850/01/01 00:00:00</td>\n",
       "      <td>833013858</td>\n",
       "      <td>010081774_a0004</td>\n",
       "      <td>0.000000</td>\n",
       "    </tr>\n",
       "    <tr>\n",
       "      <td>4</td>\n",
       "      <td>1850/01/01 00:00:00</td>\n",
       "      <td>833050788</td>\n",
       "      <td>010121493_a0001&lt;SEP&gt;010121493_a0003&lt;SEP&gt;010121...</td>\n",
       "      <td>0.000029</td>\n",
       "    </tr>\n",
       "  </tbody>\n",
       "</table>\n",
       "</div>"
      ],
      "text/plain": [
       "                  date        ppn  \\\n",
       "0  1850/01/01 00:00:00  832337900   \n",
       "1  1850/01/01 00:00:00  832495182   \n",
       "2  1850/01/01 00:00:00  832688045   \n",
       "3  1850/01/01 00:00:00  833013858   \n",
       "4  1850/01/01 00:00:00  833050788   \n",
       "\n",
       "                                              doc_id     score  \n",
       "0  010069283_a0001<SEP>010069283_a0002<SEP>010069... -0.000025  \n",
       "1  010080132_a0003<SEP>010080132_a0005<SEP>010080... -0.000021  \n",
       "2                010249931_a0001<SEP>010249931_a0002 -0.000032  \n",
       "3                                    010081774_a0004  0.000000  \n",
       "4  010121493_a0001<SEP>010121493_a0003<SEP>010121...  0.000029  "
      ]
     },
     "execution_count": 53,
     "metadata": {},
     "output_type": "execute_result"
    }
   ],
   "source": [
    "df = pd.DataFrame(scores,columns=[\"date\",\"ppn\",\"doc_id\",\"score\"])\n",
    "df.head()"
   ]
  },
  {
   "cell_type": "code",
   "execution_count": 56,
   "metadata": {},
   "outputs": [
    {
     "data": {
      "text/plain": [
       "<matplotlib.axes._subplots.AxesSubplot at 0x53dd23c90>"
      ]
     },
     "execution_count": 56,
     "metadata": {},
     "output_type": "execute_result"
    },
    {
     "data": {
      "image/png": "[encoded data removed]",
      "text/plain": [
       "<Figure size 432x288 with 1 Axes>"
      ]
     },
     "metadata": {
      "needs_background": "light"
     },
     "output_type": "display_data"
    }
   ],
   "source": [
    "df.score.plot(kind='hist')"
   ]
  },
  {
   "cell_type": "code",
   "execution_count": null,
   "metadata": {},
   "outputs": [],
   "source": []
  }
 ],
 "metadata": {
  "kernelspec": {
   "display_name": "Python 3",
   "language": "python",
   "name": "python3"
  }
 },
 "nbformat": 4,
 "nbformat_minor": 2
}
