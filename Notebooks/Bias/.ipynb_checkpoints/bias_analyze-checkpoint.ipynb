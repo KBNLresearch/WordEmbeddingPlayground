{
 "cells": [
  {
   "cell_type": "code",
   "execution_count": 9,
   "metadata": {},
   "outputs": [
    {
     "name": "stdout",
     "output_type": "stream",
     "text": [
      "The autoreload extension is already loaded. To reload it, use:\n",
      "  %reload_ext autoreload\n"
     ]
    }
   ],
   "source": [
    "%load_ext autoreload"
   ]
  },
  {
   "cell_type": "code",
   "execution_count": 10,
   "metadata": {},
   "outputs": [],
   "source": [
    "%autoreload 2"
   ]
  },
  {
   "cell_type": "code",
   "execution_count": 11,
   "metadata": {},
   "outputs": [],
   "source": [
    "from gensim.models.word2vec import Word2Vec \n",
    "import pandas as pd\n",
    "import numpy as np\n",
    "from tqdm import tqdm\n",
    "from scipy.spatial.distance import cosine\n",
    "from glob import glob\n",
    "import pickle\n",
    "import sys\n",
    "sys.path.append('../utils')\n",
    "from bias_utils import *\n",
    "from utils_parallel import *"
   ]
  },
  {
   "cell_type": "code",
   "execution_count": 12,
   "metadata": {},
   "outputs": [],
   "source": [
    "START_YEAR = 1850\n",
    "END_YEAR = 1860\n",
    "\n",
    "MODEL_PATH = \"../../../Processed/Models/{}-{}.w2v.model\".format(START_YEAR,END_YEAR)\n",
    "PROCESSED_PATH = \"../../../Processed/Sentences\"\n",
    "OUTPUT = '../../../Processed'"
   ]
  },
  {
   "cell_type": "code",
   "execution_count": 13,
   "metadata": {},
   "outputs": [],
   "source": [
    "# Hyperparameters for training\n",
    "EPOCH = 4\n",
    "# Important: add learning rate!!"
   ]
  },
  {
   "cell_type": "code",
   "execution_count": 14,
   "metadata": {},
   "outputs": [],
   "source": [
    "model = Word2Vec.load(MODEL_PATH)\n",
    "p1 = [w for w,v in model.wv.most_similar('vrouw',topn=20)] + ['vrouw']\n",
    "p2 = [w for w,v in model.wv.most_similar('man',topn=20)] + ['man']\n",
    "# target is the word child\n",
    "target = [w for w,v in model.wv.most_similar('kind',topn=20)] + ['kind']"
   ]
  },
  {
   "cell_type": "code",
   "execution_count": 15,
   "metadata": {},
   "outputs": [],
   "source": [
    "batches = pd.read_csv('{}/{}-{}_batched.csv'.format(PROCESSED_PATH,START_YEAR,END_YEAR),\n",
    "                        index_col=0,\n",
    "                        chunksize=1000) # ,"
   ]
  },
  {
   "cell_type": "code",
   "execution_count": 16,
   "metadata": {
    "scrolled": true
   },
   "outputs": [
    {
     "ename": "AttributeError",
     "evalue": "'TextFileReader' object has no attribute 'iloc'",
     "output_type": "error",
     "traceback": [
      "\u001b[0;31m---------------------------------------------------------------------------\u001b[0m",
      "\u001b[0;31mAttributeError\u001b[0m                            Traceback (most recent call last)",
      "\u001b[0;32m<ipython-input-16-6b60a28bb82a>\u001b[0m in \u001b[0;36m<module>\u001b[0;34m\u001b[0m\n\u001b[0;32m----> 1\u001b[0;31m \u001b[0mbatches\u001b[0m\u001b[0;34m.\u001b[0m\u001b[0miloc\u001b[0m\u001b[0;34m[\u001b[0m\u001b[0;36m0\u001b[0m\u001b[0;34m]\u001b[0m\u001b[0;34m\u001b[0m\u001b[0;34m\u001b[0m\u001b[0m\n\u001b[0m",
      "\u001b[0;31mAttributeError\u001b[0m: 'TextFileReader' object has no attribute 'iloc'"
     ]
    }
   ],
   "source": [
    "#batches.iloc[0]"
   ]
  },
  {
   "cell_type": "code",
   "execution_count": 18,
   "metadata": {},
   "outputs": [],
   "source": [
    "update_sents = [preprocess_sent(t.text,(t.ppn,t.name,t.doc_id))\n",
    "                    for chunk in batches\n",
    "                        for i,t in chunk.iterrows()]"
   ]
  },
  {
   "cell_type": "code",
   "execution_count": 20,
   "metadata": {},
   "outputs": [
    {
     "data": {
      "text/plain": [
       "['b', 'a', 1, 2, 3, 4, 'a']"
      ]
     },
     "execution_count": 20,
     "metadata": {},
     "output_type": "execute_result"
    }
   ],
   "source": [
    "s = [1,2,3,4]\n",
    "['b','a',*s,'a']"
   ]
  },
  {
   "cell_type": "code",
   "execution_count": 19,
   "metadata": {},
   "outputs": [
    {
     "data": {
      "text/plain": [
       "('832495182',\n",
       " '1850/01/01 00:00:00',\n",
       " '010080132_a0003<SEP>010080132_a0005<SEP>010080132_a0030')"
      ]
     },
     "execution_count": 19,
     "metadata": {},
     "output_type": "execute_result"
    }
   ],
   "source": [
    "update_sents[1][-1]"
   ]
  },
  {
   "cell_type": "code",
   "execution_count": null,
   "metadata": {},
   "outputs": [],
   "source": [
    "# compute the bias scores of all sentences\n",
    "scores = Parallel(\n",
    "            n_jobs=-1, backend='threading')(\n",
    "                delayed(compare_bias)(ppn,p1,p2,target,MODEL_PATH) for sent,meta in tqdm(update_sents))\n",
    "\n",
    "with open('{}/biasbatch.pckl'.format(OUTPUT),'wb') as out_pickle:\n",
    "    pickle.dump(scores,out_pickle)\n"
   ]
  },
  {
   "cell_type": "code",
   "execution_count": null,
   "metadata": {},
   "outputs": [],
   "source": []
  }
 ],
 "metadata": {
  "kernelspec": {
   "display_name": "Python 3",
   "language": "python",
   "name": "python3"
  }
 },
 "nbformat": 4,
 "nbformat_minor": 2
}
