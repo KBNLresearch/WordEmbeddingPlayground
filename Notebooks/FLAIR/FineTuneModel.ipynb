{
 "cells": [
  {
   "cell_type": "markdown",
   "metadata": {},
   "source": [
    "# Fine-tuning Flair Embeddings"
   ]
  },
  {
   "cell_type": "markdown",
   "metadata": {},
   "source": [
    "## Prepare corpus"
   ]
  },
  {
   "cell_type": "code",
   "execution_count": null,
   "metadata": {},
   "outputs": [],
   "source": [
    "from utils import *\n",
    "import numpy as np\n",
    "import os\n",
    "from tqdm import tqdm_notebook\n",
    "from collections import defaultdict"
   ]
  },
  {
   "cell_type": "code",
   "execution_count": null,
   "metadata": {},
   "outputs": [],
   "source": [
    "iterator = SentIterator('./data/kranten_pd_1875-6.zip',tokenized=False)"
   ]
  },
  {
   "cell_type": "code",
   "execution_count": null,
   "metadata": {},
   "outputs": [],
   "source": [
    "MAX_SENT_PER_DOC = 1000000\n",
    "TRAIN_SPLIT = 1\n",
    "\n",
    "if not os.path.isdir('./corpus'):\n",
    "    os.mkdir('./corpus')\n",
    "if not os.path.isdir('./corpus/train'):\n",
    "    os.mkdir('./corpus/train')\n",
    "\n",
    "label2path = {0:'./corpus/train/split_{}',\n",
    "              1:'./corpus/test.txt',\n",
    "              2:'./corpus/valid.txt'}\n",
    "\n",
    "\n",
    "label2file = {} \n",
    "\n",
    "for label, path in label2path.items():\n",
    "    label2file[label] = open(path.format(TRAIN_SPLIT),'a')\n",
    "    \n",
    "    \n",
    "split2training_counts = defaultdict(int)"
   ]
  },
  {
   "cell_type": "code",
   "execution_count": null,
   "metadata": {},
   "outputs": [],
   "source": [
    "for sent in iterator:\n",
    "    sent_label = np.random.choice(3, p=[0.8, 0.1,0.1])\n",
    "    label2file[sent_label].write(sent+'\\n')\n",
    "    label2file[sent_label].flush()\n",
    "    \n",
    "    if not sent_label:\n",
    "        \n",
    "        split2training_counts[TRAIN_SPLIT]+=1\n",
    "        if split2training_counts[TRAIN_SPLIT] >= MAX_SENT_PER_DOC:\n",
    "            label2file[sent_label].close()\n",
    "            TRAIN_SPLIT+=1\n",
    "            label2file[sent_label] = open(label2path[sent_label].format(TRAIN_SPLIT),'a')\n",
    "            print(label2file[sent_label])\n",
    "        \n",
    "        "
   ]
  },
  {
   "cell_type": "code",
   "execution_count": null,
   "metadata": {},
   "outputs": [],
   "source": [
    "for label, file in label2file.items():\n",
    "    file.close()"
   ]
  },
  {
   "cell_type": "markdown",
   "metadata": {},
   "source": [
    "## Fine-tune model"
   ]
  },
  {
   "cell_type": "code",
   "execution_count": null,
   "metadata": {},
   "outputs": [],
   "source": [
    "from flair.data import Dictionary\n",
    "from flair.embeddings import FlairEmbeddings\n",
    "from flair.trainers.language_model_trainer import LanguageModelTrainer, TextCorpus"
   ]
  },
  {
   "cell_type": "code",
   "execution_count": null,
   "metadata": {},
   "outputs": [],
   "source": [
    "language_model = FlairEmbeddings('nl-forward').lm\n",
    "is_forward_lm = language_model.is_forward_lm"
   ]
  },
  {
   "cell_type": "code",
   "execution_count": null,
   "metadata": {},
   "outputs": [],
   "source": [
    "dictionary: Dictionary = language_model.dictionary"
   ]
  },
  {
   "cell_type": "code",
   "execution_count": null,
   "metadata": {},
   "outputs": [],
   "source": [
    "corpus = TextCorpus('./corpus',\n",
    "                   dictionary,\n",
    "                   is_forward_lm,\n",
    "                   character_level=True)\n",
    "\n",
    "trainer = LanguageModelTrainer(language_model,corpus)"
   ]
  },
  {
   "cell_type": "code",
   "execution_count": null,
   "metadata": {},
   "outputs": [],
   "source": [
    "trainer.train('models/language_model_kranten_pd_1875-6_finetuned',\n",
    "              sequence_length=100,\n",
    "              mini_batch_size=100,\n",
    "              learning_rate=20,\n",
    "              patience=10,\n",
    "              checkpoint=True)"
   ]
  }
 ],
 "metadata": {
  "kernelspec": {
   "display_name": "Python 3",
   "language": "python",
   "name": "python3"
  },
  "language_info": {
   "codemirror_mode": {
    "name": "ipython",
    "version": 3
   },
   "file_extension": ".py",
   "mimetype": "text/x-python",
   "name": "python",
   "nbconvert_exporter": "python",
   "pygments_lexer": "ipython3",
   "version": "3.7.3"
  }
 },
 "nbformat": 4,
 "nbformat_minor": 2
}
