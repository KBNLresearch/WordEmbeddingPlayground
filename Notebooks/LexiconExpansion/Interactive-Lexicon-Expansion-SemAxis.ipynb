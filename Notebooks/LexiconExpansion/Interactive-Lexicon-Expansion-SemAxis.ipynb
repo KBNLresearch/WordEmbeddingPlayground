{
 "cells": [
  {
   "cell_type": "markdown",
   "metadata": {},
   "source": [
    "Notebook provis an interactive workflow for lexicon expansion inspired by SemAxis.\n",
    "Requires as input\n",
    " - list of target words\n",
    " - two lists of target words, each representing one end of the dimension"
   ]
  },
  {
   "cell_type": "code",
   "execution_count": 52,
   "metadata": {},
   "outputs": [],
   "source": [
    "from IPython.display import clear_output\n",
    "from gensim.models.fasttext import FastText\n",
    "from gensim.models.word2vec import Word2Vec\n",
    "from scipy.spatial.distance import cosine\n",
    "from tqdm import tqdm_notebook\n",
    "import logging\n",
    "import numpy as np\n",
    "logging.basicConfig(format='%(asctime)s : %(levelname)s : %(message)s', level=logging.INFO)"
   ]
  },
  {
   "cell_type": "code",
   "execution_count": 6,
   "metadata": {},
   "outputs": [
    {
     "name": "stderr",
     "output_type": "stream",
     "text": [
      "2019-08-09 12:05:23,239 : INFO : loading Word2Vec object from ./models/kranten_pd_1875-6_model.word2vec\n",
      "2019-08-09 12:05:23,240 : WARNING : this function is deprecated, use smart_open.open instead\n",
      "2019-08-09 12:05:23,840 : INFO : loading wv recursively from ./models/kranten_pd_1875-6_model.word2vec.wv.* with mmap=None\n",
      "2019-08-09 12:05:23,841 : INFO : loading vectors from ./models/kranten_pd_1875-6_model.word2vec.wv.vectors.npy with mmap=None\n",
      "2019-08-09 12:05:23,897 : INFO : setting ignored attribute vectors_norm to None\n",
      "2019-08-09 12:05:23,898 : INFO : loading vocabulary recursively from ./models/kranten_pd_1875-6_model.word2vec.vocabulary.* with mmap=None\n",
      "2019-08-09 12:05:23,899 : INFO : loading trainables recursively from ./models/kranten_pd_1875-6_model.word2vec.trainables.* with mmap=None\n",
      "2019-08-09 12:05:23,899 : INFO : loading syn1neg from ./models/kranten_pd_1875-6_model.word2vec.trainables.syn1neg.npy with mmap=None\n",
      "2019-08-09 12:05:23,954 : INFO : setting ignored attribute cum_table to None\n",
      "2019-08-09 12:05:23,955 : INFO : loaded ./models/kranten_pd_1875-6_model.word2vec\n"
     ]
    },
    {
     "name": "stdout",
     "output_type": "stream",
     "text": [
      "Word2Vec(vocab=219374, size=100, alpha=0.025)\n"
     ]
    }
   ],
   "source": [
    "model_type = \"Word2Vec\" # FastText\n",
    "path = \"./models/kranten_pd_1875-6_model.{}\".format(model_type.lower())\n",
    "exec(\"model = {}.load(path)\".format(model_type))\n",
    "print(model)"
   ]
  },
  {
   "cell_type": "code",
   "execution_count": 67,
   "metadata": {},
   "outputs": [
    {
     "data": {
      "text/plain": [
       "[('meesteres', 0.5029301047325134),\n",
       " ('doorl', 0.4935253858566284),\n",
       " ('buurvrouw', 0.49145278334617615),\n",
       " ('stiefmoeder', 0.4887046813964844),\n",
       " ('betoovering', 0.48440021276474),\n",
       " ('vasallen', 0.47766774892807007),\n",
       " ('maitresse', 0.47253796458244324),\n",
       " ('stoute', 0.47128427028656006),\n",
       " ('minnares', 0.46352386474609375),\n",
       " ('eminentie', 0.4629545211791992)]"
      ]
     },
     "execution_count": 67,
     "metadata": {},
     "output_type": "execute_result"
    }
   ],
   "source": [
    "model.wv.most_similar(positive=['vrouw','moeder'],negative=['kind','kinderen'],)"
   ]
  },
  {
   "cell_type": "code",
   "execution_count": 71,
   "metadata": {},
   "outputs": [
    {
     "data": {
      "text/plain": [
       "[('veneti', 0.3971819281578064),\n",
       " ('genua', 0.39455491304397583),\n",
       " ('triest', 0.3806389570236206),\n",
       " ('telegrafische', 0.37828975915908813),\n",
       " ('vecchia', 0.36860817670822144),\n",
       " ('aangezien', 0.3608497679233551),\n",
       " ('regtstreeks', 0.3408551812171936),\n",
       " ('alexandrie', 0.3406909704208374),\n",
       " ('messina', 0.3399659991264343),\n",
       " ('belgie', 0.3399370312690735)]"
      ]
     },
     "execution_count": 71,
     "metadata": {},
     "output_type": "execute_result"
    }
   ],
   "source": [
    "model.wv.most_similar(negative='moeder')"
   ]
  },
  {
   "cell_type": "markdown",
   "metadata": {},
   "source": [
    "## Unidirectional (one-versus-all)"
   ]
  },
  {
   "cell_type": "code",
   "execution_count": 25,
   "metadata": {},
   "outputs": [],
   "source": [
    "def obtain_negatives(positives):\n",
    "    return [model.wv.most_similar(negative=p)[0][0] for p in positives]"
   ]
  },
  {
   "cell_type": "code",
   "execution_count": 80,
   "metadata": {},
   "outputs": [],
   "source": [
    "def create_axis(pole1,pole2):\n",
    "    v1 = np.mean([model.wv[w] for w in pole1],axis=0)\n",
    "    v2 = np.mean([model.wv[w] for w in pole2],axis=0)\n",
    "    return v1 - v2"
   ]
  },
  {
   "cell_type": "code",
   "execution_count": 82,
   "metadata": {},
   "outputs": [],
   "source": [
    "def sort_vocab_by_axis(axis,model=model):\n",
    "    def project_word(w):\n",
    "        return 1 - cosine(model.wv[w],axis)\n",
    "\n",
    "    return {w : project_word(w) for w in tqdm_notebook(model.wv.vocab)}\n",
    "        "
   ]
  },
  {
   "cell_type": "code",
   "execution_count": 81,
   "metadata": {},
   "outputs": [],
   "source": [
    "def sort_scores(scores,topn=-1,ascending=False):\n",
    "    return sorted(scores.items(),key = lambda x: x[1],reverse=not ascending)[:topn]"
   ]
  },
  {
   "cell_type": "code",
   "execution_count": 83,
   "metadata": {},
   "outputs": [
    {
     "data": {
      "application/vnd.jupyter.widget-view+json": {
       "model_id": "61227e174b414f839971f02e6e160ddc",
       "version_major": 2,
       "version_minor": 0
      },
      "text/plain": [
       "HBox(children=(IntProgress(value=0, max=219374), HTML(value='')))"
      ]
     },
     "metadata": {},
     "output_type": "display_data"
    },
    {
     "name": "stdout",
     "output_type": "stream",
     "text": [
      "\n"
     ]
    }
   ],
   "source": [
    "v1 = ['vrouw','moeder','dochter']\n",
    "v2 = ['man','vader','zoon']\n",
    "v = create_axis(v1,v2)\n",
    "sorted_vocab = sort_vocab_by_axis(v)"
   ]
  },
  {
   "cell_type": "code",
   "execution_count": 64,
   "metadata": {},
   "outputs": [],
   "source": [
    "def top_new(sorted_vocab,seen,topn=10):\n",
    "    i = 0\n",
    "    candidates = []\n",
    "    while len(candidates) < topn:\n",
    "        if sorted_vocab[i][0] not in seen:\n",
    "            candidates.append(sorted_vocab[i][0])\n",
    "        i+=1  \n",
    "    return candidates"
   ]
  },
  {
   "cell_type": "markdown",
   "metadata": {},
   "source": [
    "Initiate"
   ]
  },
  {
   "cell_type": "code",
   "execution_count": 70,
   "metadata": {},
   "outputs": [
    {
     "name": "stdout",
     "output_type": "stream",
     "text": [
      "At round 2\n",
      "Lexicon of positives: vrouw moeder zus vronw moedor grootmoeder viouw stiefmoeder vriendin tante buurvrouw schoonmoeder\n",
      "Negatives: veneti veneti betreflende kinderen\n"
     ]
    },
    {
     "data": {
      "application/vnd.jupyter.widget-view+json": {
       "model_id": "5497767e13624513a25526dbd17b5964",
       "version_major": 2,
       "version_minor": 0
      },
      "text/plain": [
       "HBox(children=(IntProgress(value=0, max=219374), HTML(value='')))"
      ]
     },
     "metadata": {},
     "output_type": "display_data"
    },
    {
     "name": "stdout",
     "output_type": "stream",
     "text": [
      "\n",
      "10\n",
      "Target word=\"legerstede\"\n",
      "(Options: pos=1,neg=0)0\n",
      "Target word=\"waardin\"\n",
      "(Options: pos=1,neg=0)1\n",
      "Target word=\"doohter\"\n",
      "(Options: pos=1,neg=0)1\n",
      "Leaving after 2 annotation rounds.\n"
     ]
    }
   ],
   "source": [
    "rounds = 0\n",
    "pole = ['vrouw','moeder','zus']\n",
    "negatives = obtain_negatives(pole)\n",
    "while True:\n",
    "    try:\n",
    "        clear_output(wait=True)\n",
    "        rounds+=1\n",
    "        print(f\"At round {rounds}\")\n",
    "        print(\"Lexicon of positives: \"+ ' '.join(pole))\n",
    "        print(\"Negatives: \"+ ' '.join(negatives))\n",
    "        axis = create_axis(pole,negatives)\n",
    "        sorted_vocab = sort_scores(sort_vocab_by_axis(axis))\n",
    "        seen = set(pole).union(negatives)\n",
    "        candidates = [w for w in top_new(sorted_vocab,seen)]\n",
    "        print(len(candidates))\n",
    "        annotations = [(w,int(input(f'Target word=\"{w}\"\\n(Options: pos=1,neg=0)'))) for w in candidates]\n",
    "        \n",
    "        pole.extend([w for w,t in annotations if t])\n",
    "        negatives.extend([w for w,t in annotations if not t]) \n",
    "        #negatives = obtain_negatives(pole)\n",
    "    except KeyboardInterrupt:\n",
    "        print(f\"Leaving after {rounds} annotation rounds.\")\n",
    "        break"
   ]
  },
  {
   "cell_type": "markdown",
   "metadata": {},
   "source": [
    "Keep running the cells below to repeat procedure (wait until to press CTRL + ENTER until after print statements)"
   ]
  },
  {
   "cell_type": "markdown",
   "metadata": {},
   "source": [
    "## Contrastive"
   ]
  },
  {
   "cell_type": "code",
   "execution_count": null,
   "metadata": {},
   "outputs": [],
   "source": []
  }
 ],
 "metadata": {
  "kernelspec": {
   "display_name": "Python 3",
   "language": "python",
   "name": "python3"
  },
  "language_info": {
   "codemirror_mode": {
    "name": "ipython",
    "version": 3
   },
   "file_extension": ".py",
   "mimetype": "text/x-python",
   "name": "python",
   "nbconvert_exporter": "python",
   "pygments_lexer": "ipython3",
   "version": "3.7.3"
  }
 },
 "nbformat": 4,
 "nbformat_minor": 2
}
