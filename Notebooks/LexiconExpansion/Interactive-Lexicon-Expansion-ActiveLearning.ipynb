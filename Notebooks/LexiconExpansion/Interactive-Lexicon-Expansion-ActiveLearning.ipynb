{
 "cells": [
  {
   "cell_type": "markdown",
   "metadata": {},
   "source": [
    "## Lexicon Expansion with Active Learning"
   ]
  },
  {
   "cell_type": "code",
   "execution_count": 24,
   "metadata": {},
   "outputs": [],
   "source": [
    "from IPython.display import clear_output\n",
    "from gensim.models.fasttext import FastText\n",
    "from gensim.models.word2vec import Word2Vec\n",
    "from scipy.spatial.distance import cosine\n",
    "from modAL.models import ActiveLearner\n",
    "from sklearn.svm import SVC\n",
    "from tqdm import tqdm_notebook\n",
    "import logging\n",
    "import numpy as np\n",
    "logging.basicConfig(format='%(asctime)s : %(levelname)s : %(message)s', level=logging.INFO)"
   ]
  },
  {
   "cell_type": "code",
   "execution_count": 3,
   "metadata": {},
   "outputs": [
    {
     "name": "stderr",
     "output_type": "stream",
     "text": [
      "2019-08-09 15:56:43,908 : INFO : loading Word2Vec object from ./models/kranten_pd_1875-6_model.word2vec\n",
      "2019-08-09 15:56:43,908 : WARNING : this function is deprecated, use smart_open.open instead\n",
      "2019-08-09 15:56:44,398 : INFO : loading wv recursively from ./models/kranten_pd_1875-6_model.word2vec.wv.* with mmap=None\n",
      "2019-08-09 15:56:44,399 : INFO : loading vectors from ./models/kranten_pd_1875-6_model.word2vec.wv.vectors.npy with mmap=None\n",
      "2019-08-09 15:56:44,461 : INFO : setting ignored attribute vectors_norm to None\n",
      "2019-08-09 15:56:44,462 : INFO : loading vocabulary recursively from ./models/kranten_pd_1875-6_model.word2vec.vocabulary.* with mmap=None\n",
      "2019-08-09 15:56:44,463 : INFO : loading trainables recursively from ./models/kranten_pd_1875-6_model.word2vec.trainables.* with mmap=None\n",
      "2019-08-09 15:56:44,463 : INFO : loading syn1neg from ./models/kranten_pd_1875-6_model.word2vec.trainables.syn1neg.npy with mmap=None\n",
      "2019-08-09 15:56:44,529 : INFO : setting ignored attribute cum_table to None\n",
      "2019-08-09 15:56:44,530 : INFO : loaded ./models/kranten_pd_1875-6_model.word2vec\n"
     ]
    },
    {
     "name": "stdout",
     "output_type": "stream",
     "text": [
      "Word2Vec(vocab=219374, size=100, alpha=0.025)\n"
     ]
    }
   ],
   "source": [
    "model_type = \"Word2Vec\" # FastText\n",
    "path = \"./models/kranten_pd_1875-6_model.{}\".format(model_type.lower())\n",
    "exec(\"model = {}.load(path)\".format(model_type))\n",
    "print(model)"
   ]
  },
  {
   "cell_type": "code",
   "execution_count": 109,
   "metadata": {},
   "outputs": [
    {
     "name": "stdout",
     "output_type": "stream",
     "text": [
      "(8, 100) (8,)\n",
      "(219374, 100)\n"
     ]
    }
   ],
   "source": [
    "from modAL.uncertainty import entropy_sampling,margin_sampling\n",
    "examples = [\"kennen\",\"wapen\",\"bloem\",\"vrouw\",\"moeder\",\"dochter\",\"zuster\",\"echtgenoote\"]\n",
    "y_training = np.array([0,0,0,1,1,1,1,1])\n",
    "X_training = np.array([model.wv[w] for w in examples])\n",
    "print(X_training.shape,y_training.shape)\n",
    "\n",
    "X = np.array([model.wv[w] for w in model.wv.vocab])\n",
    "ids2word = {i:w for i,w in enumerate(model.wv.vocab)}\n",
    "print(X.shape)"
   ]
  },
  {
   "cell_type": "code",
   "execution_count": 110,
   "metadata": {},
   "outputs": [],
   "source": [
    "# initializing the learner\n",
    "learner = ActiveLearner(\n",
    "    estimator=SVC(probability=True,kernel='linear'),\n",
    "    query_strategy=entropy_sampling,\n",
    "    X_training=X_training, y_training=y_training\n",
    ")\n",
    "\n"
   ]
  },
  {
   "cell_type": "code",
   "execution_count": 112,
   "metadata": {},
   "outputs": [
    {
     "name": "stdout",
     "output_type": "stream",
     "text": [
      "Target word=\"tante\"\n",
      "(Options: pos=1,neg=0)1\n",
      "\n"
     ]
    }
   ],
   "source": [
    "for i in tqdm_notebook(range(100)):\n",
    "    clear_output(wait=True)\n",
    "    query_idx, query_inst = learner.query(X)\n",
    "    y_new= np.array([int(input(f'Target word=\"{ids2word[query_idx[0]]}\"\\n(Options: pos=1,neg=0)'))], dtype=int)\n",
    "    learner.teach(query_inst, y_new)\n"
   ]
  },
  {
   "cell_type": "code",
   "execution_count": 113,
   "metadata": {},
   "outputs": [],
   "source": [
    "probs= learner.predict_proba(X)"
   ]
  },
  {
   "cell_type": "code",
   "execution_count": 124,
   "metadata": {},
   "outputs": [],
   "source": [
    "mapping = {i:{\"word\":w, \"prediction\":probs[i]} for i,w in enumerate(model.wv.vocab)}"
   ]
  },
  {
   "cell_type": "code",
   "execution_count": 123,
   "metadata": {},
   "outputs": [
    {
     "data": {
      "text/plain": [
       "{'word': 'bekendmaking', 'prediction': array([[9.99748758e-01, 2.51241561e-04],\n",
       "        [9.98875673e-01, 1.12432733e-03],\n",
       "        [9.99963249e-01, 3.67507681e-05],\n",
       "        ...,\n",
       "        [9.95059923e-01, 4.94007652e-03],\n",
       "        [9.95632310e-01, 4.36768995e-03],\n",
       "        [9.95093994e-01, 4.90600591e-03]])}"
      ]
     },
     "execution_count": 123,
     "metadata": {},
     "output_type": "execute_result"
    }
   ],
   "source": [
    "list(mapping.items())[0][1]"
   ]
  },
  {
   "cell_type": "code",
   "execution_count": 127,
   "metadata": {},
   "outputs": [
    {
     "data": {
      "text/plain": [
       "(1974,\n",
       " {'word': 'maria', 'prediction': array([4.18384681e-06, 9.99995816e-01])})"
      ]
     },
     "execution_count": 127,
     "metadata": {},
     "output_type": "execute_result"
    }
   ],
   "source": [
    "top_fem = sorted(mapping.items(),key = lambda x : x[1][\"prediction\"][1], reverse=True)[:100]\n",
    "top_fem[0]"
   ]
  },
  {
   "cell_type": "code",
   "execution_count": 129,
   "metadata": {},
   "outputs": [
    {
     "name": "stdout",
     "output_type": "stream",
     "text": [
      "maria\n",
      "johanna\n",
      "anna\n",
      "elisabeth\n",
      "margaretha\n",
      "dochter\n",
      "echtg\n",
      "wilhelmina\n",
      "zuster\n",
      "henriette\n",
      "marie\n",
      "sophia\n",
      "catharina\n",
      "mejuffrouw\n",
      "cornelia\n",
      "hendrika\n",
      "jacoba\n",
      "fam\n",
      "christina\n",
      "goedvolk\n",
      "petronella\n",
      "louise\n",
      "adriana\n",
      "mejufvrouw\n",
      "alida\n",
      "prinses\n",
      "martha\n",
      "laura\n",
      "geertruida\n",
      "mej\n",
      "echtgenoote\n",
      "lady\n",
      "weduwe\n",
      "clara\n",
      "mevrouw\n",
      "behuwdmoeder\n",
      "mevr\n",
      "antonia\n",
      "mary\n",
      "antje\n",
      "charlotte\n",
      "antoinette\n",
      "sara\n",
      "gravin\n",
      "vrouwe\n",
      "mina\n",
      "moeder\n",
      "emma\n",
      "helena\n",
      "vrouw\n",
      "elizabeth\n",
      "louisa\n",
      "amalia\n",
      "juffrouw\n",
      "elise\n",
      "isabella\n",
      "grietje\n",
      "madame\n",
      "jufvrouw\n",
      "willemina\n",
      "sophie\n",
      "sarah\n",
      "paulowna\n",
      "pauline\n",
      "aaltje\n",
      "lina\n",
      "ida\n",
      "trijntje\n",
      "jantina\n",
      "susanna\n",
      "magdalena\n",
      "nicht\n",
      "huisvrouw\n",
      "marianne\n",
      "rosa\n",
      "dochtertje\n",
      "betsy\n",
      "meisje\n",
      "tante\n",
      "wonende\n",
      "febr\n",
      "noch\n",
      "jeannette\n",
      "gesina\n",
      "elize\n",
      "dankbare\n",
      "christine\n",
      "theresia\n",
      "frederika\n",
      "bonne\n",
      "behuwdzuster\n",
      "nul\n",
      "lading\n",
      "hansen\n",
      "principalen\n",
      "eliza\n",
      "nagel\n",
      "theodora\n",
      "meid\n",
      "dochters\n"
     ]
    }
   ],
   "source": [
    "print('\\n'.join([e[1][\"word\"] for e in top_fem]))"
   ]
  }
 ],
 "metadata": {
  "kernelspec": {
   "display_name": "Python 3",
   "language": "python",
   "name": "python3"
  },
  "language_info": {
   "codemirror_mode": {
    "name": "ipython",
    "version": 3
   },
   "file_extension": ".py",
   "mimetype": "text/x-python",
   "name": "python",
   "nbconvert_exporter": "python",
   "pygments_lexer": "ipython3",
   "version": "3.7.3"
  }
 },
 "nbformat": 4,
 "nbformat_minor": 2
}
