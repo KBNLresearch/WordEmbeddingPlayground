{
 "cells": [
  {
   "cell_type": "code",
   "execution_count": 1,
   "metadata": {},
   "outputs": [],
   "source": [
    "%load_ext autoreload"
   ]
  },
  {
   "cell_type": "code",
   "execution_count": 2,
   "metadata": {},
   "outputs": [],
   "source": [
    "%autoreload 2\n",
    "from gensim.models.word2vec import Word2Vec\n",
    "from modAL.uncertainty import entropy_sampling,margin_sampling, uncertainty_sampling\n",
    "from modAL.models import ActiveLearner\n",
    "from sklearn.svm import SVC\n",
    "from scipy.spatial.distance import cosine, euclidean\n",
    "from sklearn.model_selection import train_test_split\n",
    "from utils import *\n",
    "from sklearn.metrics import f1_score\n",
    "from collections import defaultdict\n",
    "import logging\n",
    "import sys\n",
    "import pickle\n",
    "import random\n",
    "import requests\n",
    "import datetime\n",
    "import pprint\n",
    "import seaborn as sns\n",
    "sns.set()\n",
    "logging.basicConfig(format='%(asctime)s : %(levelname)s : %(message)s', level=logging.INFO)"
   ]
  },
  {
   "cell_type": "code",
   "execution_count": 3,
   "metadata": {},
   "outputs": [],
   "source": [
    "from IPython.core.display import display, HTML\n",
    "from ipyannotate import annotate\n",
    "from ipyannotate.buttons import (\n",
    "    ValueButton as Button,\n",
    "    NextButton as Next,\n",
    "    BackButton as Back\n",
    ")\n",
    "\n",
    "def show_html(word,verbose='link'):\n",
    "    \n",
    "    link_template = '<a size=\"5\" color=\"black\" target=\"_blank\" style=\"font-family:courier\" href=\"{}\">{}</a>'\n",
    "    url = 'https://en.wiktionary.org/wiki/{}'.format(word)\n",
    "    wiki_url = 'https://en.wikipedia.org/w/index.php?sort=relevance&search={}'\n",
    "    \n",
    "    if verbose=='insert':\n",
    "        response = requests.get(url)\n",
    "        description = response.content.decode(\"utf-8\")\n",
    "    elif verbose=='link':\n",
    "        \n",
    "        wiktionary = link_template.format(url,\"Wiktionary\")\n",
    "        wikipedia = link_template.format(wiki_url.format('+'.join(word.split('-'))),\"Wikipedia\")\n",
    "        description = f\"{wiktionary}&nbsp;&nbsp;{wikipedia}\"\n",
    "    else:\n",
    "        description = ''\n",
    "        \n",
    "    return display(HTML('</br><font size=\"6\" color=\"black\" style=\"font-family:georgia;\">\"{0}\"</font></br></br>{1}'.format(word,description)))"
   ]
  },
  {
   "cell_type": "code",
   "execution_count": 4,
   "metadata": {},
   "outputs": [
    {
     "name": "stderr",
     "output_type": "stream",
     "text": [
      "2019-11-28 15:42:03,243 : INFO : loading Word2Vec object from ../../../Processed/Models/1850-1860.w2v.model\n",
      "2019-11-28 15:42:03,245 : WARNING : this function is deprecated, use smart_open.open instead\n",
      "2019-11-28 15:42:04,032 : INFO : loading wv recursively from ../../../Processed/Models/1850-1860.w2v.model.wv.* with mmap=None\n",
      "2019-11-28 15:42:04,033 : INFO : loading vectors from ../../../Processed/Models/1850-1860.w2v.model.wv.vectors.npy with mmap=None\n",
      "2019-11-28 15:42:04,288 : INFO : setting ignored attribute vectors_norm to None\n",
      "2019-11-28 15:42:04,289 : INFO : loading vocabulary recursively from ../../../Processed/Models/1850-1860.w2v.model.vocabulary.* with mmap=None\n",
      "2019-11-28 15:42:04,290 : INFO : loading trainables recursively from ../../../Processed/Models/1850-1860.w2v.model.trainables.* with mmap=None\n",
      "2019-11-28 15:42:04,291 : INFO : loading syn1neg from ../../../Processed/Models/1850-1860.w2v.model.trainables.syn1neg.npy with mmap=None\n",
      "2019-11-28 15:42:04,551 : INFO : setting ignored attribute cum_table to None\n",
      "2019-11-28 15:42:04,551 : INFO : loaded ../../../Processed/Models/1850-1860.w2v.model\n"
     ]
    }
   ],
   "source": [
    "path = \"../../../Processed/Models/1850-1860.w2v.model\"\n",
    "model = Word2Vec.load(path)"
   ]
  },
  {
   "cell_type": "markdown",
   "metadata": {},
   "source": [
    "# Lexicon Expansion"
   ]
  },
  {
   "cell_type": "markdown",
   "metadata": {},
   "source": [
    "## 1. Unidirectional Lexicon Expansion"
   ]
  },
  {
   "cell_type": "markdown",
   "metadata": {},
   "source": [
    "## 1.1 Select Seed Words"
   ]
  },
  {
   "cell_type": "code",
   "execution_count": 5,
   "metadata": {},
   "outputs": [],
   "source": [
    "core = {'vrouw','moeder'}\n",
    "core_init = average_vector(core.copy(),model)\n",
    "\n",
    "seen = core.copy()\n",
    "peripheral = set()\n",
    "    \n",
    "rounds = 0\n",
    "log = defaultdict(dict)"
   ]
  },
  {
   "cell_type": "code",
   "execution_count": 6,
   "metadata": {},
   "outputs": [],
   "source": [
    "sampling_options = {'average': {\n",
    "                        'method': average_all },\n",
    "                    \n",
    "                    'query_tokens': {\n",
    "                        'method': query_tokens,\n",
    "                        'args' : {\n",
    "                            \"tokens\" : [],\n",
    "                            \"merge\" : False }\n",
    "                                    },\n",
    "                    \n",
    "                    'random': {\n",
    "                        'method': random_sample,\n",
    "                        'args': {\n",
    "                            \"cutoff\": 5 }\n",
    "                                    },\n",
    "                   \n",
    "                   'entropy': {\n",
    "                       'method': entropy_sample,\n",
    "                        'args': {\n",
    "                            'topn':2,\n",
    "                            'init_vec': core_init,\n",
    "                            'reverse': True}\n",
    "                                    },\n",
    "                   \n",
    "                   'distance' : {\n",
    "                       'method': distance_sample,\n",
    "                        'args': {\n",
    "                            'topn': 5,\n",
    "                            'method': cosine,\n",
    "                            'init_vec': None,\n",
    "                            'reverse': True\n",
    "                                        }\n",
    "                                    }\n",
    "                                }\n",
    "\n"
   ]
  },
  {
   "cell_type": "markdown",
   "metadata": {},
   "source": [
    "## 1.2 Annotation Cycle"
   ]
  },
  {
   "cell_type": "markdown",
   "metadata": {},
   "source": [
    "### 1.2.1 Select Sampling Strategy"
   ]
  },
  {
   "cell_type": "code",
   "execution_count": 9,
   "metadata": {},
   "outputs": [
    {
     "data": {
      "text/plain": [
       "{'method': <function utils.average_all(words, model)>}"
      ]
     },
     "execution_count": 9,
     "metadata": {},
     "output_type": "execute_result"
    }
   ],
   "source": [
    "sampling_procedure = sampling_options['average']\n",
    "sampling_procedure"
   ]
  },
  {
   "cell_type": "code",
   "execution_count": 8,
   "metadata": {},
   "outputs": [
    {
     "data": {
      "text/plain": [
       "{'method': <function utils.query_tokens(words, model, tokens, merge=False)>,\n",
       " 'args': {'tokens': ['locomotive', 'locomotives'], 'merge': False}}"
      ]
     },
     "execution_count": 8,
     "metadata": {},
     "output_type": "execute_result"
    }
   ],
   "source": [
    "sampling_procedure = sampling_options['query_tokens']\n",
    "sampling_procedure['args']['tokens'] = ['locomotive','locomotives']\n",
    "sampling_procedure['args']['merge'] = False\n",
    "sampling_procedure"
   ]
  },
  {
   "cell_type": "code",
   "execution_count": 107,
   "metadata": {},
   "outputs": [
    {
     "data": {
      "text/plain": [
       "{'method': <function utils.entropy_sample(words, model, topn=2, init_vec=None, reverse=True)>,\n",
       " 'args': {'topn': 2,\n",
       "  'init_vec': array([-4.37421978e-01, -1.41973257e-01,  3.30998480e-01,  6.36753514e-02,\n",
       "          2.06418410e-02,  3.88547897e-01, -5.15401214e-02, -5.55670597e-02,\n",
       "          1.73005447e-01, -2.87285000e-02, -1.87169433e-01, -1.51361808e-01,\n",
       "          1.09291762e-01,  2.48534143e-01, -1.31308198e-01,  5.62759414e-02,\n",
       "          1.61367133e-01,  2.72557318e-01, -3.80399823e-01,  6.90335184e-02,\n",
       "          2.54425824e-01,  5.61793521e-03, -2.38534026e-02, -1.29256487e-01,\n",
       "         -1.17919713e-01,  5.35634235e-02, -1.91557497e-01, -5.68900034e-02,\n",
       "         -2.17403099e-01, -5.33348083e-01, -2.22659588e-01,  2.18633991e-02,\n",
       "         -1.05091229e-01,  5.05684674e-01,  2.30638430e-01,  1.62368804e-01,\n",
       "         -3.85744393e-01,  9.32085365e-02, -1.31465852e-01, -1.37886733e-01,\n",
       "          4.87878397e-02, -2.64858902e-01,  2.13356763e-02,  5.89407682e-02,\n",
       "         -4.01502639e-01,  2.49916866e-01, -9.13260654e-02, -2.33252291e-02,\n",
       "         -2.14426011e-01, -1.50105968e-01, -1.29160851e-01,  1.90336481e-02,\n",
       "         -1.69701874e-04,  1.18451878e-01, -5.82073294e-02,  2.91796774e-01,\n",
       "         -3.10393691e-01,  1.03821680e-01, -3.51735055e-01,  1.09396502e-01,\n",
       "         -2.62976170e-01,  4.53546137e-01, -2.12997317e-01,  5.99822327e-02,\n",
       "         -1.23693027e-01,  1.00071192e-01,  1.93850800e-01,  2.44027972e-01,\n",
       "          1.76496357e-01,  2.60240257e-01, -1.01549521e-01,  2.03948304e-01,\n",
       "          1.90347344e-01, -1.61631018e-01,  1.27030224e-01,  1.52225345e-01,\n",
       "          2.62033455e-02, -8.57743248e-02,  1.79276168e-02, -8.93134698e-02,\n",
       "          1.48797080e-01, -1.67249143e-01,  3.50238919e-01,  8.82394388e-02,\n",
       "          2.50339806e-01, -1.66888058e-01, -3.94558191e-01,  2.29401216e-01,\n",
       "          1.40029311e-01,  5.31306788e-02, -2.64320672e-01, -2.00490206e-01,\n",
       "          1.02405831e-01,  4.52582419e-01,  3.84048313e-01, -2.75804222e-01,\n",
       "         -1.70047414e-02, -2.78549492e-01, -1.96391910e-01,  1.49349838e-01,\n",
       "         -1.90996051e-01,  1.85631633e-01, -1.98841214e-01,  8.92687589e-02,\n",
       "         -6.22190461e-02,  1.15667015e-01,  8.49098489e-02, -1.80278584e-01,\n",
       "         -9.66794044e-03,  1.51699828e-02, -1.29820984e-02, -2.06294566e-01,\n",
       "         -2.01789945e-01, -1.62856102e-01,  4.21486318e-01,  1.10416338e-01,\n",
       "          9.10072308e-03,  3.36874306e-01,  9.66774970e-02, -1.09580249e-01,\n",
       "          1.65934667e-01, -3.48070413e-02,  6.21434003e-02,  3.00412565e-01,\n",
       "         -3.81316356e-02,  4.38452363e-02,  7.15158135e-02,  4.98915046e-01,\n",
       "          1.18324831e-01, -3.87958407e-01,  3.71021509e-01,  1.42323956e-01,\n",
       "         -2.36452520e-02,  1.01526134e-01,  2.49174923e-01, -2.56887913e-01,\n",
       "         -8.43658373e-02,  1.06732637e-01,  2.44592458e-01,  3.71862948e-02,\n",
       "          4.45067734e-01, -1.38374507e-01, -2.64618814e-01, -1.62626326e-01,\n",
       "         -1.54450700e-01,  8.26810673e-02, -1.79783273e-02,  1.52696073e-01,\n",
       "         -2.65384048e-01, -1.20713264e-01,  1.56656951e-01, -2.54326649e-02,\n",
       "         -2.38821566e-01, -6.38871267e-02, -1.26266956e-01, -1.87031433e-01,\n",
       "         -1.34528987e-02, -4.07464653e-02,  2.78218031e-01,  1.50842026e-01,\n",
       "         -1.26900613e-01,  1.94322318e-03,  2.63032138e-01, -2.30548412e-01,\n",
       "         -3.88981968e-01, -1.35308832e-01, -2.34362692e-01,  2.34432053e-03,\n",
       "          1.53522752e-02,  8.77857432e-02,  1.34802237e-03,  3.74728620e-01,\n",
       "          4.65354264e-01,  7.36062825e-02,  9.11458507e-02, -6.25766814e-03,\n",
       "         -5.05454689e-02, -2.43210226e-01, -2.71495841e-02,  2.48966932e-01,\n",
       "         -4.01489846e-02,  6.71468973e-02,  2.53766358e-01,  4.15930748e-02,\n",
       "         -2.95929238e-02, -1.30038351e-01, -1.68135703e-01,  7.49426484e-02,\n",
       "          1.48864716e-01,  1.37472630e-01, -2.02282220e-01, -2.90673435e-01,\n",
       "         -4.10665095e-01,  4.81274016e-02, -3.42396230e-01, -9.01350081e-02,\n",
       "          1.91615462e-01,  3.08816880e-02,  1.31694563e-02, -3.88092697e-01,\n",
       "         -2.41960794e-01, -3.66964132e-01, -4.93987203e-02,  6.20919615e-02,\n",
       "          8.54406208e-02, -1.25536025e-01,  1.93799779e-01, -3.53689253e-01,\n",
       "         -4.22474891e-02,  6.16322979e-02, -1.88628584e-01,  3.29983711e-01,\n",
       "          8.69048908e-02, -1.94111377e-01, -2.26227969e-01, -1.12051509e-01,\n",
       "          3.41493666e-01, -6.58530220e-02, -9.22388732e-02,  2.05737561e-01,\n",
       "         -7.64565095e-02, -2.25477919e-01, -2.04119235e-01,  1.39983416e-01,\n",
       "          2.87028134e-01, -1.90609902e-01, -1.05703268e-02, -5.13032436e-01,\n",
       "         -7.60945827e-02, -7.08794743e-02,  6.34240061e-02, -2.32798960e-02,\n",
       "         -3.91335309e-01, -1.51156202e-01,  3.47131670e-01,  6.46689087e-02,\n",
       "         -1.39517605e-01,  2.30526581e-01, -1.45592466e-01,  1.78817436e-01,\n",
       "         -2.61226855e-02,  1.41006380e-01, -1.68839008e-01,  3.87694268e-03,\n",
       "          1.09154038e-01,  1.27179727e-01, -1.66885480e-01, -4.42968495e-02,\n",
       "         -7.71745890e-02,  2.79321015e-01, -2.16147065e-01, -8.43337327e-02,\n",
       "         -2.65886858e-02, -1.47799879e-01,  2.89758623e-01, -1.31254777e-01,\n",
       "         -2.10535273e-01,  1.42959580e-01,  2.47384191e-01, -8.69373418e-03,\n",
       "          1.56155527e-01, -2.55002379e-01, -5.66979647e-02,  1.01807378e-02,\n",
       "          1.11600265e-01,  1.89412460e-01, -2.92223930e-01,  2.64272660e-01,\n",
       "          1.62959456e-01, -1.81650698e-01,  1.69116467e-01, -9.24546458e-03,\n",
       "          2.92373504e-02, -2.90303733e-02, -2.92852283e-01, -7.95405656e-02,\n",
       "         -1.33082122e-01, -1.44948378e-01,  1.37951598e-01,  5.39146513e-02,\n",
       "         -2.21826490e-02,  5.78423142e-02, -1.28356278e-01,  2.33371891e-02,\n",
       "         -2.97539890e-01, -1.48529187e-01, -9.63838864e-03,  2.23438263e-01,\n",
       "         -1.22150987e-01,  2.31960237e-01,  1.73095524e-01,  5.35671711e-02,\n",
       "          2.33946871e-02,  1.00085966e-01,  4.18339446e-02,  2.78925419e-01,\n",
       "         -4.56721574e-01, -1.66471839e-01, -5.46951964e-03,  6.86862469e-02],\n",
       "        dtype=float32),\n",
       "  'reverse': True}}"
      ]
     },
     "execution_count": 107,
     "metadata": {},
     "output_type": "execute_result"
    }
   ],
   "source": [
    "sampling_procedure =  sampling_options['entropy']\n",
    "sampling_procedure[\"args\"]['init_vec'] = core_init\n",
    "sampling_procedure"
   ]
  },
  {
   "cell_type": "markdown",
   "metadata": {},
   "source": [
    "### 1.2.2  Annotate Words"
   ]
  },
  {
   "cell_type": "code",
   "execution_count": 12,
   "metadata": {
    "scrolled": true
   },
   "outputs": [
    {
     "name": "stdout",
     "output_type": "stream",
     "text": [
      "Using \"average_all\" as sample method.\n"
     ]
    },
    {
     "data": {
      "application/vnd.jupyter.widget-view+json": {
       "model_id": "df11a652e6d744c49bb03d5ebef65b76",
       "version_major": 2,
       "version_minor": 0
      },
      "text/plain": [
       "Annotation(canvas=OutputCanvas(), progress=Progress(atoms=[<ipyannotate.progress.Atom object at 0x10a3c6250>, …"
      ]
     },
     "metadata": {},
     "output_type": "display_data"
    }
   ],
   "source": [
    "log = update_log(log,rounds,seen,core,peripheral,sampling_procedure)\n",
    "\n",
    "neighbours = expand_lexicon(core,model,**sampling_procedure)\n",
    "neighbours = topn_new(neighbours,seen,topn=5)                     \n",
    "\n",
    "buttons = [Button('Core',color='green'),\n",
    "           Button('Peripheral',color='blue'),\n",
    "           Button('Ignore',color='red'), Back(), Next()]   \n",
    "\n",
    "annotations = annotate(list(neighbours.keys()), buttons=buttons, display = show_html)\n",
    "annotations"
   ]
  },
  {
   "cell_type": "markdown",
   "metadata": {},
   "source": [
    "### 1.2.3 Add Annotations to Lexicon"
   ]
  },
  {
   "cell_type": "code",
   "execution_count": 13,
   "metadata": {},
   "outputs": [
    {
     "name": "stdout",
     "output_type": "stream",
     "text": [
      "Core Lexicon contains 12 tokens at stage 2.\n",
      "\n",
      "dienstmaagd, dienstbode, dienstmeid, dochter, vrouw, vronw, weduwe, zusier, vriendin, moeder, grootmoeder, zuster\n"
     ]
    }
   ],
   "source": [
    "core.update([t.output for t in annotations.tasks if t.value=='Core'])\n",
    "peripheral.update([t.output for t in annotations.tasks if t.value=='Peripheral'])\n",
    "seen.update([t.output for t in annotations.tasks])\n",
    "rounds+=1\n",
    "log = update_log(log,rounds,seen,core,peripheral,sampling_procedure)\n",
    "print('Core Lexicon contains {0} tokens at stage {1}.\\n'.format(len(core), rounds))  \n",
    "print(', '.join(core))"
   ]
  },
  {
   "cell_type": "markdown",
   "metadata": {},
   "source": [
    "## 1.3 Inspect Results"
   ]
  },
  {
   "cell_type": "code",
   "execution_count": 41,
   "metadata": {},
   "outputs": [
    {
     "data": {
      "image/png": "[encoded data removed]",
      "text/plain": [
       "<Figure size 720x720 with 1 Axes>"
      ]
     },
     "metadata": {
      "needs_background": "light"
     },
     "output_type": "display_data"
    }
   ],
   "source": [
    "#plot_travel_distance(log,model,core_init,method=np.mean)\n",
    "plot_2d(log,model,figsize=(10,10),include_neighbours=True)"
   ]
  },
  {
   "cell_type": "markdown",
   "metadata": {},
   "source": [
    "## 1.4. Save Annotations"
   ]
  },
  {
   "cell_type": "code",
   "execution_count": null,
   "metadata": {},
   "outputs": [],
   "source": [
    "ts = datetime.datetime.now()\n",
    "with open('logged_annotations_{}.pickle'.format(datetime.datetime.now().strftime(\"%Y-%m-%d_%H:%M:%S\")),'wb') as out_pickle:\n",
    "    pickle.dump(log,out_pickle)\n",
    "print('Annotations saved!')"
   ]
  },
  {
   "cell_type": "markdown",
   "metadata": {},
   "source": [
    "# 2. Bi-Directional Lexicon Expansion\n"
   ]
  },
  {
   "cell_type": "markdown",
   "metadata": {},
   "source": [
    "## 2.2. Select Seed Words"
   ]
  },
  {
   "cell_type": "code",
   "execution_count": 50,
   "metadata": {},
   "outputs": [],
   "source": [
    "core = {'machine','machines','machinery'}\n",
    "antipode = {'human','humans','humanity'}"
   ]
  },
  {
   "cell_type": "code",
   "execution_count": 51,
   "metadata": {},
   "outputs": [],
   "source": [
    "periferal=None\n",
    "seen=None\n",
    "\n",
    "seen = core.copy().union(antipode)\n",
    "periferal = set()\n",
    "    \n",
    "rounds = 0\n",
    "log = defaultdict(dict)   "
   ]
  },
  {
   "cell_type": "markdown",
   "metadata": {},
   "source": [
    "## 2.3 Annotation Cycle"
   ]
  },
  {
   "cell_type": "markdown",
   "metadata": {},
   "source": [
    "### 2.3.1  Annotate Words"
   ]
  },
  {
   "cell_type": "code",
   "execution_count": 52,
   "metadata": {},
   "outputs": [
    {
     "data": {
      "application/vnd.jupyter.widget-view+json": {
       "model_id": "b7a8800b2f6c4ac39f5e37a7c6c5322b",
       "version_major": 2,
       "version_minor": 0
      },
      "text/plain": [
       "Annotation(canvas=OutputCanvas(), progress=Progress(atoms=[<ipyannotate.progress.Atom object at 0x1253a16d0>, …"
      ]
     },
     "metadata": {},
     "output_type": "display_data"
    }
   ],
   "source": [
    "log[rounds]['timestamp'] = datetime.datetime.now()           \n",
    "log[rounds]['seen'] = seen.copy(); log[rounds]['core'] = core.copy()\n",
    "log[rounds]['periferal'] = periferal.copy(); log[rounds]['antipode'] = antipode.copy()\n",
    "\n",
    "neighbours = contrastive_expansion(core,model,antipode,direction='core')\n",
    "neighbours = topn_new(neighbours,seen,topn=5)    \n",
    "\n",
    "buttons = [Button('Core',color='green'),Button('Antipode',color='green'),\n",
    "           Button('Peripheral',color='blue'),Button('Ignore',color='red'),\n",
    "           Back(), Next()]\n",
    "\n",
    "annotations_core = annotate(list(neighbours.keys()), buttons=buttons, display = show_html)\n",
    "annotations_core"
   ]
  },
  {
   "cell_type": "code",
   "execution_count": 53,
   "metadata": {},
   "outputs": [
    {
     "data": {
      "application/vnd.jupyter.widget-view+json": {
       "model_id": "c4293615ad21479a8834bc985d2af202",
       "version_major": 2,
       "version_minor": 0
      },
      "text/plain": [
       "Annotation(canvas=OutputCanvas(), progress=Progress(atoms=[<ipyannotate.progress.Atom object at 0x12548bf90>, …"
      ]
     },
     "metadata": {},
     "output_type": "display_data"
    }
   ],
   "source": [
    "neighbours = contrastive_expansion(core,model,antipode,direction='antipode')\n",
    "neighbours = topn_new(neighbours,seen,reverse=False,topn=5)  \n",
    "\n",
    "buttons = [Button('Antipode',color='green'),Button('Core',color='green'),\n",
    "           Button('Peripheral',color='blue'),Button('Ignore',color='red'),\n",
    "           Back(), Next()]\n",
    "\n",
    "annotations_antipode = annotate(list(neighbours.keys()), buttons=buttons, display = show_html)\n",
    "annotations_antipode"
   ]
  },
  {
   "cell_type": "markdown",
   "metadata": {},
   "source": [
    "### 2.3.2. Add Annotations to Lexicons"
   ]
  },
  {
   "cell_type": "code",
   "execution_count": 54,
   "metadata": {},
   "outputs": [
    {
     "name": "stdout",
     "output_type": "stream",
     "text": [
      "Core-lexicon at stage 1 contains 7 words.\n",
      "Size of Antipode-lexicon is 4 words\n"
     ]
    }
   ],
   "source": [
    "\n",
    "annotations = annotations_antipode.tasks + annotations_core.tasks\n",
    "core.update([t.output for t in annotations if t.value=='Core'])\n",
    "antipode.update([t.output for t in annotations if t.value=='Antipode'])\n",
    "periferal.update([t.output for t in annotations if t.value=='Peripheral'])\n",
    "seen.update([t.output for t in annotations])\n",
    "rounds+=1\n",
    "print('Core-lexicon at stage {0} contains {1} words.\\nSize of Antipode-lexicon is {2} words'.format(rounds,len(core),len(antipode)))      \n"
   ]
  },
  {
   "cell_type": "code",
   "execution_count": 55,
   "metadata": {},
   "outputs": [
    {
     "name": "stdout",
     "output_type": "stream",
     "text": [
      "Core Lexicon at stage 1.\n",
      "\n",
      "steam-engine, engines, machinery, chinery, machine, machines, steam-engines\n",
      "\n",
      "\n",
      "Antipode Lexicon at stage 1.\n",
      "\n",
      "humans, humankind, humanity, human\n"
     ]
    }
   ],
   "source": [
    "print('Core Lexicon at stage {}.\\n'.format(rounds))\n",
    "print(', '.join(core))\n",
    "print('\\n')\n",
    "print('Antipode Lexicon at stage {}.\\n'.format(rounds))\n",
    "print(', '.join(antipode))"
   ]
  },
  {
   "cell_type": "markdown",
   "metadata": {},
   "source": [
    "## 2.4. Save Annotations"
   ]
  },
  {
   "cell_type": "code",
   "execution_count": null,
   "metadata": {},
   "outputs": [],
   "source": [
    "ts = datetime.datetime.now()\n",
    "with open('logged_annotations_{}.pickle'.format(datetime.datetime.now().strftime(\"%Y-%m-%d_%H:%M:%S\")),'wb') as out_pickle:\n",
    "    pickle.dump(log,out_pickle)"
   ]
  },
  {
   "cell_type": "markdown",
   "metadata": {},
   "source": [
    "## 3. Active Leaning\n"
   ]
  },
  {
   "cell_type": "markdown",
   "metadata": {},
   "source": [
    "### 3.1 Define seed words"
   ]
  },
  {
   "cell_type": "markdown",
   "metadata": {},
   "source": [
    "### 3.1.1 Collect annotated seed words"
   ]
  },
  {
   "cell_type": "code",
   "execution_count": 96,
   "metadata": {},
   "outputs": [],
   "source": [
    "seed = 'machine'; neighbourhood = 1000"
   ]
  },
  {
   "cell_type": "code",
   "execution_count": 97,
   "metadata": {
    "scrolled": true
   },
   "outputs": [
    {
     "name": "stdout",
     "output_type": "stream",
     "text": [
      "['gears' 'shoe-making' 'cross-head' 'shaft-sinking' 'pulp' 'cooker'\n",
      " 'basket-' 'quick-firing' 'scutching' 'six-horse' 'converters'\n",
      " 'electricity' 'woollen-mill' 'hand-power' 'factoiy' 'dummy' 'iron-mills'\n",
      " 'calico-printing' 'gun-barrels' 'cotton-printing' 'ten-stamp'\n",
      " 'adjustable' 'engine-room' 'capacity7' 'steel-making' 'apphances'\n",
      " 'drilling' 'calciner' 'webbing' 'winnowing' 'bindery' 'thumb-screw'\n",
      " 'cylinders' 'papier-mache' 'organzine' 'one-horse' 'appliances'\n",
      " 'velocipede' 'dynamos' 'electro-magnetic' 'mill-wright' 'pianos'\n",
      " 'aultman' 'gold-saving' 'instrumentalities' 'coach-making' 'watt'\n",
      " '#-stamp' 'tricycle' 'gun-locks']\n"
     ]
    },
    {
     "data": {
      "application/vnd.jupyter.widget-view+json": {
       "model_id": "50c4554d98f24cef98173eb2cf88f24e",
       "version_major": 2,
       "version_minor": 0
      },
      "text/plain": [
       "Annotation(canvas=OutputCanvas(), progress=Progress(atoms=[<ipyannotate.progress.Atom object at 0x1261e06d0>, …"
      ]
     },
     "metadata": {},
     "output_type": "display_data"
    }
   ],
   "source": [
    "\n",
    "machine_neighbours = np.array([w for w,v in model.wv.most_similar(seed,topn=neighbourhood)])\n",
    "seed_idx = np.random.choice(range(len(machine_neighbours)), size=50, replace=False)\n",
    "seed_words = machine_neighbours[seed_idx]\n",
    "print(seed_words)\n",
    "buttons = [Button('Core',color='green'),Button('Antipode',color='red'),\n",
    "           Button('Ignore',color='blue'),Back(), Next()]\n",
    "\n",
    "annotations_init = annotate(seed_words, buttons=buttons, display = show_html)\n",
    "annotations_init"
   ]
  },
  {
   "cell_type": "markdown",
   "metadata": {},
   "source": [
    "### 3.1.2 Initialize learner"
   ]
  },
  {
   "cell_type": "code",
   "execution_count": 60,
   "metadata": {},
   "outputs": [
    {
     "name": "stdout",
     "output_type": "stream",
     "text": [
      "15 35\n"
     ]
    }
   ],
   "source": [
    "core_init = [t.output for t in annotations_init.tasks if t.value=='Core']\n",
    "antipode_init = [t.output for t in annotations_init.tasks if t.value=='Antipode']\n",
    "print(len(core_init),len(antipode_init))\n",
    "seed_words_annotated = antipode_init + core_init\n",
    "X_initial = np.array([model.wv[w] for w in seed_words_annotated])\n",
    "y_initial = np.array([0]*len(antipode_init) + [1]*len(core_init))"
   ]
  },
  {
   "cell_type": "code",
   "execution_count": 61,
   "metadata": {},
   "outputs": [],
   "source": [
    "X = np.array([model.wv[w] for w,v in model.wv.most_similar(seed,topn=1000)])\n",
    "words = np.array([w for w,v in model.wv.most_similar(seed,topn=1000)])"
   ]
  },
  {
   "cell_type": "code",
   "execution_count": 72,
   "metadata": {},
   "outputs": [],
   "source": [
    "X_training, X_testing, y_training, y_testing = train_test_split(X_initial, y_initial, test_size=0.50, random_state=0) \n",
    "initial_idx = np.array([i for i,w in enumerate(words) if w in seed_words_annotated])\n",
    "X_pool,y_pool = np.delete(X, initial_idx, axis=0),np.delete(words, initial_idx, axis=0)"
   ]
  },
  {
   "cell_type": "code",
   "execution_count": 76,
   "metadata": {},
   "outputs": [],
   "source": [
    "# initializing the learner\n",
    "learner = ActiveLearner(\n",
    "    estimator=SVC(probability=True,kernel='linear'), # ,class_weight='balanced',C=10\n",
    "    query_strategy=uncertainty_sampling,\n",
    "    X_training=X_training, y_training=y_training\n",
    ")"
   ]
  },
  {
   "cell_type": "code",
   "execution_count": 77,
   "metadata": {},
   "outputs": [],
   "source": [
    "scores = []"
   ]
  },
  {
   "cell_type": "markdown",
   "metadata": {},
   "source": [
    "### 3.2 Annotation cycle"
   ]
  },
  {
   "cell_type": "code",
   "execution_count": 87,
   "metadata": {},
   "outputs": [
    {
     "data": {
      "application/vnd.jupyter.widget-view+json": {
       "model_id": "0ccd2cde851e496295916e808ff99782",
       "version_major": 2,
       "version_minor": 0
      },
      "text/plain": [
       "Annotation(canvas=OutputCanvas(), progress=Progress(atoms=[<ipyannotate.progress.Atom object at 0x12613b890>, …"
      ]
     },
     "metadata": {},
     "output_type": "display_data"
    }
   ],
   "source": [
    "query_idx, query_inst = learner.query(X_pool,10)\n",
    "to_label = [y_pool[qx] for qx in query_idx]#{words[qx]:[qx,list(q_inst)] for qx,q_inst in zip(query_idx, query_inst)}\n",
    "\n",
    "buttons = [Button('Core',color='green'),Button('Antipode',color='red'),\n",
    "           Button('Ignore',color='blue'),Back(), Next()]\n",
    "\n",
    "annotations = annotate(to_label, buttons=buttons, display=show_html)\n",
    "annotations"
   ]
  },
  {
   "cell_type": "code",
   "execution_count": 88,
   "metadata": {},
   "outputs": [
    {
     "name": "stdout",
     "output_type": "stream",
     "text": [
      "Done updating model. Go to previous cell to annotate other examples.\n"
     ]
    },
    {
     "data": {
      "text/plain": [
       "<matplotlib.axes._subplots.AxesSubplot at 0x1261e0490>"
      ]
     },
     "execution_count": 88,
     "metadata": {},
     "output_type": "execute_result"
    },
    {
     "data": {
      "image/png": "[encoded data removed]",
      "text/plain": [
       "<Figure size 432x288 with 1 Axes>"
      ]
     },
     "metadata": {},
     "output_type": "display_data"
    }
   ],
   "source": [
    "X_pool,y_pool = np.delete(X_pool, query_idx, axis=0),np.delete(y_pool, query_idx, axis=0)\n",
    "y_new = [{'Core':1, 'Antipode': 0}.get(a.value,0) for a in annotations.tasks]\n",
    "learner.teach(query_inst,y_new)  # \n",
    "y_pred = learner.predict(X_testing)\n",
    "scores.append(f1_score(y_pred,y_testing))\n",
    "print('Done updating model. Go to previous cell to annotate other examples.')\n",
    "pd.Series(scores).plot()"
   ]
  },
  {
   "cell_type": "markdown",
   "metadata": {},
   "source": [
    "### 3.3. Print results of trained model"
   ]
  },
  {
   "cell_type": "code",
   "execution_count": 89,
   "metadata": {},
   "outputs": [
    {
     "name": "stdout",
     "output_type": "stream",
     "text": [
      "maid                0.99\n",
      "maid-servant        0.99\n",
      "waiting-maid        0.99\n",
      "waiting-woman       0.99\n",
      "slave-girl          0.98\n",
      "chambermaid         0.98\n",
      "courtesan           0.98\n",
      "negress             0.98\n",
      "heroine             0.97\n",
      "midwife             0.97\n",
      "ayah                0.97\n",
      "servant-maid        0.97\n",
      "dame                0.97\n",
      "princess            0.97\n",
      "handmaiden          0.97\n",
      "lass                0.97\n",
      "countrywoman        0.97\n",
      "quean               0.97\n",
      "khanum              0.97\n",
      "kinswoman           0.97\n",
      "housewife           0.96\n",
      "serving-maid        0.96\n",
      "servant-girl        0.96\n",
      "dairy-maid          0.96\n",
      "women               0.96\n",
      "governess           0.96\n",
      "mother-in-law       0.96\n",
      "damsel              0.96\n",
      "landlady            0.95\n",
      "serving-woman       0.95\n",
      "frenchwoman         0.95\n",
      "parlour-maid        0.94\n",
      "dancing-girl        0.94\n",
      "nun                 0.94\n",
      "contadina           0.94\n",
      "maidservant         0.94\n",
      "maiden              0.94\n",
      "step-mother         0.94\n",
      "woman-servant       0.94\n",
      "mysie               0.94\n",
      "aunt                0.94\n",
      "harridan            0.93\n",
      "peasant-girl        0.93\n",
      "manservant          0.93\n",
      "marquise            0.93\n",
      "housekeeper         0.93\n",
      "actress             0.93\n",
      "jewess              0.93\n",
      "soubrette           0.93\n",
      "englishwoman        0.92\n",
      "ladys-maid          0.92\n",
      "mistress            0.92\n",
      "housemaid           0.92\n",
      "julia               0.92\n",
      "jenny               0.92\n",
      "daughter-in-law     0.92\n",
      "nurse               0.92\n",
      "betsy               0.91\n",
      "babe                0.91\n",
      "helen               0.91\n",
      "bessy               0.91\n",
      "quakeress           0.91\n",
      "peeress             0.91\n",
      "ladv                0.91\n",
      "judith              0.91\n",
      "phillis             0.91\n",
      "marguerite          0.91\n",
      "niece               0.91\n",
      "peggy               0.91\n",
      "irishwoman          0.9\n",
      "chamber-maid        0.9\n",
      "granddaughter       0.9\n",
      "flower-girl         0.9\n",
      "avomen              0.89\n",
      "adele               0.89\n",
      "dinah               0.89\n",
      "washerwoman         0.89\n",
      "virago              0.89\n",
      "annette             0.89\n",
      "grisette            0.89\n",
      "seamstress          0.89\n",
      "jessie              0.89\n",
      "ladys               0.89\n",
      "sweet-faced         0.89\n",
      "dressmaker          0.88\n",
      "grandmother         0.88\n",
      "poetess             0.88\n",
      "fishwife            0.88\n",
      "sister              0.88\n",
      "widow               0.88\n",
      "dorothy             0.88\n",
      "matron              0.88\n",
      "geraldine           0.88\n",
      "womans              0.87\n",
      "nurse-maid          0.87\n",
      "polly               0.87\n",
      "termagant           0.87\n",
      "esther              0.87\n",
      "madge               0.87\n",
      "gentlewoman         0.87\n"
     ]
    }
   ],
   "source": [
    "probs= dict(zip(words,learner.predict_proba(X)[:,1]))\n",
    "machine_words = sorted(probs.items(),key = lambda x : x[1], reverse=True)[:100]\n",
    "#print('\\n'.join([f'{e[0]},{round(e[1],2)}' for e in machine_words]))\n",
    "print('\\n'.join(['{0: <20}{1}'.format(e[0],round(e[1],2)) for e in machine_words]))\n"
   ]
  },
  {
   "cell_type": "code",
   "execution_count": null,
   "metadata": {},
   "outputs": [],
   "source": []
  }
 ],
 "metadata": {
  "kernelspec": {
   "display_name": "Python 3",
   "language": "python",
   "name": "python3"
  },
  "language_info": {
   "codemirror_mode": {
    "name": "ipython",
    "version": 3
   },
   "file_extension": ".py",
   "mimetype": "text/x-python",
   "name": "python",
   "nbconvert_exporter": "python",
   "pygments_lexer": "ipython3",
   "version": "3.7.4"
  }
 },
 "nbformat": 4,
 "nbformat_minor": 2
}
