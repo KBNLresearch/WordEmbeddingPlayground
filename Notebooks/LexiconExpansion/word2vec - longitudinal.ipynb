{
 "cells": [
  {
   "cell_type": "markdown",
   "metadata": {},
   "source": [
    "## Load Models"
   ]
  },
  {
   "cell_type": "code",
   "execution_count": 265,
   "metadata": {},
   "outputs": [],
   "source": [
    "%matplotlib inline\n",
    "from glob import glob\n",
    "import pandas as pd\n",
    "import numpy as np\n",
    "from tqdm import tqdm_notebook\n",
    "from collections import Counter, defaultdict\n",
    "from scipy.spatial.distance import cosine\n",
    "from gensim.models import word2vec\n",
    "import seaborn as sns\n",
    "import random\n",
    "import scipy.stats\n",
    "import matplotlib.pyplot as plt\n",
    "from IPython.display import clear_output\n",
    "from sklearn.manifold import TSNE\n",
    "from matplotlib import pyplot as plt\n",
    "\n",
    "plt.style.use('seaborn') "
   ]
  },
  {
   "cell_type": "code",
   "execution_count": 123,
   "metadata": {},
   "outputs": [],
   "source": [
    "get_year = lambda x: int(x.split(\"/\")[-1].split(\".\")[0].split(\"_\")[-1])\n",
    "average_vector = lambda words,model : np.mean([model.wv.__getitem__(w) for w in words if w in model],axis=0)"
   ]
  },
  {
   "cell_type": "code",
   "execution_count": 116,
   "metadata": {},
   "outputs": [
    {
     "data": {
      "text/plain": [
       "[('data/simon/embeddings_DH2019_hengchen-ros-marjanen-2019-07-07 (1)/NL_diachronic/models/model_nl_1820.w2v',\n",
       "  1820),\n",
       " ('data/simon/embeddings_DH2019_hengchen-ros-marjanen-2019-07-07 (1)/NL_diachronic/models/model_nl_1840.w2v',\n",
       "  1840),\n",
       " ('data/simon/embeddings_DH2019_hengchen-ros-marjanen-2019-07-07 (1)/NL_diachronic/models/model_nl_1880.w2v',\n",
       "  1880),\n",
       " ('data/simon/embeddings_DH2019_hengchen-ros-marjanen-2019-07-07 (1)/NL_diachronic/models/model_nl_1860.w2v',\n",
       "  1860),\n",
       " ('data/simon/embeddings_DH2019_hengchen-ros-marjanen-2019-07-07 (1)/NL_diachronic/models/model_nl_1800.w2v',\n",
       "  1800)]"
      ]
     },
     "execution_count": 116,
     "metadata": {},
     "output_type": "execute_result"
    }
   ],
   "source": [
    "paths = [(p,get_year(p)) for p in glob(\"data/simon/embeddings_DH2019_hengchen-ros-marjanen-2019-07-07 (1)/NL_diachronic/models/*.w2v\")]\n",
    "paths_filt = [t for t in paths if t[1] >=1800]\n",
    "paths_filt"
   ]
  },
  {
   "cell_type": "code",
   "execution_count": 117,
   "metadata": {},
   "outputs": [],
   "source": [
    "models = {y:word2vec.Word2Vec.load(p) for p,y in paths_filt}"
   ]
  },
  {
   "cell_type": "code",
   "execution_count": 199,
   "metadata": {},
   "outputs": [
    {
     "data": {
      "text/plain": [
       "2125"
      ]
     },
     "execution_count": 199,
     "metadata": {},
     "output_type": "execute_result"
    }
   ],
   "source": [
    "models[1800].wv.vocab[\"behagen\"].count"
   ]
  },
  {
   "cell_type": "code",
   "execution_count": 296,
   "metadata": {},
   "outputs": [
    {
     "name": "stderr",
     "output_type": "stream",
     "text": [
      "/usr/local/lib/python3.7/site-packages/ipykernel_launcher.py:1: DeprecationWarning: Call to deprecated `most_similar` (Method will be removed in 4.0.0, use self.wv.most_similar() instead).\n",
      "  \"\"\"Entry point for launching an IPython kernel.\n"
     ]
    },
    {
     "data": {
      "text/plain": [
       "[('christelijk', 0.7262287735939026),\n",
       " ('internationaal', 0.6904023885726929),\n",
       " ('vaderlandsch', 0.6763685345649719),\n",
       " ('christelyk', 0.6680269837379456),\n",
       " ('„nationaal', 0.6612361669540405),\n",
       " ('patriottisch', 0.6569185853004456),\n",
       " ('christelgk', 0.6528066396713257),\n",
       " ('dynastiek', 0.651086688041687),\n",
       " ('staatkundig', 0.6475960612297058),\n",
       " ('maatschappelijk', 0.6423165798187256)]"
      ]
     },
     "execution_count": 296,
     "metadata": {},
     "output_type": "execute_result"
    }
   ],
   "source": [
    "models[1880].most_similar('nationaal')"
   ]
  },
  {
   "cell_type": "markdown",
   "metadata": {},
   "source": [
    "## collect neighbouring words across models"
   ]
  },
  {
   "cell_type": "code",
   "execution_count": 255,
   "metadata": {},
   "outputs": [],
   "source": [
    "#seed = [\"vrouw\",\"vrouwe\",\"vrouwen\"]\n",
    "#seed = [\"moeder\",\"moeders\"]\n",
    "#seed = ['man','mannen']\n",
    "#seed = ['vader','vaders']\n",
    "#seed = ['mensch','menschen','mensen']\n",
    "seed = ['zacht','bedaard','teeder','geduldig','kalm','zwak','liefelijk','goedig','zagt','zachtkens','goedig',\"arme\"]\n",
    "#seed = ['vrouw','vrouwen','moeder','moeders']\n",
    "#seed = ['man','mannen','mau','heer',\"vader\",\"vaders\",'grootvader','schoonvader','broeder','zoon']\n",
    "#seed = [\"levendig\",\"gelukkig\",\"welvarend\"]\n",
    "seed = [\"huis\",\"huys\"]"
   ]
  },
  {
   "cell_type": "code",
   "execution_count": 256,
   "metadata": {},
   "outputs": [
    {
     "name": "stderr",
     "output_type": "stream",
     "text": [
      "/usr/local/lib/python3.7/site-packages/ipykernel_launcher.py:2: DeprecationWarning: Call to deprecated `__contains__` (Method will be removed in 4.0.0, use self.wv.__contains__() instead).\n",
      "  \n"
     ]
    },
    {
     "data": {
      "text/plain": [
       "[('huis', 5),\n",
       " ('huls', 5),\n",
       " ('kuis', 5),\n",
       " ('.huis', 5),\n",
       " ('hois', 5),\n",
       " ('liuis', 5),\n",
       " ('iiuis', 5),\n",
       " ('hui*', 5),\n",
       " ('hais', 5),\n",
       " ('huisje', 5),\n",
       " ('hnis', 5),\n",
       " ('buis', 5),\n",
       " (\"'huis\", 4),\n",
       " ('hüis', 4),\n",
       " ('huts', 4),\n",
       " (\"hl'is\", 4),\n",
       " ('hits', 4),\n",
       " ('winkelhuis', 4),\n",
       " ('uuis', 4),\n",
       " ('woonhuis', 4),\n",
       " ('pakhuis', 4),\n",
       " ('huia', 4),\n",
       " ('hofje', 4),\n",
       " ('huys', 3),\n",
       " ('-huis', 3),\n",
       " ('winkel-huis', 3),\n",
       " ('iluis', 3),\n",
       " ('hms', 3),\n",
       " ('ruis', 3),\n",
       " ('lluis', 3),\n",
       " ('hujs', 2),\n",
       " ('hufs', 2),\n",
       " ('huis.', 2),\n",
       " ('huïs', 2),\n",
       " ('hüys', 2),\n",
       " ('huvs', 2),\n",
       " ('hu-s', 2),\n",
       " ('pak-huis', 2),\n",
       " ('huisenerve', 2),\n",
       " ('ucis', 2),\n",
       " ('kuys', 2),\n",
       " ('huisen', 2),\n",
       " ('hu.s', 2),\n",
       " ('achterhuis', 2),\n",
       " ('hiiis', 2),\n",
       " ('boerenhuis', 2),\n",
       " ('muis', 2),\n",
       " ('pakhnis', 2),\n",
       " ('hui', 2),\n",
       " ('heerenhuis', 2),\n",
       " ('buitenverblijf', 2),\n",
       " ('straatje', 2),\n",
       " ('heis', 2),\n",
       " ('hnia', 2),\n",
       " ('huig', 2),\n",
       " ('bnis', 2),\n",
       " ('klooster', 2),\n",
       " ('linis', 2),\n",
       " ('broodbakkers-huis', 1),\n",
       " ('winkel-huys', 1),\n",
       " (\"'huys\", 1),\n",
       " ('.huys', 1),\n",
       " ('huysen', 1),\n",
       " ('huis-en', 1),\n",
       " ('koopmans-huis', 1),\n",
       " ('-huys', 1),\n",
       " ('iiuys', 1),\n",
       " ('koopmanshuis', 1),\n",
       " ('liuys', 1),\n",
       " ('huys-', 1),\n",
       " ('huii', 1),\n",
       " ('luns', 1),\n",
       " ('huis*', 1),\n",
       " ('koopmans-winkelhuis', 1),\n",
       " ('hlis', 1),\n",
       " ('hdis', 1),\n",
       " ('winkelhüis', 1),\n",
       " ('avoonhuis', 1),\n",
       " ('hoekhuis', 1),\n",
       " ('ivinkelhuis', 1),\n",
       " ('pand', 1),\n",
       " ('winkeliiuis', 1),\n",
       " ('pakhuisje', 1),\n",
       " ('steegje', 1),\n",
       " ('landgoed', 1),\n",
       " ('houtstek', 1),\n",
       " ('onderstuk', 1),\n",
       " ('buitenhuis', 1),\n",
       " ('hoerenhuis', 1),\n",
       " ('nuis', 1),\n",
       " ('hllis', 1),\n",
       " ('hui-', 1),\n",
       " ('hcis', 1),\n",
       " ('slop', 1),\n",
       " ('fabriekgebouw', 1),\n",
       " ('heerenhnis', 1),\n",
       " ('hots', 1),\n",
       " ('uis', 1),\n",
       " ('boschje', 1),\n",
       " ('hui3', 1),\n",
       " ('huiß', 1),\n",
       " ('logement', 1),\n",
       " ('huie', 1),\n",
       " (\"'thuis\", 1),\n",
       " ('huib', 1),\n",
       " ('landhuis', 1),\n",
       " ('voorhuis', 1),\n",
       " ('koffiehuis', 1),\n",
       " ('kasteel', 1),\n",
       " ('kippenhok', 1),\n",
       " ('hutje', 1),\n",
       " ('hnls', 1),\n",
       " ('woonvertrek', 1),\n",
       " ('sterfhuis', 1),\n",
       " ('varkenshok', 1),\n",
       " ('hotel', 1),\n",
       " ('noord-einde', 1),\n",
       " ('wijnhuis', 1),\n",
       " ('kamertje', 1),\n",
       " ('dorp', 1),\n",
       " ('zomerhuisje', 1),\n",
       " ('hok', 1),\n",
       " ('slaapvertrek', 1),\n",
       " ('werkhuis', 1),\n",
       " ('stalletje', 1),\n",
       " ('bierhuis', 1),\n",
       " ('boseh', 1)]"
      ]
     },
     "execution_count": 256,
     "metadata": {},
     "output_type": "execute_result"
    }
   ],
   "source": [
    "def get_neighbours(seed):\n",
    "    neighbours = [] \n",
    "    \n",
    "    for year in sorted(models.keys()):\n",
    "        av_vector = average_vector(seed,models[year])\n",
    "        neighbours.extend([w for w,v in models[year].wv.similar_by_vector(av_vector,topn=50)])\n",
    "    \n",
    "    return Counter(neighbours)\n",
    "\n",
    "ns = get_neighbours(seed)\n",
    "ns.most_common()"
   ]
  },
  {
   "cell_type": "code",
   "execution_count": null,
   "metadata": {},
   "outputs": [],
   "source": []
  },
  {
   "cell_type": "code",
   "execution_count": 163,
   "metadata": {},
   "outputs": [
    {
     "name": "stderr",
     "output_type": "stream",
     "text": [
      "/usr/local/lib/python3.7/site-packages/ipykernel_launcher.py:2: DeprecationWarning: Call to deprecated `__contains__` (Method will be removed in 4.0.0, use self.wv.__contains__() instead).\n",
      "  \n"
     ]
    },
    {
     "data": {
      "text/plain": [
       "<matplotlib.axes._subplots.AxesSubplot at 0x145ef09e8>"
      ]
     },
     "execution_count": 163,
     "metadata": {},
     "output_type": "execute_result"
    },
    {
     "data": {
      "image/png": "[encoded data removed]",
      "text/plain": [
       "<Figure size 576x396 with 1 Axes>"
      ]
     },
     "metadata": {},
     "output_type": "display_data"
    }
   ],
   "source": [
    "sims_fem = []\n",
    "sims_male = []\n",
    "fem_pole = [\"vrouw\",'viouw','vronw','vrouwen']\n",
    "#fem_target = ['mensch','menschen','mensen','wezens','menseh','mensehen','menseben']\n",
    "#fem_target = ['moeder','moeders','grootmoeder','schoonmoeder']\n",
    "#fem_target = ['kind','kinderen','kindertjes','kinders','kindereu','dochters','zuigeling']\n",
    "fem_target = ['zacht','bedaard','teeder','geduldig','kalm','zwak','liefelijk','goedig','zagt','zachtkens','goedig']\n",
    "#fem_target = ['werktuig','machine','machines','stoommachine','stoomwerktuig']\n",
    "male_pole = ['man','mannen','mau']\n",
    "#male_target = ['kind','kinderen','kindertjes','kinders','kindereu','dochters','zuigeling']\n",
    "#male_target = ['mensch','menschen','mensen','wezens','menseh','mensehen','menseben']\n",
    "#male_target = ['grootvader','vader','vaders','schoonvader',\"huisvader\"]\n",
    "#male_taget = ['werktuig','machine','machines','stoommachine','stoomwerktuig']\n",
    "male_target = ['zacht','bedaard','teeder','geduldig','kalm','zwak','liefelijk','goedig','zagt','zachtkens','goedig']\n",
    "\n",
    "\n",
    "for year in sorted(models.keys()):\n",
    "    model = models[year]\n",
    "    sims_fem.append(1- cosine(average_vector(fem_pole,model),average_vector(fem_target,model)))\n",
    "    sims_male.append(1- cosine(average_vector(male_pole,model),average_vector(male_target,model)))\n",
    "    \n",
    "df = pd.DataFrame(np.array([sims_fem,sims_male]).T,columns=[\"female\",'male'],index=sorted(models.keys()))\n",
    "df['bias'] = df[\"female\"] - df['male']\n",
    "df['bias'].plot(ylim=(-1.0,1.0))"
   ]
  },
  {
   "cell_type": "code",
   "execution_count": 164,
   "metadata": {},
   "outputs": [
    {
     "data": {
      "text/plain": [
       "<matplotlib.axes._subplots.AxesSubplot at 0x14594d780>"
      ]
     },
     "execution_count": 164,
     "metadata": {},
     "output_type": "execute_result"
    },
    {
     "data": {
      "image/png": "[encoded data removed]",
      "text/plain": [
       "<Figure size 576x396 with 1 Axes>"
      ]
     },
     "metadata": {},
     "output_type": "display_data"
    }
   ],
   "source": [
    "df[[\"female\",'male']].plot(kind='bar',alpha=0.75)"
   ]
  },
  {
   "cell_type": "markdown",
   "metadata": {},
   "source": [
    "## Contrastive Lexicon Expansion\n",
    "### Bootstrapped SemAxis"
   ]
  },
  {
   "cell_type": "code",
   "execution_count": 259,
   "metadata": {},
   "outputs": [],
   "source": [
    "#helper functions\n",
    "\n",
    "\n",
    "def sort_scores(scores,topn=-1,ascending=False):\n",
    "    return sorted(scores.items(),key = lambda x: x[1],reverse=not ascending)[:topn]\n",
    "\n",
    "def top_new(sorted_vocab,seen,topn=10):\n",
    "    i = 0\n",
    "    candidates = []\n",
    "    while len(candidates) < topn:\n",
    "        if sorted_vocab[i][0] not in seen:\n",
    "            candidates.append(sorted_vocab[i][0])\n",
    "        i+=1  \n",
    "    return candidates"
   ]
  },
  {
   "cell_type": "code",
   "execution_count": 346,
   "metadata": {},
   "outputs": [],
   "source": [
    "def lex_exp_bootstrap(pole,model,topn=10):\n",
    "    def topn_new(neighbours,seen):\n",
    "        neighbours = sorted(neighbours.items(),key=lambda x: x[1], reverse=True)\n",
    "        i = 0\n",
    "        candidates = []\n",
    "        while len(candidates) < min(topn,len(neighbours)):\n",
    "            if neighbours[i][0] not in seen:\n",
    "                candidates.append(neighbours[i])\n",
    "            i+=1\n",
    "        return dict(candidates)                    \n",
    "                                    \n",
    "\n",
    "    seen = pole.copy()\n",
    "    rounds = 0\n",
    "    while True:\n",
    "        try:\n",
    "            clear_output(wait=True)\n",
    "            print(\"words selected :\"+ ' '.join(pole))\n",
    "            neighbours = defaultdict(float)\n",
    "            for _ in range(10):\n",
    "                for w,v in model.wv.similar_by_vector(average_vector(sample(list(pole)),model),topn=100):\n",
    "                    neighbours[w]+=v\n",
    "            print(len(neighbours))\n",
    "            neighbours = topn_new(neigbours,seen)\n",
    "            print(len(neighbours))\n",
    "            max_val = np.max(list(neighbours.values()))\n",
    "            neighbours = {w:v/max_val for w,v in neighbours.items()}\n",
    "            annotations = [(w,int(input(f'Target word=\"{w}\"; value=\"{round(v,2)}\"\\n(Options: yes = 1; no = 0)'))) \n",
    "                                   for w,v in sorted(neighbours.items(),key=lambda x: x[1])]\n",
    "            pole.update([w for w,a in annotations if a])\n",
    "            seen.update([w for w,a in annotations])\n",
    "            rounds+=1\n",
    "            \n",
    "        except KeyboardInterrupt:\n",
    "            print(f\"Leaving after {rounds} annotation rounds.\")\n",
    "            return pole"
   ]
  },
  {
   "cell_type": "code",
   "execution_count": 347,
   "metadata": {},
   "outputs": [
    {
     "name": "stdout",
     "output_type": "stream",
     "text": [
      "words selected :moeder vrouwen mevrouw schoonmoeder moeders grootmoeder dochter vrouw\n",
      "149\n"
     ]
    },
    {
     "name": "stderr",
     "output_type": "stream",
     "text": [
      "/usr/local/lib/python3.7/site-packages/ipykernel_launcher.py:2: DeprecationWarning: Call to deprecated `__contains__` (Method will be removed in 4.0.0, use self.wv.__contains__() instead).\n",
      "  \n"
     ]
    },
    {
     "ename": "AttributeError",
     "evalue": "'list' object has no attribute 'items'",
     "output_type": "error",
     "traceback": [
      "\u001b[0;31m---------------------------------------------------------------------------\u001b[0m",
      "\u001b[0;31mAttributeError\u001b[0m                            Traceback (most recent call last)",
      "\u001b[0;32m<ipython-input-347-c341f7568bc9>\u001b[0m in \u001b[0;36m<module>\u001b[0;34m\u001b[0m\n\u001b[1;32m      1\u001b[0m \u001b[0mpole\u001b[0m \u001b[0;34m=\u001b[0m \u001b[0;34m{\u001b[0m\u001b[0;34m\"vrouw\"\u001b[0m\u001b[0;34m,\u001b[0m\u001b[0;34m'vrouwen'\u001b[0m\u001b[0;34m,\u001b[0m\u001b[0;34m\"mevrouw\"\u001b[0m\u001b[0;34m,\u001b[0m\u001b[0;34m\"moeder\"\u001b[0m\u001b[0;34m,\u001b[0m\u001b[0;34m\"moeders\"\u001b[0m\u001b[0;34m,\u001b[0m\u001b[0;34m'grootmoeder'\u001b[0m\u001b[0;34m,\u001b[0m\u001b[0;34m\"dochter\"\u001b[0m\u001b[0;34m,\u001b[0m\u001b[0;34m\"schoonmoeder\"\u001b[0m\u001b[0;34m}\u001b[0m\u001b[0;34m\u001b[0m\u001b[0;34m\u001b[0m\u001b[0m\n\u001b[0;32m----> 2\u001b[0;31m \u001b[0mpole\u001b[0m \u001b[0;34m=\u001b[0m \u001b[0mlex_exp_bootstrap\u001b[0m\u001b[0;34m(\u001b[0m\u001b[0mpole\u001b[0m\u001b[0;34m,\u001b[0m\u001b[0mmodels\u001b[0m\u001b[0;34m[\u001b[0m\u001b[0;36m1880\u001b[0m\u001b[0;34m]\u001b[0m\u001b[0;34m)\u001b[0m\u001b[0;34m\u001b[0m\u001b[0;34m\u001b[0m\u001b[0m\n\u001b[0m",
      "\u001b[0;32m<ipython-input-346-c442f9e311c8>\u001b[0m in \u001b[0;36mlex_exp_bootstrap\u001b[0;34m(pole, model, topn)\u001b[0m\n\u001b[1;32m     22\u001b[0m                     \u001b[0mneighbours\u001b[0m\u001b[0;34m[\u001b[0m\u001b[0mw\u001b[0m\u001b[0;34m]\u001b[0m\u001b[0;34m+=\u001b[0m\u001b[0mv\u001b[0m\u001b[0;34m\u001b[0m\u001b[0;34m\u001b[0m\u001b[0m\n\u001b[1;32m     23\u001b[0m             \u001b[0mprint\u001b[0m\u001b[0;34m(\u001b[0m\u001b[0mlen\u001b[0m\u001b[0;34m(\u001b[0m\u001b[0mneighbours\u001b[0m\u001b[0;34m)\u001b[0m\u001b[0;34m)\u001b[0m\u001b[0;34m\u001b[0m\u001b[0;34m\u001b[0m\u001b[0m\n\u001b[0;32m---> 24\u001b[0;31m             \u001b[0mneighbours\u001b[0m \u001b[0;34m=\u001b[0m \u001b[0mtopn_new\u001b[0m\u001b[0;34m(\u001b[0m\u001b[0mneigbours\u001b[0m\u001b[0;34m,\u001b[0m\u001b[0mseen\u001b[0m\u001b[0;34m)\u001b[0m\u001b[0;34m\u001b[0m\u001b[0;34m\u001b[0m\u001b[0m\n\u001b[0m\u001b[1;32m     25\u001b[0m             \u001b[0mprint\u001b[0m\u001b[0;34m(\u001b[0m\u001b[0mlen\u001b[0m\u001b[0;34m(\u001b[0m\u001b[0mneighbours\u001b[0m\u001b[0;34m)\u001b[0m\u001b[0;34m)\u001b[0m\u001b[0;34m\u001b[0m\u001b[0;34m\u001b[0m\u001b[0m\n\u001b[1;32m     26\u001b[0m             \u001b[0mmax_val\u001b[0m \u001b[0;34m=\u001b[0m \u001b[0mnp\u001b[0m\u001b[0;34m.\u001b[0m\u001b[0mmax\u001b[0m\u001b[0;34m(\u001b[0m\u001b[0mlist\u001b[0m\u001b[0;34m(\u001b[0m\u001b[0mneighbours\u001b[0m\u001b[0;34m.\u001b[0m\u001b[0mvalues\u001b[0m\u001b[0;34m(\u001b[0m\u001b[0;34m)\u001b[0m\u001b[0;34m)\u001b[0m\u001b[0;34m)\u001b[0m\u001b[0;34m\u001b[0m\u001b[0;34m\u001b[0m\u001b[0m\n",
      "\u001b[0;32m<ipython-input-346-c442f9e311c8>\u001b[0m in \u001b[0;36mtopn_new\u001b[0;34m(neighbours, seen)\u001b[0m\n\u001b[1;32m      1\u001b[0m \u001b[0;32mdef\u001b[0m \u001b[0mlex_exp_bootstrap\u001b[0m\u001b[0;34m(\u001b[0m\u001b[0mpole\u001b[0m\u001b[0;34m,\u001b[0m\u001b[0mmodel\u001b[0m\u001b[0;34m,\u001b[0m\u001b[0mtopn\u001b[0m\u001b[0;34m=\u001b[0m\u001b[0;36m10\u001b[0m\u001b[0;34m)\u001b[0m\u001b[0;34m:\u001b[0m\u001b[0;34m\u001b[0m\u001b[0;34m\u001b[0m\u001b[0m\n\u001b[1;32m      2\u001b[0m     \u001b[0;32mdef\u001b[0m \u001b[0mtopn_new\u001b[0m\u001b[0;34m(\u001b[0m\u001b[0mneighbours\u001b[0m\u001b[0;34m,\u001b[0m\u001b[0mseen\u001b[0m\u001b[0;34m)\u001b[0m\u001b[0;34m:\u001b[0m\u001b[0;34m\u001b[0m\u001b[0;34m\u001b[0m\u001b[0m\n\u001b[0;32m----> 3\u001b[0;31m         \u001b[0mneighbours\u001b[0m \u001b[0;34m=\u001b[0m \u001b[0msorted\u001b[0m\u001b[0;34m(\u001b[0m\u001b[0mneighbours\u001b[0m\u001b[0;34m.\u001b[0m\u001b[0mitems\u001b[0m\u001b[0;34m(\u001b[0m\u001b[0;34m)\u001b[0m\u001b[0;34m,\u001b[0m\u001b[0mkey\u001b[0m\u001b[0;34m=\u001b[0m\u001b[0;32mlambda\u001b[0m \u001b[0mx\u001b[0m\u001b[0;34m:\u001b[0m \u001b[0mx\u001b[0m\u001b[0;34m[\u001b[0m\u001b[0;36m1\u001b[0m\u001b[0;34m]\u001b[0m\u001b[0;34m,\u001b[0m \u001b[0mreverse\u001b[0m\u001b[0;34m=\u001b[0m\u001b[0;32mTrue\u001b[0m\u001b[0;34m)\u001b[0m\u001b[0;34m\u001b[0m\u001b[0;34m\u001b[0m\u001b[0m\n\u001b[0m\u001b[1;32m      4\u001b[0m         \u001b[0mi\u001b[0m \u001b[0;34m=\u001b[0m \u001b[0;36m0\u001b[0m\u001b[0;34m\u001b[0m\u001b[0;34m\u001b[0m\u001b[0m\n\u001b[1;32m      5\u001b[0m         \u001b[0mcandidates\u001b[0m \u001b[0;34m=\u001b[0m \u001b[0;34m[\u001b[0m\u001b[0;34m]\u001b[0m\u001b[0;34m\u001b[0m\u001b[0;34m\u001b[0m\u001b[0m\n",
      "\u001b[0;31mAttributeError\u001b[0m: 'list' object has no attribute 'items'"
     ]
    }
   ],
   "source": [
    "pole = {\"vrouw\",'vrouwen',\"mevrouw\",\"moeder\",\"moeders\",'grootmoeder',\"dochter\",\"schoonmoeder\"}\n",
    "pole = lex_exp_bootstrap(pole,models[1880])"
   ]
  },
  {
   "cell_type": "code",
   "execution_count": 293,
   "metadata": {},
   "outputs": [
    {
     "name": "stdout",
     "output_type": "stream",
     "text": [
      "Pole 1 Lexicon (r.4): katholieke roomsch klerikale clericale roomschkatholieke ultramontaansche roomsch-katholieke\n",
      "Pole 2 Lexicon (r.4): lutb horvormdo lnth luthersche gereformeerde hervormdo gertf doopsgezinde luth horv evang baptisten nederlandsch-hervormde\n"
     ]
    },
    {
     "data": {
      "application/vnd.jupyter.widget-view+json": {
       "model_id": "e0e4454cabf142538d394c07d58bc72b",
       "version_major": 2,
       "version_minor": 0
      },
      "text/plain": [
       "HBox(children=(IntProgress(value=0, max=343393), HTML(value='')))"
      ]
     },
     "metadata": {},
     "output_type": "display_data"
    },
    {
     "name": "stdout",
     "output_type": "stream",
     "text": [
      "Leaving after 4 annotation rounds.\n"
     ]
    }
   ],
   "source": [
    "\n",
    "\n",
    "\n",
    "def lex_exp_semaxis(pole_1,pole_2,model,topn=10):\n",
    "    def create_axis(pole1,pole2):\n",
    "        v1 = np.mean([model.wv[w] for w in pole1 if w in model.wv.vocab],axis=0)\n",
    "        v2 = np.mean([model.wv[w] for w in pole2 if w in model.wv.vocab],axis=0)\n",
    "        return v1 - v2\n",
    "\n",
    "    def sort_vocab_by_axis(axis,model=model):\n",
    "        def project_word(w):\n",
    "            return 1 - cosine(model.wv[w],axis)\n",
    "        return {w : project_word(w) for w in tqdm_notebook(model.wv.vocab)}\n",
    "    \n",
    "    seen = set(pole_1).union(pole_2)\n",
    "    rounds = 0\n",
    "    \n",
    "\n",
    "    while True:\n",
    "        try:\n",
    "            clear_output(wait=True)\n",
    "            rounds+=1\n",
    "            \n",
    "            print(f\"Pole 1 Lexicon (r.{rounds}): \" + ' '.join(pole_1))\n",
    "            print(f\"Pole 2 Lexicon (r.{rounds}): \" + ' '.join(pole_2))\n",
    "            axis = create_axis(pole_1,pole_2)\n",
    "            sorted_vocab = sort_scores(sort_vocab_by_axis(axis))\n",
    "            for sort_dir in [1,-1]:\n",
    "                print(\"\\n\")\n",
    "                candidates = [w for w in top_new(sorted_vocab[::sort_dir],seen,topn=topn)]\n",
    "                annotations = [(w,int(input(f'Target word=\"{w}\"\\n(Options: pole_1 = 1,pole_2 = 2, na = 0)'))) for w in candidates]\n",
    "                pole_1.update([w for w,i in annotations if i==1]);pole_2.update([w for w,i in annotations if i==2])\n",
    "                seen.update(candidates)\n",
    "\n",
    "        except KeyboardInterrupt:\n",
    "            print(f\"Leaving after {rounds} annotation rounds.\")\n",
    "            return pole_1,pole_2\n",
    "        \n",
    "#pole_1 = {\"vrouw\",\"vrouwen\",\"moeder\",\"moeders\"}\n",
    "#pole_2 = {\"man\",\"mannen\",\"vader\",\"vaders\"}\n",
    "pole_1 = {'roomschkatholieke','roomsch','roomsch-katholieke','katholieke'}\n",
    "pole_2 = {'gereformeerde','luthersche','nederlandsch-hervormde','baptisten'}\n",
    "\n",
    "p1,p2 = lex_exp_semaxis(pole_1,pole_2,models[1880])\n",
    "\n"
   ]
  },
  {
   "cell_type": "code",
   "execution_count": 271,
   "metadata": {},
   "outputs": [
    {
     "data": {
      "text/plain": [
       "{'man', 'mannen', 'vrouw', 'vrouwen'}"
      ]
     },
     "execution_count": 271,
     "metadata": {},
     "output_type": "execute_result"
    }
   ],
   "source": [
    "pole_1 = {\"vrouw\",\"vrouwen\"}\n",
    "pole_2 = {\"man\",\"mannen\"}\n",
    "pole_1.union(pole_2)"
   ]
  },
  {
   "cell_type": "markdown",
   "metadata": {},
   "source": [
    "## Compute Bias"
   ]
  },
  {
   "cell_type": "code",
   "execution_count": 342,
   "metadata": {},
   "outputs": [
    {
     "data": {
      "application/vnd.jupyter.widget-view+json": {
       "model_id": "dc7e1ccb7a674b9082d7edd271262b94",
       "version_major": 2,
       "version_minor": 0
      },
      "text/plain": [
       "HBox(children=(IntProgress(value=0, max=5), HTML(value='')))"
      ]
     },
     "metadata": {},
     "output_type": "display_data"
    },
    {
     "name": "stderr",
     "output_type": "stream",
     "text": [
      "/usr/local/lib/python3.7/site-packages/ipykernel_launcher.py:2: DeprecationWarning: Call to deprecated `__contains__` (Method will be removed in 4.0.0, use self.wv.__contains__() instead).\n",
      "  \n"
     ]
    }
   ],
   "source": [
    "bias = defaultdict(list) \n",
    "pole_1 = [\"vrouw\",'viouw','vronw','vrouwen',\"mevrouw\",\"moeder\",\"moeders\",'grootmoeder','egtgenoote','zufter',\"dochter\",\"schoonmoeder\",\"juffer\",\"nicht\"]\n",
    "pole_2 = ['man','mannen','mau','heer',\"vader\",\"vaders\",'grootvader','schoonvader','broeder','zoon',\"broeder\",\"oom\",\"neef\"]\n",
    "#target = ['zacht','bedaard','teeder','geduldig','kalm','zwak','liefelijk','goedig','zagt','zachtkens','goedig','arme']\n",
    "#target =  [\"machine\",'werktuig','werktuigen','machines','vervaardigen','werkte','werk','werkjen']\n",
    "#target = ['kind','kinderen','kindertjes','kinders','kindereu','dochters','zuigeling']\n",
    "target =  ['mensch','menschen','mensen','wezens','menseh','mensehen','menseben','mens']\n",
    "#pole_1 = ['katholieke', 'roomsch', 'klerikale', 'clericale', 'roomschkatholieke', 'ultramontaansche', 'roomsch-katholieke']\n",
    "#pole_2 = ['lutb', 'horvormdo', 'lnth', 'luthersche', 'gereformeerde', 'hervormdo', 'gertf', 'doopsgezinde', 'luth', 'horv', 'evang', 'bapti']\n",
    "#target = [\"nederlandsen\",\"nederlandsch\",\"nederland\",\"vaderlandsch\",\"vaderland\"]\n",
    "\n",
    "def sample(wordlist,cutoff=0.8):\n",
    "    random.shuffle(wordlist)\n",
    "    return wordlist[:int(len(wordlist)*cutoff)]\n",
    "\n",
    "for year,model in tqdm_notebook(sorted(models.items())):\n",
    "    for _ in range(100):\n",
    "        p1 = 1 - cosine(average_vector(sample(pole_1),model),average_vector(sample(target),model))\n",
    "        p2 = 1- cosine(average_vector(sample(pole_2),model),average_vector(sample(target),model))\n",
    "        bias[year].append(p1-p2)"
   ]
  },
  {
   "cell_type": "code",
   "execution_count": 286,
   "metadata": {},
   "outputs": [],
   "source": [
    "def ci(data, confidence=0.95):\n",
    "    a = 1.0 * np.array(data)\n",
    "    n = len(a)\n",
    "    m, se = np.mean(a), scipy.stats.sem(a)\n",
    "    h = se * scipy.stats.t.ppf((1 + confidence) / 2., n-1)\n",
    "    return h"
   ]
  },
  {
   "cell_type": "code",
   "execution_count": 343,
   "metadata": {},
   "outputs": [
    {
     "data": {
      "text/plain": [
       "<matplotlib.axes._subplots.AxesSubplot at 0x134cf0240>"
      ]
     },
     "execution_count": 343,
     "metadata": {},
     "output_type": "execute_result"
    },
    {
     "data": {
      "image/png": "[encoded data removed]",
      "text/plain": [
       "<Figure size 576x396 with 1 Axes>"
      ]
     },
     "metadata": {},
     "output_type": "display_data"
    }
   ],
   "source": [
    "df = pd.DataFrame(np.array([[np.mean(v),np.std(v)] for k,v in bias.items()]),columns=['mean','std'],index=sorted(models.keys()))\n",
    "df['mean'].plot(kind=\"bar\",yerr=df['std'],align='center',  alpha=0.5, ecolor='black', capsize=10)"
   ]
  }
 ],
 "metadata": {
  "kernelspec": {
   "display_name": "Python 3",
   "language": "python",
   "name": "python3"
  },
  "language_info": {
   "codemirror_mode": {
    "name": "ipython",
    "version": 3
   },
   "file_extension": ".py",
   "mimetype": "text/x-python",
   "name": "python",
   "nbconvert_exporter": "python",
   "pygments_lexer": "ipython3",
   "version": "3.7.3"
  }
 },
 "nbformat": 4,
 "nbformat_minor": 2
}
