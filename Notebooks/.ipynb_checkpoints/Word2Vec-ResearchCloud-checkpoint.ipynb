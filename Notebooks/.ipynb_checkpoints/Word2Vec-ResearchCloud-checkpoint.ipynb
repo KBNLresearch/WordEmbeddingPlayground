{
 "cells": [
  {
   "cell_type": "markdown",
   "metadata": {},
   "source": [
    "# Word2Vec in Python "
   ]
  },
  {
   "cell_type": "code",
   "execution_count": 1,
   "metadata": {},
   "outputs": [],
   "source": [
    "%load_ext autoreload"
   ]
  },
  {
   "cell_type": "code",
   "execution_count": 2,
   "metadata": {},
   "outputs": [],
   "source": [
    "%autoreload 2\n",
    "#from zipfile import ZipFile\n",
    "from gensim.models.word2vec import Word2Vec \n",
    "#from joblib import parallel_backend\n",
    "#import multiprocessing\n",
    "#import nltk.data\n",
    "#from lxml import etree\n",
    "#from io import StringIO,BytesIO\n",
    "#import re\n",
    "#import unidecode\n",
    "import logging\n",
    "from utils import *\n",
    "logging.basicConfig(format='%(asctime)s : %(levelname)s : %(message)s', level=logging.INFO)"
   ]
  },
  {
   "cell_type": "markdown",
   "metadata": {},
   "source": [
    "## Data Parameters"
   ]
  },
  {
   "cell_type": "code",
   "execution_count": 3,
   "metadata": {},
   "outputs": [],
   "source": [
    "START_YEAR = 1805\n",
    "END_YEAR = 1809\n",
    "ROOT = \"../../data/ResearchDrive/\"\n",
    "OUTPUT = f\"../../models/{START_YEAR}-{END_YEAR}.w2v.model\""
   ]
  },
  {
   "cell_type": "markdown",
   "metadata": {},
   "source": [
    "## Model Hyperparameters"
   ]
  },
  {
   "cell_type": "code",
   "execution_count": null,
   "metadata": {},
   "outputs": [],
   "source": [
    "SIZE = 100\n",
    "WINDOW = 5\n",
    "MIN_COUNT = 10"
   ]
  },
  {
   "cell_type": "markdown",
   "metadata": {},
   "source": [
    "## Training and saving a model"
   ]
  },
  {
   "cell_type": "code",
   "execution_count": null,
   "metadata": {},
   "outputs": [
    {
     "name": "stderr",
     "output_type": "stream",
     "text": [
      "2019-11-07 16:58:28,458 : INFO : collecting all words and their counts\n",
      "2019-11-07 16:58:29,136 : INFO : PROGRESS: at sentence #0, processed 0 words, keeping 0 word types\n",
      "2019-11-07 16:58:30,187 : INFO : PROGRESS: at sentence #10000, processed 187706 words, keeping 43843 word types\n",
      "2019-11-07 16:58:31,283 : INFO : PROGRESS: at sentence #20000, processed 400253 words, keeping 76391 word types\n",
      "2019-11-07 16:58:32,381 : INFO : PROGRESS: at sentence #30000, processed 617115 words, keeping 106700 word types\n",
      "2019-11-07 16:58:33,529 : INFO : PROGRESS: at sentence #40000, processed 818297 words, keeping 138218 word types\n",
      "2019-11-07 16:58:34,645 : INFO : PROGRESS: at sentence #50000, processed 1023624 words, keeping 163007 word types\n",
      "2019-11-07 16:58:35,828 : INFO : PROGRESS: at sentence #60000, processed 1231788 words, keeping 190543 word types\n",
      "2019-11-07 16:58:36,958 : INFO : PROGRESS: at sentence #70000, processed 1437708 words, keeping 215088 word types\n",
      "2019-11-07 16:58:38,053 : INFO : PROGRESS: at sentence #80000, processed 1632575 words, keeping 243073 word types\n",
      "2019-11-07 16:58:39,172 : INFO : PROGRESS: at sentence #90000, processed 1832967 words, keeping 263833 word types\n",
      "2019-11-07 16:58:40,281 : INFO : PROGRESS: at sentence #100000, processed 2027762 words, keeping 290056 word types\n",
      "2019-11-07 16:58:41,369 : INFO : PROGRESS: at sentence #110000, processed 2220609 words, keeping 310430 word types\n",
      "2019-11-07 16:58:42,506 : INFO : PROGRESS: at sentence #120000, processed 2415671 words, keeping 335100 word types\n",
      "2019-11-07 16:58:43,655 : INFO : PROGRESS: at sentence #130000, processed 2612743 words, keeping 355137 word types\n",
      "2019-11-07 16:58:44,838 : INFO : PROGRESS: at sentence #140000, processed 2817954 words, keeping 375265 word types\n",
      "2019-11-07 16:58:45,931 : INFO : PROGRESS: at sentence #150000, processed 3011124 words, keeping 399998 word types\n",
      "2019-11-07 16:58:47,065 : INFO : PROGRESS: at sentence #160000, processed 3223806 words, keeping 419519 word types\n",
      "2019-11-07 16:58:48,091 : INFO : PROGRESS: at sentence #170000, processed 3420435 words, keeping 439239 word types\n",
      "2019-11-07 16:58:49,084 : INFO : PROGRESS: at sentence #180000, processed 3594993 words, keeping 454865 word types\n",
      "2019-11-07 16:58:50,133 : INFO : PROGRESS: at sentence #190000, processed 3791885 words, keeping 475796 word types\n",
      "2019-11-07 16:58:51,151 : INFO : PROGRESS: at sentence #200000, processed 3976568 words, keeping 489230 word types\n",
      "2019-11-07 16:58:52,111 : INFO : PROGRESS: at sentence #210000, processed 4145356 words, keeping 505359 word types\n",
      "2019-11-07 16:58:53,233 : INFO : PROGRESS: at sentence #220000, processed 4354815 words, keeping 524749 word types\n",
      "2019-11-07 16:58:54,285 : INFO : PROGRESS: at sentence #230000, processed 4530246 words, keeping 542092 word types\n",
      "2019-11-07 16:58:55,382 : INFO : PROGRESS: at sentence #240000, processed 4729458 words, keeping 563310 word types\n",
      "2019-11-07 16:58:56,350 : INFO : PROGRESS: at sentence #250000, processed 4893547 words, keeping 578012 word types\n",
      "2019-11-07 16:58:57,312 : INFO : PROGRESS: at sentence #260000, processed 5058634 words, keeping 596846 word types\n",
      "2019-11-07 16:58:58,283 : INFO : PROGRESS: at sentence #270000, processed 5235120 words, keeping 610590 word types\n",
      "2019-11-07 16:58:59,251 : INFO : PROGRESS: at sentence #280000, processed 5408501 words, keeping 625430 word types\n",
      "2019-11-07 16:59:00,176 : INFO : PROGRESS: at sentence #290000, processed 5571287 words, keeping 637910 word types\n",
      "2019-11-07 16:59:01,217 : INFO : PROGRESS: at sentence #300000, processed 5758167 words, keeping 652431 word types\n",
      "2019-11-07 16:59:02,190 : INFO : PROGRESS: at sentence #310000, processed 5927793 words, keeping 668199 word types\n",
      "2019-11-07 16:59:03,263 : INFO : PROGRESS: at sentence #320000, processed 6130197 words, keeping 682782 word types\n",
      "2019-11-07 16:59:04,194 : INFO : PROGRESS: at sentence #330000, processed 6288513 words, keeping 698429 word types\n",
      "2019-11-07 16:59:05,278 : INFO : PROGRESS: at sentence #340000, processed 6486360 words, keeping 713632 word types\n",
      "2019-11-07 16:59:06,265 : INFO : PROGRESS: at sentence #350000, processed 6656181 words, keeping 729196 word types\n",
      "2019-11-07 16:59:07,388 : INFO : PROGRESS: at sentence #360000, processed 6874123 words, keeping 744880 word types\n",
      "2019-11-07 16:59:08,284 : INFO : PROGRESS: at sentence #370000, processed 7020810 words, keeping 759046 word types\n",
      "2019-11-07 16:59:09,354 : INFO : PROGRESS: at sentence #380000, processed 7225510 words, keeping 773552 word types\n",
      "2019-11-07 16:59:10,205 : INFO : PROGRESS: at sentence #390000, processed 7368744 words, keeping 785757 word types\n",
      "2019-11-07 16:59:11,264 : INFO : PROGRESS: at sentence #400000, processed 7564076 words, keeping 799187 word types\n",
      "2019-11-07 16:59:12,098 : INFO : PROGRESS: at sentence #410000, processed 7703101 words, keeping 811624 word types\n",
      "2019-11-07 16:59:13,148 : INFO : PROGRESS: at sentence #420000, processed 7900626 words, keeping 825323 word types\n",
      "2019-11-07 16:59:14,045 : INFO : PROGRESS: at sentence #430000, processed 8053817 words, keeping 840336 word types\n",
      "2019-11-07 16:59:15,142 : INFO : PROGRESS: at sentence #440000, processed 8264197 words, keeping 855729 word types\n",
      "2019-11-07 16:59:16,073 : INFO : PROGRESS: at sentence #450000, processed 8429921 words, keeping 871558 word types\n",
      "2019-11-07 16:59:17,153 : INFO : PROGRESS: at sentence #460000, processed 8627635 words, keeping 888062 word types\n",
      "2019-11-07 16:59:18,093 : INFO : PROGRESS: at sentence #470000, processed 8799580 words, keeping 902734 word types\n",
      "2019-11-07 16:59:19,033 : INFO : PROGRESS: at sentence #480000, processed 8976502 words, keeping 916783 word types\n",
      "2019-11-07 16:59:19,995 : INFO : PROGRESS: at sentence #490000, processed 9159495 words, keeping 931576 word types\n",
      "2019-11-07 16:59:21,083 : INFO : PROGRESS: at sentence #500000, processed 9365449 words, keeping 951388 word types\n",
      "2019-11-07 16:59:22,131 : INFO : PROGRESS: at sentence #510000, processed 9551295 words, keeping 968265 word types\n",
      "2019-11-07 16:59:23,133 : INFO : PROGRESS: at sentence #520000, processed 9724717 words, keeping 986073 word types\n",
      "2019-11-07 16:59:24,093 : INFO : PROGRESS: at sentence #530000, processed 9888517 words, keeping 1002573 word types\n",
      "2019-11-07 16:59:25,140 : INFO : PROGRESS: at sentence #540000, processed 10082476 words, keeping 1021052 word types\n",
      "2019-11-07 16:59:26,135 : INFO : PROGRESS: at sentence #550000, processed 10255127 words, keeping 1038392 word types\n",
      "2019-11-07 16:59:27,179 : INFO : PROGRESS: at sentence #560000, processed 10453469 words, keeping 1058583 word types\n",
      "2019-11-07 16:59:28,224 : INFO : PROGRESS: at sentence #570000, processed 10638296 words, keeping 1076459 word types\n",
      "2019-11-07 16:59:29,191 : INFO : PROGRESS: at sentence #580000, processed 10813904 words, keeping 1093542 word types\n",
      "2019-11-07 16:59:30,195 : INFO : PROGRESS: at sentence #590000, processed 10996353 words, keeping 1109301 word types\n",
      "2019-11-07 16:59:31,155 : INFO : PROGRESS: at sentence #600000, processed 11169309 words, keeping 1124406 word types\n",
      "2019-11-07 16:59:32,214 : INFO : PROGRESS: at sentence #610000, processed 11368789 words, keeping 1139908 word types\n",
      "2019-11-07 16:59:33,252 : INFO : PROGRESS: at sentence #620000, processed 11554346 words, keeping 1158037 word types\n",
      "2019-11-07 16:59:34,272 : INFO : PROGRESS: at sentence #630000, processed 11750149 words, keeping 1173404 word types\n",
      "2019-11-07 16:59:35,256 : INFO : PROGRESS: at sentence #640000, processed 11920385 words, keeping 1190502 word types\n",
      "2019-11-07 16:59:36,387 : INFO : PROGRESS: at sentence #650000, processed 12122872 words, keeping 1207770 word types\n",
      "2019-11-07 16:59:37,465 : INFO : PROGRESS: at sentence #660000, processed 12311929 words, keeping 1223636 word types\n",
      "2019-11-07 16:59:38,504 : INFO : PROGRESS: at sentence #670000, processed 12506684 words, keeping 1240975 word types\n",
      "2019-11-07 16:59:39,570 : INFO : PROGRESS: at sentence #680000, processed 12695055 words, keeping 1256900 word types\n",
      "2019-11-07 16:59:40,575 : INFO : PROGRESS: at sentence #690000, processed 12876226 words, keeping 1272618 word types\n",
      "2019-11-07 16:59:41,593 : INFO : PROGRESS: at sentence #700000, processed 13070137 words, keeping 1287619 word types\n"
     ]
    },
    {
     "name": "stderr",
     "output_type": "stream",
     "text": [
      "2019-11-07 16:59:42,557 : INFO : PROGRESS: at sentence #710000, processed 13244641 words, keeping 1302635 word types\n",
      "2019-11-07 16:59:43,604 : INFO : PROGRESS: at sentence #720000, processed 13439102 words, keeping 1318263 word types\n",
      "2019-11-07 16:59:44,598 : INFO : PROGRESS: at sentence #730000, processed 13619900 words, keeping 1333718 word types\n",
      "2019-11-07 16:59:45,658 : INFO : PROGRESS: at sentence #740000, processed 13824742 words, keeping 1349350 word types\n",
      "2019-11-07 16:59:46,628 : INFO : PROGRESS: at sentence #750000, processed 13994324 words, keeping 1365602 word types\n",
      "2019-11-07 16:59:47,696 : INFO : PROGRESS: at sentence #760000, processed 14201197 words, keeping 1382810 word types\n",
      "2019-11-07 16:59:48,769 : INFO : PROGRESS: at sentence #770000, processed 14376974 words, keeping 1402352 word types\n",
      "2019-11-07 16:59:49,841 : INFO : PROGRESS: at sentence #780000, processed 14582838 words, keeping 1420554 word types\n",
      "2019-11-07 16:59:50,756 : INFO : PROGRESS: at sentence #790000, processed 14736630 words, keeping 1436621 word types\n",
      "2019-11-07 16:59:51,700 : INFO : PROGRESS: at sentence #800000, processed 14907039 words, keeping 1451389 word types\n",
      "2019-11-07 16:59:52,699 : INFO : PROGRESS: at sentence #810000, processed 15085247 words, keeping 1469340 word types\n",
      "2019-11-07 16:59:53,631 : INFO : PROGRESS: at sentence #820000, processed 15258998 words, keeping 1482622 word types\n",
      "2019-11-07 16:59:54,640 : INFO : PROGRESS: at sentence #830000, processed 15453223 words, keeping 1496996 word types\n",
      "2019-11-07 16:59:55,561 : INFO : PROGRESS: at sentence #840000, processed 15616892 words, keeping 1513066 word types\n",
      "2019-11-07 16:59:56,571 : INFO : PROGRESS: at sentence #850000, processed 15813103 words, keeping 1529516 word types\n",
      "2019-11-07 16:59:57,573 : INFO : PROGRESS: at sentence #860000, processed 15993634 words, keeping 1544872 word types\n",
      "2019-11-07 16:59:58,462 : INFO : PROGRESS: at sentence #870000, processed 16154400 words, keeping 1558335 word types\n",
      "2019-11-07 16:59:59,464 : INFO : PROGRESS: at sentence #880000, processed 16346384 words, keeping 1573073 word types\n",
      "2019-11-07 17:00:00,313 : INFO : PROGRESS: at sentence #890000, processed 16492987 words, keeping 1586899 word types\n",
      "2019-11-07 17:00:01,274 : INFO : PROGRESS: at sentence #900000, processed 16666648 words, keeping 1600875 word types\n",
      "2019-11-07 17:00:02,289 : INFO : PROGRESS: at sentence #910000, processed 16852021 words, keeping 1616524 word types\n",
      "2019-11-07 17:00:03,201 : INFO : PROGRESS: at sentence #920000, processed 17015332 words, keeping 1629163 word types\n",
      "2019-11-07 17:00:04,204 : INFO : PROGRESS: at sentence #930000, processed 17212314 words, keeping 1643786 word types\n",
      "2019-11-07 17:00:05,237 : INFO : PROGRESS: at sentence #940000, processed 17386316 words, keeping 1659998 word types\n",
      "2019-11-07 17:00:06,368 : INFO : PROGRESS: at sentence #950000, processed 17571937 words, keeping 1675703 word types\n",
      "2019-11-07 17:00:07,547 : INFO : PROGRESS: at sentence #960000, processed 17757656 words, keeping 1692734 word types\n",
      "2019-11-07 17:00:08,532 : INFO : PROGRESS: at sentence #970000, processed 17906607 words, keeping 1703475 word types\n",
      "2019-11-07 17:00:10,030 : INFO : PROGRESS: at sentence #980000, processed 18103862 words, keeping 1721253 word types\n",
      "2019-11-07 17:00:11,065 : INFO : PROGRESS: at sentence #990000, processed 18275694 words, keeping 1733285 word types\n",
      "2019-11-07 17:00:12,156 : INFO : PROGRESS: at sentence #1000000, processed 18475715 words, keeping 1751742 word types\n",
      "2019-11-07 17:00:13,147 : INFO : PROGRESS: at sentence #1010000, processed 18653080 words, keeping 1766763 word types\n",
      "2019-11-07 17:00:14,200 : INFO : PROGRESS: at sentence #1020000, processed 18863507 words, keeping 1783067 word types\n"
     ]
    }
   ],
   "source": [
    "sentences = SentIterator(ROOT,date_range=(START_YEAR,END_YEAR))\n",
    "model = Word2Vec(size=SIZE, window=WINDOW, min_count=MIN_COUNT)\n",
    "model.build_vocab(sentences=sentences)\n",
    "total_examples = model.corpus_count\n",
    "model.train(sentences=sentences, total_examples=total_examples, epochs=5)"
   ]
  },
  {
   "cell_type": "markdown",
   "metadata": {},
   "source": [
    "## Save model"
   ]
  },
  {
   "cell_type": "code",
   "execution_count": null,
   "metadata": {},
   "outputs": [],
   "source": [
    "model.save(OUTPUT)"
   ]
  },
  {
   "cell_type": "markdown",
   "metadata": {},
   "source": [
    "## Load model"
   ]
  },
  {
   "cell_type": "code",
   "execution_count": null,
   "metadata": {},
   "outputs": [],
   "source": [
    "model = Word2Vec.load(path)\n",
    "print(model)"
   ]
  },
  {
   "cell_type": "markdown",
   "metadata": {},
   "source": [
    "## Query model"
   ]
  },
  {
   "cell_type": "code",
   "execution_count": null,
   "metadata": {},
   "outputs": [],
   "source": [
    "query = 'vrouw'\n",
    "model.most_similar(query)"
   ]
  }
 ],
 "metadata": {
  "kernelspec": {
   "display_name": "Python 3",
   "language": "python",
   "name": "python3"
  },
  "language_info": {
   "codemirror_mode": {
    "name": "ipython",
    "version": 3
   },
   "file_extension": ".py",
   "mimetype": "text/x-python",
   "name": "python",
   "nbconvert_exporter": "python",
   "pygments_lexer": "ipython3",
   "version": "3.7.4"
  }
 },
 "nbformat": 4,
 "nbformat_minor": 2
}
