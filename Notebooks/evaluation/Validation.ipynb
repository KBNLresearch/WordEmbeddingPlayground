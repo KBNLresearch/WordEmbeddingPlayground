{
 "cells": [
  {
   "cell_type": "markdown",
   "metadata": {},
   "source": [
    "## Evaluation of minibatch-updates\n",
    "\n",
    "Can we use updates for documents scoring\n",
    "\n",
    "Evaluation strategy based on political mashup data\n",
    "\n",
    "- [ ] Get snippets for the word democracy by political party (Labour/Conservative)\n",
    "- [ ] Divide in train/test set\n",
    "- [ ] Get existing model, update with examples from training set, \n",
    "- [ ] Check how consistent updates increase left or rightwing bias. How? One strategy is to update model with all Labour examples, then for each Labour document the updates should be smaller than for the Conservative ones?"
   ]
  },
  {
   "cell_type": "code",
   "execution_count": 2,
   "metadata": {},
   "outputs": [],
   "source": [
    "%load_ext autoreload"
   ]
  },
  {
   "cell_type": "code",
   "execution_count": 3,
   "metadata": {},
   "outputs": [],
   "source": [
    "%autoreload 2\n",
    "%matplotlib inline\n",
    "import gensim.downloader as api\n",
    "from gensim.models.word2vec import Word2Vec\n",
    "from tqdm import tqdm_notebook\n",
    "import pandas as pd\n",
    "import re\n",
    "import sys\n",
    "sys.path.append('../')\n",
    "from utils import *"
   ]
  },
  {
   "cell_type": "code",
   "execution_count": 4,
   "metadata": {},
   "outputs": [],
   "source": [
    "def cleanhtml(raw_html):\n",
    "    cleanr = re.compile('<.*?>')\n",
    "    cleantext = re.sub(cleanr, '', raw_html)\n",
    "    return cleantext\n",
    "\n",
    "num_tokens = lambda x: len(x.split())"
   ]
  },
  {
   "cell_type": "code",
   "execution_count": 5,
   "metadata": {},
   "outputs": [],
   "source": [
    "df = pd.read_csv('democracy_hits.csv',escapechar='\\\\')"
   ]
  },
  {
   "cell_type": "code",
   "execution_count": 6,
   "metadata": {},
   "outputs": [],
   "source": [
    "df['text'] = df['highlight text'].apply(cleanhtml)"
   ]
  },
  {
   "cell_type": "code",
   "execution_count": 7,
   "metadata": {},
   "outputs": [],
   "source": [
    "df['length'] = df['text'].apply(num_tokens)"
   ]
  },
  {
   "cell_type": "code",
   "execution_count": 8,
   "metadata": {},
   "outputs": [
    {
     "data": {
      "text/html": [
       "<div>\n",
       "<style scoped>\n",
       "    .dataframe tbody tr th:only-of-type {\n",
       "        vertical-align: middle;\n",
       "    }\n",
       "\n",
       "    .dataframe tbody tr th {\n",
       "        vertical-align: top;\n",
       "    }\n",
       "\n",
       "    .dataframe thead th {\n",
       "        text-align: right;\n",
       "    }\n",
       "</style>\n",
       "<table border=\"1\" class=\"dataframe\">\n",
       "  <thead>\n",
       "    <tr style=\"text-align: right;\">\n",
       "      <th></th>\n",
       "      <th>id</th>\n",
       "      <th>index</th>\n",
       "      <th>type</th>\n",
       "      <th>score</th>\n",
       "      <th>date</th>\n",
       "      <th>speaker</th>\n",
       "      <th>party</th>\n",
       "      <th>function</th>\n",
       "      <th>role</th>\n",
       "      <th>paragraphs_count</th>\n",
       "      <th>house</th>\n",
       "      <th>highlight text</th>\n",
       "      <th>text</th>\n",
       "      <th>length</th>\n",
       "    </tr>\n",
       "  </thead>\n",
       "  <tbody>\n",
       "    <tr>\n",
       "      <td>0</td>\n",
       "      <td>uk.proc.d.1988-07-27.12.1.67</td>\n",
       "      <td>uk.proc</td>\n",
       "      <td>speech</td>\n",
       "      <td>1.245629</td>\n",
       "      <td>1988-07-27</td>\n",
       "      <td>Mr. Flannery</td>\n",
       "      <td>Labour</td>\n",
       "      <td>NaN</td>\n",
       "      <td>mp</td>\n",
       "      <td>2</td>\n",
       "      <td>commons</td>\n",
       "      <td>I am about to finish so that another hon. Memb...</td>\n",
       "      <td>I am about to finish so that another hon. Memb...</td>\n",
       "      <td>58</td>\n",
       "    </tr>\n",
       "    <tr>\n",
       "      <td>1</td>\n",
       "      <td>uk.proc.d.1987-11-03.8.1.108</td>\n",
       "      <td>uk.proc</td>\n",
       "      <td>speech</td>\n",
       "      <td>1.150663</td>\n",
       "      <td>1987-11-03</td>\n",
       "      <td>Mr. Leigh</td>\n",
       "      <td>Conservative</td>\n",
       "      <td>NaN</td>\n",
       "      <td>mp</td>\n",
       "      <td>1</td>\n",
       "      <td>commons</td>\n",
       "      <td>&lt;em&gt;Democracy&lt;/em&gt;.</td>\n",
       "      <td>Democracy.</td>\n",
       "      <td>1</td>\n",
       "    </tr>\n",
       "    <tr>\n",
       "      <td>2</td>\n",
       "      <td>uk.proc.d.1961-04-24.17.1.30</td>\n",
       "      <td>uk.proc</td>\n",
       "      <td>speech</td>\n",
       "      <td>1.150663</td>\n",
       "      <td>1961-04-24</td>\n",
       "      <td>Mr. A. Fenner Brockway</td>\n",
       "      <td>Labour</td>\n",
       "      <td>NaN</td>\n",
       "      <td>mp</td>\n",
       "      <td>1</td>\n",
       "      <td>commons</td>\n",
       "      <td>&lt;em&gt;Democracy&lt;/em&gt;.</td>\n",
       "      <td>Democracy.</td>\n",
       "      <td>1</td>\n",
       "    </tr>\n",
       "    <tr>\n",
       "      <td>3</td>\n",
       "      <td>uk.proc.d.1978-12-06.7.1.30</td>\n",
       "      <td>uk.proc</td>\n",
       "      <td>speech</td>\n",
       "      <td>1.089925</td>\n",
       "      <td>1978-12-06</td>\n",
       "      <td>Mr. Thorne</td>\n",
       "      <td>Labour</td>\n",
       "      <td>NaN</td>\n",
       "      <td>mp</td>\n",
       "      <td>2</td>\n",
       "      <td>commons</td>\n",
       "      <td>We have a &lt;em&gt;democracy&lt;/em&gt; in the United Kin...</td>\n",
       "      <td>We have a democracy in the United Kingdom with...</td>\n",
       "      <td>67</td>\n",
       "    </tr>\n",
       "    <tr>\n",
       "      <td>4</td>\n",
       "      <td>uk.proc.d.1970-12-03.14.1.214</td>\n",
       "      <td>uk.proc</td>\n",
       "      <td>speech</td>\n",
       "      <td>1.078746</td>\n",
       "      <td>1970-12-03</td>\n",
       "      <td>Mr. Ogden</td>\n",
       "      <td>Labour</td>\n",
       "      <td>NaN</td>\n",
       "      <td>mp</td>\n",
       "      <td>2</td>\n",
       "      <td>commons</td>\n",
       "      <td>No, I will not give way. The hon. Member for H...</td>\n",
       "      <td>No, I will not give way. The hon. Member for H...</td>\n",
       "      <td>27</td>\n",
       "    </tr>\n",
       "  </tbody>\n",
       "</table>\n",
       "</div>"
      ],
      "text/plain": [
       "                              id    index    type     score        date  \\\n",
       "0   uk.proc.d.1988-07-27.12.1.67  uk.proc  speech  1.245629  1988-07-27   \n",
       "1   uk.proc.d.1987-11-03.8.1.108  uk.proc  speech  1.150663  1987-11-03   \n",
       "2   uk.proc.d.1961-04-24.17.1.30  uk.proc  speech  1.150663  1961-04-24   \n",
       "3    uk.proc.d.1978-12-06.7.1.30  uk.proc  speech  1.089925  1978-12-06   \n",
       "4  uk.proc.d.1970-12-03.14.1.214  uk.proc  speech  1.078746  1970-12-03   \n",
       "\n",
       "                  speaker         party function role  paragraphs_count  \\\n",
       "0            Mr. Flannery        Labour      NaN   mp                 2   \n",
       "1               Mr. Leigh  Conservative      NaN   mp                 1   \n",
       "2  Mr. A. Fenner Brockway        Labour      NaN   mp                 1   \n",
       "3              Mr. Thorne        Labour      NaN   mp                 2   \n",
       "4               Mr. Ogden        Labour      NaN   mp                 2   \n",
       "\n",
       "     house                                     highlight text  \\\n",
       "0  commons  I am about to finish so that another hon. Memb...   \n",
       "1  commons                                <em>Democracy</em>.   \n",
       "2  commons                                <em>Democracy</em>.   \n",
       "3  commons  We have a <em>democracy</em> in the United Kin...   \n",
       "4  commons  No, I will not give way. The hon. Member for H...   \n",
       "\n",
       "                                                text  length  \n",
       "0  I am about to finish so that another hon. Memb...      58  \n",
       "1                                         Democracy.       1  \n",
       "2                                         Democracy.       1  \n",
       "3  We have a democracy in the United Kingdom with...      67  \n",
       "4  No, I will not give way. The hon. Member for H...      27  "
      ]
     },
     "execution_count": 8,
     "metadata": {},
     "output_type": "execute_result"
    }
   ],
   "source": [
    "df.head()"
   ]
  },
  {
   "cell_type": "code",
   "execution_count": 9,
   "metadata": {},
   "outputs": [],
   "source": [
    "dayParty = df.groupby(['date','party']).agg({'text': ' '.join, 'length': sum})"
   ]
  },
  {
   "cell_type": "code",
   "execution_count": 10,
   "metadata": {},
   "outputs": [
    {
     "data": {
      "text/html": [
       "<div>\n",
       "<style scoped>\n",
       "    .dataframe tbody tr th:only-of-type {\n",
       "        vertical-align: middle;\n",
       "    }\n",
       "\n",
       "    .dataframe tbody tr th {\n",
       "        vertical-align: top;\n",
       "    }\n",
       "\n",
       "    .dataframe thead th {\n",
       "        text-align: right;\n",
       "    }\n",
       "</style>\n",
       "<table border=\"1\" class=\"dataframe\">\n",
       "  <thead>\n",
       "    <tr style=\"text-align: right;\">\n",
       "      <th></th>\n",
       "      <th></th>\n",
       "      <th>text</th>\n",
       "      <th>length</th>\n",
       "    </tr>\n",
       "    <tr>\n",
       "      <th>date</th>\n",
       "      <th>party</th>\n",
       "      <th></th>\n",
       "      <th></th>\n",
       "    </tr>\n",
       "  </thead>\n",
       "  <tbody>\n",
       "    <tr>\n",
       "      <td>1971-02-17</td>\n",
       "      <td>Labour</td>\n",
       "      <td>elected to uphold parliamentary democracy and...</td>\n",
       "      <td>49</td>\n",
       "    </tr>\n",
       "    <tr>\n",
       "      <td>1991-06-18</td>\n",
       "      <td>Labour</td>\n",
       "      <td>I apologise, Mr. Deputy Speaker. The Governmen...</td>\n",
       "      <td>182</td>\n",
       "    </tr>\n",
       "    <tr>\n",
       "      <td>1990-01-19</td>\n",
       "      <td>Conservative</td>\n",
       "      <td>pace or the democratisation of Hong Kong's Le...</td>\n",
       "      <td>114</td>\n",
       "    </tr>\n",
       "    <tr>\n",
       "      <td>1990-03-20</td>\n",
       "      <td>Labour</td>\n",
       "      <td>fortunate enough to have raised a couple of A...</td>\n",
       "      <td>60</td>\n",
       "    </tr>\n",
       "    <tr>\n",
       "      <td>1983-07-18</td>\n",
       "      <td>Labour</td>\n",
       "      <td>undemocratic tactics to ensure that DLOs cann...</td>\n",
       "      <td>56</td>\n",
       "    </tr>\n",
       "  </tbody>\n",
       "</table>\n",
       "</div>"
      ],
      "text/plain": [
       "                                                                      text  \\\n",
       "date       party                                                             \n",
       "1971-02-17 Labour         elected to uphold parliamentary democracy and...   \n",
       "1991-06-18 Labour        I apologise, Mr. Deputy Speaker. The Governmen...   \n",
       "1990-01-19 Conservative   pace or the democratisation of Hong Kong's Le...   \n",
       "1990-03-20 Labour         fortunate enough to have raised a couple of A...   \n",
       "1983-07-18 Labour         undemocratic tactics to ensure that DLOs cann...   \n",
       "\n",
       "                         length  \n",
       "date       party                 \n",
       "1971-02-17 Labour            49  \n",
       "1991-06-18 Labour           182  \n",
       "1990-01-19 Conservative     114  \n",
       "1990-03-20 Labour            60  \n",
       "1983-07-18 Labour            56  "
      ]
     },
     "execution_count": 10,
     "metadata": {},
     "output_type": "execute_result"
    }
   ],
   "source": [
    "dayParty = dayParty.sample(frac=1)\n",
    "dayParty.head()"
   ]
  },
  {
   "cell_type": "code",
   "execution_count": 11,
   "metadata": {},
   "outputs": [],
   "source": [
    "dayParty['id'] = '' \n",
    "dayParty['processed_text'] = dayParty['text'].apply(preprocess_sent)\n",
    "dayParty['processed_text'] =  dayParty['processed_text'].apply(lambda x : x[0])\n",
    "dayParty = dayParty.reset_index()"
   ]
  },
  {
   "cell_type": "code",
   "execution_count": 12,
   "metadata": {},
   "outputs": [],
   "source": [
    "train,test = dayParty.iloc[:int(dayParty.shape[0]*.5)],dayParty.iloc[int(dayParty.shape[0]*.5):]"
   ]
  },
  {
   "cell_type": "code",
   "execution_count": 13,
   "metadata": {},
   "outputs": [
    {
     "name": "stdout",
     "output_type": "stream",
     "text": [
      "(4329, 6) (481, 6)\n"
     ]
    }
   ],
   "source": [
    "print(train.shape,test.shape)"
   ]
  },
  {
   "cell_type": "code",
   "execution_count": 14,
   "metadata": {},
   "outputs": [
    {
     "data": {
      "text/plain": [
       "Labour                   265\n",
       "Conservative             215\n",
       "Scottish Labour Party      1\n",
       "Name: party, dtype: int64"
      ]
     },
     "execution_count": 14,
     "metadata": {},
     "output_type": "execute_result"
    }
   ],
   "source": [
    "test.party.value_counts()"
   ]
  },
  {
   "cell_type": "code",
   "execution_count": 16,
   "metadata": {},
   "outputs": [
    {
     "data": {
      "text/plain": [
       "2477"
      ]
     },
     "execution_count": 16,
     "metadata": {},
     "output_type": "execute_result"
    }
   ],
   "source": []
  },
  {
   "cell_type": "code",
   "execution_count": 14,
   "metadata": {},
   "outputs": [],
   "source": [
    "#import logging\n",
    "#logging.basicConfig(format='%(levelname)s : %(message)s', level=logging.INFO)\n",
    "#logging.root.level = logging.INFO  # ipython sometimes messes up the logging setup; restore"
   ]
  },
  {
   "cell_type": "code",
   "execution_count": 17,
   "metadata": {},
   "outputs": [],
   "source": [
    "for party in [\"Labour\",\"Conservative\"]:\n",
    "    batch = list(train[train.party==party]['processed_text'])\n",
    "    model = Word2Vec.load(\"../../../../../LivingwithMachines/Lab2/all_books/w2v_003/w2v_words.model\") \n",
    "    model.train(batch,total_examples=len(batch),epochs=4)\n",
    "    model.save(f'../../../Processed/Models/evaluation/w2v_words_updated_{party}.model')\n",
    "\n",
    "#orig_model = Word2Vec.load(\"../../../../../LivingwithMachines/Lab2/all_books/w2v_003/w2v_words.model\") "
   ]
  },
  {
   "cell_type": "code",
   "execution_count": 26,
   "metadata": {},
   "outputs": [],
   "source": [
    "batch = list(train['processed_text'])\n",
    "model = Word2Vec.load(\"../../../../../LivingwithMachines/Lab2/all_books/w2v_003/w2v_words.model\") \n",
    "model.train(batch,total_examples=len(batch),epochs=4)\n",
    "model.save('../../../Processed/Models/evaluation/w2v_words_updated_All.model')"
   ]
  },
  {
   "cell_type": "code",
   "execution_count": 27,
   "metadata": {},
   "outputs": [],
   "source": [
    "lab_model = Word2Vec.load('../../../Processed/Models/evaluation/w2v_words_updated_Labour.model')\n",
    "con_model = Word2Vec.load('../../../Processed/Models/evaluation/w2v_words_updated_Conservative.model')\n",
    "all_model = Word2Vec.load('../../../Processed/Models/evaluation/w2v_words_updated_All.model')"
   ]
  },
  {
   "cell_type": "code",
   "execution_count": 28,
   "metadata": {},
   "outputs": [],
   "source": [
    "diff = {}\n",
    "for w in tqdm_notebook(lab_model.wv.vocab):\n",
    "    diff[w] = (1 - cosine(lab_model.wv[w],con_model.wv[w]),1 - cosine(lab_model.wv[w],all_model.wv[w]))"
   ]
  },
  {
   "cell_type": "code",
   "execution_count": 30,
   "metadata": {},
   "outputs": [
    {
     "data": {
      "text/plain": [
       "(0.5763755440711975, 0.8090708255767822)"
      ]
     },
     "execution_count": 30,
     "metadata": {},
     "output_type": "execute_result"
    }
   ],
   "source": [
    "diff['indeed']"
   ]
  },
  {
   "cell_type": "code",
   "execution_count": 24,
   "metadata": {},
   "outputs": [
    {
     "data": {
      "text/plain": [
       "[('indeed', 0.5763755440711975),\n",
       " ('however', 0.5795308947563171),\n",
       " ('also', 0.5819544196128845),\n",
       " ('then', 0.5834676027297974),\n",
       " ('even', 0.5884152054786682),\n",
       " ('perhaps', 0.5958497524261475),\n",
       " ('s', 0.6144764423370361),\n",
       " ('just', 0.6262642741203308),\n",
       " ('labour', 0.6308382153511047),\n",
       " ('here', 0.6371561288833618),\n",
       " ('know', 0.6375672221183777),\n",
       " ('conservative', 0.6386924982070923),\n",
       " ('today', 0.6390063166618347),\n",
       " ('now', 0.6415405869483948),\n",
       " ('community', 0.6431410312652588),\n",
       " ('think', 0.6447187066078186),\n",
       " ('yet', 0.6484003067016602),\n",
       " ('them', 0.6489109396934509),\n",
       " ('him', 0.6510211229324341),\n",
       " ('such', 0.6511513590812683),\n",
       " ('democratic', 0.6544830203056335),\n",
       " ('she', 0.6556092500686646),\n",
       " ('british', 0.6575725078582764),\n",
       " ('may', 0.6593016386032104),\n",
       " ('because', 0.6595911383628845),\n",
       " ('day', 0.6598412394523621),\n",
       " ('when', 0.6604326963424683),\n",
       " ('state', 0.6661936044692993),\n",
       " ('although', 0.6668485403060913),\n",
       " ('fact', 0.6683617234230042),\n",
       " ('authority', 0.6690003275871277),\n",
       " ('after', 0.6718168258666992),\n",
       " ('gentleman', 0.6724558472633362),\n",
       " ('place', 0.6730687618255615),\n",
       " ('therefore', 0.6732683777809143),\n",
       " ('only', 0.6744858026504517),\n",
       " ('given', 0.6764856576919556),\n",
       " ('real', 0.6770002245903015),\n",
       " ('surely', 0.6792752742767334),\n",
       " ('political', 0.6800283789634705),\n",
       " ('union', 0.6821082830429077),\n",
       " ('policy', 0.6822567582130432),\n",
       " ('cannot', 0.6822628974914551),\n",
       " ('certainly', 0.6848617196083069),\n",
       " ('support', 0.6863234043121338),\n",
       " ('bbc', 0.6864625215530396),\n",
       " ('secretary', 0.6868396401405334),\n",
       " ('form', 0.6869949698448181),\n",
       " ('country', 0.6875948309898376),\n",
       " ('me', 0.6879344582557678),\n",
       " ('elections', 0.6886208057403564),\n",
       " ('always', 0.6893365979194641),\n",
       " ('believe', 0.6898272633552551),\n",
       " ('case', 0.690252959728241),\n",
       " ('having', 0.6906206011772156),\n",
       " ('work', 0.6908199191093445),\n",
       " ('these', 0.6918538808822632),\n",
       " ('any', 0.6920309662818909),\n",
       " ('present', 0.6927672624588013),\n",
       " ('issue', 0.6928833723068237),\n",
       " ('where', 0.6932808756828308),\n",
       " ('one', 0.6939621567726135),\n",
       " ('another', 0.6944988965988159),\n",
       " ('other', 0.6975204348564148),\n",
       " ('first', 0.6977214217185974),\n",
       " ('opposition', 0.6979333162307739),\n",
       " ('others', 0.6981169581413269),\n",
       " ('us', 0.6988186836242676),\n",
       " ('britain', 0.6989297270774841),\n",
       " ('too', 0.6994283199310303),\n",
       " ('whole', 0.699508011341095),\n",
       " ('must', 0.6998234987258911),\n",
       " ('result', 0.7002314925193787),\n",
       " ('might', 0.7003448605537415),\n",
       " ('could', 0.7006819844245911),\n",
       " ('still', 0.7008408308029175),\n",
       " ('come', 0.7010748386383057),\n",
       " ('right', 0.7012976408004761),\n",
       " ('while', 0.70159912109375),\n",
       " ('had', 0.7017670273780823),\n",
       " ('see', 0.7023711800575256),\n",
       " ('national', 0.7037671804428101),\n",
       " ('home', 0.704037070274353),\n",
       " ('industrial', 0.7050411105155945),\n",
       " ('without', 0.7053707838058472),\n",
       " ('wish', 0.7054092288017273),\n",
       " ('tory', 0.7056280374526978),\n",
       " ('or', 0.7057234048843384),\n",
       " ('freedom', 0.7060986757278442),\n",
       " ('social', 0.7061251997947693),\n",
       " ('say', 0.7068385481834412),\n",
       " ('were', 0.707484781742096),\n",
       " ('world', 0.7083624005317688),\n",
       " ('means', 0.7088481187820435),\n",
       " ('out', 0.7097827792167664),\n",
       " ('rather', 0.7113609910011292),\n",
       " ('minister', 0.7114033102989197),\n",
       " ('way', 0.711478590965271),\n",
       " ('true', 0.7117399573326111),\n",
       " ('need', 0.7120110392570496)]"
      ]
     },
     "execution_count": 24,
     "metadata": {},
     "output_type": "execute_result"
    }
   ],
   "source": [
    "sorted(diff.items(),key = lambda x: x[1], reverse=False)[:100]"
   ]
  },
  {
   "cell_type": "code",
   "execution_count": null,
   "metadata": {},
   "outputs": [
    {
     "data": {
      "application/vnd.jupyter.widget-view+json": {
       "model_id": "8cd72f70e5474a75bacabc287aa1e08a",
       "version_major": 2,
       "version_minor": 0
      },
      "text/plain": [
       "HBox(children=(IntProgress(value=0, max=50), HTML(value='')))"
      ]
     },
     "metadata": {},
     "output_type": "display_data"
    }
   ],
   "source": [
    "output = []\n",
    "for party in [\"Labour\",\"Conservative\"]:\n",
    "    for batch in tqdm_notebook(test[test.party==party]['processed_text'][:50]):\n",
    "        model = Word2Vec.load('../../../Processed/Models/evaluation/w2v_words_updated_lab.model')\n",
    "        model.train([batch],total_examples=len([batch]),epochs=4)\n",
    "        output.append([party,model.wv.vectors,model.wv['democracy']])\n",
    "        "
   ]
  },
  {
   "cell_type": "code",
   "execution_count": null,
   "metadata": {},
   "outputs": [],
   "source": []
  },
  {
   "cell_type": "code",
   "execution_count": 17,
   "metadata": {},
   "outputs": [],
   "source": [
    "model = Word2Vec.load('../../../Processed/Models/evaluation/w2v_words_updated_lab.model')\n",
    "orig_vec = model.wv['democracy']"
   ]
  },
  {
   "cell_type": "code",
   "execution_count": 18,
   "metadata": {},
   "outputs": [
    {
     "data": {
      "text/plain": [
       "<matplotlib.axes._subplots.AxesSubplot at 0x14c5f9bd0>"
      ]
     },
     "execution_count": 18,
     "metadata": {},
     "output_type": "execute_result"
    },
    {
     "data": {
      "image/png": "[encoded data removed]",
      "text/plain": [
       "<Figure size 432x288 with 1 Axes>"
      ]
     },
     "metadata": {
      "needs_background": "light"
     },
     "output_type": "display_data"
    }
   ],
   "source": [
    "from scipy.spatial.distance import cosine\n",
    "lab,con = [],[]\n",
    "for p,m,v in output:\n",
    "    if p == 'Labour':\n",
    "        lab.append(1 - cosine(orig_vec,v))\n",
    "    else:\n",
    "        con.append(1 - cosine(orig_vec,v))\n",
    "\n",
    "pd.Series(lab).plot(kind='density')\n",
    "pd.Series(con).plot(kind='density')"
   ]
  },
  {
   "cell_type": "code",
   "execution_count": null,
   "metadata": {},
   "outputs": [],
   "source": []
  }
 ],
 "metadata": {
  "kernelspec": {
   "display_name": "Python 3",
   "language": "python",
   "name": "python3"
  },
  "language_info": {
   "codemirror_mode": {
    "name": "ipython",
    "version": 3
   },
   "file_extension": ".py",
   "mimetype": "text/x-python",
   "name": "python",
   "nbconvert_exporter": "python",
   "pygments_lexer": "ipython3",
   "version": "3.7.4"
  }
 },
 "nbformat": 4,
 "nbformat_minor": 2
}
