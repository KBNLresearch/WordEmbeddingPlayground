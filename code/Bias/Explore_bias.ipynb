{
 "cells": [
  {
   "cell_type": "markdown",
   "metadata": {},
   "source": [
    "# Analysing Bias in Word Embeddings\n",
    "\n",
    "This notebook demonstrates functionalities for exploring bias in word embeddings."
   ]
  },
  {
   "cell_type": "code",
   "execution_count": 3,
   "metadata": {},
   "outputs": [
    {
     "name": "stdout",
     "output_type": "stream",
     "text": [
      "The autoreload extension is already loaded. To reload it, use:\n",
      "  %reload_ext autoreload\n"
     ]
    }
   ],
   "source": [
    "%load_ext autoreload"
   ]
  },
  {
   "cell_type": "code",
   "execution_count": 4,
   "metadata": {},
   "outputs": [],
   "source": [
    "%autoreload 2"
   ]
  },
  {
   "cell_type": "code",
   "execution_count": 5,
   "metadata": {},
   "outputs": [
    {
     "name": "stderr",
     "output_type": "stream",
     "text": [
      "In /home/kaspar/.local/lib/python3.6/site-packages/matplotlib/mpl-data/stylelib/_classic_test.mplstyle: \n",
      "The text.latex.preview rcparam was deprecated in Matplotlib 3.3 and will be removed two minor releases later.\n",
      "In /home/kaspar/.local/lib/python3.6/site-packages/matplotlib/mpl-data/stylelib/_classic_test.mplstyle: \n",
      "The mathtext.fallback_to_cm rcparam was deprecated in Matplotlib 3.3 and will be removed two minor releases later.\n",
      "In /home/kaspar/.local/lib/python3.6/site-packages/matplotlib/mpl-data/stylelib/_classic_test.mplstyle: Support for setting the 'mathtext.fallback_to_cm' rcParam is deprecated since 3.3 and will be removed two minor releases later; use 'mathtext.fallback : 'cm' instead.\n",
      "In /home/kaspar/.local/lib/python3.6/site-packages/matplotlib/mpl-data/stylelib/_classic_test.mplstyle: \n",
      "The validate_bool_maybe_none function was deprecated in Matplotlib 3.3 and will be removed two minor releases later.\n",
      "In /home/kaspar/.local/lib/python3.6/site-packages/matplotlib/mpl-data/stylelib/_classic_test.mplstyle: \n",
      "The savefig.jpeg_quality rcparam was deprecated in Matplotlib 3.3 and will be removed two minor releases later.\n",
      "In /home/kaspar/.local/lib/python3.6/site-packages/matplotlib/mpl-data/stylelib/_classic_test.mplstyle: \n",
      "The keymap.all_axes rcparam was deprecated in Matplotlib 3.3 and will be removed two minor releases later.\n",
      "In /home/kaspar/.local/lib/python3.6/site-packages/matplotlib/mpl-data/stylelib/_classic_test.mplstyle: \n",
      "The animation.avconv_path rcparam was deprecated in Matplotlib 3.3 and will be removed two minor releases later.\n",
      "In /home/kaspar/.local/lib/python3.6/site-packages/matplotlib/mpl-data/stylelib/_classic_test.mplstyle: \n",
      "The animation.avconv_args rcparam was deprecated in Matplotlib 3.3 and will be removed two minor releases later.\n"
     ]
    }
   ],
   "source": [
    "%matplotlib inline\n",
    "import numpy as np\n",
    "import pandas as pd\n",
    "import logging\n",
    "from gensim.models.word2vec import Word2Vec\n",
    "from scipy.spatial.distance import cosine\n",
    "from pathlib import Path, PosixPath\n",
    "from tqdm.notebook import tqdm\n",
    "from collections import defaultdict\n",
    "from utils.utils import *\n",
    "from utils.wordlist import *"
   ]
  },
  {
   "cell_type": "code",
   "execution_count": 6,
   "metadata": {},
   "outputs": [],
   "source": [
    "logging.basicConfig(format='%(asctime)s : %(levelname)s : %(message)s', level=logging.INFO)"
   ]
  },
  {
   "cell_type": "markdown",
   "metadata": {},
   "source": [
    "## 1 Loading newsaper metdata and word lists\n",
    "\n",
    "\n",
    "### 1.1 Newspaper metadata\n",
    "Load newspaper metadata"
   ]
  },
  {
   "cell_type": "code",
   "execution_count": 7,
   "metadata": {},
   "outputs": [],
   "source": [
    "METADATA_PATH = \"../../resources/Lijst_kranten_final.xlsx\"\n",
    "df_meta = pd.read_excel(METADATA_PATH,sheet_name=\"Sheet1\",index_col=0)"
   ]
  },
  {
   "cell_type": "markdown",
   "metadata": {},
   "source": [
    "### 1.2 Gender lexicons"
   ]
  },
  {
   "cell_type": "markdown",
   "metadata": {},
   "source": [
    "Load word annotations based on querying the Woordenboek Der Nederlandse Taal (WDNT) for explicitly gendered words."
   ]
  },
  {
   "cell_type": "code",
   "execution_count": 8,
   "metadata": {},
   "outputs": [],
   "source": [
    "FEM_PATH = \"../../resources/int_vrouw.xlsx\"\n",
    "fem = pd.read_excel(FEM_PATH,sheet_name='Sheet1',index_col=0)"
   ]
  },
  {
   "cell_type": "code",
   "execution_count": 9,
   "metadata": {},
   "outputs": [],
   "source": [
    "MALE_PATH = \"../../resources/int_man.xlsx\"\n",
    "male = pd.read_excel(MALE_PATH,sheet_name='Sheet1',index_col=0)"
   ]
  },
  {
   "cell_type": "code",
   "execution_count": 10,
   "metadata": {},
   "outputs": [
    {
     "data": {
      "text/html": [
       "<div>\n",
       "<style scoped>\n",
       "    .dataframe tbody tr th:only-of-type {\n",
       "        vertical-align: middle;\n",
       "    }\n",
       "\n",
       "    .dataframe tbody tr th {\n",
       "        vertical-align: top;\n",
       "    }\n",
       "\n",
       "    .dataframe thead th {\n",
       "        text-align: right;\n",
       "    }\n",
       "</style>\n",
       "<table border=\"1\" class=\"dataframe\">\n",
       "  <thead>\n",
       "    <tr style=\"text-align: right;\">\n",
       "      <th></th>\n",
       "      <th>Trefwoord</th>\n",
       "      <th>Originele spelling</th>\n",
       "      <th>Woordsoort</th>\n",
       "      <th>Selecteer</th>\n",
       "      <th>monosemy</th>\n",
       "      <th>Betekenis</th>\n",
       "    </tr>\n",
       "    <tr>\n",
       "      <th>Woordenboek</th>\n",
       "      <th></th>\n",
       "      <th></th>\n",
       "      <th></th>\n",
       "      <th></th>\n",
       "      <th></th>\n",
       "      <th></th>\n",
       "    </tr>\n",
       "  </thead>\n",
       "  <tbody>\n",
       "    <tr>\n",
       "      <th>WNT</th>\n",
       "      <td>omweg</td>\n",
       "      <td>OMWEG</td>\n",
       "      <td>znw.(m.)</td>\n",
       "      <td>0</td>\n",
       "      <td>0.0</td>\n",
       "      <td>Eigenlijk, in tweeledige toepassing.</td>\n",
       "    </tr>\n",
       "    <tr>\n",
       "      <th>WNT</th>\n",
       "      <td>onecht</td>\n",
       "      <td>ONECHT (I)</td>\n",
       "      <td>znw.(v.,m.)</td>\n",
       "      <td>0</td>\n",
       "      <td>0.0</td>\n",
       "      <td>znw., oudtijds vr., thans m.; het mv. niet in...</td>\n",
       "    </tr>\n",
       "    <tr>\n",
       "      <th>WNT</th>\n",
       "      <td>oom</td>\n",
       "      <td>OOM</td>\n",
       "      <td>znw.(m.)</td>\n",
       "      <td>1</td>\n",
       "      <td>1.0</td>\n",
       "      <td>Eigenlijk: een broeder des vaders of der moed...</td>\n",
       "    </tr>\n",
       "    <tr>\n",
       "      <th>WNT</th>\n",
       "      <td>oorlam</td>\n",
       "      <td>OORLAM</td>\n",
       "      <td>znw.(m.,o.)</td>\n",
       "      <td>1</td>\n",
       "      <td>1.0</td>\n",
       "      <td>Eigenlijk, als persoonsnaam, en dan m.</td>\n",
       "    </tr>\n",
       "    <tr>\n",
       "      <th>WNT</th>\n",
       "      <td>oppasser</td>\n",
       "      <td>OPPASSER</td>\n",
       "      <td>znw.(m.)</td>\n",
       "      <td>1</td>\n",
       "      <td>1.0</td>\n",
       "      <td>De persoon die het toezicht op iets houdt; oo...</td>\n",
       "    </tr>\n",
       "  </tbody>\n",
       "</table>\n",
       "</div>"
      ],
      "text/plain": [
       "            Trefwoord Originele spelling   Woordsoort  Selecteer  monosemy  \\\n",
       "Woordenboek                                                                  \n",
       "WNT             omweg              OMWEG     znw.(m.)          0       0.0   \n",
       "WNT            onecht         ONECHT (I)  znw.(v.,m.)          0       0.0   \n",
       "WNT               oom                OOM     znw.(m.)          1       1.0   \n",
       "WNT            oorlam             OORLAM  znw.(m.,o.)          1       1.0   \n",
       "WNT          oppasser           OPPASSER     znw.(m.)          1       1.0   \n",
       "\n",
       "                                                     Betekenis  \n",
       "Woordenboek                                                     \n",
       "WNT                       Eigenlijk, in tweeledige toepassing.  \n",
       "WNT           znw., oudtijds vr., thans m.; het mv. niet in...  \n",
       "WNT           Eigenlijk: een broeder des vaders of der moed...  \n",
       "WNT                     Eigenlijk, als persoonsnaam, en dan m.  \n",
       "WNT           De persoon die het toezicht op iets houdt; oo...  "
      ]
     },
     "execution_count": 10,
     "metadata": {},
     "output_type": "execute_result"
    }
   ],
   "source": [
    "male.head()"
   ]
  },
  {
   "cell_type": "markdown",
   "metadata": {},
   "source": [
    "We use both the `Trefwoord` and `Originele spelling`, we also exclude words that are too ambiguous."
   ]
  },
  {
   "cell_type": "code",
   "execution_count": 11,
   "metadata": {},
   "outputs": [
    {
     "name": "stderr",
     "output_type": "stream",
     "text": [
      "2020-10-30 09:04:50,178 : INFO : NumExpr defaulting to 8 threads.\n"
     ]
    }
   ],
   "source": [
    "male_words = [w.lower().split()[0] for w in male[male.monosemy==1].Trefwoord.values]\n",
    "male_words = male_words + [w.lower().split()[0] for w in male[male.monosemy==1][\"Originele spelling\"].values]\n",
    "male_words = set(male_words)\n",
    "female_words = [w.lower().split()[0] for w in fem[fem.monosemy==1].Trefwoord.values]\n",
    "female_words = female_words + [w.lower().split()[0] for w in fem[fem.monosemy==1][\"Originele spelling\"].values]\n",
    "female_words = set(female_words)"
   ]
  },
  {
   "cell_type": "code",
   "execution_count": 12,
   "metadata": {},
   "outputs": [
    {
     "name": "stdout",
     "output_type": "stream",
     "text": [
      "340 237\n"
     ]
    }
   ],
   "source": [
    "print(len(female_words),len(male_words))"
   ]
  },
  {
   "cell_type": "markdown",
   "metadata": {},
   "source": [
    "Below we add some words harvested after a simple round of lexicon expansion."
   ]
  },
  {
   "cell_type": "code",
   "execution_count": 13,
   "metadata": {},
   "outputs": [],
   "source": [
    "female_words.update(fem_words_ext)\n",
    "male_words.update(male_words_ext)"
   ]
  },
  {
   "cell_type": "code",
   "execution_count": 14,
   "metadata": {},
   "outputs": [
    {
     "name": "stdout",
     "output_type": "stream",
     "text": [
      "Total number of female words:  524 \n",
      "Total number of male words:  390\n"
     ]
    }
   ],
   "source": [
    "print(\"Total number of female words: \",len(female_words),\"\\nTotal number of male words: \",len(male_words))"
   ]
  },
  {
   "cell_type": "markdown",
   "metadata": {},
   "source": [
    "# 2. Plotting Bias over Time\n",
    "\n",
    "## 2.1 Selecting facet (values)"
   ]
  },
  {
   "cell_type": "markdown",
   "metadata": {},
   "source": [
    "Here we decide on the facets that we want to investigate. We first select the \"dimension\", this corresponds to columns in the metadata spreadsheet, which have been used as facet during training. The options are printed below"
   ]
  },
  {
   "cell_type": "code",
   "execution_count": 15,
   "metadata": {},
   "outputs": [
    {
     "data": {
      "text/plain": [
       "Index(['Politek', 'Source', 'Verspreidingsgebied', 'Plaats van uitgave',\n",
       "       'Provincie', 'Zuil'],\n",
       "      dtype='object')"
      ]
     },
     "execution_count": 15,
     "metadata": {},
     "output_type": "execute_result"
    }
   ],
   "source": [
    "df_meta.columns[4:]"
   ]
  },
  {
   "cell_type": "code",
   "execution_count": 16,
   "metadata": {},
   "outputs": [
    {
     "data": {
      "text/plain": [
       "array(['Neutraal', 'Liberaal', nan, 'Sociaal-democratisch', 'Katholiek',\n",
       "       'Protestant', 'Conservatief'], dtype=object)"
      ]
     },
     "execution_count": 16,
     "metadata": {},
     "output_type": "execute_result"
    }
   ],
   "source": [
    "FACET = \"Politek\" # \"Politek\"\n",
    "FACET_VALUES = df_meta[FACET].unique()\n",
    "FACET_VALUES"
   ]
  },
  {
   "cell_type": "markdown",
   "metadata": {},
   "source": [
    "Next, select the facet values. In this scenario we only look at catholic, liberal and protestant newspapers. The variable `root` should point to the folder where the models are stored."
   ]
  },
  {
   "cell_type": "code",
   "execution_count": 17,
   "metadata": {},
   "outputs": [],
   "source": [
    "#SELECTED_FACETS = ['Neutraal', 'Liberaal','Sociaal-democratisch', 'Katholiek','Protestant']"
   ]
  },
  {
   "cell_type": "code",
   "execution_count": 43,
   "metadata": {},
   "outputs": [],
   "source": [
    "root =Path(\"/kbdata/Processed/Models/\")"
   ]
  },
  {
   "cell_type": "code",
   "execution_count": 44,
   "metadata": {},
   "outputs": [],
   "source": [
    "katholiek_models = select_model_by_facet_value('Katholiek',root=root)\n",
    "liberaal_models = select_model_by_facet_value('Liberaal',root=root)\n",
    "protestant_models = select_model_by_facet_value('Protestant',root=root)"
   ]
  },
  {
   "cell_type": "markdown",
   "metadata": {},
   "source": [
    "We only include years for which have langauge models for all three political orientations."
   ]
  },
  {
   "cell_type": "code",
   "execution_count": 45,
   "metadata": {},
   "outputs": [
    {
     "data": {
      "text/plain": [
       "[1840, 1845, 1850, 1855, 1860, 1865, 1870, 1875, 1880, 1885, 1890, 1895]"
      ]
     },
     "execution_count": 45,
     "metadata": {},
     "output_type": "execute_result"
    }
   ],
   "source": [
    "years = sorted(set(katholiek_models).intersection(set(liberaal_models)).intersection(set(protestant_models)))\n",
    "years"
   ]
  },
  {
   "cell_type": "markdown",
   "metadata": {},
   "source": [
    "## 2.2 Creating a target word list"
   ]
  },
  {
   "cell_type": "markdown",
   "metadata": {},
   "source": [
    "Unless you created a target word list (i.e. a set of words) for which we want to compute the gender bias. If you don't have one, you can create a small lexicon by exploring models trained on all newspapers data. Since the number of articles increases with years (more words for later years) the vector representations will be biased toward the later period. For this reason, you can also inspect a model trained on earlier data, balance the target word list a bit more over time. "
   ]
  },
  {
   "cell_type": "code",
   "execution_count": 20,
   "metadata": {},
   "outputs": [
    {
     "name": "stderr",
     "output_type": "stream",
     "text": [
      "2020-10-30 09:05:04,878 : INFO : loading Word2Vec object from /kbdata/Processed/Models/BaseModel-1800-1909.w2v.model\n",
      "2020-10-30 09:05:05,844 : INFO : loading wv recursively from /kbdata/Processed/Models/BaseModel-1800-1909.w2v.model.wv.* with mmap=None\n",
      "2020-10-30 09:05:05,845 : INFO : loading vectors from /kbdata/Processed/Models/BaseModel-1800-1909.w2v.model.wv.vectors.npy with mmap=None\n",
      "2020-10-30 09:05:06,038 : INFO : setting ignored attribute vectors_norm to None\n",
      "2020-10-30 09:05:06,039 : INFO : loading vocabulary recursively from /kbdata/Processed/Models/BaseModel-1800-1909.w2v.model.vocabulary.* with mmap=None\n",
      "2020-10-30 09:05:06,039 : INFO : loading trainables recursively from /kbdata/Processed/Models/BaseModel-1800-1909.w2v.model.trainables.* with mmap=None\n",
      "2020-10-30 09:05:06,040 : INFO : loading syn1neg from /kbdata/Processed/Models/BaseModel-1800-1909.w2v.model.trainables.syn1neg.npy with mmap=None\n",
      "2020-10-30 09:05:06,234 : INFO : setting ignored attribute cum_table to None\n",
      "2020-10-30 09:05:06,235 : INFO : loaded /kbdata/Processed/Models/BaseModel-1800-1909.w2v.model\n"
     ]
    },
    {
     "name": "stdout",
     "output_type": "stream",
     "text": [
      "Word2Vec(vocab=414769, size=300, alpha=0.025)\n"
     ]
    }
   ],
   "source": [
    "base_model = \"/kbdata/Processed/Models/BaseModel-1800-1909.w2v.model\"\n",
    "base_model = Word2Vec.load(base_model)\n",
    "print(base_model)"
   ]
  },
  {
   "cell_type": "code",
   "execution_count": 21,
   "metadata": {},
   "outputs": [
    {
     "name": "stderr",
     "output_type": "stream",
     "text": [
      "2020-10-30 09:05:07,104 : INFO : loading Word2Vec object from /kbdata/Processed/Models/BaseModel-1800-1870.w2v.model\n",
      "2020-10-30 09:05:07,414 : INFO : loading wv recursively from /kbdata/Processed/Models/BaseModel-1800-1870.w2v.model.wv.* with mmap=None\n",
      "2020-10-30 09:05:07,415 : INFO : loading vectors from /kbdata/Processed/Models/BaseModel-1800-1870.w2v.model.wv.vectors.npy with mmap=None\n",
      "2020-10-30 09:05:07,489 : INFO : setting ignored attribute vectors_norm to None\n",
      "2020-10-30 09:05:07,490 : INFO : loading vocabulary recursively from /kbdata/Processed/Models/BaseModel-1800-1870.w2v.model.vocabulary.* with mmap=None\n",
      "2020-10-30 09:05:07,490 : INFO : loading trainables recursively from /kbdata/Processed/Models/BaseModel-1800-1870.w2v.model.trainables.* with mmap=None\n",
      "2020-10-30 09:05:07,491 : INFO : loading syn1neg from /kbdata/Processed/Models/BaseModel-1800-1870.w2v.model.trainables.syn1neg.npy with mmap=None\n",
      "2020-10-30 09:05:07,565 : INFO : setting ignored attribute cum_table to None\n",
      "2020-10-30 09:05:07,566 : INFO : loaded /kbdata/Processed/Models/BaseModel-1800-1870.w2v.model\n"
     ]
    },
    {
     "name": "stdout",
     "output_type": "stream",
     "text": [
      "Word2Vec(vocab=155879, size=300, alpha=0.025)\n"
     ]
    }
   ],
   "source": [
    "base_model_early = \"/kbdata/Processed/Models/BaseModel-1800-1870.w2v.model\"\n",
    "model_early = Word2Vec.load(base_model_early)\n",
    "print(model_early)"
   ]
  },
  {
   "cell_type": "code",
   "execution_count": 22,
   "metadata": {},
   "outputs": [
    {
     "name": "stderr",
     "output_type": "stream",
     "text": [
      "/home/kaspar/.local/lib/python3.6/site-packages/ipykernel_launcher.py:1: DeprecationWarning: Call to deprecated `most_similar` (Method will be removed in 4.0.0, use self.wv.most_similar() instead).\n",
      "  \"\"\"Entry point for launching an IPython kernel.\n",
      "2020-10-30 09:05:07,891 : INFO : precomputing L2-norms of word weight vectors\n"
     ]
    },
    {
     "data": {
      "text/plain": [
       "[('emoties', 0.8034723997116089),\n",
       " ('ontroering', 0.7343713045120239),\n",
       " ('tragiek', 0.6650913953781128),\n",
       " ('aandoening', 0.6574211120605469),\n",
       " ('ontroeringen', 0.6550807952880859),\n",
       " ('gewaarwording', 0.6503021717071533),\n",
       " ('sensaties', 0.6494277715682983),\n",
       " ('impressie', 0.6388396620750427),\n",
       " ('gewaarwordingen', 0.6378535628318787),\n",
       " ('gemoedsaandoening', 0.6322503685951233),\n",
       " ('opwinding', 0.6322292685508728),\n",
       " ('gemoedsaandoeningen', 0.6257733106613159),\n",
       " ('bekoring', 0.6254158020019531),\n",
       " ('gemoedsbeweging', 0.6205160021781921),\n",
       " ('bewogenheid', 0.6146096587181091),\n",
       " ('aandoeningen', 0.6076104044914246),\n",
       " ('matheid', 0.6052461862564087),\n",
       " ('gemoedsbewegingen', 0.6050035953521729),\n",
       " ('gejaagdheid', 0.6027995347976685),\n",
       " ('vroolijkheid', 0.5885056853294373)]"
      ]
     },
     "execution_count": 22,
     "metadata": {},
     "output_type": "execute_result"
    }
   ],
   "source": [
    "base_model.most_similar('emotie',topn=20)"
   ]
  },
  {
   "cell_type": "code",
   "execution_count": 23,
   "metadata": {},
   "outputs": [
    {
     "name": "stderr",
     "output_type": "stream",
     "text": [
      "/home/kaspar/.local/lib/python3.6/site-packages/ipykernel_launcher.py:1: DeprecationWarning: Call to deprecated `most_similar` (Method will be removed in 4.0.0, use self.wv.most_similar() instead).\n",
      "  \"\"\"Entry point for launching an IPython kernel.\n",
      "2020-10-30 09:05:08,594 : INFO : precomputing L2-norms of word weight vectors\n"
     ]
    },
    {
     "data": {
      "text/plain": [
       "[('ontroering', 0.5324569940567017),\n",
       " ('gemoedsbeweging', 0.5104452967643738),\n",
       " ('opschudding', 0.5005029439926147),\n",
       " ('neerslagtigheid', 0.4948607087135315),\n",
       " ('opgewondenheid', 0.49011462926864624),\n",
       " ('ontsteltenis', 0.4736787974834442),\n",
       " ('agitatie', 0.46817201375961304),\n",
       " ('ongerustheid', 0.4422236680984497),\n",
       " ('fenfatie', 0.44116276502609253),\n",
       " ('aandoening', 0.4408707618713379),\n",
       " ('verflagenheid', 0.4402935206890106),\n",
       " ('gemoedsaandoening', 0.43809789419174194),\n",
       " ('onsteltenis', 0.4371126890182495),\n",
       " ('gisting', 0.43616414070129395),\n",
       " ('sensatie', 0.422627717256546),\n",
       " ('gisling', 0.41885924339294434),\n",
       " ('ontfteltenis', 0.40984198451042175),\n",
       " ('gewaarwording', 0.4068605899810791),\n",
       " ('aandoeningen', 0.4026297628879547),\n",
       " ('paniek', 0.39478182792663574)]"
      ]
     },
     "execution_count": 23,
     "metadata": {},
     "output_type": "execute_result"
    }
   ],
   "source": [
    "model_early.most_similar('emotie',topn=20)"
   ]
  },
  {
   "cell_type": "markdown",
   "metadata": {},
   "source": [
    "For demonstration purposes, we use the target list below, asking the question how gendered are emotions?"
   ]
  },
  {
   "cell_type": "code",
   "execution_count": 24,
   "metadata": {},
   "outputs": [],
   "source": [
    "target_list = [\"emotie\",\"ontroering\", \"gemoedsbeweging\", \"opgewondenheid\", \"agitatie\", \n",
    "                \"aandoening\", \"gemoedsaandoening\", \"sensatie\", \"fenfatie\",\n",
    "               \"emoties\",\"ontroeringen\",\"opwinding\"]\n"
   ]
  },
  {
   "cell_type": "markdown",
   "metadata": {},
   "source": [
    "In the cell below, we use the `compute_bias` function the calculate a bias score given \"male\" and \"female\" words together with a list of target tokens.\n",
    "\n"
   ]
  },
  {
   "cell_type": "code",
   "execution_count": 26,
   "metadata": {},
   "outputs": [
    {
     "name": "stdout",
     "output_type": "stream",
     "text": [
      "Help on function compute_bias in module utils.utils:\n",
      "\n",
      "compute_bias(p1:list, p2:list, target:list, model:gensim.models.word2vec.Word2Vec, metric:Callable[[list, list], float]=<function <lambda> at 0x7fc8f98b8ea0>) -> float\n",
      "    Given two word lists that capture the bias dimension (e.g. gender male vs female) and\n",
      "    a target word list (the concept for which we want to calculate the gender bias \n",
      "    (e.g. words related to emotion) this function returns a bias score by comparing\n",
      "    the similarity between each target word with each of the pole words. The bias score \n",
      "    is the difference between averaged similarity scores for each pole. \n",
      "    Arguments:\n",
      "        p1 (list): list of pole words\n",
      "        p2 (list): lost of pole words\n",
      "        target (list): list of target words\n",
      "        model (gensim.models.word2vec.Word2Vec): a word2vec model\n",
      "        metric (funtion): distance function, either cosine or euclidean\n",
      "    Returns:\n",
      "        bias score as float\n",
      "\n"
     ]
    }
   ],
   "source": [
    "help(compute_bias)"
   ]
  },
  {
   "cell_type": "markdown",
   "metadata": {},
   "source": [
    "The training functions allows you to train a model from scratch or finetune an existing model. If you want to use finetuned models for measuring bias, set `FINETUNED` flag to `True`, this substract a `base_bias` score from the biase scores produced by the finetuned models.\n",
    "\n",
    "Computing the bias scores for all model, may take a few minutes."
   ]
  },
  {
   "cell_type": "code",
   "execution_count": 35,
   "metadata": {},
   "outputs": [],
   "source": [
    "FINETUNED = False"
   ]
  },
  {
   "cell_type": "code",
   "execution_count": 36,
   "metadata": {},
   "outputs": [
    {
     "data": {
      "application/vnd.jupyter.widget-view+json": {
       "model_id": "56a70f936b1247b0b22e2a44315bdb61",
       "version_major": 2,
       "version_minor": 0
      },
      "text/plain": [
       "HBox(children=(FloatProgress(value=0.0, max=12.0), HTML(value='')))"
      ]
     },
     "metadata": {},
     "output_type": "display_data"
    },
    {
     "name": "stderr",
     "output_type": "stream",
     "text": [
      "2020-10-30 09:31:42,252 : INFO : loading Word2Vec object from /kbdata/Processed/Models/1840-1860-Liberaal.w2v.model\n",
      "2020-10-30 09:31:42,732 : INFO : loading wv recursively from /kbdata/Processed/Models/1840-1860-Liberaal.w2v.model.wv.* with mmap=None\n",
      "2020-10-30 09:31:42,733 : INFO : loading vectors from /kbdata/Processed/Models/1840-1860-Liberaal.w2v.model.wv.vectors.npy with mmap=None\n",
      "2020-10-30 09:31:44,280 : INFO : setting ignored attribute vectors_norm to None\n",
      "2020-10-30 09:31:44,281 : INFO : loading vocabulary recursively from /kbdata/Processed/Models/1840-1860-Liberaal.w2v.model.vocabulary.* with mmap=None\n",
      "2020-10-30 09:31:44,281 : INFO : loading trainables recursively from /kbdata/Processed/Models/1840-1860-Liberaal.w2v.model.trainables.* with mmap=None\n",
      "2020-10-30 09:31:44,282 : INFO : loading syn1neg from /kbdata/Processed/Models/1840-1860-Liberaal.w2v.model.trainables.syn1neg.npy with mmap=None\n",
      "2020-10-30 09:31:45,887 : INFO : setting ignored attribute cum_table to None\n",
      "2020-10-30 09:31:45,888 : INFO : loaded /kbdata/Processed/Models/1840-1860-Liberaal.w2v.model\n",
      "2020-10-30 09:31:46,381 : INFO : loading Word2Vec object from /kbdata/Processed/Models/1840-1860-Katholiek.w2v.model\n",
      "2020-10-30 09:31:46,524 : INFO : loading wv recursively from /kbdata/Processed/Models/1840-1860-Katholiek.w2v.model.wv.* with mmap=None\n",
      "2020-10-30 09:31:46,524 : INFO : loading vectors from /kbdata/Processed/Models/1840-1860-Katholiek.w2v.model.wv.vectors.npy with mmap=None\n",
      "2020-10-30 09:31:47,436 : INFO : setting ignored attribute vectors_norm to None\n",
      "2020-10-30 09:31:47,437 : INFO : loading vocabulary recursively from /kbdata/Processed/Models/1840-1860-Katholiek.w2v.model.vocabulary.* with mmap=None\n",
      "2020-10-30 09:31:47,437 : INFO : loading trainables recursively from /kbdata/Processed/Models/1840-1860-Katholiek.w2v.model.trainables.* with mmap=None\n",
      "2020-10-30 09:31:47,438 : INFO : loading syn1neg from /kbdata/Processed/Models/1840-1860-Katholiek.w2v.model.trainables.syn1neg.npy with mmap=None\n",
      "2020-10-30 09:31:48,388 : INFO : setting ignored attribute cum_table to None\n",
      "2020-10-30 09:31:48,389 : INFO : loaded /kbdata/Processed/Models/1840-1860-Katholiek.w2v.model\n",
      "2020-10-30 09:31:48,697 : INFO : loading Word2Vec object from /kbdata/Processed/Models/1840-1860-Protestant.w2v.model\n",
      "2020-10-30 09:31:50,037 : INFO : loading wv recursively from /kbdata/Processed/Models/1840-1860-Protestant.w2v.model.wv.* with mmap=None\n",
      "2020-10-30 09:31:50,038 : INFO : setting ignored attribute vectors_norm to None\n",
      "2020-10-30 09:31:50,038 : INFO : loading vocabulary recursively from /kbdata/Processed/Models/1840-1860-Protestant.w2v.model.vocabulary.* with mmap=None\n",
      "2020-10-30 09:31:50,039 : INFO : loading trainables recursively from /kbdata/Processed/Models/1840-1860-Protestant.w2v.model.trainables.* with mmap=None\n",
      "2020-10-30 09:31:50,039 : INFO : setting ignored attribute cum_table to None\n",
      "2020-10-30 09:31:50,040 : INFO : loaded /kbdata/Processed/Models/1840-1860-Protestant.w2v.model\n",
      "2020-10-30 09:31:50,126 : INFO : loading Word2Vec object from /kbdata/Processed/Models/1845-1865-Liberaal.w2v.model\n",
      "2020-10-30 09:31:50,585 : INFO : loading wv recursively from /kbdata/Processed/Models/1845-1865-Liberaal.w2v.model.wv.* with mmap=None\n",
      "2020-10-30 09:31:50,586 : INFO : loading vectors from /kbdata/Processed/Models/1845-1865-Liberaal.w2v.model.wv.vectors.npy with mmap=None\n",
      "2020-10-30 09:31:52,139 : INFO : setting ignored attribute vectors_norm to None\n",
      "2020-10-30 09:31:52,140 : INFO : loading vocabulary recursively from /kbdata/Processed/Models/1845-1865-Liberaal.w2v.model.vocabulary.* with mmap=None\n",
      "2020-10-30 09:31:52,140 : INFO : loading trainables recursively from /kbdata/Processed/Models/1845-1865-Liberaal.w2v.model.trainables.* with mmap=None\n",
      "2020-10-30 09:31:52,141 : INFO : loading syn1neg from /kbdata/Processed/Models/1845-1865-Liberaal.w2v.model.trainables.syn1neg.npy with mmap=None\n",
      "2020-10-30 09:31:53,740 : INFO : setting ignored attribute cum_table to None\n",
      "2020-10-30 09:31:53,741 : INFO : loaded /kbdata/Processed/Models/1845-1865-Liberaal.w2v.model\n",
      "2020-10-30 09:31:54,247 : INFO : loading Word2Vec object from /kbdata/Processed/Models/1845-1865-Katholiek.w2v.model\n",
      "2020-10-30 09:31:54,398 : INFO : loading wv recursively from /kbdata/Processed/Models/1845-1865-Katholiek.w2v.model.wv.* with mmap=None\n",
      "2020-10-30 09:31:54,399 : INFO : loading vectors from /kbdata/Processed/Models/1845-1865-Katholiek.w2v.model.wv.vectors.npy with mmap=None\n",
      "2020-10-30 09:31:55,386 : INFO : setting ignored attribute vectors_norm to None\n",
      "2020-10-30 09:31:55,387 : INFO : loading vocabulary recursively from /kbdata/Processed/Models/1845-1865-Katholiek.w2v.model.vocabulary.* with mmap=None\n",
      "2020-10-30 09:31:55,387 : INFO : loading trainables recursively from /kbdata/Processed/Models/1845-1865-Katholiek.w2v.model.trainables.* with mmap=None\n",
      "2020-10-30 09:31:55,388 : INFO : loading syn1neg from /kbdata/Processed/Models/1845-1865-Katholiek.w2v.model.trainables.syn1neg.npy with mmap=None\n",
      "2020-10-30 09:31:56,391 : INFO : setting ignored attribute cum_table to None\n",
      "2020-10-30 09:31:56,392 : INFO : loaded /kbdata/Processed/Models/1845-1865-Katholiek.w2v.model\n",
      "2020-10-30 09:31:56,725 : INFO : loading Word2Vec object from /kbdata/Processed/Models/1845-1865-Protestant.w2v.model\n",
      "2020-10-30 09:31:57,969 : INFO : loading wv recursively from /kbdata/Processed/Models/1845-1865-Protestant.w2v.model.wv.* with mmap=None\n",
      "2020-10-30 09:31:57,970 : INFO : setting ignored attribute vectors_norm to None\n",
      "2020-10-30 09:31:57,971 : INFO : loading vocabulary recursively from /kbdata/Processed/Models/1845-1865-Protestant.w2v.model.vocabulary.* with mmap=None\n",
      "2020-10-30 09:31:57,971 : INFO : loading trainables recursively from /kbdata/Processed/Models/1845-1865-Protestant.w2v.model.trainables.* with mmap=None\n",
      "2020-10-30 09:31:57,971 : INFO : setting ignored attribute cum_table to None\n",
      "2020-10-30 09:31:57,972 : INFO : loaded /kbdata/Processed/Models/1845-1865-Protestant.w2v.model\n",
      "2020-10-30 09:31:58,058 : INFO : loading Word2Vec object from /kbdata/Processed/Models/1850-1870-Liberaal.w2v.model\n",
      "2020-10-30 09:31:58,518 : INFO : loading wv recursively from /kbdata/Processed/Models/1850-1870-Liberaal.w2v.model.wv.* with mmap=None\n",
      "2020-10-30 09:31:58,519 : INFO : loading vectors from /kbdata/Processed/Models/1850-1870-Liberaal.w2v.model.wv.vectors.npy with mmap=None\n",
      "2020-10-30 09:31:58,624 : INFO : setting ignored attribute vectors_norm to None\n",
      "2020-10-30 09:31:58,625 : INFO : loading vocabulary recursively from /kbdata/Processed/Models/1850-1870-Liberaal.w2v.model.vocabulary.* with mmap=None\n",
      "2020-10-30 09:31:58,626 : INFO : loading trainables recursively from /kbdata/Processed/Models/1850-1870-Liberaal.w2v.model.trainables.* with mmap=None\n",
      "2020-10-30 09:31:58,626 : INFO : loading syn1neg from /kbdata/Processed/Models/1850-1870-Liberaal.w2v.model.trainables.syn1neg.npy with mmap=None\n",
      "2020-10-30 09:31:58,799 : INFO : setting ignored attribute cum_table to None\n",
      "2020-10-30 09:31:58,800 : INFO : loaded /kbdata/Processed/Models/1850-1870-Liberaal.w2v.model\n",
      "2020-10-30 09:31:59,318 : INFO : loading Word2Vec object from /kbdata/Processed/Models/1850-1870-Katholiek.w2v.model\n",
      "2020-10-30 09:31:59,477 : INFO : loading wv recursively from /kbdata/Processed/Models/1850-1870-Katholiek.w2v.model.wv.* with mmap=None\n",
      "2020-10-30 09:31:59,478 : INFO : loading vectors from /kbdata/Processed/Models/1850-1870-Katholiek.w2v.model.wv.vectors.npy with mmap=None\n",
      "2020-10-30 09:31:59,539 : INFO : setting ignored attribute vectors_norm to None\n",
      "2020-10-30 09:31:59,540 : INFO : loading vocabulary recursively from /kbdata/Processed/Models/1850-1870-Katholiek.w2v.model.vocabulary.* with mmap=None\n",
      "2020-10-30 09:31:59,541 : INFO : loading trainables recursively from /kbdata/Processed/Models/1850-1870-Katholiek.w2v.model.trainables.* with mmap=None\n",
      "2020-10-30 09:31:59,541 : INFO : loading syn1neg from /kbdata/Processed/Models/1850-1870-Katholiek.w2v.model.trainables.syn1neg.npy with mmap=None\n",
      "2020-10-30 09:31:59,600 : INFO : setting ignored attribute cum_table to None\n",
      "2020-10-30 09:31:59,601 : INFO : loaded /kbdata/Processed/Models/1850-1870-Katholiek.w2v.model\n",
      "2020-10-30 09:31:59,959 : INFO : loading Word2Vec object from /kbdata/Processed/Models/1850-1870-Protestant.w2v.model\n"
     ]
    },
    {
     "name": "stderr",
     "output_type": "stream",
     "text": [
      "2020-10-30 09:32:00,484 : INFO : loading wv recursively from /kbdata/Processed/Models/1850-1870-Protestant.w2v.model.wv.* with mmap=None\n",
      "2020-10-30 09:32:00,485 : INFO : setting ignored attribute vectors_norm to None\n",
      "2020-10-30 09:32:00,485 : INFO : loading vocabulary recursively from /kbdata/Processed/Models/1850-1870-Protestant.w2v.model.vocabulary.* with mmap=None\n",
      "2020-10-30 09:32:00,486 : INFO : loading trainables recursively from /kbdata/Processed/Models/1850-1870-Protestant.w2v.model.trainables.* with mmap=None\n",
      "2020-10-30 09:32:00,486 : INFO : setting ignored attribute cum_table to None\n",
      "2020-10-30 09:32:00,487 : INFO : loaded /kbdata/Processed/Models/1850-1870-Protestant.w2v.model\n",
      "2020-10-30 09:32:00,570 : INFO : loading Word2Vec object from /kbdata/Processed/Models/1855-1875-Liberaal.w2v.model\n",
      "2020-10-30 09:32:01,060 : INFO : loading wv recursively from /kbdata/Processed/Models/1855-1875-Liberaal.w2v.model.wv.* with mmap=None\n",
      "2020-10-30 09:32:01,061 : INFO : loading vectors from /kbdata/Processed/Models/1855-1875-Liberaal.w2v.model.wv.vectors.npy with mmap=None\n",
      "2020-10-30 09:32:02,845 : INFO : setting ignored attribute vectors_norm to None\n",
      "2020-10-30 09:32:02,846 : INFO : loading vocabulary recursively from /kbdata/Processed/Models/1855-1875-Liberaal.w2v.model.vocabulary.* with mmap=None\n",
      "2020-10-30 09:32:02,847 : INFO : loading trainables recursively from /kbdata/Processed/Models/1855-1875-Liberaal.w2v.model.trainables.* with mmap=None\n",
      "2020-10-30 09:32:02,847 : INFO : loading syn1neg from /kbdata/Processed/Models/1855-1875-Liberaal.w2v.model.trainables.syn1neg.npy with mmap=None\n",
      "2020-10-30 09:32:04,683 : INFO : setting ignored attribute cum_table to None\n",
      "2020-10-30 09:32:04,684 : INFO : loaded /kbdata/Processed/Models/1855-1875-Liberaal.w2v.model\n",
      "2020-10-30 09:32:05,260 : INFO : loading Word2Vec object from /kbdata/Processed/Models/1855-1875-Katholiek.w2v.model\n",
      "2020-10-30 09:32:05,431 : INFO : loading wv recursively from /kbdata/Processed/Models/1855-1875-Katholiek.w2v.model.wv.* with mmap=None\n",
      "2020-10-30 09:32:05,432 : INFO : loading vectors from /kbdata/Processed/Models/1855-1875-Katholiek.w2v.model.wv.vectors.npy with mmap=None\n",
      "2020-10-30 09:32:06,527 : INFO : setting ignored attribute vectors_norm to None\n",
      "2020-10-30 09:32:06,528 : INFO : loading vocabulary recursively from /kbdata/Processed/Models/1855-1875-Katholiek.w2v.model.vocabulary.* with mmap=None\n",
      "2020-10-30 09:32:06,529 : INFO : loading trainables recursively from /kbdata/Processed/Models/1855-1875-Katholiek.w2v.model.trainables.* with mmap=None\n",
      "2020-10-30 09:32:06,529 : INFO : loading syn1neg from /kbdata/Processed/Models/1855-1875-Katholiek.w2v.model.trainables.syn1neg.npy with mmap=None\n",
      "2020-10-30 09:32:07,682 : INFO : setting ignored attribute cum_table to None\n",
      "2020-10-30 09:32:07,682 : INFO : loaded /kbdata/Processed/Models/1855-1875-Katholiek.w2v.model\n",
      "2020-10-30 09:32:08,052 : INFO : loading Word2Vec object from /kbdata/Processed/Models/1855-1875-Protestant.w2v.model\n",
      "2020-10-30 09:32:08,136 : INFO : loading wv recursively from /kbdata/Processed/Models/1855-1875-Protestant.w2v.model.wv.* with mmap=None\n",
      "2020-10-30 09:32:08,137 : INFO : loading vectors from /kbdata/Processed/Models/1855-1875-Protestant.w2v.model.wv.vectors.npy with mmap=None\n",
      "2020-10-30 09:32:08,636 : INFO : setting ignored attribute vectors_norm to None\n",
      "2020-10-30 09:32:08,637 : INFO : loading vocabulary recursively from /kbdata/Processed/Models/1855-1875-Protestant.w2v.model.vocabulary.* with mmap=None\n",
      "2020-10-30 09:32:08,637 : INFO : loading trainables recursively from /kbdata/Processed/Models/1855-1875-Protestant.w2v.model.trainables.* with mmap=None\n",
      "2020-10-30 09:32:08,638 : INFO : loading syn1neg from /kbdata/Processed/Models/1855-1875-Protestant.w2v.model.trainables.syn1neg.npy with mmap=None\n",
      "2020-10-30 09:32:09,137 : INFO : setting ignored attribute cum_table to None\n",
      "2020-10-30 09:32:09,138 : INFO : loaded /kbdata/Processed/Models/1855-1875-Protestant.w2v.model\n",
      "2020-10-30 09:32:09,315 : INFO : loading Word2Vec object from /kbdata/Processed/Models/1860-1880-Liberaal.w2v.model\n",
      "2020-10-30 09:32:09,843 : INFO : loading wv recursively from /kbdata/Processed/Models/1860-1880-Liberaal.w2v.model.wv.* with mmap=None\n",
      "2020-10-30 09:32:09,844 : INFO : loading vectors from /kbdata/Processed/Models/1860-1880-Liberaal.w2v.model.wv.vectors.npy with mmap=None\n",
      "2020-10-30 09:32:11,843 : INFO : setting ignored attribute vectors_norm to None\n",
      "2020-10-30 09:32:11,844 : INFO : loading vocabulary recursively from /kbdata/Processed/Models/1860-1880-Liberaal.w2v.model.vocabulary.* with mmap=None\n",
      "2020-10-30 09:32:11,844 : INFO : loading trainables recursively from /kbdata/Processed/Models/1860-1880-Liberaal.w2v.model.trainables.* with mmap=None\n",
      "2020-10-30 09:32:11,845 : INFO : loading syn1neg from /kbdata/Processed/Models/1860-1880-Liberaal.w2v.model.trainables.syn1neg.npy with mmap=None\n",
      "2020-10-30 09:32:13,889 : INFO : setting ignored attribute cum_table to None\n",
      "2020-10-30 09:32:13,890 : INFO : loaded /kbdata/Processed/Models/1860-1880-Liberaal.w2v.model\n",
      "2020-10-30 09:32:14,564 : INFO : loading Word2Vec object from /kbdata/Processed/Models/1860-1880-Katholiek.w2v.model\n",
      "2020-10-30 09:32:14,976 : INFO : loading wv recursively from /kbdata/Processed/Models/1860-1880-Katholiek.w2v.model.wv.* with mmap=None\n",
      "2020-10-30 09:32:14,976 : INFO : loading vectors from /kbdata/Processed/Models/1860-1880-Katholiek.w2v.model.wv.vectors.npy with mmap=None\n",
      "2020-10-30 09:32:16,182 : INFO : setting ignored attribute vectors_norm to None\n",
      "2020-10-30 09:32:16,182 : INFO : loading vocabulary recursively from /kbdata/Processed/Models/1860-1880-Katholiek.w2v.model.vocabulary.* with mmap=None\n",
      "2020-10-30 09:32:16,183 : INFO : loading trainables recursively from /kbdata/Processed/Models/1860-1880-Katholiek.w2v.model.trainables.* with mmap=None\n",
      "2020-10-30 09:32:16,184 : INFO : loading syn1neg from /kbdata/Processed/Models/1860-1880-Katholiek.w2v.model.trainables.syn1neg.npy with mmap=None\n",
      "2020-10-30 09:32:17,386 : INFO : setting ignored attribute cum_table to None\n",
      "2020-10-30 09:32:17,387 : INFO : loaded /kbdata/Processed/Models/1860-1880-Katholiek.w2v.model\n",
      "2020-10-30 09:32:17,797 : INFO : loading Word2Vec object from /kbdata/Processed/Models/1860-1880-Protestant.w2v.model\n",
      "2020-10-30 09:32:17,923 : INFO : loading wv recursively from /kbdata/Processed/Models/1860-1880-Protestant.w2v.model.wv.* with mmap=None\n",
      "2020-10-30 09:32:17,924 : INFO : loading vectors from /kbdata/Processed/Models/1860-1880-Protestant.w2v.model.wv.vectors.npy with mmap=None\n",
      "2020-10-30 09:32:18,686 : INFO : setting ignored attribute vectors_norm to None\n",
      "2020-10-30 09:32:18,687 : INFO : loading vocabulary recursively from /kbdata/Processed/Models/1860-1880-Protestant.w2v.model.vocabulary.* with mmap=None\n",
      "2020-10-30 09:32:18,688 : INFO : loading trainables recursively from /kbdata/Processed/Models/1860-1880-Protestant.w2v.model.trainables.* with mmap=None\n",
      "2020-10-30 09:32:18,688 : INFO : loading syn1neg from /kbdata/Processed/Models/1860-1880-Protestant.w2v.model.trainables.syn1neg.npy with mmap=None\n",
      "2020-10-30 09:32:19,526 : INFO : setting ignored attribute cum_table to None\n",
      "2020-10-30 09:32:19,526 : INFO : loaded /kbdata/Processed/Models/1860-1880-Protestant.w2v.model\n",
      "2020-10-30 09:32:19,764 : INFO : loading Word2Vec object from /kbdata/Processed/Models/1865-1885-Liberaal.w2v.model\n",
      "2020-10-30 09:32:20,367 : INFO : loading wv recursively from /kbdata/Processed/Models/1865-1885-Liberaal.w2v.model.wv.* with mmap=None\n",
      "2020-10-30 09:32:20,368 : INFO : loading vectors from /kbdata/Processed/Models/1865-1885-Liberaal.w2v.model.wv.vectors.npy with mmap=None\n",
      "2020-10-30 09:32:22,635 : INFO : setting ignored attribute vectors_norm to None\n",
      "2020-10-30 09:32:22,636 : INFO : loading vocabulary recursively from /kbdata/Processed/Models/1865-1885-Liberaal.w2v.model.vocabulary.* with mmap=None\n",
      "2020-10-30 09:32:22,637 : INFO : loading trainables recursively from /kbdata/Processed/Models/1865-1885-Liberaal.w2v.model.trainables.* with mmap=None\n",
      "2020-10-30 09:32:22,637 : INFO : loading syn1neg from /kbdata/Processed/Models/1865-1885-Liberaal.w2v.model.trainables.syn1neg.npy with mmap=None\n",
      "2020-10-30 09:32:24,890 : INFO : setting ignored attribute cum_table to None\n"
     ]
    },
    {
     "name": "stderr",
     "output_type": "stream",
     "text": [
      "2020-10-30 09:32:24,891 : INFO : loaded /kbdata/Processed/Models/1865-1885-Liberaal.w2v.model\n",
      "2020-10-30 09:32:25,609 : INFO : loading Word2Vec object from /kbdata/Processed/Models/1865-1885-Katholiek.w2v.model\n",
      "2020-10-30 09:32:25,809 : INFO : loading wv recursively from /kbdata/Processed/Models/1865-1885-Katholiek.w2v.model.wv.* with mmap=None\n",
      "2020-10-30 09:32:25,809 : INFO : loading vectors from /kbdata/Processed/Models/1865-1885-Katholiek.w2v.model.wv.vectors.npy with mmap=None\n",
      "2020-10-30 09:32:27,137 : INFO : setting ignored attribute vectors_norm to None\n",
      "2020-10-30 09:32:27,138 : INFO : loading vocabulary recursively from /kbdata/Processed/Models/1865-1885-Katholiek.w2v.model.vocabulary.* with mmap=None\n",
      "2020-10-30 09:32:27,138 : INFO : loading trainables recursively from /kbdata/Processed/Models/1865-1885-Katholiek.w2v.model.trainables.* with mmap=None\n",
      "2020-10-30 09:32:27,139 : INFO : loading syn1neg from /kbdata/Processed/Models/1865-1885-Katholiek.w2v.model.trainables.syn1neg.npy with mmap=None\n",
      "2020-10-30 09:32:28,484 : INFO : setting ignored attribute cum_table to None\n",
      "2020-10-30 09:32:28,485 : INFO : loaded /kbdata/Processed/Models/1865-1885-Katholiek.w2v.model\n",
      "2020-10-30 09:32:28,917 : INFO : loading Word2Vec object from /kbdata/Processed/Models/1865-1885-Protestant.w2v.model\n",
      "2020-10-30 09:32:29,337 : INFO : loading wv recursively from /kbdata/Processed/Models/1865-1885-Protestant.w2v.model.wv.* with mmap=None\n",
      "2020-10-30 09:32:29,338 : INFO : loading vectors from /kbdata/Processed/Models/1865-1885-Protestant.w2v.model.wv.vectors.npy with mmap=None\n",
      "2020-10-30 09:32:30,389 : INFO : setting ignored attribute vectors_norm to None\n",
      "2020-10-30 09:32:30,390 : INFO : loading vocabulary recursively from /kbdata/Processed/Models/1865-1885-Protestant.w2v.model.vocabulary.* with mmap=None\n",
      "2020-10-30 09:32:30,390 : INFO : loading trainables recursively from /kbdata/Processed/Models/1865-1885-Protestant.w2v.model.trainables.* with mmap=None\n",
      "2020-10-30 09:32:30,391 : INFO : loading syn1neg from /kbdata/Processed/Models/1865-1885-Protestant.w2v.model.trainables.syn1neg.npy with mmap=None\n",
      "2020-10-30 09:32:31,483 : INFO : setting ignored attribute cum_table to None\n",
      "2020-10-30 09:32:31,484 : INFO : loaded /kbdata/Processed/Models/1865-1885-Protestant.w2v.model\n",
      "2020-10-30 09:32:31,795 : INFO : loading Word2Vec object from /kbdata/Processed/Models/1870-1890-Liberaal.w2v.model\n",
      "2020-10-30 09:32:32,157 : INFO : loading wv recursively from /kbdata/Processed/Models/1870-1890-Liberaal.w2v.model.wv.* with mmap=None\n",
      "2020-10-30 09:32:32,158 : INFO : loading vectors from /kbdata/Processed/Models/1870-1890-Liberaal.w2v.model.wv.vectors.npy with mmap=None\n",
      "2020-10-30 09:32:34,640 : INFO : setting ignored attribute vectors_norm to None\n",
      "2020-10-30 09:32:34,641 : INFO : loading vocabulary recursively from /kbdata/Processed/Models/1870-1890-Liberaal.w2v.model.vocabulary.* with mmap=None\n",
      "2020-10-30 09:32:34,641 : INFO : loading trainables recursively from /kbdata/Processed/Models/1870-1890-Liberaal.w2v.model.trainables.* with mmap=None\n",
      "2020-10-30 09:32:34,642 : INFO : loading syn1neg from /kbdata/Processed/Models/1870-1890-Liberaal.w2v.model.trainables.syn1neg.npy with mmap=None\n",
      "2020-10-30 09:32:37,185 : INFO : setting ignored attribute cum_table to None\n",
      "2020-10-30 09:32:37,186 : INFO : loaded /kbdata/Processed/Models/1870-1890-Liberaal.w2v.model\n",
      "2020-10-30 09:32:37,970 : INFO : loading Word2Vec object from /kbdata/Processed/Models/1870-1890-Katholiek.w2v.model\n",
      "2020-10-30 09:32:38,453 : INFO : loading wv recursively from /kbdata/Processed/Models/1870-1890-Katholiek.w2v.model.wv.* with mmap=None\n",
      "2020-10-30 09:32:38,454 : INFO : loading vectors from /kbdata/Processed/Models/1870-1890-Katholiek.w2v.model.wv.vectors.npy with mmap=None\n",
      "2020-10-30 09:32:39,932 : INFO : setting ignored attribute vectors_norm to None\n",
      "2020-10-30 09:32:39,933 : INFO : loading vocabulary recursively from /kbdata/Processed/Models/1870-1890-Katholiek.w2v.model.vocabulary.* with mmap=None\n",
      "2020-10-30 09:32:39,934 : INFO : loading trainables recursively from /kbdata/Processed/Models/1870-1890-Katholiek.w2v.model.trainables.* with mmap=None\n",
      "2020-10-30 09:32:39,934 : INFO : loading syn1neg from /kbdata/Processed/Models/1870-1890-Katholiek.w2v.model.trainables.syn1neg.npy with mmap=None\n",
      "2020-10-30 09:32:41,433 : INFO : setting ignored attribute cum_table to None\n",
      "2020-10-30 09:32:41,433 : INFO : loaded /kbdata/Processed/Models/1870-1890-Katholiek.w2v.model\n",
      "2020-10-30 09:32:41,888 : INFO : loading Word2Vec object from /kbdata/Processed/Models/1870-1890-Protestant.w2v.model\n",
      "2020-10-30 09:32:42,087 : INFO : loading wv recursively from /kbdata/Processed/Models/1870-1890-Protestant.w2v.model.wv.* with mmap=None\n",
      "2020-10-30 09:32:42,088 : INFO : loading vectors from /kbdata/Processed/Models/1870-1890-Protestant.w2v.model.wv.vectors.npy with mmap=None\n",
      "2020-10-30 09:32:43,390 : INFO : setting ignored attribute vectors_norm to None\n",
      "2020-10-30 09:32:43,390 : INFO : loading vocabulary recursively from /kbdata/Processed/Models/1870-1890-Protestant.w2v.model.vocabulary.* with mmap=None\n",
      "2020-10-30 09:32:43,391 : INFO : loading trainables recursively from /kbdata/Processed/Models/1870-1890-Protestant.w2v.model.trainables.* with mmap=None\n",
      "2020-10-30 09:32:43,391 : INFO : loading syn1neg from /kbdata/Processed/Models/1870-1890-Protestant.w2v.model.trainables.syn1neg.npy with mmap=None\n",
      "2020-10-30 09:32:44,733 : INFO : setting ignored attribute cum_table to None\n",
      "2020-10-30 09:32:44,734 : INFO : loaded /kbdata/Processed/Models/1870-1890-Protestant.w2v.model\n",
      "2020-10-30 09:32:45,111 : INFO : loading Word2Vec object from /kbdata/Processed/Models/1875-1895-Liberaal.w2v.model\n",
      "2020-10-30 09:32:45,856 : INFO : loading wv recursively from /kbdata/Processed/Models/1875-1895-Liberaal.w2v.model.wv.* with mmap=None\n",
      "2020-10-30 09:32:45,857 : INFO : loading vectors from /kbdata/Processed/Models/1875-1895-Liberaal.w2v.model.wv.vectors.npy with mmap=None\n",
      "2020-10-30 09:32:48,782 : INFO : setting ignored attribute vectors_norm to None\n",
      "2020-10-30 09:32:48,784 : INFO : loading vocabulary recursively from /kbdata/Processed/Models/1875-1895-Liberaal.w2v.model.vocabulary.* with mmap=None\n",
      "2020-10-30 09:32:48,785 : INFO : loading trainables recursively from /kbdata/Processed/Models/1875-1895-Liberaal.w2v.model.trainables.* with mmap=None\n",
      "2020-10-30 09:32:48,786 : INFO : loading syn1neg from /kbdata/Processed/Models/1875-1895-Liberaal.w2v.model.trainables.syn1neg.npy with mmap=None\n",
      "2020-10-30 09:32:51,731 : INFO : setting ignored attribute cum_table to None\n",
      "2020-10-30 09:32:51,731 : INFO : loaded /kbdata/Processed/Models/1875-1895-Liberaal.w2v.model\n",
      "2020-10-30 09:32:52,620 : INFO : loading Word2Vec object from /kbdata/Processed/Models/1875-1895-Katholiek.w2v.model\n",
      "2020-10-30 09:32:53,182 : INFO : loading wv recursively from /kbdata/Processed/Models/1875-1895-Katholiek.w2v.model.wv.* with mmap=None\n",
      "2020-10-30 09:32:53,183 : INFO : loading vectors from /kbdata/Processed/Models/1875-1895-Katholiek.w2v.model.wv.vectors.npy with mmap=None\n",
      "2020-10-30 09:32:54,934 : INFO : setting ignored attribute vectors_norm to None\n",
      "2020-10-30 09:32:54,934 : INFO : loading vocabulary recursively from /kbdata/Processed/Models/1875-1895-Katholiek.w2v.model.vocabulary.* with mmap=None\n",
      "2020-10-30 09:32:54,935 : INFO : loading trainables recursively from /kbdata/Processed/Models/1875-1895-Katholiek.w2v.model.trainables.* with mmap=None\n",
      "2020-10-30 09:32:54,936 : INFO : loading syn1neg from /kbdata/Processed/Models/1875-1895-Katholiek.w2v.model.trainables.syn1neg.npy with mmap=None\n",
      "2020-10-30 09:32:56,687 : INFO : setting ignored attribute cum_table to None\n",
      "2020-10-30 09:32:56,687 : INFO : loaded /kbdata/Processed/Models/1875-1895-Katholiek.w2v.model\n",
      "2020-10-30 09:32:57,274 : INFO : loading Word2Vec object from /kbdata/Processed/Models/1875-1895-Protestant.w2v.model\n",
      "2020-10-30 09:32:57,509 : INFO : loading wv recursively from /kbdata/Processed/Models/1875-1895-Protestant.w2v.model.wv.* with mmap=None\n",
      "2020-10-30 09:32:57,509 : INFO : loading vectors from /kbdata/Processed/Models/1875-1895-Protestant.w2v.model.wv.vectors.npy with mmap=None\n",
      "2020-10-30 09:32:58,934 : INFO : setting ignored attribute vectors_norm to None\n"
     ]
    },
    {
     "name": "stderr",
     "output_type": "stream",
     "text": [
      "2020-10-30 09:32:58,935 : INFO : loading vocabulary recursively from /kbdata/Processed/Models/1875-1895-Protestant.w2v.model.vocabulary.* with mmap=None\n",
      "2020-10-30 09:32:58,935 : INFO : loading trainables recursively from /kbdata/Processed/Models/1875-1895-Protestant.w2v.model.trainables.* with mmap=None\n",
      "2020-10-30 09:32:58,936 : INFO : loading syn1neg from /kbdata/Processed/Models/1875-1895-Protestant.w2v.model.trainables.syn1neg.npy with mmap=None\n",
      "2020-10-30 09:33:00,387 : INFO : setting ignored attribute cum_table to None\n",
      "2020-10-30 09:33:00,388 : INFO : loaded /kbdata/Processed/Models/1875-1895-Protestant.w2v.model\n",
      "2020-10-30 09:33:00,802 : INFO : loading Word2Vec object from /kbdata/Processed/Models/1880-1900-Liberaal.w2v.model\n",
      "2020-10-30 09:33:01,625 : INFO : loading wv recursively from /kbdata/Processed/Models/1880-1900-Liberaal.w2v.model.wv.* with mmap=None\n",
      "2020-10-30 09:33:01,625 : INFO : loading vectors from /kbdata/Processed/Models/1880-1900-Liberaal.w2v.model.wv.vectors.npy with mmap=None\n",
      "2020-10-30 09:33:05,030 : INFO : setting ignored attribute vectors_norm to None\n",
      "2020-10-30 09:33:05,031 : INFO : loading vocabulary recursively from /kbdata/Processed/Models/1880-1900-Liberaal.w2v.model.vocabulary.* with mmap=None\n",
      "2020-10-30 09:33:05,031 : INFO : loading trainables recursively from /kbdata/Processed/Models/1880-1900-Liberaal.w2v.model.trainables.* with mmap=None\n",
      "2020-10-30 09:33:05,032 : INFO : loading syn1neg from /kbdata/Processed/Models/1880-1900-Liberaal.w2v.model.trainables.syn1neg.npy with mmap=None\n",
      "2020-10-30 09:33:08,527 : INFO : setting ignored attribute cum_table to None\n",
      "2020-10-30 09:33:08,528 : INFO : loaded /kbdata/Processed/Models/1880-1900-Liberaal.w2v.model\n",
      "2020-10-30 09:33:09,572 : INFO : loading Word2Vec object from /kbdata/Processed/Models/1880-1900-Katholiek.w2v.model\n",
      "2020-10-30 09:33:10,184 : INFO : loading wv recursively from /kbdata/Processed/Models/1880-1900-Katholiek.w2v.model.wv.* with mmap=None\n",
      "2020-10-30 09:33:10,185 : INFO : loading vectors from /kbdata/Processed/Models/1880-1900-Katholiek.w2v.model.wv.vectors.npy with mmap=None\n",
      "2020-10-30 09:33:12,186 : INFO : setting ignored attribute vectors_norm to None\n",
      "2020-10-30 09:33:12,187 : INFO : loading vocabulary recursively from /kbdata/Processed/Models/1880-1900-Katholiek.w2v.model.vocabulary.* with mmap=None\n",
      "2020-10-30 09:33:12,188 : INFO : loading trainables recursively from /kbdata/Processed/Models/1880-1900-Katholiek.w2v.model.trainables.* with mmap=None\n",
      "2020-10-30 09:33:12,188 : INFO : loading syn1neg from /kbdata/Processed/Models/1880-1900-Katholiek.w2v.model.trainables.syn1neg.npy with mmap=None\n",
      "2020-10-30 09:33:14,232 : INFO : setting ignored attribute cum_table to None\n",
      "2020-10-30 09:33:14,233 : INFO : loaded /kbdata/Processed/Models/1880-1900-Katholiek.w2v.model\n",
      "2020-10-30 09:33:14,899 : INFO : loading Word2Vec object from /kbdata/Processed/Models/1880-1900-Protestant.w2v.model\n",
      "2020-10-30 09:33:15,126 : INFO : loading wv recursively from /kbdata/Processed/Models/1880-1900-Protestant.w2v.model.wv.* with mmap=None\n",
      "2020-10-30 09:33:15,127 : INFO : loading vectors from /kbdata/Processed/Models/1880-1900-Protestant.w2v.model.wv.vectors.npy with mmap=None\n",
      "2020-10-30 09:33:16,480 : INFO : setting ignored attribute vectors_norm to None\n",
      "2020-10-30 09:33:16,481 : INFO : loading vocabulary recursively from /kbdata/Processed/Models/1880-1900-Protestant.w2v.model.vocabulary.* with mmap=None\n",
      "2020-10-30 09:33:16,481 : INFO : loading trainables recursively from /kbdata/Processed/Models/1880-1900-Protestant.w2v.model.trainables.* with mmap=None\n",
      "2020-10-30 09:33:16,482 : INFO : loading syn1neg from /kbdata/Processed/Models/1880-1900-Protestant.w2v.model.trainables.syn1neg.npy with mmap=None\n",
      "2020-10-30 09:33:17,891 : INFO : setting ignored attribute cum_table to None\n",
      "2020-10-30 09:33:17,892 : INFO : loaded /kbdata/Processed/Models/1880-1900-Protestant.w2v.model\n",
      "2020-10-30 09:33:18,304 : INFO : loading Word2Vec object from /kbdata/Processed/Models/1885-1905-Liberaal.w2v.model\n",
      "2020-10-30 09:33:19,233 : INFO : loading wv recursively from /kbdata/Processed/Models/1885-1905-Liberaal.w2v.model.wv.* with mmap=None\n",
      "2020-10-30 09:33:19,234 : INFO : loading vectors from /kbdata/Processed/Models/1885-1905-Liberaal.w2v.model.wv.vectors.npy with mmap=None\n",
      "2020-10-30 09:33:23,236 : INFO : setting ignored attribute vectors_norm to None\n",
      "2020-10-30 09:33:23,237 : INFO : loading vocabulary recursively from /kbdata/Processed/Models/1885-1905-Liberaal.w2v.model.vocabulary.* with mmap=None\n",
      "2020-10-30 09:33:23,237 : INFO : loading trainables recursively from /kbdata/Processed/Models/1885-1905-Liberaal.w2v.model.trainables.* with mmap=None\n",
      "2020-10-30 09:33:23,238 : INFO : loading syn1neg from /kbdata/Processed/Models/1885-1905-Liberaal.w2v.model.trainables.syn1neg.npy with mmap=None\n",
      "2020-10-30 09:33:27,280 : INFO : setting ignored attribute cum_table to None\n",
      "2020-10-30 09:33:27,281 : INFO : loaded /kbdata/Processed/Models/1885-1905-Liberaal.w2v.model\n",
      "2020-10-30 09:33:28,528 : INFO : loading Word2Vec object from /kbdata/Processed/Models/1885-1905-Katholiek.w2v.model\n",
      "2020-10-30 09:33:29,208 : INFO : loading wv recursively from /kbdata/Processed/Models/1885-1905-Katholiek.w2v.model.wv.* with mmap=None\n",
      "2020-10-30 09:33:29,209 : INFO : loading vectors from /kbdata/Processed/Models/1885-1905-Katholiek.w2v.model.wv.vectors.npy with mmap=None\n",
      "2020-10-30 09:33:31,481 : INFO : setting ignored attribute vectors_norm to None\n",
      "2020-10-30 09:33:31,481 : INFO : loading vocabulary recursively from /kbdata/Processed/Models/1885-1905-Katholiek.w2v.model.vocabulary.* with mmap=None\n",
      "2020-10-30 09:33:31,482 : INFO : loading trainables recursively from /kbdata/Processed/Models/1885-1905-Katholiek.w2v.model.trainables.* with mmap=None\n",
      "2020-10-30 09:33:31,482 : INFO : loading syn1neg from /kbdata/Processed/Models/1885-1905-Katholiek.w2v.model.trainables.syn1neg.npy with mmap=None\n",
      "2020-10-30 09:33:33,779 : INFO : setting ignored attribute cum_table to None\n",
      "2020-10-30 09:33:33,780 : INFO : loaded /kbdata/Processed/Models/1885-1905-Katholiek.w2v.model\n",
      "2020-10-30 09:33:34,519 : INFO : loading Word2Vec object from /kbdata/Processed/Models/1885-1905-Protestant.w2v.model\n",
      "2020-10-30 09:33:34,697 : INFO : loading wv recursively from /kbdata/Processed/Models/1885-1905-Protestant.w2v.model.wv.* with mmap=None\n",
      "2020-10-30 09:33:34,698 : INFO : loading vectors from /kbdata/Processed/Models/1885-1905-Protestant.w2v.model.wv.vectors.npy with mmap=None\n",
      "2020-10-30 09:33:35,780 : INFO : setting ignored attribute vectors_norm to None\n",
      "2020-10-30 09:33:35,781 : INFO : loading vocabulary recursively from /kbdata/Processed/Models/1885-1905-Protestant.w2v.model.vocabulary.* with mmap=None\n",
      "2020-10-30 09:33:35,782 : INFO : loading trainables recursively from /kbdata/Processed/Models/1885-1905-Protestant.w2v.model.trainables.* with mmap=None\n",
      "2020-10-30 09:33:35,782 : INFO : loading syn1neg from /kbdata/Processed/Models/1885-1905-Protestant.w2v.model.trainables.syn1neg.npy with mmap=None\n",
      "2020-10-30 09:33:36,938 : INFO : setting ignored attribute cum_table to None\n",
      "2020-10-30 09:33:36,939 : INFO : loaded /kbdata/Processed/Models/1885-1905-Protestant.w2v.model\n",
      "2020-10-30 09:33:37,276 : INFO : loading Word2Vec object from /kbdata/Processed/Models/1890-1910-Liberaal.w2v.model\n",
      "2020-10-30 09:33:38,641 : INFO : loading wv recursively from /kbdata/Processed/Models/1890-1910-Liberaal.w2v.model.wv.* with mmap=None\n",
      "2020-10-30 09:33:38,642 : INFO : loading vectors from /kbdata/Processed/Models/1890-1910-Liberaal.w2v.model.wv.vectors.npy with mmap=None\n",
      "2020-10-30 09:33:43,143 : INFO : setting ignored attribute vectors_norm to None\n",
      "2020-10-30 09:33:43,144 : INFO : loading vocabulary recursively from /kbdata/Processed/Models/1890-1910-Liberaal.w2v.model.vocabulary.* with mmap=None\n",
      "2020-10-30 09:33:43,144 : INFO : loading trainables recursively from /kbdata/Processed/Models/1890-1910-Liberaal.w2v.model.trainables.* with mmap=None\n",
      "2020-10-30 09:33:43,145 : INFO : loading syn1neg from /kbdata/Processed/Models/1890-1910-Liberaal.w2v.model.trainables.syn1neg.npy with mmap=None\n",
      "2020-10-30 09:33:47,684 : INFO : setting ignored attribute cum_table to None\n",
      "2020-10-30 09:33:47,684 : INFO : loaded /kbdata/Processed/Models/1890-1910-Liberaal.w2v.model\n"
     ]
    },
    {
     "name": "stderr",
     "output_type": "stream",
     "text": [
      "2020-10-30 09:33:49,048 : INFO : loading Word2Vec object from /kbdata/Processed/Models/1890-1910-Katholiek.w2v.model\n",
      "2020-10-30 09:33:49,436 : INFO : loading wv recursively from /kbdata/Processed/Models/1890-1910-Katholiek.w2v.model.wv.* with mmap=None\n",
      "2020-10-30 09:33:49,436 : INFO : loading vectors from /kbdata/Processed/Models/1890-1910-Katholiek.w2v.model.wv.vectors.npy with mmap=None\n",
      "2020-10-30 09:33:51,688 : INFO : setting ignored attribute vectors_norm to None\n",
      "2020-10-30 09:33:51,689 : INFO : loading vocabulary recursively from /kbdata/Processed/Models/1890-1910-Katholiek.w2v.model.vocabulary.* with mmap=None\n",
      "2020-10-30 09:33:51,689 : INFO : loading trainables recursively from /kbdata/Processed/Models/1890-1910-Katholiek.w2v.model.trainables.* with mmap=None\n",
      "2020-10-30 09:33:51,690 : INFO : loading syn1neg from /kbdata/Processed/Models/1890-1910-Katholiek.w2v.model.trainables.syn1neg.npy with mmap=None\n",
      "2020-10-30 09:33:51,859 : INFO : setting ignored attribute cum_table to None\n",
      "2020-10-30 09:33:51,860 : INFO : loaded /kbdata/Processed/Models/1890-1910-Katholiek.w2v.model\n",
      "2020-10-30 09:33:52,682 : INFO : loading Word2Vec object from /kbdata/Processed/Models/1890-1910-Protestant.w2v.model\n",
      "2020-10-30 09:33:52,817 : INFO : loading wv recursively from /kbdata/Processed/Models/1890-1910-Protestant.w2v.model.wv.* with mmap=None\n",
      "2020-10-30 09:33:52,818 : INFO : loading vectors from /kbdata/Processed/Models/1890-1910-Protestant.w2v.model.wv.vectors.npy with mmap=None\n",
      "2020-10-30 09:33:53,576 : INFO : setting ignored attribute vectors_norm to None\n",
      "2020-10-30 09:33:53,577 : INFO : loading vocabulary recursively from /kbdata/Processed/Models/1890-1910-Protestant.w2v.model.vocabulary.* with mmap=None\n",
      "2020-10-30 09:33:53,577 : INFO : loading trainables recursively from /kbdata/Processed/Models/1890-1910-Protestant.w2v.model.trainables.* with mmap=None\n",
      "2020-10-30 09:33:53,578 : INFO : loading syn1neg from /kbdata/Processed/Models/1890-1910-Protestant.w2v.model.trainables.syn1neg.npy with mmap=None\n",
      "2020-10-30 09:33:54,392 : INFO : setting ignored attribute cum_table to None\n",
      "2020-10-30 09:33:54,392 : INFO : loaded /kbdata/Processed/Models/1890-1910-Protestant.w2v.model\n",
      "2020-10-30 09:33:54,637 : INFO : loading Word2Vec object from /kbdata/Processed/Models/1895-1915-Liberaal.w2v.model\n",
      "2020-10-30 09:33:55,536 : INFO : loading wv recursively from /kbdata/Processed/Models/1895-1915-Liberaal.w2v.model.wv.* with mmap=None\n",
      "2020-10-30 09:33:55,537 : INFO : loading vectors from /kbdata/Processed/Models/1895-1915-Liberaal.w2v.model.wv.vectors.npy with mmap=None\n",
      "2020-10-30 09:33:59,434 : INFO : setting ignored attribute vectors_norm to None\n",
      "2020-10-30 09:33:59,435 : INFO : loading vocabulary recursively from /kbdata/Processed/Models/1895-1915-Liberaal.w2v.model.vocabulary.* with mmap=None\n",
      "2020-10-30 09:33:59,435 : INFO : loading trainables recursively from /kbdata/Processed/Models/1895-1915-Liberaal.w2v.model.trainables.* with mmap=None\n",
      "2020-10-30 09:33:59,436 : INFO : loading syn1neg from /kbdata/Processed/Models/1895-1915-Liberaal.w2v.model.trainables.syn1neg.npy with mmap=None\n",
      "2020-10-30 09:34:03,340 : INFO : setting ignored attribute cum_table to None\n",
      "2020-10-30 09:34:03,341 : INFO : loaded /kbdata/Processed/Models/1895-1915-Liberaal.w2v.model\n",
      "2020-10-30 09:34:04,556 : INFO : loading Word2Vec object from /kbdata/Processed/Models/1895-1915-Katholiek.w2v.model\n",
      "2020-10-30 09:34:05,218 : INFO : loading wv recursively from /kbdata/Processed/Models/1895-1915-Katholiek.w2v.model.wv.* with mmap=None\n",
      "2020-10-30 09:34:05,219 : INFO : loading vectors from /kbdata/Processed/Models/1895-1915-Katholiek.w2v.model.wv.vectors.npy with mmap=None\n",
      "2020-10-30 09:34:07,342 : INFO : setting ignored attribute vectors_norm to None\n",
      "2020-10-30 09:34:07,343 : INFO : loading vocabulary recursively from /kbdata/Processed/Models/1895-1915-Katholiek.w2v.model.vocabulary.* with mmap=None\n",
      "2020-10-30 09:34:07,344 : INFO : loading trainables recursively from /kbdata/Processed/Models/1895-1915-Katholiek.w2v.model.trainables.* with mmap=None\n",
      "2020-10-30 09:34:07,344 : INFO : loading syn1neg from /kbdata/Processed/Models/1895-1915-Katholiek.w2v.model.trainables.syn1neg.npy with mmap=None\n",
      "2020-10-30 09:34:09,484 : INFO : setting ignored attribute cum_table to None\n",
      "2020-10-30 09:34:09,485 : INFO : loaded /kbdata/Processed/Models/1895-1915-Katholiek.w2v.model\n",
      "2020-10-30 09:34:10,226 : INFO : loading Word2Vec object from /kbdata/Processed/Models/1895-1915-Protestant.w2v.model\n",
      "2020-10-30 09:34:10,317 : INFO : loading wv recursively from /kbdata/Processed/Models/1895-1915-Protestant.w2v.model.wv.* with mmap=None\n",
      "2020-10-30 09:34:10,318 : INFO : loading vectors from /kbdata/Processed/Models/1895-1915-Protestant.w2v.model.wv.vectors.npy with mmap=None\n",
      "2020-10-30 09:34:10,779 : INFO : setting ignored attribute vectors_norm to None\n",
      "2020-10-30 09:34:10,780 : INFO : loading vocabulary recursively from /kbdata/Processed/Models/1895-1915-Protestant.w2v.model.vocabulary.* with mmap=None\n",
      "2020-10-30 09:34:10,780 : INFO : loading trainables recursively from /kbdata/Processed/Models/1895-1915-Protestant.w2v.model.trainables.* with mmap=None\n",
      "2020-10-30 09:34:10,782 : INFO : loading syn1neg from /kbdata/Processed/Models/1895-1915-Protestant.w2v.model.trainables.syn1neg.npy with mmap=None\n",
      "2020-10-30 09:34:11,279 : INFO : setting ignored attribute cum_table to None\n",
      "2020-10-30 09:34:11,280 : INFO : loaded /kbdata/Processed/Models/1895-1915-Protestant.w2v.model\n"
     ]
    },
    {
     "name": "stdout",
     "output_type": "stream",
     "text": [
      "\n"
     ]
    }
   ],
   "source": [
    "results = {}\n",
    "if FINETUNED:\n",
    "    base_bias = compute_bias(female_words,male_words,target_list,base_model)\n",
    "else:\n",
    "    base_bias = .0\n",
    "    \n",
    "for year in tqdm(years):\n",
    "    lib_model = Word2Vec.load(str(liberaal_models[year]))\n",
    "    lib_bias = compute_bias(female_words,male_words,target_list,lib_model) - base_bias\n",
    "    kath_model = Word2Vec.load(str(katholiek_models[year]))\n",
    "    kath_bias = compute_bias(female_words,male_words,target_list,kath_model) - base_bias\n",
    "    protestant_model = Word2Vec.load(str(protestant_models[year]))\n",
    "    protestant_bias = compute_bias(female_words,male_words,target_list,protestant_model) - base_bias\n",
    "    results[year] = (lib_bias,kath_bias,protestant_bias)"
   ]
  },
  {
   "cell_type": "markdown",
   "metadata": {},
   "source": [
    "## Plotting the results\n",
    "\n",
    "The cells below, plot the evolution of bias over time by the political leaning of the newspaper. Change the `FROM` to `TO` variables to adjust the period covered by the timeline."
   ]
  },
  {
   "cell_type": "code",
   "execution_count": 40,
   "metadata": {},
   "outputs": [],
   "source": [
    "FROM= 1850\n",
    "TO = 1910"
   ]
  },
  {
   "cell_type": "code",
   "execution_count": 41,
   "metadata": {},
   "outputs": [
    {
     "data": {
      "text/plain": [
       "<AxesSubplot:>"
      ]
     },
     "execution_count": 41,
     "metadata": {},
     "output_type": "execute_result"
    },
    {
     "data": {
      "image/png": "[encoded data removed]",
      "text/plain": [
       "<Figure size 432x288 with 1 Axes>"
      ]
     },
     "metadata": {
      "needs_background": "light"
     },
     "output_type": "display_data"
    }
   ],
   "source": [
    "df_result = pd.DataFrame(results).T#.plot()\n",
    "df_result.columns = [\"Liberaal\", \"Katholiek\", \"Protestant\"]\n",
    "df_result.loc[FROM:TO].plot()"
   ]
  },
  {
   "cell_type": "code",
   "execution_count": 42,
   "metadata": {},
   "outputs": [
    {
     "data": {
      "text/plain": [
       "<AxesSubplot:>"
      ]
     },
     "execution_count": 42,
     "metadata": {},
     "output_type": "execute_result"
    },
    {
     "data": {
      "image/png": "[encoded data removed]",
      "text/plain": [
       "<Figure size 432x288 with 1 Axes>"
      ]
     },
     "metadata": {
      "needs_background": "light"
     },
     "output_type": "display_data"
    }
   ],
   "source": [
    "df_result[\"Average\"] = df_result.mean(axis=1)\n",
    "df_result[\"Average\"].loc[FROM:TO].plot()"
   ]
  },
  {
   "cell_type": "markdown",
   "metadata": {},
   "source": [
    "# 3. Inspect Bias Scores"
   ]
  },
  {
   "cell_type": "markdown",
   "metadata": {},
   "source": [
    "The timelines give a sense of general historical tendencies. \n",
    "For emotion example, you'll notice that differences between `Katholiek` and `Liberaal` are actually not that substantive, which may come somewhat as a surprise.\n",
    "To understand what is happening here, we can have a closer look at the what drives these bias scores, by inspecting which gender categories are portrayed as emotional."
   ]
  },
  {
   "cell_type": "markdown",
   "metadata": {},
   "source": [
    "For this we use the `inspect_bias` function."
   ]
  },
  {
   "cell_type": "code",
   "execution_count": 50,
   "metadata": {},
   "outputs": [
    {
     "name": "stdout",
     "output_type": "stream",
     "text": [
      "Help on function inspect_bias in module utils.utils:\n",
      "\n",
      "inspect_bias(p1:list, p2:list, target:list, model:gensim.models.word2vec.Word2Vec, metric:Callable[[list, list], float]=<function <lambda> at 0x7fc8eac7c510>) -> tuple\n",
      "    this function allows you to inspect which terms have high bias scores\n",
      "    applied to gender, it shows which men and women have a hight bias score for\n",
      "    a given list of target words. the function maps each word in p1 and p2 to \n",
      "    a bias score comp\n",
      "    Arguments:\n",
      "        p1 (list): word list for first pole\n",
      "        p2 (list): word list for the second pole\n",
      "        target (list): word list for the target concept\n",
      "        model (gensim.models.word2vec.Word2Vec): a word2vec model\n",
      "        metric (function): a similarity metric\n",
      "    Returns:\n",
      "        a tuple with containing two dictionaries (for p1 and p2). each d\n",
      "        dictionary maps indidividual words to the their bias scores\n",
      "\n"
     ]
    }
   ],
   "source": [
    "help(inspect_bias)"
   ]
  },
  {
   "cell_type": "markdown",
   "metadata": {},
   "source": [
    "Change the `YEAR` variable to a period you want to investigate more closely."
   ]
  },
  {
   "cell_type": "markdown",
   "metadata": {},
   "source": [
    "## 3.1 Computing bias score for one selected year"
   ]
  },
  {
   "cell_type": "code",
   "execution_count": 55,
   "metadata": {},
   "outputs": [],
   "source": [
    "YEAR = 1850"
   ]
  },
  {
   "cell_type": "markdown",
   "metadata": {},
   "source": [
    "below we compute the gender bias in the liberal and katholiek models for that year."
   ]
  },
  {
   "cell_type": "code",
   "execution_count": 51,
   "metadata": {},
   "outputs": [
    {
     "name": "stderr",
     "output_type": "stream",
     "text": [
      "2020-10-30 09:42:51,328 : INFO : loading Word2Vec object from /kbdata/Processed/Models/1850-1870-Liberaal.w2v.model\n",
      "2020-10-30 09:42:51,557 : INFO : loading wv recursively from /kbdata/Processed/Models/1850-1870-Liberaal.w2v.model.wv.* with mmap=None\n",
      "2020-10-30 09:42:51,558 : INFO : loading vectors from /kbdata/Processed/Models/1850-1870-Liberaal.w2v.model.wv.vectors.npy with mmap=None\n",
      "2020-10-30 09:42:51,641 : INFO : setting ignored attribute vectors_norm to None\n",
      "2020-10-30 09:42:51,642 : INFO : loading vocabulary recursively from /kbdata/Processed/Models/1850-1870-Liberaal.w2v.model.vocabulary.* with mmap=None\n",
      "2020-10-30 09:42:51,642 : INFO : loading trainables recursively from /kbdata/Processed/Models/1850-1870-Liberaal.w2v.model.trainables.* with mmap=None\n",
      "2020-10-30 09:42:51,643 : INFO : loading syn1neg from /kbdata/Processed/Models/1850-1870-Liberaal.w2v.model.trainables.syn1neg.npy with mmap=None\n",
      "2020-10-30 09:42:51,739 : INFO : setting ignored attribute cum_table to None\n",
      "2020-10-30 09:42:51,741 : INFO : loaded /kbdata/Processed/Models/1850-1870-Liberaal.w2v.model\n",
      "2020-10-30 09:42:52,288 : INFO : loading Word2Vec object from /kbdata/Processed/Models/1850-1870-Katholiek.w2v.model\n",
      "2020-10-30 09:42:52,682 : INFO : loading wv recursively from /kbdata/Processed/Models/1850-1870-Katholiek.w2v.model.wv.* with mmap=None\n",
      "2020-10-30 09:42:52,683 : INFO : loading vectors from /kbdata/Processed/Models/1850-1870-Katholiek.w2v.model.wv.vectors.npy with mmap=None\n",
      "2020-10-30 09:42:52,738 : INFO : setting ignored attribute vectors_norm to None\n",
      "2020-10-30 09:42:52,739 : INFO : loading vocabulary recursively from /kbdata/Processed/Models/1850-1870-Katholiek.w2v.model.vocabulary.* with mmap=None\n",
      "2020-10-30 09:42:52,740 : INFO : loading trainables recursively from /kbdata/Processed/Models/1850-1870-Katholiek.w2v.model.trainables.* with mmap=None\n",
      "2020-10-30 09:42:52,740 : INFO : loading syn1neg from /kbdata/Processed/Models/1850-1870-Katholiek.w2v.model.trainables.syn1neg.npy with mmap=None\n",
      "2020-10-30 09:42:52,795 : INFO : setting ignored attribute cum_table to None\n",
      "2020-10-30 09:42:52,796 : INFO : loaded /kbdata/Processed/Models/1850-1870-Katholiek.w2v.model\n",
      "2020-10-30 09:42:53,157 : INFO : loading Word2Vec object from /kbdata/Processed/Models/1850-1870-Protestant.w2v.model\n",
      "2020-10-30 09:42:53,692 : INFO : loading wv recursively from /kbdata/Processed/Models/1850-1870-Protestant.w2v.model.wv.* with mmap=None\n",
      "2020-10-30 09:42:53,693 : INFO : setting ignored attribute vectors_norm to None\n",
      "2020-10-30 09:42:53,693 : INFO : loading vocabulary recursively from /kbdata/Processed/Models/1850-1870-Protestant.w2v.model.vocabulary.* with mmap=None\n",
      "2020-10-30 09:42:53,694 : INFO : loading trainables recursively from /kbdata/Processed/Models/1850-1870-Protestant.w2v.model.trainables.* with mmap=None\n",
      "2020-10-30 09:42:53,694 : INFO : setting ignored attribute cum_table to None\n",
      "2020-10-30 09:42:53,695 : INFO : loaded /kbdata/Processed/Models/1850-1870-Protestant.w2v.model\n"
     ]
    }
   ],
   "source": [
    "lib_model = Word2Vec.load(str(liberaal_models[YEAR]))\n",
    "lib_bias = inspect_bias(female_words,male_words,target_list,lib_model)\n",
    "kath_model = Word2Vec.load(str(katholiek_models[YEAR]))\n",
    "kath_bias = inspect_bias(female_words,male_words,target_list,kath_model)\n",
    "protestant_model = Word2Vec.load(str(protestant_models[YEAR]))\n",
    "protestant_bias = inspect_bias(female_words,male_words,target_list,protestant_model)"
   ]
  },
  {
   "cell_type": "markdown",
   "metadata": {},
   "source": [
    "## 3.2 Plotting the distribution of bias scores"
   ]
  },
  {
   "cell_type": "markdown",
   "metadata": {},
   "source": [
    "As said in the docstring, `inspect_bias` returns a tuple containing two dictionaries. Each of them maps individual words to their bias scores."
   ]
  },
  {
   "cell_type": "code",
   "execution_count": 56,
   "metadata": {},
   "outputs": [
    {
     "data": {
      "text/plain": [
       "[('dienstmeid', 1.2565392507240176),\n",
       " ('bees', -0.39814979769289494),\n",
       " ('juffer', 1.0591034702956676),\n",
       " ('dienstbode', 1.3158989269286394),\n",
       " ('baronnes', 0.7410836424678564),\n",
       " ('vischvrouw', 1.148152084555477),\n",
       " ('mama', 1.245691875461489),\n",
       " ('voogdes', -0.25411135237663984),\n",
       " ('meid', 1.1846056897193193),\n",
       " ('jodin', 0.894903153181076)]"
      ]
     },
     "execution_count": 56,
     "metadata": {},
     "output_type": "execute_result"
    }
   ],
   "source": [
    "list(kath_bias[0].items())[:10]"
   ]
  },
  {
   "cell_type": "markdown",
   "metadata": {},
   "source": [
    "We can now plot the distribution of bias by gender. Below we plot the scores for female (`lib_bias[0]`, blue line) and male (`lib_bias[1]`, orange line) words in the liberal model."
   ]
  },
  {
   "cell_type": "code",
   "execution_count": 59,
   "metadata": {},
   "outputs": [
    {
     "data": {
      "text/plain": [
       "<AxesSubplot:ylabel='Density'>"
      ]
     },
     "execution_count": 59,
     "metadata": {},
     "output_type": "execute_result"
    },
    {
     "data": {
      "image/png": "[encoded data removed]",
      "text/plain": [
       "<Figure size 432x288 with 1 Axes>"
      ]
     },
     "metadata": {
      "needs_background": "light"
     },
     "output_type": "display_data"
    }
   ],
   "source": [
    "pd.Series(list(lib_bias[0].values())).plot(kind='density')\n",
    "pd.Series(list(lib_bias[1].values())).plot(kind='density')"
   ]
  },
  {
   "cell_type": "markdown",
   "metadata": {},
   "source": [
    "The plot below compares the distribution of bias scores for female words between the katholiek (blue line) and liberal model (orange line)"
   ]
  },
  {
   "cell_type": "code",
   "execution_count": 61,
   "metadata": {},
   "outputs": [
    {
     "data": {
      "text/plain": [
       "<AxesSubplot:ylabel='Density'>"
      ]
     },
     "execution_count": 61,
     "metadata": {},
     "output_type": "execute_result"
    },
    {
     "data": {
      "image/png": "[encoded data removed]",
      "text/plain": [
       "<Figure size 432x288 with 1 Axes>"
      ]
     },
     "metadata": {
      "needs_background": "light"
     },
     "output_type": "display_data"
    }
   ],
   "source": [
    "pd.Series(list(kath_bias[0].values())).plot(kind='density')\n",
    "pd.Series(list(lib_bias[0].values())).plot(kind='density')"
   ]
  },
  {
   "cell_type": "code",
   "execution_count": 62,
   "metadata": {},
   "outputs": [
    {
     "data": {
      "text/plain": [
       "<AxesSubplot:ylabel='Density'>"
      ]
     },
     "execution_count": 62,
     "metadata": {},
     "output_type": "execute_result"
    },
    {
     "data": {
      "image/png": "[encoded data removed]",
      "text/plain": [
       "<Figure size 432x288 with 1 Axes>"
      ]
     },
     "metadata": {
      "needs_background": "light"
     },
     "output_type": "display_data"
    }
   ],
   "source": [
    "pd.Series(list(protestant_bias[0].values())).plot(kind='density')\n",
    "pd.Series(list(protestant_bias[1].values())).plot(kind='density')"
   ]
  },
  {
   "cell_type": "markdown",
   "metadata": {},
   "source": [
    "# 3.3 Inspecting the most (or least) biased words"
   ]
  },
  {
   "cell_type": "markdown",
   "metadata": {},
   "source": [
    "Besides plotting the distribution, we can also inspect the most (or least) biased words running the cells below."
   ]
  },
  {
   "cell_type": "markdown",
   "metadata": {},
   "source": [
    "The ten most biased female words in the liberal model."
   ]
  },
  {
   "cell_type": "code",
   "execution_count": 65,
   "metadata": {},
   "outputs": [
    {
     "data": {
      "text/plain": [
       "[('brunette', 2.297665663063526),\n",
       " ('kunstenares', 2.171439327299595),\n",
       " ('kamenier', 2.1621857807040215),\n",
       " ('buurvrouw', 2.060928963124752),\n",
       " ('somnambule', 2.010161869227886),\n",
       " ('gezellin', 1.9951301217079163),\n",
       " ('dienstmaagd', 1.980964258313179),\n",
       " ('dame', 1.9173139687627554),\n",
       " ('slavin', 1.8965954706072807),\n",
       " ('martelares', 1.8692283928394318)]"
      ]
     },
     "execution_count": 65,
     "metadata": {},
     "output_type": "execute_result"
    }
   ],
   "source": [
    "sorted(lib_bias[0].items(),key=lambda x: x[1],reverse=True)[:10]"
   ]
  },
  {
   "cell_type": "markdown",
   "metadata": {},
   "source": [
    "The ten most biased male words in the catholic model."
   ]
  },
  {
   "cell_type": "code",
   "execution_count": 66,
   "metadata": {},
   "outputs": [
    {
     "data": {
      "text/plain": [
       "[('wereld', 1.5526563115417957),\n",
       " ('grijsaard', 1.3624730275478214),\n",
       " ('woesteling', 1.3007169005722972),\n",
       " ('monnik', 1.1934383944608271),\n",
       " ('verloofde', 1.1431697686202824),\n",
       " ('denker', 1.1032027378678322),\n",
       " ('kerel', 1.0898987799882889),\n",
       " ('bokser', 1.0407800041139126),\n",
       " ('gendarme', 1.0228835102170706),\n",
       " ('jongen', 1.0223372471518815)]"
      ]
     },
     "execution_count": 66,
     "metadata": {},
     "output_type": "execute_result"
    }
   ],
   "source": [
    "sorted(kath_bias[1].items(),key=lambda x: x[1],reverse=True)[:10]"
   ]
  },
  {
   "cell_type": "markdown",
   "metadata": {},
   "source": [
    "The ten most biased female words in the catholic model."
   ]
  },
  {
   "cell_type": "code",
   "execution_count": 67,
   "metadata": {},
   "outputs": [
    {
     "data": {
      "text/plain": [
       "[('gezellin', 1.9895132407546043),\n",
       " ('bedelares', 1.788897842168808),\n",
       " ('kamenier', 1.59621412307024),\n",
       " ('dame', 1.582260675728321),\n",
       " ('buurvrouw', 1.5795261561870575),\n",
       " ('dienstmaagd', 1.5729063525795937),\n",
       " ('vorstin', 1.5116195119917393),\n",
       " ('schoonmoeder', 1.4297476336359978),\n",
       " ('moedor', 1.3971776380203664),\n",
       " ('kunstenares', 1.3876029551029205)]"
      ]
     },
     "execution_count": 67,
     "metadata": {},
     "output_type": "execute_result"
    }
   ],
   "source": [
    "sorted(kath_bias[0].items(),key=lambda x: x[1],reverse=True)[:10]"
   ]
  },
  {
   "cell_type": "markdown",
   "metadata": {},
   "source": [
    "# 4. Plotting Facets"
   ]
  },
  {
   "cell_type": "markdown",
   "metadata": {},
   "source": [
    "The section of the notebook provides some function to zoom in on differences between facets (such as politics or province) for a given year."
   ]
  },
  {
   "cell_type": "code",
   "execution_count": 74,
   "metadata": {},
   "outputs": [
    {
     "data": {
      "text/plain": [
       "array(['Noord Holland', 'Gelderland', 'Groningen', 'Friesland', 'Drenthe',\n",
       "       'Zeeland', 'North Brabant', 'South Holland', 'Overijssel',\n",
       "       'Utrecht', 'Limburg'], dtype=object)"
      ]
     },
     "execution_count": 74,
     "metadata": {},
     "output_type": "execute_result"
    }
   ],
   "source": [
    "FACET = \"Provincie\" # \"Politek\" | Provincie\n",
    "FACET_VALUES = df_meta[FACET].unique()\n",
    "FACET_VALUES"
   ]
  },
  {
   "cell_type": "code",
   "execution_count": 75,
   "metadata": {},
   "outputs": [],
   "source": [
    "YEAR = 1880\n",
    "\n",
    "selected_models = {}\n",
    "\n",
    "for facet in FACET_VALUES:\n",
    "    model_paths = select_model_by_facet_value(facet)\n",
    "    \n",
    "    selected_models[facet] = model_paths.get(YEAR,None)\n",
    "    \n",
    "selected_models = {w:v for w,v in selected_models.items() if v}"
   ]
  },
  {
   "cell_type": "code",
   "execution_count": 76,
   "metadata": {},
   "outputs": [
    {
     "data": {
      "text/plain": [
       "{'Noord Holland': PosixPath('/kbdata/Processed/Models/1880-1900-Noord Holland.w2v.model'),\n",
       " 'Gelderland': PosixPath('/kbdata/Processed/Models/1880-1900-Gelderland.w2v.model'),\n",
       " 'Groningen': PosixPath('/kbdata/Processed/Models/1880-1900-Groningen.w2v.model'),\n",
       " 'Friesland': PosixPath('/kbdata/Processed/Models/1880-1900-Friesland.w2v.model'),\n",
       " 'Zeeland': PosixPath('/kbdata/Processed/Models/1880-1900-Zeeland.w2v.model'),\n",
       " 'North Brabant': PosixPath('/kbdata/Processed/Models/1880-1900-North Brabant.w2v.model'),\n",
       " 'South Holland': PosixPath('/kbdata/Processed/Models/1880-1900-South Holland.w2v.model'),\n",
       " 'Overijssel': PosixPath('/kbdata/Processed/Models/1880-1900-Overijssel.w2v.model')}"
      ]
     },
     "execution_count": 76,
     "metadata": {},
     "output_type": "execute_result"
    }
   ],
   "source": [
    "selected_models"
   ]
  },
  {
   "cell_type": "code",
   "execution_count": 77,
   "metadata": {},
   "outputs": [
    {
     "data": {
      "application/vnd.jupyter.widget-view+json": {
       "model_id": "e82eec6791734c0ebf9341003a477ff6",
       "version_major": 2,
       "version_minor": 0
      },
      "text/plain": [
       "HBox(children=(FloatProgress(value=0.0, max=8.0), HTML(value='')))"
      ]
     },
     "metadata": {},
     "output_type": "display_data"
    },
    {
     "name": "stderr",
     "output_type": "stream",
     "text": [
      "2020-10-30 10:06:23,793 : INFO : loading Word2Vec object from /kbdata/Processed/Models/1880-1900-Noord Holland.w2v.model\n",
      "2020-10-30 10:06:24,404 : INFO : loading wv recursively from /kbdata/Processed/Models/1880-1900-Noord Holland.w2v.model.wv.* with mmap=None\n",
      "2020-10-30 10:06:24,405 : INFO : loading vectors from /kbdata/Processed/Models/1880-1900-Noord Holland.w2v.model.wv.vectors.npy with mmap=None\n",
      "2020-10-30 10:06:24,576 : INFO : setting ignored attribute vectors_norm to None\n",
      "2020-10-30 10:06:24,577 : INFO : loading vocabulary recursively from /kbdata/Processed/Models/1880-1900-Noord Holland.w2v.model.vocabulary.* with mmap=None\n",
      "2020-10-30 10:06:24,577 : INFO : loading trainables recursively from /kbdata/Processed/Models/1880-1900-Noord Holland.w2v.model.trainables.* with mmap=None\n",
      "2020-10-30 10:06:24,578 : INFO : loading syn1neg from /kbdata/Processed/Models/1880-1900-Noord Holland.w2v.model.trainables.syn1neg.npy with mmap=None\n",
      "2020-10-30 10:06:24,863 : INFO : setting ignored attribute cum_table to None\n",
      "2020-10-30 10:06:24,864 : INFO : loaded /kbdata/Processed/Models/1880-1900-Noord Holland.w2v.model\n",
      "2020-10-30 10:06:25,657 : INFO : loading Word2Vec object from /kbdata/Processed/Models/1880-1900-Gelderland.w2v.model\n",
      "2020-10-30 10:06:26,428 : INFO : loading wv recursively from /kbdata/Processed/Models/1880-1900-Gelderland.w2v.model.wv.* with mmap=None\n",
      "2020-10-30 10:06:26,428 : INFO : setting ignored attribute vectors_norm to None\n",
      "2020-10-30 10:06:26,429 : INFO : loading vocabulary recursively from /kbdata/Processed/Models/1880-1900-Gelderland.w2v.model.vocabulary.* with mmap=None\n",
      "2020-10-30 10:06:26,429 : INFO : loading trainables recursively from /kbdata/Processed/Models/1880-1900-Gelderland.w2v.model.trainables.* with mmap=None\n",
      "2020-10-30 10:06:26,430 : INFO : setting ignored attribute cum_table to None\n",
      "2020-10-30 10:06:26,430 : INFO : loaded /kbdata/Processed/Models/1880-1900-Gelderland.w2v.model\n",
      "2020-10-30 10:06:26,578 : INFO : loading Word2Vec object from /kbdata/Processed/Models/1880-1900-Groningen.w2v.model\n",
      "2020-10-30 10:06:26,626 : INFO : loading wv recursively from /kbdata/Processed/Models/1880-1900-Groningen.w2v.model.wv.* with mmap=None\n",
      "2020-10-30 10:06:26,627 : INFO : loading vectors from /kbdata/Processed/Models/1880-1900-Groningen.w2v.model.wv.vectors.npy with mmap=None\n",
      "2020-10-30 10:06:26,648 : INFO : setting ignored attribute vectors_norm to None\n",
      "2020-10-30 10:06:26,649 : INFO : loading vocabulary recursively from /kbdata/Processed/Models/1880-1900-Groningen.w2v.model.vocabulary.* with mmap=None\n",
      "2020-10-30 10:06:26,650 : INFO : loading trainables recursively from /kbdata/Processed/Models/1880-1900-Groningen.w2v.model.trainables.* with mmap=None\n",
      "2020-10-30 10:06:26,650 : INFO : loading syn1neg from /kbdata/Processed/Models/1880-1900-Groningen.w2v.model.trainables.syn1neg.npy with mmap=None\n",
      "2020-10-30 10:06:26,670 : INFO : setting ignored attribute cum_table to None\n",
      "2020-10-30 10:06:26,671 : INFO : loaded /kbdata/Processed/Models/1880-1900-Groningen.w2v.model\n",
      "2020-10-30 10:06:26,824 : INFO : loading Word2Vec object from /kbdata/Processed/Models/1880-1900-Friesland.w2v.model\n",
      "2020-10-30 10:06:26,920 : INFO : loading wv recursively from /kbdata/Processed/Models/1880-1900-Friesland.w2v.model.wv.* with mmap=None\n",
      "2020-10-30 10:06:26,921 : INFO : loading vectors from /kbdata/Processed/Models/1880-1900-Friesland.w2v.model.wv.vectors.npy with mmap=None\n",
      "2020-10-30 10:06:26,960 : INFO : setting ignored attribute vectors_norm to None\n",
      "2020-10-30 10:06:26,961 : INFO : loading vocabulary recursively from /kbdata/Processed/Models/1880-1900-Friesland.w2v.model.vocabulary.* with mmap=None\n",
      "2020-10-30 10:06:26,962 : INFO : loading trainables recursively from /kbdata/Processed/Models/1880-1900-Friesland.w2v.model.trainables.* with mmap=None\n",
      "2020-10-30 10:06:26,962 : INFO : loading syn1neg from /kbdata/Processed/Models/1880-1900-Friesland.w2v.model.trainables.syn1neg.npy with mmap=None\n",
      "2020-10-30 10:06:27,002 : INFO : setting ignored attribute cum_table to None\n",
      "2020-10-30 10:06:27,003 : INFO : loaded /kbdata/Processed/Models/1880-1900-Friesland.w2v.model\n",
      "2020-10-30 10:06:27,272 : INFO : loading Word2Vec object from /kbdata/Processed/Models/1880-1900-Zeeland.w2v.model\n",
      "2020-10-30 10:06:27,835 : INFO : loading wv recursively from /kbdata/Processed/Models/1880-1900-Zeeland.w2v.model.wv.* with mmap=None\n",
      "2020-10-30 10:06:27,836 : INFO : setting ignored attribute vectors_norm to None\n",
      "2020-10-30 10:06:27,836 : INFO : loading vocabulary recursively from /kbdata/Processed/Models/1880-1900-Zeeland.w2v.model.vocabulary.* with mmap=None\n",
      "2020-10-30 10:06:27,837 : INFO : loading trainables recursively from /kbdata/Processed/Models/1880-1900-Zeeland.w2v.model.trainables.* with mmap=None\n",
      "2020-10-30 10:06:27,837 : INFO : setting ignored attribute cum_table to None\n",
      "2020-10-30 10:06:27,838 : INFO : loaded /kbdata/Processed/Models/1880-1900-Zeeland.w2v.model\n",
      "2020-10-30 10:06:27,952 : INFO : loading Word2Vec object from /kbdata/Processed/Models/1880-1900-North Brabant.w2v.model\n",
      "2020-10-30 10:06:28,108 : INFO : loading wv recursively from /kbdata/Processed/Models/1880-1900-North Brabant.w2v.model.wv.* with mmap=None\n",
      "2020-10-30 10:06:28,109 : INFO : loading vectors from /kbdata/Processed/Models/1880-1900-North Brabant.w2v.model.wv.vectors.npy with mmap=None\n",
      "2020-10-30 10:06:28,174 : INFO : setting ignored attribute vectors_norm to None\n",
      "2020-10-30 10:06:28,174 : INFO : loading vocabulary recursively from /kbdata/Processed/Models/1880-1900-North Brabant.w2v.model.vocabulary.* with mmap=None\n",
      "2020-10-30 10:06:28,175 : INFO : loading trainables recursively from /kbdata/Processed/Models/1880-1900-North Brabant.w2v.model.trainables.* with mmap=None\n",
      "2020-10-30 10:06:28,176 : INFO : loading syn1neg from /kbdata/Processed/Models/1880-1900-North Brabant.w2v.model.trainables.syn1neg.npy with mmap=None\n",
      "2020-10-30 10:06:28,241 : INFO : setting ignored attribute cum_table to None\n",
      "2020-10-30 10:06:28,242 : INFO : loaded /kbdata/Processed/Models/1880-1900-North Brabant.w2v.model\n",
      "2020-10-30 10:06:28,629 : INFO : loading Word2Vec object from /kbdata/Processed/Models/1880-1900-South Holland.w2v.model\n",
      "2020-10-30 10:06:29,012 : INFO : loading wv recursively from /kbdata/Processed/Models/1880-1900-South Holland.w2v.model.wv.* with mmap=None\n",
      "2020-10-30 10:06:29,013 : INFO : loading vectors from /kbdata/Processed/Models/1880-1900-South Holland.w2v.model.wv.vectors.npy with mmap=None\n",
      "2020-10-30 10:06:29,068 : INFO : setting ignored attribute vectors_norm to None\n",
      "2020-10-30 10:06:29,068 : INFO : loading vocabulary recursively from /kbdata/Processed/Models/1880-1900-South Holland.w2v.model.vocabulary.* with mmap=None\n",
      "2020-10-30 10:06:29,069 : INFO : loading trainables recursively from /kbdata/Processed/Models/1880-1900-South Holland.w2v.model.trainables.* with mmap=None\n",
      "2020-10-30 10:06:29,070 : INFO : loading syn1neg from /kbdata/Processed/Models/1880-1900-South Holland.w2v.model.trainables.syn1neg.npy with mmap=None\n",
      "2020-10-30 10:06:29,125 : INFO : setting ignored attribute cum_table to None\n",
      "2020-10-30 10:06:29,126 : INFO : loaded /kbdata/Processed/Models/1880-1900-South Holland.w2v.model\n",
      "2020-10-30 10:06:29,539 : INFO : loading Word2Vec object from /kbdata/Processed/Models/1880-1900-Overijssel.w2v.model\n",
      "2020-10-30 10:06:29,843 : INFO : loading wv recursively from /kbdata/Processed/Models/1880-1900-Overijssel.w2v.model.wv.* with mmap=None\n",
      "2020-10-30 10:06:29,844 : INFO : setting ignored attribute vectors_norm to None\n",
      "2020-10-30 10:06:29,845 : INFO : loading vocabulary recursively from /kbdata/Processed/Models/1880-1900-Overijssel.w2v.model.vocabulary.* with mmap=None\n",
      "2020-10-30 10:06:29,845 : INFO : loading trainables recursively from /kbdata/Processed/Models/1880-1900-Overijssel.w2v.model.trainables.* with mmap=None\n",
      "2020-10-30 10:06:29,846 : INFO : setting ignored attribute cum_table to None\n",
      "2020-10-30 10:06:29,846 : INFO : loaded /kbdata/Processed/Models/1880-1900-Overijssel.w2v.model\n"
     ]
    },
    {
     "name": "stdout",
     "output_type": "stream",
     "text": [
      "\n"
     ]
    }
   ],
   "source": [
    "results = {}\n",
    "for w,v in tqdm(selected_models.items()):\n",
    "    model = Word2Vec.load(str(v))\n",
    "    results[w] = compute_bias(female_words,male_words,target_list,model)"
   ]
  },
  {
   "cell_type": "code",
   "execution_count": 78,
   "metadata": {},
   "outputs": [
    {
     "data": {
      "text/plain": [
       "<AxesSubplot:>"
      ]
     },
     "execution_count": 78,
     "metadata": {},
     "output_type": "execute_result"
    },
    {
     "data": {
      "image/png": "[encoded data removed]",
      "text/plain": [
       "<Figure size 432x288 with 1 Axes>"
      ]
     },
     "metadata": {
      "needs_background": "light"
     },
     "output_type": "display_data"
    }
   ],
   "source": [
    "pd.Series(results).plot(kind='bar')"
   ]
  },
  {
   "cell_type": "markdown",
   "metadata": {},
   "source": [
    "# Fin."
   ]
  }
 ],
 "metadata": {
  "kernelspec": {
   "display_name": "Python 3",
   "language": "python",
   "name": "python3"
  },
  "language_info": {
   "codemirror_mode": {
    "name": "ipython",
    "version": 3
   },
   "file_extension": ".py",
   "mimetype": "text/x-python",
   "name": "python",
   "nbconvert_exporter": "python",
   "pygments_lexer": "ipython3",
   "version": "3.6.9"
  }
 },
 "nbformat": 4,
 "nbformat_minor": 4
}
