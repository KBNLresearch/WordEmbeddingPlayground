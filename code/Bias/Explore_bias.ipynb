{
 "cells": [
  {
   "cell_type": "markdown",
   "metadata": {},
   "source": [
    "# Analysing Bias in Word Embeddings\n",
    "\n",
    "This notebooks demonstrates functionalities for exploring bias in word embeddings."
   ]
  },
  {
   "cell_type": "code",
   "execution_count": 1,
   "metadata": {},
   "outputs": [],
   "source": [
    "%load_ext autoreload"
   ]
  },
  {
   "cell_type": "code",
   "execution_count": 2,
   "metadata": {},
   "outputs": [],
   "source": [
    "%autoreload 2"
   ]
  },
  {
   "cell_type": "code",
   "execution_count": 4,
   "metadata": {},
   "outputs": [],
   "source": [
    "%matplotlib inline\n",
    "import numpy as np\n",
    "import pandas as pd\n",
    "from gensim.models.word2vec import Word2Vec\n",
    "from scipy.spatial.distance import cosine\n",
    "from pathlib import Path, PosixPath\n",
    "from tqdm.notebook import tqdm\n",
    "from collections import defaultdict\n",
    "from utils.utils import *\n",
    "from utils.wordlist import *"
   ]
  },
  {
   "cell_type": "markdown",
   "metadata": {},
   "source": [
    "## 1 Loading word lists\n",
    "\n",
    "Load newspaper metadata"
   ]
  },
  {
   "cell_type": "code",
   "execution_count": 5,
   "metadata": {},
   "outputs": [],
   "source": [
    "METADATA_PATH = \"../../resources/Lijst_kranten_final.xlsx\"\n",
    "df_meta = pd.read_excel(METADATA_PATH,sheet_name=\"Sheet1\",index_col=0)"
   ]
  },
  {
   "cell_type": "markdown",
   "metadata": {},
   "source": [
    "Load word annotations based on querying the Woordenboek Der Nederlandse Taal (WDNT) for explicitly gendered words."
   ]
  },
  {
   "cell_type": "code",
   "execution_count": 6,
   "metadata": {},
   "outputs": [],
   "source": [
    "FEM_PATH = \"../../resources/int_vrouw.xlsx\"\n",
    "fem = pd.read_excel(FEM_PATH,sheet_name='Sheet1',index_col=0)"
   ]
  },
  {
   "cell_type": "code",
   "execution_count": 7,
   "metadata": {},
   "outputs": [],
   "source": [
    "MALE_PATH = \"../../resources/int_man.xlsx\"\n",
    "male = pd.read_excel(MALE_PATH,sheet_name='Sheet1',index_col=0)"
   ]
  },
  {
   "cell_type": "code",
   "execution_count": 8,
   "metadata": {},
   "outputs": [
    {
     "data": {
      "text/html": [
       "<div>\n",
       "<style scoped>\n",
       "    .dataframe tbody tr th:only-of-type {\n",
       "        vertical-align: middle;\n",
       "    }\n",
       "\n",
       "    .dataframe tbody tr th {\n",
       "        vertical-align: top;\n",
       "    }\n",
       "\n",
       "    .dataframe thead th {\n",
       "        text-align: right;\n",
       "    }\n",
       "</style>\n",
       "<table border=\"1\" class=\"dataframe\">\n",
       "  <thead>\n",
       "    <tr style=\"text-align: right;\">\n",
       "      <th></th>\n",
       "      <th>Trefwoord</th>\n",
       "      <th>Originele spelling</th>\n",
       "      <th>Woordsoort</th>\n",
       "      <th>Selecteer</th>\n",
       "      <th>monosemy</th>\n",
       "      <th>Betekenis</th>\n",
       "    </tr>\n",
       "    <tr>\n",
       "      <th>Woordenboek</th>\n",
       "      <th></th>\n",
       "      <th></th>\n",
       "      <th></th>\n",
       "      <th></th>\n",
       "      <th></th>\n",
       "      <th></th>\n",
       "    </tr>\n",
       "  </thead>\n",
       "  <tbody>\n",
       "    <tr>\n",
       "      <th>WNT</th>\n",
       "      <td>omweg</td>\n",
       "      <td>OMWEG</td>\n",
       "      <td>znw.(m.)</td>\n",
       "      <td>0</td>\n",
       "      <td>0.0</td>\n",
       "      <td>Eigenlijk, in tweeledige toepassing.</td>\n",
       "    </tr>\n",
       "    <tr>\n",
       "      <th>WNT</th>\n",
       "      <td>onecht</td>\n",
       "      <td>ONECHT (I)</td>\n",
       "      <td>znw.(v.,m.)</td>\n",
       "      <td>0</td>\n",
       "      <td>0.0</td>\n",
       "      <td>znw., oudtijds vr., thans m.; het mv. niet in...</td>\n",
       "    </tr>\n",
       "    <tr>\n",
       "      <th>WNT</th>\n",
       "      <td>oom</td>\n",
       "      <td>OOM</td>\n",
       "      <td>znw.(m.)</td>\n",
       "      <td>1</td>\n",
       "      <td>1.0</td>\n",
       "      <td>Eigenlijk: een broeder des vaders of der moed...</td>\n",
       "    </tr>\n",
       "    <tr>\n",
       "      <th>WNT</th>\n",
       "      <td>oorlam</td>\n",
       "      <td>OORLAM</td>\n",
       "      <td>znw.(m.,o.)</td>\n",
       "      <td>1</td>\n",
       "      <td>1.0</td>\n",
       "      <td>Eigenlijk, als persoonsnaam, en dan m.</td>\n",
       "    </tr>\n",
       "    <tr>\n",
       "      <th>WNT</th>\n",
       "      <td>oppasser</td>\n",
       "      <td>OPPASSER</td>\n",
       "      <td>znw.(m.)</td>\n",
       "      <td>1</td>\n",
       "      <td>1.0</td>\n",
       "      <td>De persoon die het toezicht op iets houdt; oo...</td>\n",
       "    </tr>\n",
       "  </tbody>\n",
       "</table>\n",
       "</div>"
      ],
      "text/plain": [
       "            Trefwoord Originele spelling   Woordsoort  Selecteer  monosemy  \\\n",
       "Woordenboek                                                                  \n",
       "WNT             omweg              OMWEG     znw.(m.)          0       0.0   \n",
       "WNT            onecht         ONECHT (I)  znw.(v.,m.)          0       0.0   \n",
       "WNT               oom                OOM     znw.(m.)          1       1.0   \n",
       "WNT            oorlam             OORLAM  znw.(m.,o.)          1       1.0   \n",
       "WNT          oppasser           OPPASSER     znw.(m.)          1       1.0   \n",
       "\n",
       "                                                     Betekenis  \n",
       "Woordenboek                                                     \n",
       "WNT                       Eigenlijk, in tweeledige toepassing.  \n",
       "WNT           znw., oudtijds vr., thans m.; het mv. niet in...  \n",
       "WNT           Eigenlijk: een broeder des vaders of der moed...  \n",
       "WNT                     Eigenlijk, als persoonsnaam, en dan m.  \n",
       "WNT           De persoon die het toezicht op iets houdt; oo...  "
      ]
     },
     "execution_count": 8,
     "metadata": {},
     "output_type": "execute_result"
    }
   ],
   "source": [
    "male.head()"
   ]
  },
  {
   "cell_type": "code",
   "execution_count": 9,
   "metadata": {},
   "outputs": [],
   "source": [
    "male_words = [w.lower().split()[0] for w in male[male.monosemy==1].Trefwoord.values]\n",
    "male_words = male_words + [w.lower().split()[0] for w in male[male.monosemy==1][\"Originele spelling\"].values]\n",
    "male_words = set(male_words)\n",
    "female_words = [w.lower().split()[0] for w in fem[fem.monosemy==1].Trefwoord.values]\n",
    "female_words = female_words + [w.lower().split()[0] for w in fem[fem.monosemy==1][\"Originele spelling\"].values]\n",
    "female_words = set(female_words)"
   ]
  },
  {
   "cell_type": "code",
   "execution_count": 10,
   "metadata": {},
   "outputs": [
    {
     "name": "stdout",
     "output_type": "stream",
     "text": [
      "340 237\n"
     ]
    }
   ],
   "source": [
    "print(len(female_words),len(male_words))"
   ]
  },
  {
   "cell_type": "code",
   "execution_count": 11,
   "metadata": {},
   "outputs": [],
   "source": [
    "female_words.update(fem_words_ext)\n",
    "male_words.update(male_words_ext)"
   ]
  },
  {
   "cell_type": "code",
   "execution_count": 12,
   "metadata": {},
   "outputs": [],
   "source": [
    "#male_words.update(male_words)"
   ]
  },
  {
   "cell_type": "code",
   "execution_count": 13,
   "metadata": {},
   "outputs": [],
   "source": [
    "#male_words = male_words.union()"
   ]
  },
  {
   "cell_type": "code",
   "execution_count": 15,
   "metadata": {},
   "outputs": [
    {
     "name": "stdout",
     "output_type": "stream",
     "text": [
      "524 390\n"
     ]
    }
   ],
   "source": [
    "print(len(female_words),len(male_words))"
   ]
  },
  {
   "cell_type": "markdown",
   "metadata": {},
   "source": [
    "# Timelines"
   ]
  },
  {
   "cell_type": "code",
   "execution_count": 14,
   "metadata": {},
   "outputs": [
    {
     "data": {
      "text/plain": [
       "array(['Neutraal', 'Liberaal', nan, 'Sociaal-democratisch', 'Katholiek',\n",
       "       'Protestant', 'Conservatief'], dtype=object)"
      ]
     },
     "execution_count": 14,
     "metadata": {},
     "output_type": "execute_result"
    }
   ],
   "source": [
    "FACET = \"Politek\" # \"Politek\"\n",
    "FACET_VALUES = df_meta[FACET].unique()\n",
    "FACET_VALUES"
   ]
  },
  {
   "cell_type": "code",
   "execution_count": 15,
   "metadata": {},
   "outputs": [],
   "source": [
    "SELECTED_FACETS = ['Neutraal', 'Liberaal','Sociaal-democratisch', 'Katholiek','Protestant']"
   ]
  },
  {
   "cell_type": "code",
   "execution_count": 16,
   "metadata": {},
   "outputs": [],
   "source": [
    "katholiek_models = select_model_by_facet_value('Katholiek')\n",
    "liberaal_models = select_model_by_facet_value('Liberaal')\n",
    "protestant_models = select_model_by_facet_value('Protestant')\n",
    "years = sorted(set(katholiek_models).intersection(set(liberaal_models)).intersection(set(protestant_models)))"
   ]
  },
  {
   "cell_type": "code",
   "execution_count": 17,
   "metadata": {},
   "outputs": [
    {
     "data": {
      "text/plain": [
       "[1840, 1845, 1850, 1855, 1860, 1865, 1870, 1875, 1880, 1885, 1890, 1895]"
      ]
     },
     "execution_count": 17,
     "metadata": {},
     "output_type": "execute_result"
    }
   ],
   "source": [
    "years"
   ]
  },
  {
   "cell_type": "code",
   "execution_count": 18,
   "metadata": {},
   "outputs": [
    {
     "name": "stderr",
     "output_type": "stream",
     "text": [
      "2020-10-28 16:44:54,699 : INFO : loading Word2Vec object from /kbdata/Processed/Models/BaseModel-1800-1909.w2v.model\n",
      "2020-10-28 16:44:55,677 : INFO : loading wv recursively from /kbdata/Processed/Models/BaseModel-1800-1909.w2v.model.wv.* with mmap=None\n",
      "2020-10-28 16:44:55,678 : INFO : loading vectors from /kbdata/Processed/Models/BaseModel-1800-1909.w2v.model.wv.vectors.npy with mmap=None\n",
      "2020-10-28 16:44:55,891 : INFO : setting ignored attribute vectors_norm to None\n",
      "2020-10-28 16:44:55,892 : INFO : loading vocabulary recursively from /kbdata/Processed/Models/BaseModel-1800-1909.w2v.model.vocabulary.* with mmap=None\n",
      "2020-10-28 16:44:55,893 : INFO : loading trainables recursively from /kbdata/Processed/Models/BaseModel-1800-1909.w2v.model.trainables.* with mmap=None\n",
      "2020-10-28 16:44:55,893 : INFO : loading syn1neg from /kbdata/Processed/Models/BaseModel-1800-1909.w2v.model.trainables.syn1neg.npy with mmap=None\n",
      "2020-10-28 16:44:56,093 : INFO : setting ignored attribute cum_table to None\n",
      "2020-10-28 16:44:56,094 : INFO : loaded /kbdata/Processed/Models/BaseModel-1800-1909.w2v.model\n"
     ]
    },
    {
     "name": "stdout",
     "output_type": "stream",
     "text": [
      "Word2Vec(vocab=414769, size=300, alpha=0.025)\n"
     ]
    }
   ],
   "source": [
    "from gensim.models.word2vec import Word2Vec\n",
    "import logging\n",
    "logging.basicConfig(format='%(asctime)s : %(levelname)s : %(message)s', level=logging.INFO)\n",
    "\n",
    "base_model = \"/kbdata/Processed/Models/BaseModel-1800-1909.w2v.model\"\n",
    "base_model = Word2Vec.load(base_model)\n",
    "print(base_model)\n"
   ]
  },
  {
   "cell_type": "code",
   "execution_count": 19,
   "metadata": {},
   "outputs": [
    {
     "name": "stderr",
     "output_type": "stream",
     "text": [
      "2020-10-28 16:45:00,128 : INFO : loading Word2Vec object from /kbdata/Processed/Models/BaseModel-1800-1870.w2v.model\n",
      "2020-10-28 16:45:00,572 : INFO : loading wv recursively from /kbdata/Processed/Models/BaseModel-1800-1870.w2v.model.wv.* with mmap=None\n",
      "2020-10-28 16:45:00,573 : INFO : loading vectors from /kbdata/Processed/Models/BaseModel-1800-1870.w2v.model.wv.vectors.npy with mmap=None\n",
      "2020-10-28 16:45:00,647 : INFO : setting ignored attribute vectors_norm to None\n",
      "2020-10-28 16:45:00,648 : INFO : loading vocabulary recursively from /kbdata/Processed/Models/BaseModel-1800-1870.w2v.model.vocabulary.* with mmap=None\n",
      "2020-10-28 16:45:00,649 : INFO : loading trainables recursively from /kbdata/Processed/Models/BaseModel-1800-1870.w2v.model.trainables.* with mmap=None\n",
      "2020-10-28 16:45:00,649 : INFO : loading syn1neg from /kbdata/Processed/Models/BaseModel-1800-1870.w2v.model.trainables.syn1neg.npy with mmap=None\n",
      "2020-10-28 16:45:00,724 : INFO : setting ignored attribute cum_table to None\n",
      "2020-10-28 16:45:00,725 : INFO : loaded /kbdata/Processed/Models/BaseModel-1800-1870.w2v.model\n"
     ]
    },
    {
     "name": "stdout",
     "output_type": "stream",
     "text": [
      "Word2Vec(vocab=155879, size=300, alpha=0.025)\n"
     ]
    }
   ],
   "source": [
    "base_model_early = \"/kbdata/Processed/Models/BaseModel-1800-1870.w2v.model\"\n",
    "model_early = Word2Vec.load(base_model_early)\n",
    "print(model_early)"
   ]
  },
  {
   "cell_type": "code",
   "execution_count": 20,
   "metadata": {},
   "outputs": [
    {
     "name": "stderr",
     "output_type": "stream",
     "text": [
      "/home/kaspar/.local/lib/python3.6/site-packages/ipykernel_launcher.py:1: DeprecationWarning: Call to deprecated `most_similar` (Method will be removed in 4.0.0, use self.wv.most_similar() instead).\n",
      "  \"\"\"Entry point for launching an IPython kernel.\n",
      "2020-10-28 16:45:04,647 : INFO : precomputing L2-norms of word weight vectors\n"
     ]
    },
    {
     "data": {
      "text/plain": [
       "[('wroeging', 0.6259299516677856),\n",
       " ('laagheid', 0.623017430305481),\n",
       " ('medelijden', 0.5965837836265564),\n",
       " ('walging', 0.5864320397377014),\n",
       " ('zelfzucht', 0.5812700986862183),\n",
       " ('huichelarij', 0.5809855461120605),\n",
       " ('boosheid', 0.5807294249534607),\n",
       " ('mededoogen', 0.5723110437393188),\n",
       " ('verwaandheid', 0.5714962482452393),\n",
       " ('laffe', 0.5670630931854248),\n",
       " ('hoogmoed', 0.5643799901008606),\n",
       " ('afschuw', 0.5642658472061157),\n",
       " ('blozen', 0.561642587184906),\n",
       " ('verachtelijke', 0.5611639022827148),\n",
       " ('spotternij', 0.5594935417175293),\n",
       " ('ijdelheid', 0.5563795566558838),\n",
       " ('schande', 0.5539793968200684),\n",
       " ('veinzerij', 0.5473310947418213),\n",
       " ('verblinding', 0.5450595021247864),\n",
       " ('wellust', 0.5419415831565857)]"
      ]
     },
     "execution_count": 20,
     "metadata": {},
     "output_type": "execute_result"
    }
   ],
   "source": [
    "model_early.most_similar('schaamte',topn=20)"
   ]
  },
  {
   "cell_type": "code",
   "execution_count": null,
   "metadata": {},
   "outputs": [],
   "source": [
    "# female_words_new = set()\n",
    "# for w in female_words:\n",
    "#     for m in [model,model_early]:\n",
    "#         if m.wv.__contains__(w):\n",
    "#             female_words_new.update(set([k for k,v in m.wv.most_similar(w,topn=3)]))\n",
    "        "
   ]
  },
  {
   "cell_type": "code",
   "execution_count": null,
   "metadata": {},
   "outputs": [],
   "source": [
    "# female_words_new = {w for w in female_words_new if not w in female_words}"
   ]
  },
  {
   "cell_type": "code",
   "execution_count": null,
   "metadata": {},
   "outputs": [],
   "source": [
    "# male_words_new = set()\n",
    "# for w in male_words:\n",
    "#     for m in [model,model_early]:\n",
    "#         if m.wv.__contains__(w):\n",
    "#             male_words_new.update(set([k for k,v in m.wv.most_similar(w,topn=3)]))\n",
    "        "
   ]
  },
  {
   "cell_type": "code",
   "execution_count": null,
   "metadata": {},
   "outputs": [],
   "source": [
    "# male_words_new = {w for w in male_words_new if not w in male_words}"
   ]
  },
  {
   "cell_type": "code",
   "execution_count": 21,
   "metadata": {},
   "outputs": [
    {
     "name": "stderr",
     "output_type": "stream",
     "text": [
      "/home/kaspar/.local/lib/python3.6/site-packages/ipykernel_launcher.py:1: DeprecationWarning: Call to deprecated `most_similar` (Method will be removed in 4.0.0, use self.wv.most_similar() instead).\n",
      "  \"\"\"Entry point for launching an IPython kernel.\n",
      "2020-10-28 16:45:13,383 : INFO : precomputing L2-norms of word weight vectors\n"
     ]
    },
    {
     "data": {
      "text/plain": [
       "[('emoties', 0.8034723997116089),\n",
       " ('ontroering', 0.7343713045120239),\n",
       " ('tragiek', 0.6650913953781128),\n",
       " ('aandoening', 0.6574211120605469),\n",
       " ('ontroeringen', 0.6550807952880859),\n",
       " ('gewaarwording', 0.6503021717071533),\n",
       " ('sensaties', 0.6494277715682983),\n",
       " ('impressie', 0.6388396620750427),\n",
       " ('gewaarwordingen', 0.6378535628318787),\n",
       " ('gemoedsaandoening', 0.6322503685951233),\n",
       " ('opwinding', 0.6322292685508728),\n",
       " ('gemoedsaandoeningen', 0.6257733106613159),\n",
       " ('bekoring', 0.6254158020019531),\n",
       " ('gemoedsbeweging', 0.6205160021781921),\n",
       " ('bewogenheid', 0.6146096587181091),\n",
       " ('aandoeningen', 0.6076104044914246),\n",
       " ('matheid', 0.6052461862564087),\n",
       " ('gemoedsbewegingen', 0.6050035953521729),\n",
       " ('gejaagdheid', 0.6027995347976685),\n",
       " ('vroolijkheid', 0.5885056853294373)]"
      ]
     },
     "execution_count": 21,
     "metadata": {},
     "output_type": "execute_result"
    }
   ],
   "source": [
    "base_model.most_similar('emotie',topn=20)"
   ]
  },
  {
   "cell_type": "code",
   "execution_count": 22,
   "metadata": {},
   "outputs": [
    {
     "name": "stderr",
     "output_type": "stream",
     "text": [
      "/home/kaspar/.local/lib/python3.6/site-packages/ipykernel_launcher.py:1: DeprecationWarning: Call to deprecated `most_similar` (Method will be removed in 4.0.0, use self.wv.most_similar() instead).\n",
      "  \"\"\"Entry point for launching an IPython kernel.\n"
     ]
    },
    {
     "data": {
      "text/plain": [
       "[('ontroering', 0.5324569940567017),\n",
       " ('gemoedsbeweging', 0.5104452967643738),\n",
       " ('opschudding', 0.5005029439926147),\n",
       " ('neerslagtigheid', 0.4948607087135315),\n",
       " ('opgewondenheid', 0.49011462926864624),\n",
       " ('ontsteltenis', 0.4736787974834442),\n",
       " ('agitatie', 0.46817201375961304),\n",
       " ('ongerustheid', 0.4422236680984497),\n",
       " ('fenfatie', 0.44116276502609253),\n",
       " ('aandoening', 0.4408707618713379),\n",
       " ('verflagenheid', 0.4402935206890106),\n",
       " ('gemoedsaandoening', 0.43809789419174194),\n",
       " ('onsteltenis', 0.4371126890182495),\n",
       " ('gisting', 0.43616414070129395),\n",
       " ('sensatie', 0.422627717256546),\n",
       " ('gisling', 0.41885924339294434),\n",
       " ('ontfteltenis', 0.40984198451042175),\n",
       " ('gewaarwording', 0.4068605899810791),\n",
       " ('aandoeningen', 0.4026297628879547),\n",
       " ('paniek', 0.39478182792663574)]"
      ]
     },
     "execution_count": 22,
     "metadata": {},
     "output_type": "execute_result"
    }
   ],
   "source": [
    "model_early.most_similar('emotie',topn=20)"
   ]
  },
  {
   "cell_type": "code",
   "execution_count": 23,
   "metadata": {},
   "outputs": [],
   "source": [
    "target_list = ['kind',\"kiud\",'kinderen','kindje','kiud','zuigeling','kiad']\n",
    "# target_list = ['wellust','wellustige',\"wellustig\",'hartstocht',\n",
    "#                \"wulpschheid\",'hartstogt','begeerten','verlangen',\n",
    "#                \"zingenot\",\"smachtende\",\"dartele\",'driften','hartstochten']\n",
    "# target_list = [\"huisselijk\",\"huiselgk\",\"huiselyk\",\"gezellig\",\"familieleven\"]\n",
    "target_list = [\"emotie\",\"ontroering\", \"gemoedsbeweging\", \"opgewondenheid\", \"agitatie\", \n",
    "                \"aandoening\", \"gemoedsaandoening\", \"sensatie\", \"fenfatie\",\n",
    "               \"emoties\",\"ontroeringen\",\"opwinding\"]\n"
   ]
  },
  {
   "cell_type": "code",
   "execution_count": null,
   "metadata": {},
   "outputs": [],
   "source": []
  },
  {
   "cell_type": "code",
   "execution_count": null,
   "metadata": {},
   "outputs": [],
   "source": [
    "#female_words = ['moeder',\"moeders\",\"moederschap\",\"huismoeders\",\"huismoeder\"]\n",
    "#male_words = [\"vader\",\"vaders\",\"vaderschap\",\"huisvader\",'huisvaders']\n",
    "#female_words = [\"vrouw\",\"vrouwen\",]\n",
    "#male_words = [\"man\",\"mannen\",\"lieden\"]"
   ]
  },
  {
   "cell_type": "code",
   "execution_count": null,
   "metadata": {},
   "outputs": [],
   "source": [
    "results = {}\n",
    "finetuned = False\n",
    "if finetuned:\n",
    "    base_bias = compute_bias(female_words,male_words,target_list,base_model)\n",
    "else:\n",
    "    base_bias = .0\n",
    "    \n",
    "for year in tqdm(years):\n",
    "    lib_model = Word2Vec.load(str(liberaal_models[year]))\n",
    "    lib_bias = compute_bias(female_words,male_words,target_list,lib_model) + base_bias\n",
    "    kath_model = Word2Vec.load(str(katholiek_models[year]))\n",
    "    kath_bias = compute_bias(female_words,male_words,target_list,kath_model) + base_bias\n",
    "    protestant_model = Word2Vec.load(str(protestant_models[year]))\n",
    "    protestant_bias = compute_bias(female_words,male_words,target_list,protestant_model) + base_bias\n",
    "    results[year] = (lib_bias,kath_bias,protestant_bias)"
   ]
  },
  {
   "cell_type": "code",
   "execution_count": null,
   "metadata": {},
   "outputs": [],
   "source": [
    "df_result = pd.DataFrame(results).T#.plot()\n",
    "df_result.columns = [\"Liberaal\", \"Katholiek\", \"Protestant\"]\n",
    "df_result.loc[1850:].plot()"
   ]
  },
  {
   "cell_type": "code",
   "execution_count": null,
   "metadata": {},
   "outputs": [],
   "source": [
    "df_result[\"Average\"] = df_result.mean(axis=1)\n",
    "df_result[\"Average\"].loc[1850:].plot()"
   ]
  },
  {
   "cell_type": "markdown",
   "metadata": {},
   "source": [
    "# Inspect Scores"
   ]
  },
  {
   "cell_type": "code",
   "execution_count": null,
   "metadata": {},
   "outputs": [],
   "source": []
  },
  {
   "cell_type": "code",
   "execution_count": null,
   "metadata": {},
   "outputs": [],
   "source": [
    "def inspect_bias(p1,p2,target,model,metric=cosine_sim):\n",
    "    p1 = [p for p in p1 if  model.wv.__contains__(p)]\n",
    "    p2 = [p for p in p2 if  model.wv.__contains__(p)]\n",
    "    target = [t for t in target if  model.wv.__contains__(t)]\n",
    "    p1_scores, p2_scores = defaultdict(float),defaultdict(float)\n",
    "    for t in target:\n",
    "        for p in p1:\n",
    "            p1_scores[(p,target[0])] += metric(model.wv.__getitem__(p),model.wv.__getitem__(t))\n",
    "        for p in p2:\n",
    "            p2_scores[(p,target[0])] += metric(model.wv.__getitem__(p),model.wv.__getitem__(t))\n",
    "    return (p1_scores,p2_scores)"
   ]
  },
  {
   "cell_type": "code",
   "execution_count": null,
   "metadata": {},
   "outputs": [],
   "source": [
    "#for year in tqdm(years):\n",
    "YEAR = 1850\n",
    "lib_model = Word2Vec.load(str(liberaal_models[YEAR]))\n",
    "lib_bias = inspect_bias(female_words,male_words,target_list,lib_model)\n",
    "kath_model = Word2Vec.load(str(katholiek_models[YEAR]))\n",
    "kath_bias = inspect_bias(female_words,male_words,target_list,kath_model)\n",
    "protestant_model = Word2Vec.load(str(protestant_models[YEAR]))\n",
    "protestant_bias = inspect_bias(female_words,male_words,target_list,protestant_model)"
   ]
  },
  {
   "cell_type": "code",
   "execution_count": null,
   "metadata": {},
   "outputs": [],
   "source": [
    "pd.Series(list(lib_bias[0].values())).plot(kind='density')\n",
    "pd.Series(list(lib_bias[1].values())).plot(kind='density')"
   ]
  },
  {
   "cell_type": "code",
   "execution_count": null,
   "metadata": {},
   "outputs": [],
   "source": [
    "pd.Series(list(kath_bias[0].values())).plot(kind='density')\n",
    "pd.Series(list(lib_bias[0].values())).plot(kind='density')"
   ]
  },
  {
   "cell_type": "code",
   "execution_count": null,
   "metadata": {},
   "outputs": [],
   "source": [
    "pd.Series(list(protestant_bias[0].values())).plot(kind='density')\n",
    "pd.Series(list(protestant_bias[1].values())).plot(kind='density')"
   ]
  },
  {
   "cell_type": "code",
   "execution_count": null,
   "metadata": {},
   "outputs": [],
   "source": [
    "sorted(lib_bias[0].items(),key=lambda x: x[1],reverse=True)[:10]"
   ]
  },
  {
   "cell_type": "code",
   "execution_count": null,
   "metadata": {},
   "outputs": [],
   "source": [
    "sorted(kath_bias[1].items(),key=lambda x: x[1],reverse=True)[:10]"
   ]
  },
  {
   "cell_type": "code",
   "execution_count": null,
   "metadata": {},
   "outputs": [],
   "source": [
    "sorted(kath_bias[0].items(),key=lambda x: x[1],reverse=True)[:10]"
   ]
  },
  {
   "cell_type": "code",
   "execution_count": null,
   "metadata": {},
   "outputs": [],
   "source": [
    "sorted(lib_bias[0].items(),key=lambda x: x[1],reverse=True)[:10]"
   ]
  },
  {
   "cell_type": "markdown",
   "metadata": {},
   "source": [
    "# Barplots"
   ]
  },
  {
   "cell_type": "code",
   "execution_count": null,
   "metadata": {},
   "outputs": [],
   "source": [
    "FACET = \"Provincie\" # \"Politek\" | Provincie\n",
    "FACET_VALUES = df_meta[FACET].unique()\n",
    "FACET_VALUES"
   ]
  },
  {
   "cell_type": "code",
   "execution_count": null,
   "metadata": {},
   "outputs": [],
   "source": [
    "YEAR = 1880\n",
    "\n",
    "selected_models = {}\n",
    "\n",
    "for facet in FACET_VALUES:\n",
    "    model_paths = select_model_by_facet_value(facet)\n",
    "    \n",
    "    selected_models[facet] = model_paths.get(YEAR,None)\n",
    "    \n",
    "selected_models = {w:v for w,v in selected_models.items() if v}"
   ]
  },
  {
   "cell_type": "code",
   "execution_count": null,
   "metadata": {},
   "outputs": [],
   "source": [
    "selected_models"
   ]
  },
  {
   "cell_type": "code",
   "execution_count": null,
   "metadata": {},
   "outputs": [],
   "source": [
    "results = {}\n",
    "for w,v in tqdm(selected_models.items()):\n",
    "    model = Word2Vec.load(str(v))\n",
    "    results[w] = compute_bias(female_words,male_words,target_list,model)"
   ]
  },
  {
   "cell_type": "code",
   "execution_count": null,
   "metadata": {},
   "outputs": [],
   "source": [
    "pd.Series(results).plot(kind='bar')"
   ]
  },
  {
   "cell_type": "markdown",
   "metadata": {},
   "source": [
    "## To reproduce results"
   ]
  },
  {
   "cell_type": "code",
   "execution_count": null,
   "metadata": {},
   "outputs": [],
   "source": [
    "#female_words = ['moeder',\"moeders\",\"moederschap\",\"huismoeders\",\"huismoeder\"]; male_words = [\"vader\",\"vaders\",\"vaderschap\"]\n",
    "# method = compute_bias_average_vector"
   ]
  }
 ],
 "metadata": {
  "kernelspec": {
   "display_name": "Python 3",
   "language": "python",
   "name": "python3"
  },
  "language_info": {
   "codemirror_mode": {
    "name": "ipython",
    "version": 3
   },
   "file_extension": ".py",
   "mimetype": "text/x-python",
   "name": "python",
   "nbconvert_exporter": "python",
   "pygments_lexer": "ipython3",
   "version": "3.6.9"
  }
 },
 "nbformat": 4,
 "nbformat_minor": 4
}
