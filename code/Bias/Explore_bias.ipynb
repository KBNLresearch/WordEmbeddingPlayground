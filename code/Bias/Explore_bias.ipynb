{
 "cells": [
  {
   "cell_type": "code",
   "execution_count": 235,
   "metadata": {},
   "outputs": [],
   "source": [
    "%matplotlib inline\n",
    "import numpy as np\n",
    "import pandas as pd\n",
    "from gensim.models.word2vec import Word2Vec\n",
    "from scipy.spatial.distance import cosine\n",
    "from pathlib import Path\n",
    "from tqdm.notebook import tqdm\n",
    "from collections import defaultdict\n",
    "\n",
    "def select_model_by_facet_value(facet_value,root=Path(\"/kbdata/Processed/Models/\")):\n",
    "    models = root.glob(f\"*-{facet_value}.w2v.model\")\n",
    "    \n",
    "    out = {}\n",
    "    for m in models:\n",
    "        \n",
    "        start = m.stem.split('-')[0]\n",
    "        out[int(start)] = m\n",
    "        \n",
    "    return out\n",
    "\n",
    "cosine_sim = lambda v1,v2: 1 - cosine(v1,v2) \n",
    "average_vector = lambda words,model : np.mean([model.wv.__getitem__(w) for w in words if model.wv.__contains__(w)],axis=0)"
   ]
  },
  {
   "cell_type": "code",
   "execution_count": 236,
   "metadata": {},
   "outputs": [],
   "source": [
    "METADATA_PATH = \"../../resources/Lijst_kranten_final.xlsx\"\n",
    "df_meta = pd.read_excel(METADATA_PATH,sheet_name=\"Sheet1\",index_col=0)"
   ]
  },
  {
   "cell_type": "code",
   "execution_count": 237,
   "metadata": {},
   "outputs": [
    {
     "data": {
      "text/plain": [
       "Index(['PPN', 'Titel Krant', 'Beginjaar', 'Eindjaar', 'Politek', 'Source',\n",
       "       'Verspreidingsgebied', 'Plaats van uitgave', 'Provincie', 'Zuil'],\n",
       "      dtype='object')"
      ]
     },
     "execution_count": 237,
     "metadata": {},
     "output_type": "execute_result"
    }
   ],
   "source": [
    "df_meta.columns"
   ]
  },
  {
   "cell_type": "code",
   "execution_count": 110,
   "metadata": {},
   "outputs": [],
   "source": [
    "FEM_PATH = \"../../resources/int_vrouw.xlsx\"\n",
    "fem = pd.read_excel(FEM_PATH,sheet_name='Sheet1',index_col=0)"
   ]
  },
  {
   "cell_type": "code",
   "execution_count": 111,
   "metadata": {},
   "outputs": [],
   "source": [
    "MALE_PATH = \"../../resources/int_man.xlsx\"\n",
    "male = pd.read_excel(MALE_PATH,sheet_name='Sheet1',index_col=0)"
   ]
  },
  {
   "cell_type": "code",
   "execution_count": 112,
   "metadata": {},
   "outputs": [
    {
     "data": {
      "text/html": [
       "<div>\n",
       "<style scoped>\n",
       "    .dataframe tbody tr th:only-of-type {\n",
       "        vertical-align: middle;\n",
       "    }\n",
       "\n",
       "    .dataframe tbody tr th {\n",
       "        vertical-align: top;\n",
       "    }\n",
       "\n",
       "    .dataframe thead th {\n",
       "        text-align: right;\n",
       "    }\n",
       "</style>\n",
       "<table border=\"1\" class=\"dataframe\">\n",
       "  <thead>\n",
       "    <tr style=\"text-align: right;\">\n",
       "      <th></th>\n",
       "      <th>Trefwoord</th>\n",
       "      <th>Originele spelling</th>\n",
       "      <th>Woordsoort</th>\n",
       "      <th>Selecteer</th>\n",
       "      <th>monosemy</th>\n",
       "      <th>Betekenis</th>\n",
       "    </tr>\n",
       "    <tr>\n",
       "      <th>Woordenboek</th>\n",
       "      <th></th>\n",
       "      <th></th>\n",
       "      <th></th>\n",
       "      <th></th>\n",
       "      <th></th>\n",
       "      <th></th>\n",
       "    </tr>\n",
       "  </thead>\n",
       "  <tbody>\n",
       "    <tr>\n",
       "      <th>WNT</th>\n",
       "      <td>omweg</td>\n",
       "      <td>OMWEG</td>\n",
       "      <td>znw.(m.)</td>\n",
       "      <td>0</td>\n",
       "      <td>0.0</td>\n",
       "      <td>Eigenlijk, in tweeledige toepassing.</td>\n",
       "    </tr>\n",
       "    <tr>\n",
       "      <th>WNT</th>\n",
       "      <td>onecht</td>\n",
       "      <td>ONECHT (I)</td>\n",
       "      <td>znw.(v.,m.)</td>\n",
       "      <td>0</td>\n",
       "      <td>0.0</td>\n",
       "      <td>znw., oudtijds vr., thans m.; het mv. niet in...</td>\n",
       "    </tr>\n",
       "    <tr>\n",
       "      <th>WNT</th>\n",
       "      <td>oom</td>\n",
       "      <td>OOM</td>\n",
       "      <td>znw.(m.)</td>\n",
       "      <td>1</td>\n",
       "      <td>1.0</td>\n",
       "      <td>Eigenlijk: een broeder des vaders of der moed...</td>\n",
       "    </tr>\n",
       "    <tr>\n",
       "      <th>WNT</th>\n",
       "      <td>oorlam</td>\n",
       "      <td>OORLAM</td>\n",
       "      <td>znw.(m.,o.)</td>\n",
       "      <td>1</td>\n",
       "      <td>1.0</td>\n",
       "      <td>Eigenlijk, als persoonsnaam, en dan m.</td>\n",
       "    </tr>\n",
       "    <tr>\n",
       "      <th>WNT</th>\n",
       "      <td>oppasser</td>\n",
       "      <td>OPPASSER</td>\n",
       "      <td>znw.(m.)</td>\n",
       "      <td>1</td>\n",
       "      <td>1.0</td>\n",
       "      <td>De persoon die het toezicht op iets houdt; oo...</td>\n",
       "    </tr>\n",
       "  </tbody>\n",
       "</table>\n",
       "</div>"
      ],
      "text/plain": [
       "            Trefwoord Originele spelling   Woordsoort  Selecteer  monosemy  \\\n",
       "Woordenboek                                                                  \n",
       "WNT             omweg              OMWEG     znw.(m.)          0       0.0   \n",
       "WNT            onecht         ONECHT (I)  znw.(v.,m.)          0       0.0   \n",
       "WNT               oom                OOM     znw.(m.)          1       1.0   \n",
       "WNT            oorlam             OORLAM  znw.(m.,o.)          1       1.0   \n",
       "WNT          oppasser           OPPASSER     znw.(m.)          1       1.0   \n",
       "\n",
       "                                                     Betekenis  \n",
       "Woordenboek                                                     \n",
       "WNT                       Eigenlijk, in tweeledige toepassing.  \n",
       "WNT           znw., oudtijds vr., thans m.; het mv. niet in...  \n",
       "WNT           Eigenlijk: een broeder des vaders of der moed...  \n",
       "WNT                     Eigenlijk, als persoonsnaam, en dan m.  \n",
       "WNT           De persoon die het toezicht op iets houdt; oo...  "
      ]
     },
     "execution_count": 112,
     "metadata": {},
     "output_type": "execute_result"
    }
   ],
   "source": [
    "male.head()"
   ]
  },
  {
   "cell_type": "code",
   "execution_count": 164,
   "metadata": {},
   "outputs": [],
   "source": [
    "male_words = [w.lower().split()[0] for w in male[male.monosemy==1].Trefwoord.values]\n",
    "male_words = male_words + [w.lower().split()[0] for w in male[male.monosemy==1][\"Originele spelling\"].values]\n",
    "male_words = list(set(male_words))\n",
    "female_words = [w.lower().split()[0] for w in fem[fem.monosemy==1].Trefwoord.values]\n",
    "female_words = female_words + [w.lower().split()[0] for w in fem[fem.monosemy==1][\"Originele spelling\"].values]\n",
    "female_words = list(set(female_words))"
   ]
  },
  {
   "cell_type": "code",
   "execution_count": 165,
   "metadata": {},
   "outputs": [
    {
     "name": "stdout",
     "output_type": "stream",
     "text": [
      "340 498\n"
     ]
    }
   ],
   "source": [
    "print(len(female_words),len(male))"
   ]
  },
  {
   "cell_type": "code",
   "execution_count": null,
   "metadata": {},
   "outputs": [],
   "source": []
  },
  {
   "cell_type": "code",
   "execution_count": 169,
   "metadata": {},
   "outputs": [
    {
     "data": {
      "text/plain": [
       "array(['Noord Holland', 'Gelderland', 'Groningen', 'Friesland', 'Drenthe',\n",
       "       'Zeeland', 'North Brabant', 'South Holland', 'Overijssel',\n",
       "       'Utrecht', 'Limburg'], dtype=object)"
      ]
     },
     "execution_count": 169,
     "metadata": {},
     "output_type": "execute_result"
    }
   ],
   "source": [
    "FACET = \"Provincie\" # \"Politek\"\n",
    "FACET_VALUES = df_meta[FACET].unique()\n",
    "FACET_VALUES\n"
   ]
  },
  {
   "cell_type": "markdown",
   "metadata": {},
   "source": [
    "# Timelines"
   ]
  },
  {
   "cell_type": "code",
   "execution_count": 170,
   "metadata": {},
   "outputs": [],
   "source": [
    "SELECTED_FACETS = ['Neutraal', 'Liberaal','Sociaal-democratisch', 'Katholiek','Protestant']"
   ]
  },
  {
   "cell_type": "code",
   "execution_count": 171,
   "metadata": {},
   "outputs": [],
   "source": [
    "\n",
    "    \n",
    "\n",
    "katholiek_models = select_model_by_facet_value('Katholiek')\n",
    "liberaal_models = select_model_by_facet_value('Liberaal')\n",
    "years = sorted(set(katholiek).intersection(set(liberaal)))"
   ]
  },
  {
   "cell_type": "code",
   "execution_count": 172,
   "metadata": {},
   "outputs": [
    {
     "data": {
      "text/plain": [
       "dict_keys(['Katholiek', 'Liberaal'])"
      ]
     },
     "execution_count": 172,
     "metadata": {},
     "output_type": "execute_result"
    }
   ],
   "source": [
    "facet2paths.keys()"
   ]
  },
  {
   "cell_type": "code",
   "execution_count": 203,
   "metadata": {},
   "outputs": [],
   "source": [
    "#target_list = [\"schande\",\"beschaamd\",\"beschaamdheid\",\n",
    "#               \"beschamen\",\"blaam\",\"blamage\",\"blamatie\",\n",
    "#               \"defamatie\",\"diffame\",\"disreputatie\",\"disreputatieus\",\n",
    "#              \"disrespect\",\"hoogmoed\",\"hoon\",\"laagheid\",\"lachter\",\"lachteren\",\n",
    "#              \"laster\",\"lasteren\"]\n",
    "\n",
    "\n",
    "#target_list = ['kind','kinderen']\n",
    "target_list = ['schaamte','schamen','schande']\n",
    "target_list = ['','']"
   ]
  },
  {
   "cell_type": "code",
   "execution_count": 204,
   "metadata": {},
   "outputs": [],
   "source": [
    "# from gensim.models.word2vec import Word2Vec\n",
    "# import logging\n",
    "# logging.basicConfig(format='%(asctime)s : %(levelname)s : %(message)s', level=logging.INFO)\n",
    "\n",
    "# base_model = \"/kbdata/Processed/Models/BaseModel-1800-1909.w2v.model\"\n",
    "# model = Word2Vec.load(base_model)\n",
    "# print(model)\n",
    "# model.most_similar('schande')"
   ]
  },
  {
   "cell_type": "code",
   "execution_count": 205,
   "metadata": {},
   "outputs": [],
   "source": [
    "def compute_bias_average_vector(p1,p2,target,model,metric=cosine_sim):\n",
    "    \"\"\"computes bias given two poles and and a target word list\n",
    "    bias is the average distance of each target word to the poles\n",
    "    Arguments:\n",
    "        p1 (list): list of pole words\n",
    "        p2 (list): lost of pole words\n",
    "        target (list): list of target words\n",
    "        metric (funtion): distance function, either cosine or euclidean\n",
    "    Returns:\n",
    "        bias (float): the bias score of the target to each of the poles\n",
    "    \"\"\"\n",
    "    av_v1 = average_vector(p1,model); av_v2 = average_vector(p2,model)\n",
    "    return np.mean([metric(av_v1,model.wv.__getitem__(w)) - \\\n",
    "                      metric(av_v2,model.wv.__getitem__(w)) for w in target \n",
    "                           if w in model.wv])\n",
    "\n",
    "def compute_bias(p1,p2,target,model,metric=cosine_sim):\n",
    "    p1 = [p for p in p1 if  model.wv.__contains__(p)]\n",
    "    p2 = [p for p in p2 if  model.wv.__contains__(p)]\n",
    "    target = [t for t in target if  model.wv.__contains__(t)]\n",
    "    p1_scores, p2_scores = [],[]\n",
    "    for t in target:\n",
    "        for p in p1:\n",
    "            p1_scores.append(metric(model.wv.__getitem__(p),model.wv.__getitem__(t)))\n",
    "        for p in p2:\n",
    "            p2_scores.append(metric(model.wv.__getitem__(p),model.wv.__getitem__(t)))\n",
    "    return np.mean(p1_scores) - np.mean(p2_scores)"
   ]
  },
  {
   "cell_type": "code",
   "execution_count": 208,
   "metadata": {},
   "outputs": [],
   "source": [
    "results = {}\n",
    "for year in tqdm(years):\n",
    "    lib_model = Word2Vec.load(str(liberaal_models[year]))\n",
    "    lib_bias = compute_bias(female_words,male_words,target_list,lib_model)\n",
    "    kath_model = Word2Vec.load(str(katholiek_models[year]))\n",
    "    kath_bias = compute_bias(female_words,male_words,target_list,kath_model)\n",
    "    results[year] = (lib_bias,kath_bias)"
   ]
  },
  {
   "cell_type": "code",
   "execution_count": 209,
   "metadata": {},
   "outputs": [
    {
     "data": {
      "text/plain": [
       "<matplotlib.axes._subplots.AxesSubplot at 0x7f8ea5850160>"
      ]
     },
     "execution_count": 209,
     "metadata": {},
     "output_type": "execute_result"
    },
    {
     "data": {
      "image/png": "[encoded data removed]",
      "text/plain": [
       "<Figure size 432x288 with 1 Axes>"
      ]
     },
     "metadata": {
      "needs_background": "light"
     },
     "output_type": "display_data"
    }
   ],
   "source": [
    "pd.DataFrame(results).T.plot()"
   ]
  },
  {
   "cell_type": "markdown",
   "metadata": {},
   "source": [
    "# Inspect Scores"
   ]
  },
  {
   "cell_type": "code",
   "execution_count": 214,
   "metadata": {},
   "outputs": [],
   "source": [
    "def inspect_bias(p1,p2,target,model,metric=cosine_sim):\n",
    "    p1 = [p for p in p1 if  model.wv.__contains__(p)]\n",
    "    p2 = [p for p in p2 if  model.wv.__contains__(p)]\n",
    "    target = [t for t in target if  model.wv.__contains__(t)]\n",
    "    p1_scores, p2_scores = defaultdict(float),defaultdict(float)\n",
    "    for t in target:\n",
    "        for p in p1:\n",
    "            p1_scores[(p,target[0])] += metric(model.wv.__getitem__(p),model.wv.__getitem__(t))\n",
    "        for p in p2:\n",
    "            p2_scores[(p,target[0])] += metric(model.wv.__getitem__(p),model.wv.__getitem__(t))\n",
    "    return (p1_scores,p2_scores)"
   ]
  },
  {
   "cell_type": "code",
   "execution_count": 215,
   "metadata": {},
   "outputs": [],
   "source": [
    "#for year in tqdm(years):\n",
    "YEAR = 1870\n",
    "lib_model = Word2Vec.load(str(liberaal_models[YEAR]))\n",
    "lib_bias = inspect_bias(female_words,male_words,target_list,lib_model)\n",
    "kath_model = Word2Vec.load(str(katholiek_models[YEAR]))\n",
    "kath_bias = inspect_bias(female_words,male_words,target_list,kath_model)"
   ]
  },
  {
   "cell_type": "code",
   "execution_count": 216,
   "metadata": {},
   "outputs": [
    {
     "data": {
      "text/plain": [
       "<matplotlib.axes._subplots.AxesSubplot at 0x7f8ece5b0550>"
      ]
     },
     "execution_count": 216,
     "metadata": {},
     "output_type": "execute_result"
    },
    {
     "data": {
      "image/png": "[encoded data removed]",
      "text/plain": [
       "<Figure size 432x288 with 1 Axes>"
      ]
     },
     "metadata": {
      "needs_background": "light"
     },
     "output_type": "display_data"
    }
   ],
   "source": [
    "pd.Series(list(lib_bias[0].values())).plot(kind='density')\n",
    "pd.Series(list(lib_bias[1].values())).plot(kind='density')"
   ]
  },
  {
   "cell_type": "code",
   "execution_count": 217,
   "metadata": {},
   "outputs": [
    {
     "data": {
      "text/plain": [
       "<matplotlib.axes._subplots.AxesSubplot at 0x7f8ee5ac6668>"
      ]
     },
     "execution_count": 217,
     "metadata": {},
     "output_type": "execute_result"
    },
    {
     "data": {
      "image/png": "[encoded data removed]",
      "text/plain": [
       "<Figure size 432x288 with 1 Axes>"
      ]
     },
     "metadata": {
      "needs_background": "light"
     },
     "output_type": "display_data"
    }
   ],
   "source": [
    "pd.Series(list(kath_bias[0].values())).plot(kind='density')\n",
    "pd.Series(list(lib_bias[0].values())).plot(kind='density')"
   ]
  },
  {
   "cell_type": "code",
   "execution_count": 218,
   "metadata": {},
   "outputs": [
    {
     "data": {
      "text/plain": [
       "[(('wereld', 'schaamte'), 0.8942476361989975),\n",
       " (('reus', 'schaamte'), 0.792017474770546),\n",
       " (('bedelaar', 'schaamte'), 0.6962748616933823),\n",
       " (('kerel', 'schaamte'), 0.6510880589485168),\n",
       " (('staatsman', 'schaamte'), 0.6452149003744125),\n",
       " (('grijsaard', 'schaamte'), 0.6266215592622757),\n",
       " (('vent', 'schaamte'), 0.6058875471353531),\n",
       " (('beschermer', 'schaamte'), 0.6024118214845657),\n",
       " (('apostel', 'schaamte'), 0.5853949636220932),\n",
       " (('janhagel', 'schaamte'), 0.576781652867794)]"
      ]
     },
     "execution_count": 218,
     "metadata": {},
     "output_type": "execute_result"
    }
   ],
   "source": [
    "sorted(kath_bias[1].items(),key=lambda x: x[1],reverse=True)[:10]"
   ]
  },
  {
   "cell_type": "code",
   "execution_count": 219,
   "metadata": {},
   "outputs": [
    {
     "data": {
      "text/plain": [
       "[(('slavin', 'schaamte'), 0.8419781476259232),\n",
       " (('gebiedster', 'schaamte'), 0.6905569732189178),\n",
       " (('levensgezellin', 'schaamte'), 0.6079051345586777),\n",
       " (('heldin', 'schaamte'), 0.6076409481465816),\n",
       " (('meesteres', 'schaamte'), 0.5732857435941696),\n",
       " (('burgeres', 'schaamte'), 0.5453149825334549),\n",
       " (('xantippe', 'schaamte'), 0.5197172462940216),\n",
       " (('waarzegster', 'schaamte'), 0.4985123425722122),\n",
       " (('moeder', 'schaamte'), 0.4850379377603531),\n",
       " (('tooverheks', 'schaamte'), 0.46100347861647606)]"
      ]
     },
     "execution_count": 219,
     "metadata": {},
     "output_type": "execute_result"
    }
   ],
   "source": [
    "sorted(kath_bias[0].items(),key=lambda x: x[1],reverse=True)[:10]"
   ]
  },
  {
   "cell_type": "code",
   "execution_count": 220,
   "metadata": {},
   "outputs": [
    {
     "data": {
      "text/plain": [
       "[(('zondares', 'schaamte'), 0.8690494447946548),\n",
       " (('heldin', 'schaamte'), 0.7696541547775269),\n",
       " (('moeder', 'schaamte'), 0.7655677646398544),\n",
       " (('matrone', 'schaamte'), 0.7616531699895859),\n",
       " (('minnares', 'schaamte'), 0.7438856661319733),\n",
       " (('levensgezellin', 'schaamte'), 0.7393519580364227),\n",
       " (('vrouw', 'schaamte'), 0.7228668630123138),\n",
       " (('meesteres', 'schaamte'), 0.7071087881922722),\n",
       " (('voedster', 'schaamte'), 0.7067084461450577),\n",
       " (('schoonmoeder', 'schaamte'), 0.6965679228305817)]"
      ]
     },
     "execution_count": 220,
     "metadata": {},
     "output_type": "execute_result"
    }
   ],
   "source": [
    "sorted(lib_bias[0].items(),key=lambda x: x[1],reverse=True)[:10]"
   ]
  },
  {
   "cell_type": "markdown",
   "metadata": {},
   "source": [
    "# Barplots"
   ]
  },
  {
   "cell_type": "code",
   "execution_count": 238,
   "metadata": {},
   "outputs": [
    {
     "data": {
      "text/plain": [
       "array(['Neutraal', 'Liberaal', nan, 'Sociaal-democratisch', 'Katholiek',\n",
       "       'Protestant', 'Conservatief'], dtype=object)"
      ]
     },
     "execution_count": 238,
     "metadata": {},
     "output_type": "execute_result"
    }
   ],
   "source": [
    "FACET = \"Politek\" # \"Politek\" | Provincie\n",
    "FACET_VALUES = df_meta[FACET].unique()\n",
    "FACET_VALUES"
   ]
  },
  {
   "cell_type": "code",
   "execution_count": 239,
   "metadata": {},
   "outputs": [],
   "source": [
    "YEAR = 1880\n",
    "\n",
    "selected_models = {}\n",
    "\n",
    "for facet in FACET_VALUES:\n",
    "    model_paths = select_model_by_facet_value(facet)\n",
    "    \n",
    "    selected_models[facet] = model_paths.get(YEAR,None)\n",
    "    \n",
    "selected_models = {w:v for w,v in selected_models.items() if v}"
   ]
  },
  {
   "cell_type": "code",
   "execution_count": 240,
   "metadata": {},
   "outputs": [
    {
     "data": {
      "text/plain": [
       "{'Neutraal': PosixPath('/kbdata/Processed/Models/1880-1900-Neutraal.w2v.model'),\n",
       " 'Liberaal': PosixPath('/kbdata/Processed/Models/1880-1900-Liberaal.w2v.model'),\n",
       " 'Sociaal-democratisch': PosixPath('/kbdata/Processed/Models/1880-1900-Sociaal-democratisch.w2v.model'),\n",
       " 'Katholiek': PosixPath('/kbdata/Processed/Models/1880-1900-Katholiek.w2v.model'),\n",
       " 'Protestant': PosixPath('/kbdata/Processed/Models/1880-1900-Protestant.w2v.model')}"
      ]
     },
     "execution_count": 240,
     "metadata": {},
     "output_type": "execute_result"
    }
   ],
   "source": [
    "selected_models"
   ]
  },
  {
   "cell_type": "code",
   "execution_count": 241,
   "metadata": {},
   "outputs": [
    {
     "data": {
      "application/vnd.jupyter.widget-view+json": {
       "model_id": "d631d660576d4256bf9258e05c32e0ca",
       "version_major": 2,
       "version_minor": 0
      },
      "text/plain": [
       "HBox(children=(FloatProgress(value=0.0, max=5.0), HTML(value='')))"
      ]
     },
     "metadata": {},
     "output_type": "display_data"
    },
    {
     "name": "stdout",
     "output_type": "stream",
     "text": [
      "\n"
     ]
    }
   ],
   "source": [
    "results = {}\n",
    "for w,v in tqdm(selected_models.items()):\n",
    "    model = Word2Vec.load(str(v))\n",
    "    results[w] = compute_bias(female_words,male_words,target_list,model)"
   ]
  },
  {
   "cell_type": "code",
   "execution_count": 242,
   "metadata": {},
   "outputs": [
    {
     "data": {
      "text/plain": [
       "<matplotlib.axes._subplots.AxesSubplot at 0x7f8ef38203c8>"
      ]
     },
     "execution_count": 242,
     "metadata": {},
     "output_type": "execute_result"
    },
    {
     "data": {
      "image/png": "[encoded data removed]",
      "text/plain": [
       "<Figure size 432x288 with 1 Axes>"
      ]
     },
     "metadata": {
      "needs_background": "light"
     },
     "output_type": "display_data"
    }
   ],
   "source": [
    "pd.Series(results).plot(kind='bar')"
   ]
  },
  {
   "cell_type": "code",
   "execution_count": null,
   "metadata": {},
   "outputs": [],
   "source": []
  }
 ],
 "metadata": {
  "kernelspec": {
   "display_name": "Python 3",
   "language": "python",
   "name": "python3"
  },
  "language_info": {
   "codemirror_mode": {
    "name": "ipython",
    "version": 3
   },
   "file_extension": ".py",
   "mimetype": "text/x-python",
   "name": "python",
   "nbconvert_exporter": "python",
   "pygments_lexer": "ipython3",
   "version": "3.6.9"
  }
 },
 "nbformat": 4,
 "nbformat_minor": 4
}
