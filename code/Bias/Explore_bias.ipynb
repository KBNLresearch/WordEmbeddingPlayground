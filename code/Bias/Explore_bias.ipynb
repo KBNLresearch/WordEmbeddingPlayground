{
 "cells": [
  {
   "cell_type": "code",
   "execution_count": 19,
   "metadata": {},
   "outputs": [],
   "source": [
    "%load_ext autoreload"
   ]
  },
  {
   "cell_type": "code",
   "execution_count": 20,
   "metadata": {},
   "outputs": [],
   "source": [
    "%autoreload 2"
   ]
  },
  {
   "cell_type": "code",
   "execution_count": 21,
   "metadata": {},
   "outputs": [],
   "source": [
    "%matplotlib inline\n",
    "import numpy as np\n",
    "import pandas as pd\n",
    "from gensim.models.word2vec import Word2Vec\n",
    "from scipy.spatial.distance import cosine\n",
    "from pathlib import Path\n",
    "from tqdm.notebook import tqdm\n",
    "from collections import defaultdict\n",
    "from utils.utils import *"
   ]
  },
  {
   "cell_type": "code",
   "execution_count": null,
   "metadata": {},
   "outputs": [],
   "source": []
  },
  {
   "cell_type": "code",
   "execution_count": 22,
   "metadata": {},
   "outputs": [],
   "source": [
    "METADATA_PATH = \"../../resources/Lijst_kranten_final.xlsx\"\n",
    "df_meta = pd.read_excel(METADATA_PATH,sheet_name=\"Sheet1\",index_col=0)"
   ]
  },
  {
   "cell_type": "code",
   "execution_count": 23,
   "metadata": {},
   "outputs": [
    {
     "data": {
      "text/plain": [
       "Index(['PPN', 'Titel Krant', 'Beginjaar', 'Eindjaar', 'Politek', 'Source',\n",
       "       'Verspreidingsgebied', 'Plaats van uitgave', 'Provincie', 'Zuil'],\n",
       "      dtype='object')"
      ]
     },
     "execution_count": 23,
     "metadata": {},
     "output_type": "execute_result"
    }
   ],
   "source": [
    "df_meta.columns"
   ]
  },
  {
   "cell_type": "code",
   "execution_count": 24,
   "metadata": {},
   "outputs": [],
   "source": [
    "FEM_PATH = \"../../resources/int_vrouw.xlsx\"\n",
    "fem = pd.read_excel(FEM_PATH,sheet_name='Sheet1',index_col=0)"
   ]
  },
  {
   "cell_type": "code",
   "execution_count": 25,
   "metadata": {},
   "outputs": [],
   "source": [
    "MALE_PATH = \"../../resources/int_man.xlsx\"\n",
    "male = pd.read_excel(MALE_PATH,sheet_name='Sheet1',index_col=0)"
   ]
  },
  {
   "cell_type": "code",
   "execution_count": 26,
   "metadata": {},
   "outputs": [
    {
     "data": {
      "text/html": [
       "<div>\n",
       "<style scoped>\n",
       "    .dataframe tbody tr th:only-of-type {\n",
       "        vertical-align: middle;\n",
       "    }\n",
       "\n",
       "    .dataframe tbody tr th {\n",
       "        vertical-align: top;\n",
       "    }\n",
       "\n",
       "    .dataframe thead th {\n",
       "        text-align: right;\n",
       "    }\n",
       "</style>\n",
       "<table border=\"1\" class=\"dataframe\">\n",
       "  <thead>\n",
       "    <tr style=\"text-align: right;\">\n",
       "      <th></th>\n",
       "      <th>Trefwoord</th>\n",
       "      <th>Originele spelling</th>\n",
       "      <th>Woordsoort</th>\n",
       "      <th>Selecteer</th>\n",
       "      <th>monosemy</th>\n",
       "      <th>Betekenis</th>\n",
       "    </tr>\n",
       "    <tr>\n",
       "      <th>Woordenboek</th>\n",
       "      <th></th>\n",
       "      <th></th>\n",
       "      <th></th>\n",
       "      <th></th>\n",
       "      <th></th>\n",
       "      <th></th>\n",
       "    </tr>\n",
       "  </thead>\n",
       "  <tbody>\n",
       "    <tr>\n",
       "      <th>WNT</th>\n",
       "      <td>omweg</td>\n",
       "      <td>OMWEG</td>\n",
       "      <td>znw.(m.)</td>\n",
       "      <td>0</td>\n",
       "      <td>0.0</td>\n",
       "      <td>Eigenlijk, in tweeledige toepassing.</td>\n",
       "    </tr>\n",
       "    <tr>\n",
       "      <th>WNT</th>\n",
       "      <td>onecht</td>\n",
       "      <td>ONECHT (I)</td>\n",
       "      <td>znw.(v.,m.)</td>\n",
       "      <td>0</td>\n",
       "      <td>0.0</td>\n",
       "      <td>znw., oudtijds vr., thans m.; het mv. niet in...</td>\n",
       "    </tr>\n",
       "    <tr>\n",
       "      <th>WNT</th>\n",
       "      <td>oom</td>\n",
       "      <td>OOM</td>\n",
       "      <td>znw.(m.)</td>\n",
       "      <td>1</td>\n",
       "      <td>1.0</td>\n",
       "      <td>Eigenlijk: een broeder des vaders of der moed...</td>\n",
       "    </tr>\n",
       "    <tr>\n",
       "      <th>WNT</th>\n",
       "      <td>oorlam</td>\n",
       "      <td>OORLAM</td>\n",
       "      <td>znw.(m.,o.)</td>\n",
       "      <td>1</td>\n",
       "      <td>1.0</td>\n",
       "      <td>Eigenlijk, als persoonsnaam, en dan m.</td>\n",
       "    </tr>\n",
       "    <tr>\n",
       "      <th>WNT</th>\n",
       "      <td>oppasser</td>\n",
       "      <td>OPPASSER</td>\n",
       "      <td>znw.(m.)</td>\n",
       "      <td>1</td>\n",
       "      <td>1.0</td>\n",
       "      <td>De persoon die het toezicht op iets houdt; oo...</td>\n",
       "    </tr>\n",
       "  </tbody>\n",
       "</table>\n",
       "</div>"
      ],
      "text/plain": [
       "            Trefwoord Originele spelling   Woordsoort  Selecteer  monosemy  \\\n",
       "Woordenboek                                                                  \n",
       "WNT             omweg              OMWEG     znw.(m.)          0       0.0   \n",
       "WNT            onecht         ONECHT (I)  znw.(v.,m.)          0       0.0   \n",
       "WNT               oom                OOM     znw.(m.)          1       1.0   \n",
       "WNT            oorlam             OORLAM  znw.(m.,o.)          1       1.0   \n",
       "WNT          oppasser           OPPASSER     znw.(m.)          1       1.0   \n",
       "\n",
       "                                                     Betekenis  \n",
       "Woordenboek                                                     \n",
       "WNT                       Eigenlijk, in tweeledige toepassing.  \n",
       "WNT           znw., oudtijds vr., thans m.; het mv. niet in...  \n",
       "WNT           Eigenlijk: een broeder des vaders of der moed...  \n",
       "WNT                     Eigenlijk, als persoonsnaam, en dan m.  \n",
       "WNT           De persoon die het toezicht op iets houdt; oo...  "
      ]
     },
     "execution_count": 26,
     "metadata": {},
     "output_type": "execute_result"
    }
   ],
   "source": [
    "male.head()"
   ]
  },
  {
   "cell_type": "code",
   "execution_count": 27,
   "metadata": {},
   "outputs": [],
   "source": [
    "male_words = [w.lower().split()[0] for w in male[male.monosemy==1].Trefwoord.values]\n",
    "male_words = male_words + [w.lower().split()[0] for w in male[male.monosemy==1][\"Originele spelling\"].values]\n",
    "male_words = set(male_words)\n",
    "female_words = [w.lower().split()[0] for w in fem[fem.monosemy==1].Trefwoord.values]\n",
    "female_words = female_words + [w.lower().split()[0] for w in fem[fem.monosemy==1][\"Originele spelling\"].values]\n",
    "female_words = set(female_words)"
   ]
  },
  {
   "cell_type": "code",
   "execution_count": 28,
   "metadata": {},
   "outputs": [
    {
     "name": "stdout",
     "output_type": "stream",
     "text": [
      "340 237\n"
     ]
    }
   ],
   "source": [
    "print(len(female_words),len(male_words))"
   ]
  },
  {
   "cell_type": "code",
   "execution_count": 29,
   "metadata": {},
   "outputs": [],
   "source": [
    "female_words.update({'6lotte','dienstmeisje','actrice', 'adjunct-directrice', 'anneline', 'artiste', 'baanbreekster', 'balletdanseres', 'baronnes',\n",
    " 'bedelaarster', 'bedriegster', 'begeleidster', 'bertilia', 'beschermelinge', 'beschermster', 'bet-overgrootmoeder', 'bewaarster',\n",
    " 'bierhuishoudster', 'bijzit', 'bloedverwante', 'blondine', 'boerendochter', 'boerenmeid', 'boerenmeisje', 'bonbonniere',\n",
    " 'brnid', 'burgerjuffrouw', 'cafehoudster', 'caroline', 'chanteuse', 'clairvoyante', 'clara', 'clarke', 'costuumnaaister',\n",
    " 'czarina', 'dameshand', 'damo', 'danseres', 'daphne', 'demoeder', 'dienstbode', 'dienstmaagd', 'dienstmeid',\n",
    " 'dievegge', 'direktrice', 'doesschate', 'domoor', 'dora', 'eischeres', 'eischeresse', 'erfdochter', 'espagnole',\n",
    " 'gastvrouwen', 'gemeente-vroedvrouw', 'gezellin', 'gezellinnen', 'gezelschapsdame', 'gezelschapsjuffrouw', 'gravin',\n",
    " 'gretchen', 'griekin', 'grisette', 'groentevrouw', 'groolvorstin', 'groot-vorstin', 'groothertogin', 'grootmama', 'grootmeesteresse',\n",
    " 'grootvorslin', 'harina', 'helleveeg', 'henriette', 'herbergierster', 'herinne', 'hermine', 'hertogin-weduwe',\n",
    " 'hofdames', 'hoofdverpleegster', 'huismoeder', 'intrigante', 'iroelstra', 'jeunesse', 'jongejuffr', 'jongejuffrouwen',\n",
    " 'jonkvrouwe', 'judith', 'juffertje', 'juffr', 'jufvrouw', 'kamenier', 'keetje', 'keizerin-moeder', 'keizerin-weduwe',\n",
    " 'kemp', 'kindermeid', 'kindermoordenares', 'kleindochter', 'konidgin', 'koningin-moeder', 'koningin-regentes',\n",
    " 'koningsdochter', 'koppelaarster', 'kroonprinses', 'kruisnet', 'kunstenaarshand', 'kunstenares', 'kunstenaresse', 'landloopster',\n",
    " 'leerare', 'leerarea', 'leermeesteresse', 'leidster', 'leugenaarster', 'lezeressen', 'liesbeth', 'lijderes', 'linnennaaister',\n",
    " 'madame', 'mademoiselle', 'maitresse', 'marketenster', 'martelares', 'meesteresse', 'mejuffrouw', 'melodieuze',\n",
    " 'mevronw', 'mevrouwtje', 'misdadigster', 'mlle', 'mme', 'modemaakster', 'modiste', 'moedermaagd', 'moedor', 'moordenares',\n",
    " 'muze', 'negerin', 'onderwijzeres', 'onderwyzeres', 'opvoedster', 'opvolgster', 'paardrijdster', 'pianiste', 'pleegdochter',\n",
    " 'pleegouders', 'pleegzuster', 'pompadour', 'portheine', 'priesteres', 'prostituees', 'sara', 'schoonmama', 'schoonouders',\n",
    " 'schrijfster', 'socialiste', 'sultanes', 'susanna', 'toovenares', 'tragedienne', 'troela', 'troelatra', 'vischvrouwen',\n",
    " 'voedsters', 'voogdesse', 'voorgangsters', 'voorvechtster', 'vrijsters', 'vroedvrouwen', 'vronw', 'vrouwenbeweging', 'vrouwengestalte',\n",
    " 'vrouwenrechten', 'vrouwspersonen', 'waschvrouw', 'wednwe', 'weduwo', 'werkmeid', 'wijf', 'winkelierster',\n",
    " 'winkeljuffrouw', 'ziekenverpleegster', 'zigeunerin', 'zusje', 'zusteren'})"
   ]
  },
  {
   "cell_type": "code",
   "execution_count": 30,
   "metadata": {},
   "outputs": [],
   "source": [
    "male_words = male_words.union({'acrobaat', 'acteur', 'ambachtsman', 'anton', 'apostel', 'arbeider', 'arbeidsman', 'aristocraat', 'armenier', 'augustinus', 'bakkersknecht',\n",
    " 'bengel', 'berichtgever', 'bevorderaar', 'bokser', 'bondgenoot', 'bondspenningmeester', 'bootsman', 'borgcsius',\n",
    " 'borgesiua', 'borgesius', 'botman', 'briefschrijver', 'brigadier-majoor', 'broeder', 'broer', 'broodbakker',\n",
    " 'bruigom', 'buurman', 'carlos', 'chirurgijn', 'chirurgijn-majoor', 'chrysostomus', 'denker', 'diaken', 'diplomaat',\n",
    " 'dwerg', 'filosoof', 'franciskaner', 'freetrader', 'freiherr', 'fritz', 'gendarm', 'gendarmen', 'gentleman', 'gerrit', 'gierigaard', 'grjjsaard', 'groot-meester', 'grootvader',\n",
    " 'grysaard', 'handwerker', 'handwerksman', 'huisknecht', 'huismeester', 'janmaat', 'johannessen', 'jongeling',\n",
    " 'jongeman', 'jongen', 'jonggezel', 'jongman', 'kamerheer', 'kapiteiu', 'kees', 'keizer', 'kerel', 'kerkvader',\n",
    " 'kleinzoon', 'kloosterling', 'knaap', 'knaapje', 'knecht', 'knechts', 'kneoht', 'kolonel', 'kolos', 'kolossus',\n",
    " 'koniug', 'koopman', 'koopvaardij-kapitein', 'kroonpretendent', 'kroonprins', 'kruidenier', 'landbouwer', 'landlooper',\n",
    " 'leenheer', 'luit-kolonel', 'luitenant', 'luitenant-kolonel', 'majoor', 'manufacturier', 'matroos', 'mau', 'meesterknecht', 'melkboer',\n",
    " 'neef', 'oorrespondent', 'oppassers', 'opperstuurman', 'oud-oom', 'overgrootvader', 'patricier', 'patroon', 'philosoof',\n",
    " 'ploegbaas', 'politicus', 'politiebeambte', 'president-kerkvoogd', 'priester', 'prijswinner', 'rentenier', 'rijksveldwachter',\n",
    " 'rynders', 'saletjonker', 'scheepsjongen', 'scheepskok', 'schelm', 'schooier', 'schoonvader', 'schoonzoon',\n",
    " 'sinjeur', 'slagersjongen', 'snaak', 'snuiter', 'sonneman', 'spekslager', 'staatsdienaar',\n",
    " 'stakkert', 'stumper', 'tooneeldirecteur', 'tooneelkunstenaar', 'toovenaar', 'torero', 'tremmer', 'troonpretendent', 'vader', 'vagebond', 'vasal', 'vazal', 'veehouder', 'vent', 'verleider', 'verloofde', 'vischboer',\n",
    " 'visscher', 'visschersman', 'visseher', 'voerman', 'vriendt', 'vrijgezel', 'vrijmetselaren', 'vrjjer', 'vryer', 'vryheer', 'vuilnisman',\n",
    " 'wachtmeester', 'weduwenaar', 'weikman', 'werner', 'werold', 'wierenga', 'wijsgeer', 'willeman', 'winnaar',\n",
    " 'woekeraar', 'woesteling', 'worstelaar', 'ziekenoppasser', 'ziekenvader', 'ziekenverpleger', 'zwager'})"
   ]
  },
  {
   "cell_type": "code",
   "execution_count": 31,
   "metadata": {},
   "outputs": [
    {
     "data": {
      "text/plain": [
       "524"
      ]
     },
     "execution_count": 31,
     "metadata": {},
     "output_type": "execute_result"
    }
   ],
   "source": [
    "len(female_words)"
   ]
  },
  {
   "cell_type": "code",
   "execution_count": 32,
   "metadata": {},
   "outputs": [
    {
     "data": {
      "text/plain": [
       "array(['Neutraal', 'Liberaal', nan, 'Sociaal-democratisch', 'Katholiek',\n",
       "       'Protestant', 'Conservatief'], dtype=object)"
      ]
     },
     "execution_count": 32,
     "metadata": {},
     "output_type": "execute_result"
    }
   ],
   "source": [
    "FACET = \"Politek\" # \"Politek\"\n",
    "FACET_VALUES = df_meta[FACET].unique()\n",
    "FACET_VALUES"
   ]
  },
  {
   "cell_type": "markdown",
   "metadata": {},
   "source": [
    "# Timelines"
   ]
  },
  {
   "cell_type": "code",
   "execution_count": 33,
   "metadata": {},
   "outputs": [],
   "source": [
    "SELECTED_FACETS = ['Neutraal', 'Liberaal','Sociaal-democratisch', 'Katholiek','Protestant']"
   ]
  },
  {
   "cell_type": "code",
   "execution_count": 34,
   "metadata": {},
   "outputs": [],
   "source": [
    "katholiek_models = select_model_by_facet_value('Katholiek')\n",
    "liberaal_models = select_model_by_facet_value('Liberaal')\n",
    "protestant_models = select_model_by_facet_value('Protestant')\n",
    "years = sorted(set(katholiek_models).intersection(set(liberaal_models)).intersection(set(protestant_models)))"
   ]
  },
  {
   "cell_type": "code",
   "execution_count": 35,
   "metadata": {},
   "outputs": [
    {
     "data": {
      "text/plain": [
       "[1840, 1845, 1850, 1855, 1860, 1865, 1870, 1875, 1880, 1885, 1890, 1895]"
      ]
     },
     "execution_count": 35,
     "metadata": {},
     "output_type": "execute_result"
    }
   ],
   "source": [
    "years"
   ]
  },
  {
   "cell_type": "code",
   "execution_count": 36,
   "metadata": {},
   "outputs": [
    {
     "name": "stderr",
     "output_type": "stream",
     "text": [
      "2020-10-27 19:02:46,032 : INFO : loading Word2Vec object from /kbdata/Processed/Models/BaseModel-1800-1909.w2v.model\n",
      "2020-10-27 19:02:47,413 : INFO : loading wv recursively from /kbdata/Processed/Models/BaseModel-1800-1909.w2v.model.wv.* with mmap=None\n",
      "2020-10-27 19:02:47,414 : INFO : loading vectors from /kbdata/Processed/Models/BaseModel-1800-1909.w2v.model.wv.vectors.npy with mmap=None\n",
      "2020-10-27 19:03:18,238 : INFO : setting ignored attribute vectors_norm to None\n",
      "2020-10-27 19:03:18,240 : INFO : loading vocabulary recursively from /kbdata/Processed/Models/BaseModel-1800-1909.w2v.model.vocabulary.* with mmap=None\n",
      "2020-10-27 19:03:18,240 : INFO : loading trainables recursively from /kbdata/Processed/Models/BaseModel-1800-1909.w2v.model.trainables.* with mmap=None\n",
      "2020-10-27 19:03:18,241 : INFO : loading syn1neg from /kbdata/Processed/Models/BaseModel-1800-1909.w2v.model.trainables.syn1neg.npy with mmap=None\n",
      "2020-10-27 19:03:48,484 : INFO : setting ignored attribute cum_table to None\n",
      "2020-10-27 19:03:48,485 : INFO : loaded /kbdata/Processed/Models/BaseModel-1800-1909.w2v.model\n"
     ]
    },
    {
     "name": "stdout",
     "output_type": "stream",
     "text": [
      "Word2Vec(vocab=414769, size=300, alpha=0.025)\n"
     ]
    }
   ],
   "source": [
    "from gensim.models.word2vec import Word2Vec\n",
    "import logging\n",
    "logging.basicConfig(format='%(asctime)s : %(levelname)s : %(message)s', level=logging.INFO)\n",
    "\n",
    "base_model = \"/kbdata/Processed/Models/BaseModel-1800-1909.w2v.model\"\n",
    "base_model = Word2Vec.load(base_model)\n",
    "print(base_model)\n"
   ]
  },
  {
   "cell_type": "code",
   "execution_count": 37,
   "metadata": {},
   "outputs": [
    {
     "name": "stderr",
     "output_type": "stream",
     "text": [
      "2020-10-27 19:03:49,345 : INFO : loading Word2Vec object from /kbdata/Processed/Models/BaseModel-1800-1870.w2v.model\n",
      "2020-10-27 19:03:50,181 : INFO : loading wv recursively from /kbdata/Processed/Models/BaseModel-1800-1870.w2v.model.wv.* with mmap=None\n",
      "2020-10-27 19:03:50,182 : INFO : loading vectors from /kbdata/Processed/Models/BaseModel-1800-1870.w2v.model.wv.vectors.npy with mmap=None\n",
      "2020-10-27 19:04:01,747 : INFO : setting ignored attribute vectors_norm to None\n",
      "2020-10-27 19:04:01,748 : INFO : loading vocabulary recursively from /kbdata/Processed/Models/BaseModel-1800-1870.w2v.model.vocabulary.* with mmap=None\n",
      "2020-10-27 19:04:01,748 : INFO : loading trainables recursively from /kbdata/Processed/Models/BaseModel-1800-1870.w2v.model.trainables.* with mmap=None\n",
      "2020-10-27 19:04:01,749 : INFO : loading syn1neg from /kbdata/Processed/Models/BaseModel-1800-1870.w2v.model.trainables.syn1neg.npy with mmap=None\n",
      "2020-10-27 19:04:13,371 : INFO : setting ignored attribute cum_table to None\n",
      "2020-10-27 19:04:13,373 : INFO : loaded /kbdata/Processed/Models/BaseModel-1800-1870.w2v.model\n"
     ]
    },
    {
     "name": "stdout",
     "output_type": "stream",
     "text": [
      "Word2Vec(vocab=155879, size=300, alpha=0.025)\n"
     ]
    }
   ],
   "source": [
    "base_model_early = \"/kbdata/Processed/Models/BaseModel-1800-1870.w2v.model\"\n",
    "model_early = Word2Vec.load(base_model_early)\n",
    "print(model_early)"
   ]
  },
  {
   "cell_type": "code",
   "execution_count": 38,
   "metadata": {},
   "outputs": [
    {
     "name": "stderr",
     "output_type": "stream",
     "text": [
      "/home/kaspar/.local/lib/python3.6/site-packages/ipykernel_launcher.py:1: DeprecationWarning: Call to deprecated `most_similar` (Method will be removed in 4.0.0, use self.wv.most_similar() instead).\n",
      "  \"\"\"Entry point for launching an IPython kernel.\n",
      "2020-10-27 19:04:13,705 : INFO : precomputing L2-norms of word weight vectors\n"
     ]
    },
    {
     "data": {
      "text/plain": [
       "[('wroeging', 0.6259299516677856),\n",
       " ('laagheid', 0.623017430305481),\n",
       " ('medelijden', 0.5965837836265564),\n",
       " ('walging', 0.5864320397377014),\n",
       " ('zelfzucht', 0.5812700986862183),\n",
       " ('huichelarij', 0.5809855461120605),\n",
       " ('boosheid', 0.5807294249534607),\n",
       " ('mededoogen', 0.5723110437393188),\n",
       " ('verwaandheid', 0.5714962482452393),\n",
       " ('laffe', 0.5670630931854248),\n",
       " ('hoogmoed', 0.5643799901008606),\n",
       " ('afschuw', 0.5642658472061157),\n",
       " ('blozen', 0.561642587184906),\n",
       " ('verachtelijke', 0.5611639022827148),\n",
       " ('spotternij', 0.5594935417175293),\n",
       " ('ijdelheid', 0.5563795566558838),\n",
       " ('schande', 0.5539793968200684),\n",
       " ('veinzerij', 0.5473310947418213),\n",
       " ('verblinding', 0.5450595021247864),\n",
       " ('wellust', 0.5419415831565857)]"
      ]
     },
     "execution_count": 38,
     "metadata": {},
     "output_type": "execute_result"
    }
   ],
   "source": [
    "model_early.most_similar('schaamte',topn=20)"
   ]
  },
  {
   "cell_type": "code",
   "execution_count": 39,
   "metadata": {},
   "outputs": [],
   "source": [
    "# female_words_new = set()\n",
    "# for w in female_words:\n",
    "#     for m in [model,model_early]:\n",
    "#         if m.wv.__contains__(w):\n",
    "#             female_words_new.update(set([k for k,v in m.wv.most_similar(w,topn=3)]))\n",
    "        "
   ]
  },
  {
   "cell_type": "code",
   "execution_count": 40,
   "metadata": {},
   "outputs": [],
   "source": [
    "# female_words_new = {w for w in female_words_new if not w in female_words}"
   ]
  },
  {
   "cell_type": "code",
   "execution_count": null,
   "metadata": {},
   "outputs": [],
   "source": [
    "# male_words_new = set()\n",
    "# for w in male_words:\n",
    "#     for m in [model,model_early]:\n",
    "#         if m.wv.__contains__(w):\n",
    "#             male_words_new.update(set([k for k,v in m.wv.most_similar(w,topn=3)]))\n",
    "        "
   ]
  },
  {
   "cell_type": "code",
   "execution_count": null,
   "metadata": {},
   "outputs": [],
   "source": [
    "# male_words_new = {w for w in male_words_new if not w in male_words}"
   ]
  },
  {
   "cell_type": "code",
   "execution_count": null,
   "metadata": {},
   "outputs": [],
   "source": [
    "base_model.most_similar('emotie',topn=20)"
   ]
  },
  {
   "cell_type": "code",
   "execution_count": null,
   "metadata": {},
   "outputs": [],
   "source": [
    "model_early.most_similar('emotie',topn=20)"
   ]
  },
  {
   "cell_type": "code",
   "execution_count": null,
   "metadata": {},
   "outputs": [],
   "source": [
    "target_list = ['kind',\"kiud\",'kinderen','kindje','kiud','zuigeling','kiad']\n",
    "# target_list = ['wellust','wellustige',\"wellustig\",'hartstocht',\n",
    "#                \"wulpschheid\",'hartstogt','begeerten','verlangen',\n",
    "#                \"zingenot\",\"smachtende\",\"dartele\",'driften','hartstochten']\n",
    "# target_list = [\"huisselijk\",\"huiselgk\",\"huiselyk\",\"gezellig\",\"familieleven\"]\n",
    "target_list = [\"emotie\",\"ontroering\", \"gemoedsbeweging\", \"opgewondenheid\", \"agitatie\", \n",
    "                \"aandoening\", \"gemoedsaandoening\", \"sensatie\", \"fenfatie\",\n",
    "               \"emoties\",\"ontroeringen\",\"opwinding\"]\n"
   ]
  },
  {
   "cell_type": "code",
   "execution_count": null,
   "metadata": {},
   "outputs": [],
   "source": []
  },
  {
   "cell_type": "code",
   "execution_count": null,
   "metadata": {},
   "outputs": [],
   "source": [
    "#female_words = ['moeder',\"moeders\",\"moederschap\",\"huismoeders\",\"huismoeder\"]\n",
    "#male_words = [\"vader\",\"vaders\",\"vaderschap\",\"huisvader\",'huisvaders']\n",
    "#female_words = [\"vrouw\",\"vrouwen\",]\n",
    "#male_words = [\"man\",\"mannen\",\"lieden\"]"
   ]
  },
  {
   "cell_type": "code",
   "execution_count": null,
   "metadata": {},
   "outputs": [],
   "source": [
    "results = {}\n",
    "finetuned = False\n",
    "if finetuned:\n",
    "    base_bias = compute_bias(female_words,male_words,target_list,base_model)\n",
    "else:\n",
    "    base_bias = .0\n",
    "    \n",
    "for year in tqdm(years):\n",
    "    lib_model = Word2Vec.load(str(liberaal_models[year]))\n",
    "    lib_bias = compute_bias(female_words,male_words,target_list,lib_model) + base_bias\n",
    "    kath_model = Word2Vec.load(str(katholiek_models[year]))\n",
    "    kath_bias = compute_bias(female_words,male_words,target_list,kath_model) + base_bias\n",
    "    protestant_model = Word2Vec.load(str(protestant_models[year]))\n",
    "    protestant_bias = compute_bias(female_words,male_words,target_list,protestant_model) + base_bias\n",
    "    results[year] = (lib_bias,kath_bias,protestant_bias)"
   ]
  },
  {
   "cell_type": "code",
   "execution_count": null,
   "metadata": {},
   "outputs": [],
   "source": [
    "df_result = pd.DataFrame(results).T#.plot()\n",
    "df_result.columns = [\"Liberaal\", \"Katholiek\", \"Protestant\"]\n",
    "df_result.loc[1850:].plot()"
   ]
  },
  {
   "cell_type": "code",
   "execution_count": null,
   "metadata": {},
   "outputs": [],
   "source": [
    "df_result[\"Average\"] = df_result.mean(axis=1)\n",
    "df_result[\"Average\"].loc[1850:].plot()"
   ]
  },
  {
   "cell_type": "markdown",
   "metadata": {},
   "source": [
    "# Inspect Scores"
   ]
  },
  {
   "cell_type": "code",
   "execution_count": null,
   "metadata": {},
   "outputs": [],
   "source": []
  },
  {
   "cell_type": "code",
   "execution_count": null,
   "metadata": {},
   "outputs": [],
   "source": [
    "def inspect_bias(p1,p2,target,model,metric=cosine_sim):\n",
    "    p1 = [p for p in p1 if  model.wv.__contains__(p)]\n",
    "    p2 = [p for p in p2 if  model.wv.__contains__(p)]\n",
    "    target = [t for t in target if  model.wv.__contains__(t)]\n",
    "    p1_scores, p2_scores = defaultdict(float),defaultdict(float)\n",
    "    for t in target:\n",
    "        for p in p1:\n",
    "            p1_scores[(p,target[0])] += metric(model.wv.__getitem__(p),model.wv.__getitem__(t))\n",
    "        for p in p2:\n",
    "            p2_scores[(p,target[0])] += metric(model.wv.__getitem__(p),model.wv.__getitem__(t))\n",
    "    return (p1_scores,p2_scores)"
   ]
  },
  {
   "cell_type": "code",
   "execution_count": null,
   "metadata": {},
   "outputs": [],
   "source": [
    "#for year in tqdm(years):\n",
    "YEAR = 1850\n",
    "lib_model = Word2Vec.load(str(liberaal_models[YEAR]))\n",
    "lib_bias = inspect_bias(female_words,male_words,target_list,lib_model)\n",
    "kath_model = Word2Vec.load(str(katholiek_models[YEAR]))\n",
    "kath_bias = inspect_bias(female_words,male_words,target_list,kath_model)\n",
    "protestant_model = Word2Vec.load(str(protestant_models[YEAR]))\n",
    "protestant_bias = inspect_bias(female_words,male_words,target_list,protestant_model)"
   ]
  },
  {
   "cell_type": "code",
   "execution_count": null,
   "metadata": {},
   "outputs": [],
   "source": [
    "pd.Series(list(lib_bias[0].values())).plot(kind='density')\n",
    "pd.Series(list(lib_bias[1].values())).plot(kind='density')"
   ]
  },
  {
   "cell_type": "code",
   "execution_count": null,
   "metadata": {},
   "outputs": [],
   "source": [
    "pd.Series(list(kath_bias[0].values())).plot(kind='density')\n",
    "pd.Series(list(lib_bias[0].values())).plot(kind='density')"
   ]
  },
  {
   "cell_type": "code",
   "execution_count": null,
   "metadata": {},
   "outputs": [],
   "source": [
    "pd.Series(list(protestant_bias[0].values())).plot(kind='density')\n",
    "pd.Series(list(protestant_bias[1].values())).plot(kind='density')"
   ]
  },
  {
   "cell_type": "code",
   "execution_count": null,
   "metadata": {},
   "outputs": [],
   "source": [
    "sorted(lib_bias[0].items(),key=lambda x: x[1],reverse=True)[:10]"
   ]
  },
  {
   "cell_type": "code",
   "execution_count": null,
   "metadata": {},
   "outputs": [],
   "source": [
    "sorted(kath_bias[1].items(),key=lambda x: x[1],reverse=True)[:10]"
   ]
  },
  {
   "cell_type": "code",
   "execution_count": null,
   "metadata": {},
   "outputs": [],
   "source": [
    "sorted(kath_bias[0].items(),key=lambda x: x[1],reverse=True)[:10]"
   ]
  },
  {
   "cell_type": "code",
   "execution_count": null,
   "metadata": {},
   "outputs": [],
   "source": [
    "sorted(lib_bias[0].items(),key=lambda x: x[1],reverse=True)[:10]"
   ]
  },
  {
   "cell_type": "markdown",
   "metadata": {},
   "source": [
    "# Barplots"
   ]
  },
  {
   "cell_type": "code",
   "execution_count": null,
   "metadata": {},
   "outputs": [],
   "source": [
    "FACET = \"Provincie\" # \"Politek\" | Provincie\n",
    "FACET_VALUES = df_meta[FACET].unique()\n",
    "FACET_VALUES"
   ]
  },
  {
   "cell_type": "code",
   "execution_count": null,
   "metadata": {},
   "outputs": [],
   "source": [
    "YEAR = 1880\n",
    "\n",
    "selected_models = {}\n",
    "\n",
    "for facet in FACET_VALUES:\n",
    "    model_paths = select_model_by_facet_value(facet)\n",
    "    \n",
    "    selected_models[facet] = model_paths.get(YEAR,None)\n",
    "    \n",
    "selected_models = {w:v for w,v in selected_models.items() if v}"
   ]
  },
  {
   "cell_type": "code",
   "execution_count": null,
   "metadata": {},
   "outputs": [],
   "source": [
    "selected_models"
   ]
  },
  {
   "cell_type": "code",
   "execution_count": null,
   "metadata": {},
   "outputs": [],
   "source": [
    "results = {}\n",
    "for w,v in tqdm(selected_models.items()):\n",
    "    model = Word2Vec.load(str(v))\n",
    "    results[w] = compute_bias(female_words,male_words,target_list,model)"
   ]
  },
  {
   "cell_type": "code",
   "execution_count": null,
   "metadata": {},
   "outputs": [],
   "source": [
    "pd.Series(results).plot(kind='bar')"
   ]
  },
  {
   "cell_type": "markdown",
   "metadata": {},
   "source": [
    "## To reproduce results"
   ]
  },
  {
   "cell_type": "code",
   "execution_count": null,
   "metadata": {},
   "outputs": [],
   "source": [
    "#female_words = ['moeder',\"moeders\",\"moederschap\",\"huismoeders\",\"huismoeder\"]; male_words = [\"vader\",\"vaders\",\"vaderschap\"]\n",
    "# method = compute_bias_average_vector"
   ]
  }
 ],
 "metadata": {
  "kernelspec": {
   "display_name": "Python 3",
   "language": "python",
   "name": "python3"
  },
  "language_info": {
   "codemirror_mode": {
    "name": "ipython",
    "version": 3
   },
   "file_extension": ".py",
   "mimetype": "text/x-python",
   "name": "python",
   "nbconvert_exporter": "python",
   "pygments_lexer": "ipython3",
   "version": "3.6.9"
  }
 },
 "nbformat": 4,
 "nbformat_minor": 4
}
