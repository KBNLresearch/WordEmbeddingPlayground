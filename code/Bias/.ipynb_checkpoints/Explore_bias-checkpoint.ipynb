{
 "cells": [
  {
   "cell_type": "code",
   "execution_count": 108,
   "metadata": {},
   "outputs": [],
   "source": [
    "%matplotlib inline\n",
    "import numpy as np\n",
    "import pandas as pd\n",
    "from gensim.models.word2vec import Word2Vec\n",
    "from scipy.spatial.distance import cosine\n",
    "from pathlib import Path\n",
    "from tqdm.notebook import tqdm\n",
    "\n",
    "def select_model_by_facet_value(facet_value,root=Path(\"/kbdata/Processed/Models/\")):\n",
    "    models = root.glob(f\"*-{facet_value}.w2v.model\")\n",
    "    \n",
    "    out = {}\n",
    "    for m in models:\n",
    "        \n",
    "        start = m.stem.split('-')[0]\n",
    "        out[int(start)] = m\n",
    "        \n",
    "    return out\n",
    "\n",
    "cosine_sim = lambda v1,v2: 1 - cosine(v1,v2) \n",
    "average_vector = lambda words,model : np.mean([model.wv.__getitem__(w) for w in words if model.wv.__contains__(w)],axis=0)"
   ]
  },
  {
   "cell_type": "code",
   "execution_count": 51,
   "metadata": {},
   "outputs": [],
   "source": [
    "METADATA_PATH = \"../../resources/Lijst_kranten_final.xlsx\"\n",
    "df_meta = pd.read_excel(METADATA_PATH,sheet_name=\"Sheet1\",index_col=0)"
   ]
  },
  {
   "cell_type": "code",
   "execution_count": 109,
   "metadata": {},
   "outputs": [
    {
     "data": {
      "text/plain": [
       "Index(['PPN', 'Titel Krant', 'Beginjaar', 'Eindjaar', 'Politek', 'Source',\n",
       "       'Verspreidingsgebied', 'Plaats van uitgave', 'Provincie', 'Zuil'],\n",
       "      dtype='object')"
      ]
     },
     "execution_count": 109,
     "metadata": {},
     "output_type": "execute_result"
    }
   ],
   "source": [
    "df_meta.columns"
   ]
  },
  {
   "cell_type": "code",
   "execution_count": 110,
   "metadata": {},
   "outputs": [],
   "source": [
    "FEM_PATH = \"../../resources/int_vrouw.xlsx\"\n",
    "fem = pd.read_excel(FEM_PATH,sheet_name='Sheet1',index_col=0)"
   ]
  },
  {
   "cell_type": "code",
   "execution_count": 111,
   "metadata": {},
   "outputs": [],
   "source": [
    "MALE_PATH = \"../../resources/int_man.xlsx\"\n",
    "male = pd.read_excel(MALE_PATH,sheet_name='Sheet1',index_col=0)"
   ]
  },
  {
   "cell_type": "code",
   "execution_count": 112,
   "metadata": {},
   "outputs": [
    {
     "data": {
      "text/html": [
       "<div>\n",
       "<style scoped>\n",
       "    .dataframe tbody tr th:only-of-type {\n",
       "        vertical-align: middle;\n",
       "    }\n",
       "\n",
       "    .dataframe tbody tr th {\n",
       "        vertical-align: top;\n",
       "    }\n",
       "\n",
       "    .dataframe thead th {\n",
       "        text-align: right;\n",
       "    }\n",
       "</style>\n",
       "<table border=\"1\" class=\"dataframe\">\n",
       "  <thead>\n",
       "    <tr style=\"text-align: right;\">\n",
       "      <th></th>\n",
       "      <th>Trefwoord</th>\n",
       "      <th>Originele spelling</th>\n",
       "      <th>Woordsoort</th>\n",
       "      <th>Selecteer</th>\n",
       "      <th>monosemy</th>\n",
       "      <th>Betekenis</th>\n",
       "    </tr>\n",
       "    <tr>\n",
       "      <th>Woordenboek</th>\n",
       "      <th></th>\n",
       "      <th></th>\n",
       "      <th></th>\n",
       "      <th></th>\n",
       "      <th></th>\n",
       "      <th></th>\n",
       "    </tr>\n",
       "  </thead>\n",
       "  <tbody>\n",
       "    <tr>\n",
       "      <th>WNT</th>\n",
       "      <td>omweg</td>\n",
       "      <td>OMWEG</td>\n",
       "      <td>znw.(m.)</td>\n",
       "      <td>0</td>\n",
       "      <td>0.0</td>\n",
       "      <td>Eigenlijk, in tweeledige toepassing.</td>\n",
       "    </tr>\n",
       "    <tr>\n",
       "      <th>WNT</th>\n",
       "      <td>onecht</td>\n",
       "      <td>ONECHT (I)</td>\n",
       "      <td>znw.(v.,m.)</td>\n",
       "      <td>0</td>\n",
       "      <td>0.0</td>\n",
       "      <td>znw., oudtijds vr., thans m.; het mv. niet in...</td>\n",
       "    </tr>\n",
       "    <tr>\n",
       "      <th>WNT</th>\n",
       "      <td>oom</td>\n",
       "      <td>OOM</td>\n",
       "      <td>znw.(m.)</td>\n",
       "      <td>1</td>\n",
       "      <td>1.0</td>\n",
       "      <td>Eigenlijk: een broeder des vaders of der moed...</td>\n",
       "    </tr>\n",
       "    <tr>\n",
       "      <th>WNT</th>\n",
       "      <td>oorlam</td>\n",
       "      <td>OORLAM</td>\n",
       "      <td>znw.(m.,o.)</td>\n",
       "      <td>1</td>\n",
       "      <td>1.0</td>\n",
       "      <td>Eigenlijk, als persoonsnaam, en dan m.</td>\n",
       "    </tr>\n",
       "    <tr>\n",
       "      <th>WNT</th>\n",
       "      <td>oppasser</td>\n",
       "      <td>OPPASSER</td>\n",
       "      <td>znw.(m.)</td>\n",
       "      <td>1</td>\n",
       "      <td>1.0</td>\n",
       "      <td>De persoon die het toezicht op iets houdt; oo...</td>\n",
       "    </tr>\n",
       "  </tbody>\n",
       "</table>\n",
       "</div>"
      ],
      "text/plain": [
       "            Trefwoord Originele spelling   Woordsoort  Selecteer  monosemy  \\\n",
       "Woordenboek                                                                  \n",
       "WNT             omweg              OMWEG     znw.(m.)          0       0.0   \n",
       "WNT            onecht         ONECHT (I)  znw.(v.,m.)          0       0.0   \n",
       "WNT               oom                OOM     znw.(m.)          1       1.0   \n",
       "WNT            oorlam             OORLAM  znw.(m.,o.)          1       1.0   \n",
       "WNT          oppasser           OPPASSER     znw.(m.)          1       1.0   \n",
       "\n",
       "                                                     Betekenis  \n",
       "Woordenboek                                                     \n",
       "WNT                       Eigenlijk, in tweeledige toepassing.  \n",
       "WNT           znw., oudtijds vr., thans m.; het mv. niet in...  \n",
       "WNT           Eigenlijk: een broeder des vaders of der moed...  \n",
       "WNT                     Eigenlijk, als persoonsnaam, en dan m.  \n",
       "WNT           De persoon die het toezicht op iets houdt; oo...  "
      ]
     },
     "execution_count": 112,
     "metadata": {},
     "output_type": "execute_result"
    }
   ],
   "source": [
    "male.head()"
   ]
  },
  {
   "cell_type": "code",
   "execution_count": 113,
   "metadata": {},
   "outputs": [],
   "source": [
    "male_words = [w.lower().split()[0] for w in male[male.Selecteer==1].Trefwoord.values]\n",
    "male_words = male_words + [w.lower().split()[0] for w in male[male.Selecteer==1][\"Originele spelling\"].values]\n",
    "male_words = list(set(male_words))\n",
    "female_words = [w.lower().split()[0] for w in fem[fem.Selecteer==1].Trefwoord.values]\n",
    "female_words = female_words + [w.lower().split()[0] for w in fem[fem.Selecteer==1][\"Originele spelling\"].values]\n",
    "female_words = list(set(female_words))"
   ]
  },
  {
   "cell_type": "code",
   "execution_count": 114,
   "metadata": {},
   "outputs": [],
   "source": [
    "#female_words[10:]"
   ]
  },
  {
   "cell_type": "code",
   "execution_count": 115,
   "metadata": {},
   "outputs": [
    {
     "data": {
      "text/plain": [
       "array(['Noord Holland', 'Gelderland', 'Groningen', 'Friesland', 'Drenthe',\n",
       "       'Zeeland', 'North Brabant', 'South Holland', 'Overijssel',\n",
       "       'Utrecht', 'Limburg'], dtype=object)"
      ]
     },
     "execution_count": 115,
     "metadata": {},
     "output_type": "execute_result"
    }
   ],
   "source": [
    "FACET = \"Provincie\" # \"Politek\"\n",
    "FACET_VALUES = df_meta[FACET].unique()\n",
    "FACET_VALUES\n"
   ]
  },
  {
   "cell_type": "markdown",
   "metadata": {},
   "source": [
    "# Timelines"
   ]
  },
  {
   "cell_type": "code",
   "execution_count": null,
   "metadata": {},
   "outputs": [],
   "source": [
    "SELECTED_FACETS = ['Neutraal', 'Liberaal','Sociaal-democratisch', 'Katholiek','Protestant']"
   ]
  },
  {
   "cell_type": "code",
   "execution_count": 103,
   "metadata": {},
   "outputs": [],
   "source": [
    "\n",
    "    \n",
    "\n",
    "katholiek_models = select_model_by_facet_value('Katholiek')\n",
    "liberaal_models = select_model_by_facet_value('Liberaal')\n",
    "years = sorted(set(katholiek).intersection(set(liberaal)))"
   ]
  },
  {
   "cell_type": "code",
   "execution_count": 104,
   "metadata": {},
   "outputs": [
    {
     "data": {
      "text/plain": [
       "dict_keys(['Katholiek', 'Liberaal'])"
      ]
     },
     "execution_count": 104,
     "metadata": {},
     "output_type": "execute_result"
    }
   ],
   "source": [
    "facet2paths.keys()"
   ]
  },
  {
   "cell_type": "code",
   "execution_count": 142,
   "metadata": {},
   "outputs": [],
   "source": [
    "#target_list = [\"schande\",\"beschaamd\",\"beschaamdheid\",\n",
    "#               \"beschamen\",\"blaam\",\"blamage\",\"blamatie\",\n",
    "#               \"defamatie\",\"diffame\",\"disreputatie\",\"disreputatieus\",\n",
    "#              \"disrespect\",\"hoogmoed\",\"hoon\",\"laagheid\",\"lachter\",\"lachteren\",\n",
    "#              \"laster\",\"lasteren\"]\n",
    "\n",
    "\n",
    "#target_list = ['kind','kinderen']\n",
    "target_list = ['schaamte']"
   ]
  },
  {
   "cell_type": "code",
   "execution_count": 143,
   "metadata": {},
   "outputs": [],
   "source": [
    "# from gensim.models.word2vec import Word2Vec\n",
    "# import logging\n",
    "# logging.basicConfig(format='%(asctime)s : %(levelname)s : %(message)s', level=logging.INFO)\n",
    "\n",
    "# base_model = \"/kbdata/Processed/Models/BaseModel-1800-1909.w2v.model\"\n",
    "# model = Word2Vec.load(base_model)\n",
    "# print(model)\n",
    "# model.most_similar('schande')"
   ]
  },
  {
   "cell_type": "code",
   "execution_count": 144,
   "metadata": {},
   "outputs": [],
   "source": [
    "def compute_bias_average_vector(p1,p2,target,model,metric=cosine_sim):\n",
    "    \"\"\"computes bias given two poles and and a target word list\n",
    "    bias is the average distance of each target word to the poles\n",
    "    Arguments:\n",
    "        p1 (list): list of pole words\n",
    "        p2 (list): lost of pole words\n",
    "        target (list): list of target words\n",
    "        metric (funtion): distance function, either cosine or euclidean\n",
    "    Returns:\n",
    "        bias (float): the bias score of the target to each of the poles\n",
    "    \"\"\"\n",
    "    av_v1 = average_vector(p1,model); av_v2 = average_vector(p2,model)\n",
    "    return np.mean([metric(av_v1,model.wv.__getitem__(w)) - \\\n",
    "                      metric(av_v2,model.wv.__getitem__(w)) for w in target \n",
    "                           if w in model.wv])\n",
    "\n",
    "def compute_bias(p1,p2,target,model,metric=cosine_sim):\n",
    "    p1 = [p for p in p1 if  model.wv.__contains__(p)]\n",
    "    p2 = [p for p in p2 if  model.wv.__contains__(p)]\n",
    "    target = [t for t in target if  model.wv.__contains__(t)]\n",
    "    p1_scores, p2_scores = [],[]\n",
    "    for t in target:\n",
    "        for p in p1:\n",
    "            p1_scores.append(metric(model.wv.__getitem__(p),model.wv.__getitem__(t)))\n",
    "        for p in p2:\n",
    "            p2_scores.append(metric(model.wv.__getitem__(p),model.wv.__getitem__(t)))\n",
    "    return np.mean(p1_scores) - np.mean(p2_scores)\n",
    "\n",
    "\n"
   ]
  },
  {
   "cell_type": "code",
   "execution_count": 146,
   "metadata": {},
   "outputs": [
    {
     "data": {
      "text/plain": [
       "<matplotlib.axes._subplots.AxesSubplot at 0x7f8ee0ff0f98>"
      ]
     },
     "execution_count": 146,
     "metadata": {},
     "output_type": "execute_result"
    },
    {
     "data": {
      "image/png": "[encoded data removed]",
      "text/plain": [
       "<Figure size 432x288 with 1 Axes>"
      ]
     },
     "metadata": {
      "needs_background": "light"
     },
     "output_type": "display_data"
    }
   ],
   "source": [
    "pd.DataFrame(results).T.plot()"
   ]
  },
  {
   "cell_type": "markdown",
   "metadata": {},
   "source": [
    "# Inspect Scores"
   ]
  },
  {
   "cell_type": "code",
   "execution_count": 148,
   "metadata": {},
   "outputs": [],
   "source": [
    "def inspect_bias(p1,p2,target,model,metric=cosine_sim):\n",
    "    p1 = [p for p in p1 if  model.wv.__contains__(p)]\n",
    "    p2 = [p for p in p2 if  model.wv.__contains__(p)]\n",
    "    target = [t for t in target if  model.wv.__contains__(t)]\n",
    "    p1_scores, p2_scores = {},{}\n",
    "    for t in target:\n",
    "        for p in p1:\n",
    "            p1_scores[(p,t)] = metric(model.wv.__getitem__(p),model.wv.__getitem__(t))\n",
    "        for p in p2:\n",
    "            p2_scores[(p,t)] = metric(model.wv.__getitem__(p),model.wv.__getitem__(t))\n",
    "    return (p1_scores,p2_scores)"
   ]
  },
  {
   "cell_type": "code",
   "execution_count": 163,
   "metadata": {},
   "outputs": [],
   "source": [
    "#for year in tqdm(years):\n",
    "YEAR = 1890\n",
    "lib_model = Word2Vec.load(str(liberaal_models[YEAR]))\n",
    "lib_bias = inspect_bias(female_words,male_words,target_list,lib_model)\n",
    "kath_model = Word2Vec.load(str(katholiek_models[YEAR]))\n",
    "kath_bias = inspect_bias(female_words,male_words,target_list,kath_model)"
   ]
  },
  {
   "cell_type": "code",
   "execution_count": 155,
   "metadata": {},
   "outputs": [
    {
     "data": {
      "text/plain": [
       "<matplotlib.axes._subplots.AxesSubplot at 0x7f8ece12ed68>"
      ]
     },
     "execution_count": 155,
     "metadata": {},
     "output_type": "execute_result"
    },
    {
     "data": {
      "image/png": "[encoded data removed]",
      "text/plain": [
       "<Figure size 432x288 with 1 Axes>"
      ]
     },
     "metadata": {
      "needs_background": "light"
     },
     "output_type": "display_data"
    }
   ],
   "source": [
    "pd.Series(list(lib_bias[0].values())).plot(kind='density')\n",
    "pd.Series(list(lib_bias[1].values())).plot(kind='density')"
   ]
  },
  {
   "cell_type": "code",
   "execution_count": 156,
   "metadata": {},
   "outputs": [
    {
     "data": {
      "text/plain": [
       "<matplotlib.axes._subplots.AxesSubplot at 0x7f8eeb775208>"
      ]
     },
     "execution_count": 156,
     "metadata": {},
     "output_type": "execute_result"
    },
    {
     "data": {
      "image/png": "[encoded data removed]",
      "text/plain": [
       "<Figure size 432x288 with 1 Axes>"
      ]
     },
     "metadata": {
      "needs_background": "light"
     },
     "output_type": "display_data"
    }
   ],
   "source": [
    "pd.Series(list(kath_bias[0].values())).plot(kind='density')\n",
    "pd.Series(list(lib_bias[0].values())).plot(kind='density')"
   ]
  },
  {
   "cell_type": "code",
   "execution_count": 162,
   "metadata": {},
   "outputs": [
    {
     "data": {
      "text/plain": [
       "[(('bedelaar', 'schaamte'), 0.30643850564956665),\n",
       " (('kerel', 'schaamte'), 0.28383907675743103),\n",
       " (('minnaar', 'schaamte'), 0.25699999928474426),\n",
       " (('man', 'schaamte'), 0.23345468938350677),\n",
       " (('grijsaard', 'schaamte'), 0.23321443796157837),\n",
       " (('knaap', 'schaamte'), 0.22291259467601776),\n",
       " (('janhagel', 'schaamte'), 0.2189454734325409),\n",
       " (('jonkman', 'schaamte'), 0.2165864109992981),\n",
       " (('philosoof', 'schaamte'), 0.2050268054008484),\n",
       " (('vrijer', 'schaamte'), 0.20332084596157074)]"
      ]
     },
     "execution_count": 162,
     "metadata": {},
     "output_type": "execute_result"
    }
   ],
   "source": [
    "sorted(kath_bias[1].items(),key=lambda x: x[1],reverse=True)[:10]"
   ]
  },
  {
   "cell_type": "code",
   "execution_count": 158,
   "metadata": {},
   "outputs": [
    {
     "data": {
      "text/plain": [
       "[(('zij', 'schaamte'), 0.36701500415802),\n",
       " (('snaar', 'schaamte'), 0.2916658818721771),\n",
       " (('heldin', 'schaamte'), 0.28333184123039246),\n",
       " (('sleur', 'schaamte'), 0.2823300063610077),\n",
       " (('furie', 'schaamte'), 0.27595821022987366),\n",
       " (('heks', 'schaamte'), 0.2603193521499634),\n",
       " (('slavin', 'schaamte'), 0.2597043514251709),\n",
       " (('bewaakster', 'schaamte'), 0.24905799329280853),\n",
       " (('mama', 'schaamte'), 0.2425980120897293),\n",
       " (('juffer', 'schaamte'), 0.24023117125034332)]"
      ]
     },
     "execution_count": 158,
     "metadata": {},
     "output_type": "execute_result"
    }
   ],
   "source": [
    "sorted(kath_bias[0].items(),key=lambda x: x[1],reverse=True)[:10]"
   ]
  },
  {
   "cell_type": "code",
   "execution_count": 161,
   "metadata": {},
   "outputs": [
    {
     "data": {
      "text/plain": [
       "[(('zij', 'schaamte'), 0.40533456206321716),\n",
       " (('snaar', 'schaamte'), 0.3955654203891754),\n",
       " (('zondares', 'schaamte'), 0.33619049191474915),\n",
       " (('meesteres', 'schaamte'), 0.3360629975795746),\n",
       " (('heks', 'schaamte'), 0.32227379083633423),\n",
       " (('heldin', 'schaamte'), 0.31022971868515015),\n",
       " (('matrone', 'schaamte'), 0.28989967703819275),\n",
       " (('eva', 'schaamte'), 0.28687477111816406),\n",
       " (('juffrouw', 'schaamte'), 0.2811104357242584),\n",
       " (('minnares', 'schaamte'), 0.27617669105529785)]"
      ]
     },
     "execution_count": 161,
     "metadata": {},
     "output_type": "execute_result"
    }
   ],
   "source": [
    "sorted(lib_bias[0].items(),key=lambda x: x[1],reverse=True)[:10]"
   ]
  },
  {
   "cell_type": "markdown",
   "metadata": {},
   "source": [
    "# Barplots"
   ]
  },
  {
   "cell_type": "code",
   "execution_count": 137,
   "metadata": {},
   "outputs": [
    {
     "data": {
      "text/plain": [
       "array(['Neutraal', 'Liberaal', nan, 'Sociaal-democratisch', 'Katholiek',\n",
       "       'Protestant', 'liberaal', 'katholiek', 'Conservatief',\n",
       "       'conservatief'], dtype=object)"
      ]
     },
     "execution_count": 137,
     "metadata": {},
     "output_type": "execute_result"
    }
   ],
   "source": [
    "FACET = \"Politek\" # \"Politek\" | Provincie\n",
    "FACET_VALUES = df_meta[FACET].unique()\n",
    "FACET_VALUES"
   ]
  },
  {
   "cell_type": "code",
   "execution_count": 138,
   "metadata": {},
   "outputs": [],
   "source": [
    "YEAR = 1870\n",
    "\n",
    "selected_models = {}\n",
    "\n",
    "for facet in FACET_VALUES:\n",
    "    model_paths = select_model_by_facet_value(facet)\n",
    "    \n",
    "    selected_models[facet] = model_paths.get(YEAR,None)\n",
    "    \n",
    "selected_models = {w:v for w,v in selected_models.items() if v}"
   ]
  },
  {
   "cell_type": "code",
   "execution_count": 139,
   "metadata": {},
   "outputs": [
    {
     "data": {
      "text/plain": [
       "{'Neutraal': PosixPath('/kbdata/Processed/Models/1870-1890-Neutraal.w2v.model'),\n",
       " 'Liberaal': PosixPath('/kbdata/Processed/Models/1870-1890-Liberaal.w2v.model'),\n",
       " 'Katholiek': PosixPath('/kbdata/Processed/Models/1870-1890-Katholiek.w2v.model'),\n",
       " 'Protestant': PosixPath('/kbdata/Processed/Models/1870-1890-Protestant.w2v.model'),\n",
       " 'liberaal': PosixPath('/kbdata/Processed/Models/1870-1890-liberaal.w2v.model'),\n",
       " 'katholiek': PosixPath('/kbdata/Processed/Models/1870-1890-katholiek.w2v.model')}"
      ]
     },
     "execution_count": 139,
     "metadata": {},
     "output_type": "execute_result"
    }
   ],
   "source": [
    "selected_models"
   ]
  },
  {
   "cell_type": "code",
   "execution_count": 140,
   "metadata": {},
   "outputs": [
    {
     "data": {
      "application/vnd.jupyter.widget-view+json": {
       "model_id": "e04a21f5f8fc498bb142164fe71ddabe",
       "version_major": 2,
       "version_minor": 0
      },
      "text/plain": [
       "HBox(children=(FloatProgress(value=0.0, max=6.0), HTML(value='')))"
      ]
     },
     "metadata": {},
     "output_type": "display_data"
    },
    {
     "name": "stdout",
     "output_type": "stream",
     "text": [
      "\n"
     ]
    }
   ],
   "source": [
    "results = {}\n",
    "for w,v in tqdm(selected_models.items()):\n",
    "    model = Word2Vec.load(str(v))\n",
    "    results[w] = compute_bias(female_words,male_words,target_list,model)"
   ]
  },
  {
   "cell_type": "code",
   "execution_count": 141,
   "metadata": {},
   "outputs": [
    {
     "data": {
      "text/plain": [
       "<matplotlib.axes._subplots.AxesSubplot at 0x7f8ecba28e10>"
      ]
     },
     "execution_count": 141,
     "metadata": {},
     "output_type": "execute_result"
    },
    {
     "data": {
      "image/png": "[encoded data removed]",
      "text/plain": [
       "<Figure size 432x288 with 1 Axes>"
      ]
     },
     "metadata": {
      "needs_background": "light"
     },
     "output_type": "display_data"
    }
   ],
   "source": [
    "pd.Series(results).plot(kind='bar')"
   ]
  },
  {
   "cell_type": "code",
   "execution_count": null,
   "metadata": {},
   "outputs": [],
   "source": []
  }
 ],
 "metadata": {
  "kernelspec": {
   "display_name": "Python 3",
   "language": "python",
   "name": "python3"
  },
  "language_info": {
   "codemirror_mode": {
    "name": "ipython",
    "version": 3
   },
   "file_extension": ".py",
   "mimetype": "text/x-python",
   "name": "python",
   "nbconvert_exporter": "python",
   "pygments_lexer": "ipython3",
   "version": "3.6.9"
  }
 },
 "nbformat": 4,
 "nbformat_minor": 4
}
