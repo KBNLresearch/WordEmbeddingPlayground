{
 "cells": [
  {
   "cell_type": "code",
   "execution_count": null,
   "metadata": {},
   "outputs": [],
   "source": [
    "%load_ext autoreload "
   ]
  },
  {
   "cell_type": "code",
   "execution_count": null,
   "metadata": {},
   "outputs": [],
   "source": [
    "%autoreload 2"
   ]
  },
  {
   "cell_type": "code",
   "execution_count": null,
   "metadata": {},
   "outputs": [],
   "source": [
    "#!/usr/bin/env python\n",
    "__author__ = \"Kaspar Beelen\"\n",
    "import sys\n",
    "sys.path.append('../')\n",
    "from utils import utils_train,bias_utils\n",
    "from gensim.models.word2vec import Word2Vec\n",
    "import logging\n",
    "import pandas as pd\n",
    "from tqdm.notebook import tqdm\n",
    "logging.basicConfig(format='%(asctime)s : %(levelname)s : %(message)s', level=logging.INFO)"
   ]
  },
  {
   "cell_type": "code",
   "execution_count": null,
   "metadata": {},
   "outputs": [],
   "source": [
    "\n",
    "# paths\n",
    "ROOT = \"/kbdata/ResearchDrive\"\n",
    "SENT_OUTPUT = \"/kbdata/Processed/Sentences\"\n",
    "METADATA_PATH = \"../../resources/Lijst_kranten_final.xlsx\"\n",
    "\n",
    "# model hyperparameter\n",
    "SIZE = 300\n",
    "WINDOW = 20\n",
    "MIN_COUNT = 10\n",
    "WORKERS = 8\n",
    "EPOCH = 4\n",
    "SEED = 42\n",
    "\n",
    "# training data parameters\n",
    "TRAIN_START = 1850\n",
    "TRAIN_END = 1908\n",
    "TRAIN_STEP = 10\n",
    "TRAIN_WINDOW = 20\n",
    "\n",
    "# contextual paramaters\n",
    "\n",
    "FACETS = \"Verspreidingsgebied\"\n",
    "#FACETS = \"Provincie\"\n",
    "#FACETS = \"Politek\"\n",
    "meta_df = pd.read_excel(METADATA_PATH,sheet_name=\"Sheet1\",index_col=0)"
   ]
  },
  {
   "cell_type": "code",
   "execution_count": null,
   "metadata": {},
   "outputs": [],
   "source": [
    "meta_df[\"PPN\"] = meta_df[\"PPN\"].astype(str)"
   ]
  },
  {
   "cell_type": "code",
   "execution_count": null,
   "metadata": {},
   "outputs": [],
   "source": [
    "meta_df.head()"
   ]
  },
  {
   "cell_type": "code",
   "execution_count": null,
   "metadata": {},
   "outputs": [],
   "source": [
    "list(meta_df.groupby(FACETS)['PPN'].apply(list).items())"
   ]
  },
  {
   "cell_type": "code",
   "execution_count": null,
   "metadata": {},
   "outputs": [],
   "source": [
    "\n",
    "\n",
    "\n",
    "#for FACET,PPN in :\n",
    "FACET,PPN =('Landelijk',\n",
    "  ['832337900',\n",
    "   '831178310',\n",
    "   '832688045',\n",
    "   '832675288',\n",
    "   '832460079',\n",
    "   '832667536',\n",
    "   '830780084',\n",
    "   '83308013X',\n",
    "   '83138588X'])\n",
    "#print(FACET, PPN)\n",
    "#for START_YEAR in range(TRAIN_START,TRAIN_END,TRAIN_STEP):\n",
    "START_YEAR = 1870; TRAIN_WINDOW = 10\n",
    "print(f'Training model--from {START_YEAR} to {START_YEAR+TRAIN_WINDOW}--{FACET}');print(PPN);\n",
    "        "
   ]
  },
  {
   "cell_type": "code",
   "execution_count": null,
   "metadata": {},
   "outputs": [],
   "source": [
    "sentences = utils_train.SentIterator(ROOT,date_range=(START_YEAR,START_YEAR+TRAIN_WINDOW),\n",
    "                                            processed_path=SENT_OUTPUT,\n",
    "                                            ppn=PPN,tokenized=False,\n",
    "                                            n_jobs=WORKERS)\n"
   ]
  },
  {
   "cell_type": "code",
   "execution_count": null,
   "metadata": {},
   "outputs": [],
   "source": [
    "print('Initialing model and vocabulary')\n",
    "model = Word2Vec(size=SIZE, window=WINDOW, min_count=MIN_COUNT, workers=WORKERS, seed=SEED)\n",
    "model.build_vocab(sentences=sentences)\n",
    "    \n",
    "total_examples = model.corpus_count\n",
    "print(f\"\\n-------\\nTotal number examples = {total_examples}\\n-------\\n\")"
   ]
  },
  {
   "cell_type": "code",
   "execution_count": null,
   "metadata": {},
   "outputs": [],
   "source": [
    "\n",
    "#if not total_examples: continue\n",
    "model.train(sentences=sentences, total_examples=total_examples, epochs=EPOCH)\n",
    "MODEL_OUTPUT = \"/kbdata/Processed/Models/{}-{}-{}.w2v.model\".format(START_YEAR,START_YEAR + TRAIN_WINDOW,FACET.replace('/','_'))\n",
    "model.save(MODEL_OUTPUT)\n",
    "print(f'Saved model to {MODEL_OUTPUT}')\n"
   ]
  },
  {
   "cell_type": "code",
   "execution_count": null,
   "metadata": {},
   "outputs": [],
   "source": [
    "import sys\n",
    "sys.path.append('../')\n",
    "from utils import utils_train,bias_utils\n",
    "from gensim.models.word2vec import Word2Vec\n",
    "import logging\n",
    "import pandas as pd\n",
    "logging.basicConfig(format='%(asctime)s : %(levelname)s : %(message)s', level=logging.INFO)\n",
    "\n",
    "# paths\n",
    "ROOT = \"/kbdata/ResearchDrive\"\n",
    "SENT_OUTPUT = \"/kbdata/Processed/Sentences\"\n",
    "\n",
    "WORKERS = 8\n",
    "\n",
    "# training parameters\n",
    "START_YEAR = 1800\n",
    "END_YEAR = 1909\n",
    "\n",
    "#for START_YEAR,END_YEAR in range(TRAIN_STEP,TRAIN_END,TRAIN_STEP):\n",
    "#for FACET,PPN in meta_df.groupby(FACET)['PPN'].apply(list).items(): \n",
    "print(f'Training model--from {START_YEAR} to {END_YEAR}')\n",
    "for YEAR in range(START_YEAR,END_YEAR):\n",
    "    sentences = utils_train.SentIterator(ROOT,date_range=(YEAR,YEAR),processed_path=SENT_OUTPUT,tokenized=False,n_jobs=WORKERS)\n",
    "    print(sentences._date_range)\n",
    "    sentences.prepareLines()\n",
    "\t\t\n"
   ]
  },
  {
   "cell_type": "code",
   "execution_count": null,
   "metadata": {},
   "outputs": [],
   "source": [
    "def processZipParallel(file):\n",
    "        \"\"\"Iterate over files: select all files within a specific date range.\n",
    "        Returns:\n",
    "            a string separated by a <SEP> token.\n",
    "        \"\"\"\n",
    "        # select relevant zip files\n",
    "        selected = self._select_zip_by_date_range()\n",
    "        print(\"Selected follow zip files = {selected}\")\n",
    "        self.count = 0\n",
    "        for file in selected: \n",
    "            with ZipFile(file, 'r') as zipdata:\n",
    "                \n",
    "                # iterate over path to XML files in zip files\n",
    "                # if the first sequenace of four integers, surrounded by '/' is in the set of included years (defined by _date_range)\n",
    "                #  ## Need to check if this works\n",
    "                article_text = [(zipdata.read(f),f) for f in zipdata.namelist() \n",
    "                                        if f.endswith(\".xml\") and int(re.findall(r\"/([0-9]{4})/\",'/' + f)[0]) \n",
    "                                            in set(self._date_range)]\n",
    "                \n",
    "                # read the XML files \n",
    "                article_text = Parallel(n_jobs=self._n_jobs)(delayed(read_doc)(zipdoc,f) for (zipdoc,f) in article_text)\n",
    "                \n",
    "                #print(len(article_text))\n",
    "                # process documents\n",
    "                for sent,doc_id in Parallel(n_jobs=self._n_jobs)(delayed(preprocess_sent)(at,doc_id,tokenized=False) \n",
    "                                    for at,doc_id in article_text):\n",
    "                    self.count+=1\n",
    "                    yield doc_id+\"<SEP>\"+sent"
   ]
  },
  {
   "cell_type": "code",
   "execution_count": null,
   "metadata": {},
   "outputs": [],
   "source": [
    "!ls /kbdata/ResearchDrive/1820-1829.zip"
   ]
  },
  {
   "cell_type": "code",
   "execution_count": null,
   "metadata": {},
   "outputs": [],
   "source": [
    "from zipfile import ZipFile"
   ]
  },
  {
   "cell_type": "code",
   "execution_count": null,
   "metadata": {},
   "outputs": [],
   "source": []
  },
  {
   "cell_type": "code",
   "execution_count": null,
   "metadata": {},
   "outputs": [],
   "source": [
    "zipdata.namelist()"
   ]
  },
  {
   "cell_type": "code",
   "execution_count": null,
   "metadata": {},
   "outputs": [],
   "source": [
    "len(zipdata.namelist())"
   ]
  },
  {
   "cell_type": "code",
   "execution_count": null,
   "metadata": {},
   "outputs": [],
   "source": [
    "import re\n",
    "\n",
    "zipdata = ZipFile('/kbdata/ResearchDrive/1900-1909.zip','r')\n"
   ]
  },
  {
   "cell_type": "code",
   "execution_count": null,
   "metadata": {},
   "outputs": [],
   "source": [
    "len(zipdata.namelist())"
   ]
  },
  {
   "cell_type": "code",
   "execution_count": null,
   "metadata": {},
   "outputs": [],
   "source": [
    "[(f,int(re.findall(r\"/(1[0-9]{3})/\",'/' + f)[0])) for f in zipdata.namelist()[2845418:8945428]]"
   ]
  },
  {
   "cell_type": "code",
   "execution_count": null,
   "metadata": {},
   "outputs": [],
   "source": []
  }
 ],
 "metadata": {
  "kernelspec": {
   "display_name": "Python 3",
   "language": "python",
   "name": "python3"
  },
  "language_info": {
   "codemirror_mode": {
    "name": "ipython",
    "version": 3
   },
   "file_extension": ".py",
   "mimetype": "text/x-python",
   "name": "python",
   "nbconvert_exporter": "python",
   "pygments_lexer": "ipython3",
   "version": "3.6.9"
  }
 },
 "nbformat": 4,
 "nbformat_minor": 4
}
